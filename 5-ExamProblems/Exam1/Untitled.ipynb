{
 "cells": [
  {
   "cell_type": "code",
   "execution_count": 1,
   "metadata": {},
   "outputs": [
    {
     "name": "stdout",
     "output_type": "stream",
     "text": [
      "/home/compthink/CECE-1330-PsuedoCourse/5-ExamProblems/Exam1\n"
     ]
    }
   ],
   "source": [
    "! pwd"
   ]
  },
  {
   "cell_type": "code",
   "execution_count": 2,
   "metadata": {},
   "outputs": [
    {
     "name": "stdout",
     "output_type": "stream",
     "text": [
      "total 24\n",
      "drwxrwxr-x 5 compthink compthink 4096 Oct  9 14:30  .\n",
      "drwxrwxr-x 5 compthink compthink 4096 Sep 20 23:49  ..\n",
      "drwxrwxr-x 2 compthink compthink 4096 Oct  9 14:30  .ipynb_checkpoints\n",
      "drwxrwxr-x 3 compthink compthink 4096 Oct  2 21:42 'Exam 1 Statistics_By Farhang'\n",
      "drwxrwxr-x 3 compthink compthink 4096 Oct  9 14:29  Exam1\n",
      "-rw-rw-r-- 1 compthink compthink   72 Oct  9 14:30  Untitled.ipynb\n"
     ]
    }
   ],
   "source": [
    "! ls -la"
   ]
  },
  {
   "cell_type": "code",
   "execution_count": null,
   "metadata": {},
   "outputs": [],
   "source": []
  }
 ],
 "metadata": {
  "kernelspec": {
   "display_name": "Python 3",
   "language": "python",
   "name": "python3"
  },
  "language_info": {
   "codemirror_mode": {
    "name": "ipython",
    "version": 3
   },
   "file_extension": ".py",
   "mimetype": "text/x-python",
   "name": "python",
   "nbconvert_exporter": "python",
   "pygments_lexer": "ipython3",
   "version": "3.6.9"
  }
 },
 "nbformat": 4,
 "nbformat_minor": 4
}
