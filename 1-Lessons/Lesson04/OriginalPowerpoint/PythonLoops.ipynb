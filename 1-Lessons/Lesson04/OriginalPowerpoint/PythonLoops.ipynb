{
 "cells": [
  {
   "cell_type": "code",
   "execution_count": 11,
   "metadata": {},
   "outputs": [
    {
     "name": "stdout",
     "output_type": "stream",
     "text": [
      "atomickitty.aws\n",
      "compthink\n",
      "/opt/conda/envs/python/bin/python\n",
      "3.8.3 (default, Jul  2 2020, 16:21:59) \n",
      "[GCC 7.3.0]\n",
      "sys.version_info(major=3, minor=8, micro=3, releaselevel='final', serial=0)\n"
     ]
    }
   ],
   "source": [
    "import sys\n",
    "! hostname\n",
    "! whoami\n",
    "print(sys.executable)\n",
    "print(sys.version)\n",
    "print(sys.version_info)"
   ]
  },
  {
   "cell_type": "code",
   "execution_count": null,
   "metadata": {},
   "outputs": [],
   "source": []
  },
  {
   "cell_type": "markdown",
   "metadata": {},
   "source": [
    "# Demonstrate `for` loop"
   ]
  },
  {
   "cell_type": "code",
   "execution_count": 12,
   "metadata": {},
   "outputs": [
    {
     "name": "stdin",
     "output_type": "stream",
     "text": [
      "Enter N 55\n"
     ]
    },
    {
     "name": "stdout",
     "output_type": "stream",
     "text": [
      "Sum from 1 to  55 is 1540.000\n"
     ]
    }
   ],
   "source": [
    "# sum numbers from 1 to n\n",
    "howmany = int(input('Enter N'))\n",
    "accumulator = 0.0\n",
    "for i in range(1,howmany+1,1):\n",
    "    accumulator = accumulator + float(i)\n",
    "print( 'Sum from 1 to ',howmany, 'is %.3f' % accumulator  )"
   ]
  },
  {
   "cell_type": "code",
   "execution_count": null,
   "metadata": {},
   "outputs": [],
   "source": [
    "# sum even numbers from 1 to n\n",
    "howmany = int(input('Enter N'))\n",
    "accumulator = 0.0\n",
    "for i in range(1,howmany+1,1):\n",
    "    if i%2 == 0:\n",
    "        accumulator = accumulator + float(i)\n",
    "print( 'Sum of Evens from 1 to ',howmany, 'is %.3f' % accumulator  )"
   ]
  },
  {
   "cell_type": "code",
   "execution_count": 5,
   "metadata": {},
   "outputs": [
    {
     "name": "stdin",
     "output_type": "stream",
     "text": [
      "Enter N 5\n"
     ]
    },
    {
     "name": "stdout",
     "output_type": "stream",
     "text": [
      "*\n",
      "**\n",
      "***\n",
      "****\n",
      "*****\n"
     ]
    }
   ],
   "source": [
    "howmany = int(input('Enter N'))\n",
    "linetoprint=''\n",
    "for i in range(1,howmany+1,1):\n",
    "    linetoprint=linetoprint + '*'\n",
    "    print(linetoprint)"
   ]
  },
  {
   "cell_type": "markdown",
   "metadata": {},
   "source": [
    "# Demonstrate `while` loop"
   ]
  },
  {
   "cell_type": "code",
   "execution_count": 6,
   "metadata": {},
   "outputs": [
    {
     "name": "stdin",
     "output_type": "stream",
     "text": [
      "Enter N 6\n"
     ]
    },
    {
     "name": "stdout",
     "output_type": "stream",
     "text": [
      "Sum from 1 to  6 is 21.000\n"
     ]
    }
   ],
   "source": [
    "# sum numbers from 1 to n\n",
    "howmany = int(input('Enter N'))\n",
    "accumulator = 0.0\n",
    "counter = 1\n",
    "while counter <= howmany:\n",
    "    accumulator = accumulator + float(counter)\n",
    "    counter += 1\n",
    "print( 'Sum from 1 to ',howmany, 'is %.3f' % accumulator  )"
   ]
  },
  {
   "cell_type": "code",
   "execution_count": 7,
   "metadata": {},
   "outputs": [
    {
     "name": "stdin",
     "output_type": "stream",
     "text": [
      "Enter N 6\n"
     ]
    },
    {
     "name": "stdout",
     "output_type": "stream",
     "text": [
      "Sum of Evens 1 to  6 is 12.000\n"
     ]
    }
   ],
   "source": [
    "# sum even numbers from 1 to n\n",
    "howmany = int(input('Enter N'))\n",
    "accumulator = 0.0\n",
    "counter = 1\n",
    "while counter <= howmany:\n",
    "    if counter%2 == 0:\n",
    "        accumulator = accumulator + float(counter)\n",
    "    counter += 1\n",
    "print( 'Sum of Evens 1 to ',howmany, 'is %.3f' % accumulator  )"
   ]
  },
  {
   "cell_type": "code",
   "execution_count": 8,
   "metadata": {},
   "outputs": [
    {
     "name": "stdin",
     "output_type": "stream",
     "text": [
      "Enter N 6\n"
     ]
    },
    {
     "name": "stdout",
     "output_type": "stream",
     "text": [
      "*\n",
      "**\n",
      "***\n",
      "****\n",
      "*****\n",
      "******\n"
     ]
    }
   ],
   "source": [
    "howmany = int(input('Enter N'))\n",
    "linetoprint=''\n",
    "counter = 1\n",
    "while counter <= howmany:\n",
    "    linetoprint=linetoprint + '*'\n",
    "    counter += 1\n",
    "    print(linetoprint)"
   ]
  },
  {
   "cell_type": "code",
   "execution_count": null,
   "metadata": {},
   "outputs": [],
   "source": []
  }
 ],
 "metadata": {
  "kernelspec": {
   "display_name": "Python 38",
   "language": "python",
   "name": "python38"
  },
  "language_info": {
   "codemirror_mode": {
    "name": "ipython",
    "version": 3
   },
   "file_extension": ".py",
   "mimetype": "text/x-python",
   "name": "python",
   "nbconvert_exporter": "python",
   "pygments_lexer": "ipython3",
   "version": "3.8.3"
  }
 },
 "nbformat": 4,
 "nbformat_minor": 4
}
