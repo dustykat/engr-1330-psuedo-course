{
 "cells": [
  {
   "cell_type": "code",
   "execution_count": 47,
   "metadata": {},
   "outputs": [
    {
     "name": "stdout",
     "output_type": "stream",
     "text": [
      "[ 0 12 24 36 48 60 72 84 96]\n"
     ]
    }
   ],
   "source": [
    "import numpy as np         #import numpy\n",
    "Array1 = np.array([0,12,24,36,48,60,72,84,96])     #Step1: Define Array1\n",
    "print(Array1)"
   ]
  },
  {
   "cell_type": "code",
   "execution_count": null,
   "metadata": {},
   "outputs": [],
   "source": []
  },
  {
   "cell_type": "code",
   "execution_count": 48,
   "metadata": {},
   "outputs": [
    {
     "name": "stdout",
     "output_type": "stream",
     "text": [
      "[  0.  24.  48.  72.  96. 120. 144. 168. 192.]\n"
     ]
    }
   ],
   "source": [
    "print(Array1*2.0)"
   ]
  },
  {
   "cell_type": "code",
   "execution_count": 49,
   "metadata": {},
   "outputs": [
    {
     "name": "stdout",
     "output_type": "stream",
     "text": [
      "[   0  144  576 1296 2304 3600 5184 7056 9216]\n"
     ]
    }
   ],
   "source": [
    "print(Array1**2) "
   ]
  },
  {
   "cell_type": "code",
   "execution_count": 50,
   "metadata": {},
   "outputs": [
    {
     "name": "stdout",
     "output_type": "stream",
     "text": [
      "[   0  144  576 1296 2304 3600 5184 7056 9216]\n"
     ]
    }
   ],
   "source": [
    "print(np.power(Array1,2)) "
   ]
  },
  {
   "cell_type": "code",
   "execution_count": 53,
   "metadata": {},
   "outputs": [
    {
     "name": "stdout",
     "output_type": "stream",
     "text": [
      "0\n"
     ]
    }
   ],
   "source": [
    "print(np.min(Array1)) "
   ]
  },
  {
   "cell_type": "code",
   "execution_count": 54,
   "metadata": {},
   "outputs": [
    {
     "name": "stdout",
     "output_type": "stream",
     "text": [
      "0\n"
     ]
    }
   ],
   "source": [
    "print(np.argmin(Array1)) "
   ]
  },
  {
   "cell_type": "code",
   "execution_count": 55,
   "metadata": {},
   "outputs": [
    {
     "name": "stdout",
     "output_type": "stream",
     "text": [
      "[-12   0  12  24  36  48  60  72  84]\n"
     ]
    }
   ],
   "source": [
    "Array2 = np.array([-12,0,12,24,36,48,60,72,84])     #Step6: Define Array2\n",
    "print(Array2)"
   ]
  },
  {
   "cell_type": "code",
   "execution_count": 56,
   "metadata": {},
   "outputs": [
    {
     "name": "stdout",
     "output_type": "stream",
     "text": [
      "[-12  12  36  60  84 108 132 156 180]\n"
     ]
    }
   ],
   "source": [
    "print(Array1+Array2) "
   ]
  },
  {
   "cell_type": "code",
   "execution_count": 57,
   "metadata": {},
   "outputs": [
    {
     "name": "stdout",
     "output_type": "stream",
     "text": [
      "[12 12 12 12 12 12 12 12 12]\n"
     ]
    }
   ],
   "source": [
    "print(Array1-Array2) "
   ]
  },
  {
   "cell_type": "code",
   "execution_count": 58,
   "metadata": {},
   "outputs": [
    {
     "name": "stdout",
     "output_type": "stream",
     "text": [
      "[   0    0  288  864 1728 2880 4320 6048 8064]\n"
     ]
    }
   ],
   "source": [
    "print(Array1*Array2)  "
   ]
  },
  {
   "cell_type": "code",
   "execution_count": 59,
   "metadata": {},
   "outputs": [
    {
     "name": "stdout",
     "output_type": "stream",
     "text": [
      "[[ 5 10]\n",
      " [15 20]]\n"
     ]
    }
   ],
   "source": [
    "\n",
    "\n",
    "import numpy as np         #import numpy\n",
    "Array1 = np.array([[5,10],[15,20]])     #Step1: Define Array1\n",
    "print(Array1)\n",
    "\n"
   ]
  },
  {
   "cell_type": "code",
   "execution_count": 60,
   "metadata": {},
   "outputs": [
    {
     "name": "stdout",
     "output_type": "stream",
     "text": [
      "[[ 3  6]\n",
      " [ 9 12]]\n"
     ]
    }
   ],
   "source": [
    "Array2 = np.array([[3,6],[9,12]])     #Step2: Define Array2\n",
    "print(Array2)"
   ]
  },
  {
   "cell_type": "code",
   "execution_count": 62,
   "metadata": {},
   "outputs": [
    {
     "name": "stdout",
     "output_type": "stream",
     "text": [
      "[[2 4]\n",
      " [6 8]]\n"
     ]
    }
   ],
   "source": [
    "print(Array1-Array2) "
   ]
  },
  {
   "cell_type": "code",
   "execution_count": 63,
   "metadata": {},
   "outputs": [
    {
     "name": "stdout",
     "output_type": "stream",
     "text": [
      "[[105 150]\n",
      " [225 330]]\n"
     ]
    }
   ],
   "source": [
    "MultArray = Array1@Array2 \n",
    "print(MultArray)"
   ]
  },
  {
   "cell_type": "code",
   "execution_count": 64,
   "metadata": {},
   "outputs": [
    {
     "name": "stdout",
     "output_type": "stream",
     "text": [
      "[[105 150]\n",
      " [225 330]]\n"
     ]
    }
   ],
   "source": [
    "MultArray1 = Array1.dot(Array2) \n",
    "print(MultArray1)"
   ]
  },
  {
   "cell_type": "code",
   "execution_count": 65,
   "metadata": {},
   "outputs": [
    {
     "name": "stdout",
     "output_type": "stream",
     "text": [
      "3\n"
     ]
    }
   ],
   "source": [
    "print(np.argmax(MultArray)) "
   ]
  },
  {
   "cell_type": "code",
   "execution_count": 67,
   "metadata": {},
   "outputs": [
    {
     "name": "stdout",
     "output_type": "stream",
     "text": [
      "202.5\n",
      "202.5\n"
     ]
    }
   ],
   "source": [
    "print(np.mean(MultArray))     ##Step6: Find the mean of the multiplication of these two arrays \n",
    "print(np.mean(MultArray[:,:]))\n"
   ]
  },
  {
   "cell_type": "code",
   "execution_count": 68,
   "metadata": {},
   "outputs": [
    {
     "name": "stdout",
     "output_type": "stream",
     "text": [
      "[1.  2.5 3.4 7.  7. ]\n",
      "[1.  2.5 3.4 7.  7. ]\n",
      "[ True  True  True  True  True]\n",
      "[6.  1.4 2.2 7.5 7. ]\n",
      "[False  True  True False  True]\n"
     ]
    }
   ],
   "source": [
    "import numpy as np         #import numpy\n",
    "Array1 = np.array([1.0,2.5,3.4,7,7])     #Step1: Define Array1\n",
    "print(Array1)\n",
    "Array2 = np.array([5.0/5.0,5.0/2,6.8/2,21/3,14/2])     #Step2: Define Array1\n",
    "print(Array2)\n",
    "print(np.equal(Array1, Array2))             #Step3: Compare and see if the two arrays are equal\n",
    "Array3 = np.array([6,1.4,2.2,7.5,7])     #Step4: Define Array3\n",
    "print(Array3)\n",
    "print(np.greater_equal(Array1, Array3))             #Step3: Compare and see if the two arrays are equal"
   ]
  },
  {
   "cell_type": "code",
   "execution_count": 69,
   "metadata": {},
   "outputs": [
    {
     "name": "stdout",
     "output_type": "stream",
     "text": [
      "[[ 4 40]\n",
      " [68 72]]\n",
      "[[ 9 23]\n",
      " [39 55]]\n",
      "[[ True False]\n",
      " [False False]]\n"
     ]
    }
   ],
   "source": [
    "import numpy as np         #import numpy\n",
    "Array1 = np.array([[4,40],[68,72]])     #Step1: Define Array1\n",
    "print(Array1)\n",
    "Array2 = np.array([[9,23],[39,55]])     #Step2: Define Array2\n",
    "print(Array2)\n",
    "print(np.less_equal(Array1,Array2))"
   ]
  },
  {
   "cell_type": "code",
   "execution_count": 70,
   "metadata": {},
   "outputs": [
    {
     "name": "stdout",
     "output_type": "stream",
     "text": [
      "[1 2 3]\n"
     ]
    }
   ],
   "source": [
    "import numpy as np         #import numpy\n",
    "x = np.array([1,2,3])     #Step1: Define x\n",
    "print(x)"
   ]
  },
  {
   "cell_type": "code",
   "execution_count": 71,
   "metadata": {},
   "outputs": [
    {
     "name": "stdout",
     "output_type": "stream",
     "text": [
      "[1 2 3]\n"
     ]
    }
   ],
   "source": [
    "y = x                     #Step2: Assign y as y=x\n",
    "print(y)"
   ]
  },
  {
   "cell_type": "code",
   "execution_count": 72,
   "metadata": {},
   "outputs": [
    {
     "name": "stdout",
     "output_type": "stream",
     "text": [
      "[1 2 3]\n"
     ]
    }
   ],
   "source": [
    "z = np.copy(x)    #Step3: Define z as a copy of x\n",
    "print(z)"
   ]
  },
  {
   "cell_type": "code",
   "execution_count": 73,
   "metadata": {},
   "outputs": [
    {
     "name": "stdout",
     "output_type": "stream",
     "text": [
      "x =  [1 2 3]\n",
      "y =  [1 2 3]\n",
      "z =  [1 2 3]\n"
     ]
    }
   ],
   "source": [
    "print('x = ',x)  # They look similar but ...\n",
    "print('y = ',y)\n",
    "print('z = ',z)"
   ]
  },
  {
   "cell_type": "code",
   "execution_count": 74,
   "metadata": {},
   "outputs": [],
   "source": [
    "x[1]=200"
   ]
  },
  {
   "cell_type": "code",
   "execution_count": 75,
   "metadata": {},
   "outputs": [
    {
     "name": "stdout",
     "output_type": "stream",
     "text": [
      "x =  [  1 200   3]\n",
      "y =  [  1 200   3]\n",
      "z =  [1 2 3]\n"
     ]
    }
   ],
   "source": [
    "print('x = ',x)  # They look similar but ...\n",
    "print('y = ',y)\n",
    "print('z = ',z)"
   ]
  },
  {
   "cell_type": "code",
   "execution_count": 76,
   "metadata": {},
   "outputs": [
    {
     "name": "stdout",
     "output_type": "stream",
     "text": [
      " x object at hex address  0xffff980dd8f0\n",
      " y object at hex address  0xffff980dd8f0\n",
      " z object at hex address  0xffff9813a620\n"
     ]
    }
   ],
   "source": [
    "print(' x object at hex address ',hex(id(x)))\n",
    "print(' y object at hex address ',hex(id(y)))\n",
    "print(' z object at hex address ',hex(id(z)))"
   ]
  },
  {
   "cell_type": "code",
   "execution_count": 77,
   "metadata": {},
   "outputs": [
    {
     "name": "stdout",
     "output_type": "stream",
     "text": [
      "x =  [1 3]\n",
      "y =  [  1 200   3]\n",
      "z =  [1 2 3]\n"
     ]
    }
   ],
   "source": [
    "x = np.delete(x, 1)      #Step5: Delete the second element of x, remember counting starts at zero\n",
    "print('x = ',x)  # For Step4: They look similar but ...\n",
    "print('y = ',y)\n",
    "print('z = ',z)\n"
   ]
  },
  {
   "cell_type": "code",
   "execution_count": 78,
   "metadata": {},
   "outputs": [
    {
     "name": "stdout",
     "output_type": "stream",
     "text": [
      " x object at hex address  0xffff980e48f0\n",
      " y object at hex address  0xffff980dd8f0\n",
      " z object at hex address  0xffff9813a620\n"
     ]
    }
   ],
   "source": [
    "print(' x object at hex address ',hex(id(x))) # lets check the objects - now they are all different\n",
    "print(' y object at hex address ',hex(id(y)))\n",
    "print(' z object at hex address ',hex(id(z)))"
   ]
  },
  {
   "cell_type": "code",
   "execution_count": 79,
   "metadata": {},
   "outputs": [
    {
     "name": "stdout",
     "output_type": "stream",
     "text": [
      "['FIFA 2020' 'Red Dead Redemption' 'Fallout' 'GTA' 'NBA 2018'\n",
      " 'Need For Speed']\n",
      "['FIFA 2020' 'Fallout' 'GTA' 'NBA 2018' 'Need For Speed'\n",
      " 'Red Dead Redemption']\n"
     ]
    }
   ],
   "source": [
    "import numpy as np         #import numpy\n",
    "games = np.array(['FIFA 2020','Red Dead Redemption','Fallout','GTA','NBA 2018','Need For Speed'])\n",
    "print(games)\n",
    "print(np.sort(games))"
   ]
  },
  {
   "cell_type": "code",
   "execution_count": 80,
   "metadata": {},
   "outputs": [
    {
     "name": "stdout",
     "output_type": "stream",
     "text": [
      "[[ 17  -6   2]\n",
      " [ 86 -12   0]\n",
      " [  0  23  12]]\n",
      "Along columns : \n",
      " [[  0 -12   0]\n",
      " [ 17  -6   2]\n",
      " [ 86  23  12]]\n",
      "Along rows : \n",
      " [[ -6   2  17]\n",
      " [-12   0  86]\n",
      " [  0  12  23]]\n",
      "Sorting by default : \n",
      " [[ -6   2  17]\n",
      " [-12   0  86]\n",
      " [  0  12  23]]\n",
      "Along None Axis : \n",
      " [-12  -6   0   0   2  12  17  23  86]\n"
     ]
    }
   ],
   "source": [
    "import numpy as np         #import numpy\n",
    "a = np.array([[17,-6,2],[86,-12,0],[0,23,12]])\n",
    "print(a)\n",
    "print (\"Along columns : \\n\", np.sort(a,axis = 0) ) #This will be sorting in each column\n",
    "print (\"Along rows : \\n\", np.sort(a,axis = 1) ) #This will be sorting in each row\n",
    "print (\"Sorting by default : \\n\", np.sort(a) )          #Same as above\n",
    "print (\"Along None Axis : \\n\", np.sort(a,axis = None) ) #This will be sorted like a 1D array"
   ]
  },
  {
   "cell_type": "code",
   "execution_count": 81,
   "metadata": {},
   "outputs": [
    {
     "name": "stdout",
     "output_type": "stream",
     "text": [
      "[1 3 5 7 9]\n",
      "[3 5 7]\n"
     ]
    }
   ],
   "source": [
    "import numpy as np         #import numpy\n",
    "a = np.array([1,3,5,7,9])     #Define the array\n",
    "print(a)\n",
    "aslice = a[1:4]             #slice the [3,5,7]\n",
    "print(aslice) "
   ]
  },
  {
   "cell_type": "code",
   "execution_count": null,
   "metadata": {},
   "outputs": [],
   "source": []
  }
 ],
 "metadata": {
  "kernelspec": {
   "display_name": "Python 3",
   "language": "python",
   "name": "python3"
  },
  "language_info": {
   "codemirror_mode": {
    "name": "ipython",
    "version": 3
   },
   "file_extension": ".py",
   "mimetype": "text/x-python",
   "name": "python",
   "nbconvert_exporter": "python",
   "pygments_lexer": "ipython3",
   "version": "3.8.5"
  }
 },
 "nbformat": 4,
 "nbformat_minor": 4
}
