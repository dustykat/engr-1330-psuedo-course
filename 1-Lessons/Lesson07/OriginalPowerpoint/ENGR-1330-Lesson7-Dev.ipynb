{
 "cells": [
  {
   "cell_type": "markdown",
   "metadata": {},
   "source": [
    "# ENGR 1330 Computational Thinking with Data Science \n",
    "Last GitHub Commit Date: 31 January 2021\n",
    "\n",
    "## Lesson 7 The NumPy module \n",
    "- How to install\n",
    "    - Anaconda\n",
    "    - JupyterHub/Lab (on Linux)\n",
    "    - JupyterHub/Lab (on MacOS)\n",
    "    - JupyterHub/Lab (on Windoze)\n",
    "- About NumPy\n",
    "    - Arrays\n",
    "      -  ...\n",
    "      -  ...\n",
    "    - Array Methods\n",
    "    - \n",
    "---\n",
    "### Special Script Blocks"
   ]
  },
  {
   "cell_type": "code",
   "execution_count": 1,
   "metadata": {
    "collapsed": false,
    "jupyter": {
     "outputs_hidden": false
    }
   },
   "outputs": [
    {
     "data": {
      "text/html": [
       "<!--Script block to left align Markdown Tables-->\n",
       "<style>\n",
       "  table {margin-left: 0 !important;}\n",
       "</style>\n"
      ],
      "text/plain": [
       "<IPython.core.display.HTML object>"
      ]
     },
     "metadata": {},
     "output_type": "display_data"
    }
   ],
   "source": [
    "%%html\n",
    "<!--Script block to left align Markdown Tables-->\n",
    "<style>\n",
    "  table {margin-left: 0 !important;}\n",
    "</style>"
   ]
  },
  {
   "cell_type": "markdown",
   "metadata": {
    "jupyter": {
     "outputs_hidden": false
    }
   },
   "source": [
    "---\n",
    "## Objectives\n",
    "- To understand the representation of data in different structure using the NumPy library(module).\n",
    "  - Access data within a NumPy array\n",
    "  - Perform arithmetic/mathematical operations on the contents of NumPy arrays\n"
   ]
  },
  {
   "cell_type": "markdown",
   "metadata": {},
   "source": [
    "### Numpy\n",
    "Numpy is the core library for scientific computing in Python. It provides a high-performance multidimensional array object, and tools for working with these arrays. The library’s name is short for “Numeric Python” or “Numerical Python”. If you are curious about NumPy, this cheat sheet is recommended:\n",
    "https://s3.amazonaws.com/assets.datacamp.com/blog_assets/Numpy_Python_Cheat_Sheet.pdf\n",
    "\n",
    "NumPy library has two fundamental conceptualizations:\n",
    "- Data representation: Arrays \n",
    "  - vectors\n",
    "  - matrices\n",
    "- Data operations: \n",
    "  - Element-by-element arithmetic, and mathematical operations;\n",
    "  - Matrix/vector arithmetic\n",
    "  - Indexing\n",
    "  - Selection\n",
    "  - Copying"
   ]
  },
  {
   "cell_type": "markdown",
   "metadata": {},
   "source": [
    "## Computational Thinking Concepts\n",
    "\n",
    "The CT concepts expressed within NumPy include:\n",
    "\n",
    "- `Decomposition` : Break a problem down into smaller pieces; Data interpretation, manipulation, and analysis of NumPy arrays is an act of decomposition.\n",
    "- `Abstraction` : Pulling out specific differences to make one solution work for multiple problems; The array is a data representation abstraction that allows for placeholder operations, later substituted with specific contents for a problem; enhances reuse and readability.  Generally we leverage the principle of algebraic replacement using these abstractions.\n",
    "- `Algorithms` : A list of steps that you can follow to finish a task; Data interpretation, manipulation, and analysis of NumPy arrays is generally implemented as part of a supervisory algorithm."
   ]
  },
  {
   "cell_type": "markdown",
   "metadata": {},
   "source": [
    "## Module Set-Up\n",
    "\n",
    "In principle, NumPy should be available in a default Anaconda install \n",
    "- You should not have to do any extra installation steps to install the library in Python\n",
    "- You do have to **import** the library in your scripts\n",
    "\n",
    "How to check\n",
    "- Simply open a code cell and run `import numpy` if the notebook does not protest (i.e. pink block of error), the youis good to go."
   ]
  },
  {
   "cell_type": "code",
   "execution_count": 2,
   "metadata": {},
   "outputs": [],
   "source": [
    "import numpy"
   ]
  },
  {
   "cell_type": "markdown",
   "metadata": {},
   "source": [
    "If you do get an error, that means that you will have to install using `conda` or `pip`; you are on-your-own here!  On the **content server** the process is:\n",
    "\n",
    "1. Open a new terminal from the launcher\n",
    "2. Change to root user `su` then enter the root password\n",
    "3. `sudo -H /opt/jupyterhib/bin/python3 -m pip install numpy`\n",
    "4. Wait until the install is complete; for security, user `compthink` is not in the `sudo` group\n",
    "5. Verify the install by trying to execute `import numpy` as above.\n",
    "\n",
    "The process will be similar on a Macintosh, or Windows.   Best is to hope you have a sucessful anaconda install.\n",
    "\n",
    "If you have to do this kind of install, you will have to do some reading, some references I find useful are:\n",
    "1. https://jupyterlab.readthedocs.io/en/stable/user/extensions.html\n",
    "2. https://www.pugetsystems.com/labs/hpc/Note-How-To-Install-JupyterHub-on-a-Local-Server-1673/#InstallJupyterHub\n",
    "3. https://jupyterhub.readthedocs.io/en/stable/installation-guide-hard.html (This is the approach on the content server which has a functioning JupyterHub)"
   ]
  },
  {
   "cell_type": "markdown",
   "metadata": {},
   "source": [
    "## NumPy: AKA Numerical Python\n",
    "\n",
    "NumPy is a foundational library (module) for scientific computing.  Most if not all all data science libraries (modules) rely on NumPy as one of their building blocks to reduce the need to build certain operations in primative python.\n",
    "\n",
    "NumPy provides a multi-dimensional array object called ‘ndarray’ (n-dimensional array) and methods for:\n",
    "- Computations with arrays and mathematical operations between arrays (array-by-array and element-by-element)\n",
    "- Linear algebra operations \n",
    "- Psuedo random number generation\n",
    "\n"
   ]
  },
  {
   "cell_type": "markdown",
   "metadata": {},
   "source": [
    "### Arrays\n",
    "A numpy array is a grid of values, all of the same type, and is indexed by a tuple of nonnegative integers. The number of dimensions is the rank of the array; the shape of an array is a tuple of integers giving the size of the array along each dimension. \n",
    "\n",
    "Figure 1 is a visual depiction of numpy arrays of rank 1 and rank2.\n",
    "\n",
    "![](numpyarray.png)\n",
    "\n",
    "\n",
    "|Figure 1: NumPy array visual representation|\n",
    "|---|\n",
    "\n",
    "In other words, an array contains information about the raw data, how to locate an element and how to interpret an element.To make a numpy array, you can just use the np.array() function. All you need to do is pass a list to it. Don’t forget that, in order to work with the np.array() function, you need to make sure that the numpy library is present in your environment.\n",
    "If you want to read more about the differences between a Python list and NumPy array, this link is recommended:\n",
    "https://webcourses.ucf.edu/courses/1249560/pages/python-lists-vs-numpy-arrays-what-is-the-difference"
   ]
  },
  {
   "cell_type": "markdown",
   "metadata": {
    "jupyter": {
     "source_hidden": true
    }
   },
   "source": [
    "### Example- 1D Arrays (Vectors)\n",
    "Let's create a 1D array from the 2000s (2000-2009): "
   ]
  },
  {
   "cell_type": "code",
   "execution_count": 9,
   "metadata": {
    "collapsed": true,
    "jupyter": {
     "outputs_hidden": true,
     "source_hidden": true
    }
   },
   "outputs": [
    {
     "data": {
      "text/plain": [
       "list"
      ]
     },
     "execution_count": 9,
     "metadata": {},
     "output_type": "execute_result"
    }
   ],
   "source": [
    "import numpy             #First, we need to impoty \"numpy\"\n",
    "mylist = [2000,2001,2002,2003,2004,2005,2006,2007,2008,2009]         #Create a list of the years\n",
    "type(mylist)"
   ]
  },
  {
   "cell_type": "code",
   "execution_count": 10,
   "metadata": {
    "collapsed": true,
    "jupyter": {
     "outputs_hidden": true,
     "source_hidden": true
    }
   },
   "outputs": [
    {
     "name": "stdout",
     "output_type": "stream",
     "text": [
      "[2000, 2001, 2002, 2003, 2004, 2005, 2006, 2007, 2008, 2009]\n"
     ]
    }
   ],
   "source": [
    "print(mylist)                 #Check how it looks"
   ]
  },
  {
   "cell_type": "code",
   "execution_count": 11,
   "metadata": {
    "collapsed": true,
    "jupyter": {
     "outputs_hidden": true,
     "source_hidden": true
    }
   },
   "outputs": [
    {
     "data": {
      "text/plain": [
       "numpy.ndarray"
      ]
     },
     "execution_count": 11,
     "metadata": {},
     "output_type": "execute_result"
    }
   ],
   "source": [
    "mylist = numpy.array(mylist)              #Type cast it as a numpy array\n",
    "type(mylist)"
   ]
  },
  {
   "cell_type": "code",
   "execution_count": 12,
   "metadata": {
    "collapsed": true,
    "jupyter": {
     "outputs_hidden": true,
     "source_hidden": true
    }
   },
   "outputs": [
    {
     "name": "stdout",
     "output_type": "stream",
     "text": [
      "[2000 2001 2002 2003 2004 2005 2006 2007 2008 2009]\n"
     ]
    }
   ],
   "source": [
    "print(mylist) "
   ]
  },
  {
   "cell_type": "code",
   "execution_count": 13,
   "metadata": {
    "collapsed": true,
    "jupyter": {
     "outputs_hidden": true,
     "source_hidden": true
    }
   },
   "outputs": [
    {
     "data": {
      "text/plain": [
       "list"
      ]
     },
     "execution_count": 13,
     "metadata": {},
     "output_type": "execute_result"
    }
   ],
   "source": [
    "mylist = [[1,2,3],[4,5,6],[7,8,9]]\n",
    "type(mylist)"
   ]
  },
  {
   "cell_type": "code",
   "execution_count": 14,
   "metadata": {
    "collapsed": true,
    "jupyter": {
     "outputs_hidden": true,
     "source_hidden": true
    }
   },
   "outputs": [
    {
     "name": "stdout",
     "output_type": "stream",
     "text": [
      "[[1, 2, 3], [4, 5, 6], [7, 8, 9]]\n"
     ]
    }
   ],
   "source": [
    "print(mylist) "
   ]
  },
  {
   "cell_type": "code",
   "execution_count": 15,
   "metadata": {
    "collapsed": true,
    "jupyter": {
     "outputs_hidden": true,
     "source_hidden": true
    }
   },
   "outputs": [
    {
     "data": {
      "text/plain": [
       "numpy.ndarray"
      ]
     },
     "execution_count": 15,
     "metadata": {},
     "output_type": "execute_result"
    }
   ],
   "source": [
    "mylist= numpy.array(mylist)   #Type cast it as a numpy array\n",
    "type(mylist)"
   ]
  },
  {
   "cell_type": "code",
   "execution_count": 16,
   "metadata": {
    "collapsed": true,
    "jupyter": {
     "outputs_hidden": true,
     "source_hidden": true
    }
   },
   "outputs": [
    {
     "name": "stdout",
     "output_type": "stream",
     "text": [
      "[[1 2 3]\n",
      " [4 5 6]\n",
      " [7 8 9]]\n"
     ]
    }
   ],
   "source": [
    "print(mylist)"
   ]
  },
  {
   "cell_type": "code",
   "execution_count": 17,
   "metadata": {
    "collapsed": true,
    "jupyter": {
     "outputs_hidden": true,
     "source_hidden": true
    }
   },
   "outputs": [
    {
     "data": {
      "text/plain": [
       "3"
      ]
     },
     "execution_count": 17,
     "metadata": {},
     "output_type": "execute_result"
    }
   ],
   "source": [
    "len(mylist)"
   ]
  },
  {
   "cell_type": "markdown",
   "metadata": {},
   "source": [
    "### Example: n-Dimensional Arrays\n",
    "\n",
    "We already made a 3X3 array, but let's create a 5x2 array from the 2000s (2000-2009):"
   ]
  },
  {
   "cell_type": "code",
   "execution_count": 19,
   "metadata": {
    "collapsed": true,
    "jupyter": {
     "outputs_hidden": true,
     "source_hidden": true
    }
   },
   "outputs": [
    {
     "name": "stdout",
     "output_type": "stream",
     "text": [
      "[[2000, 2001], [2002, 2003], [2004, 2005], [2006, 2007], [2008, 2009]]\n"
     ]
    },
    {
     "data": {
      "text/plain": [
       "array([[2000, 2001],\n",
       "       [2002, 2003],\n",
       "       [2004, 2005],\n",
       "       [2006, 2007],\n",
       "       [2008, 2009]])"
      ]
     },
     "execution_count": 19,
     "metadata": {},
     "output_type": "execute_result"
    }
   ],
   "source": [
    "myotherlist = [[2000,2001],[2002,2003],[2004,2005],[2006,2007],[2008,2009]]     #Since I want a 5x2 array, I should group the years two by two\n",
    "print(myotherlist)             #See how it looks as a list\n",
    "numpy.array(myotherlist)          #See how it looks as a numpy array"
   ]
  },
  {
   "cell_type": "markdown",
   "metadata": {},
   "source": [
    "#### Array Arithmetic\n",
    "Once you have created the arrays, you can do basic Numpy operations. Numpy offers a variety of operations applicable on arrays. From basic operations such as summation, subtraction, multiplication and division to more advanced and essential operations such as matrix multiplication and other elementwise operations. In the examples below, we will go over some of these:\n"
   ]
  },
  {
   "cell_type": "markdown",
   "metadata": {},
   "source": [
    "### Example- 1D Array Arithmetic\n",
    "- Define a 1D array with [0,12,24,36,48,60,72,84,96]"
   ]
  },
  {
   "cell_type": "code",
   "execution_count": 81,
   "metadata": {},
   "outputs": [
    {
     "name": "stdout",
     "output_type": "stream",
     "text": [
      "[ 0 12 24 36 48 60 72 84 96]\n"
     ]
    }
   ],
   "source": [
    "import numpy as np         #import numpy\n",
    "Array1 = np.array([0,12,24,36,48,60,72,84,96])     #Step1: Define Array1\n",
    "print(Array1)"
   ]
  },
  {
   "cell_type": "markdown",
   "metadata": {},
   "source": [
    "- Multiply all elements by 2 (scalar multiplication), print result, leave array unchanged"
   ]
  },
  {
   "cell_type": "code",
   "execution_count": 82,
   "metadata": {},
   "outputs": [
    {
     "name": "stdout",
     "output_type": "stream",
     "text": [
      "[  0  24  48  72  96 120 144 168 192]\n"
     ]
    }
   ],
   "source": [
    "print(Array1*2)     #Step2: Multiple all elements by 2"
   ]
  },
  {
   "cell_type": "markdown",
   "metadata": {},
   "source": [
    "- Take all elements to the power of 2"
   ]
  },
  {
   "cell_type": "code",
   "execution_count": 83,
   "metadata": {},
   "outputs": [
    {
     "name": "stdout",
     "output_type": "stream",
     "text": [
      "[   0  144  576 1296 2304 3600 5184 7056 9216]\n"
     ]
    }
   ],
   "source": [
    "print(Array1**2)     #Step3: Take all elements to the power of 2"
   ]
  },
  {
   "cell_type": "code",
   "execution_count": 84,
   "metadata": {},
   "outputs": [
    {
     "name": "stdout",
     "output_type": "stream",
     "text": [
      "[   0  144  576 1296 2304 3600 5184 7056 9216]\n"
     ]
    }
   ],
   "source": [
    "print(np.power(Array1,2)) #Another way to do the same thing, by using a function in numpy"
   ]
  },
  {
   "cell_type": "markdown",
   "metadata": {},
   "source": [
    "- Find the maximum value of the array and its position"
   ]
  },
  {
   "cell_type": "code",
   "execution_count": 85,
   "metadata": {},
   "outputs": [
    {
     "name": "stdout",
     "output_type": "stream",
     "text": [
      "96\n"
     ]
    }
   ],
   "source": [
    "print(np.max(Array1))     #Step4: Find the maximum value of the array"
   ]
  },
  {
   "cell_type": "code",
   "execution_count": 86,
   "metadata": {},
   "outputs": [
    {
     "name": "stdout",
     "output_type": "stream",
     "text": [
      "8\n"
     ]
    }
   ],
   "source": [
    "print(np.argmax(Array1))     ##Step4: Find the postition of the maximum value "
   ]
  },
  {
   "cell_type": "markdown",
   "metadata": {},
   "source": [
    "- Find the minimum value of the array and its position"
   ]
  },
  {
   "cell_type": "code",
   "execution_count": 87,
   "metadata": {},
   "outputs": [
    {
     "name": "stdout",
     "output_type": "stream",
     "text": [
      "0\n"
     ]
    }
   ],
   "source": [
    "print(np.min(Array1))     #Step5: Find the minimum value of the array"
   ]
  },
  {
   "cell_type": "code",
   "execution_count": 88,
   "metadata": {},
   "outputs": [
    {
     "name": "stdout",
     "output_type": "stream",
     "text": [
      "0\n"
     ]
    }
   ],
   "source": [
    "print(np.argmin(Array1))     ##Step5: Find the postition of the minimum value "
   ]
  },
  {
   "cell_type": "markdown",
   "metadata": {},
   "source": [
    "- Define another 1D array with [-12,0,12,24,36,48,60,72,84]"
   ]
  },
  {
   "cell_type": "code",
   "execution_count": 89,
   "metadata": {
    "collapsed": false,
    "jupyter": {
     "outputs_hidden": false
    }
   },
   "outputs": [
    {
     "name": "stdout",
     "output_type": "stream",
     "text": [
      "[-12   0  12  24  36  48  60  72  84]\n"
     ]
    }
   ],
   "source": [
    "Array2 = np.array([-12,0,12,24,36,48,60,72,84])     #Step6: Define Array2\n",
    "print(Array2)"
   ]
  },
  {
   "cell_type": "markdown",
   "metadata": {},
   "source": [
    "- Find the element-by-element sum and difference of these two arrays"
   ]
  },
  {
   "cell_type": "code",
   "execution_count": 90,
   "metadata": {},
   "outputs": [
    {
     "name": "stdout",
     "output_type": "stream",
     "text": [
      "[-12  12  36  60  84 108 132 156 180]\n",
      "[12 12 12 12 12 12 12 12 12]\n"
     ]
    }
   ],
   "source": [
    "print(Array1+Array2)         #Step7: Sum of two arrays\n",
    "print(Array1-Array2)         #Step7: Difference of two arrays"
   ]
  },
  {
   "cell_type": "markdown",
   "metadata": {},
   "source": [
    "- Element-by-element multiplication of these two arrays"
   ]
  },
  {
   "cell_type": "code",
   "execution_count": 91,
   "metadata": {},
   "outputs": [
    {
     "name": "stdout",
     "output_type": "stream",
     "text": [
      "[   0    0  288  864 1728 2880 4320 6048 8064]\n"
     ]
    }
   ],
   "source": [
    "print(Array1*Array2)         #Step8: Find the multiplication of these two arrays"
   ]
  },
  {
   "cell_type": "markdown",
   "metadata": {},
   "source": [
    "### Example- n-Dimensional Array Arithmetic\n",
    "- Define a 2x2 array with [5,10,15,20]"
   ]
  },
  {
   "cell_type": "code",
   "execution_count": 92,
   "metadata": {},
   "outputs": [
    {
     "name": "stdout",
     "output_type": "stream",
     "text": [
      "[[ 5 10]\n",
      " [15 20]]\n"
     ]
    }
   ],
   "source": [
    "import numpy as np         #import numpy\n",
    "Array1 = np.array([[5,10],[15,20]])     #Step1: Define Array1\n",
    "print(Array1)"
   ]
  },
  {
   "cell_type": "markdown",
   "metadata": {},
   "source": [
    "- Define another 2x2 array with [3,6,9,12]"
   ]
  },
  {
   "cell_type": "code",
   "execution_count": 93,
   "metadata": {},
   "outputs": [
    {
     "name": "stdout",
     "output_type": "stream",
     "text": [
      "[[ 3  6]\n",
      " [ 9 12]]\n"
     ]
    }
   ],
   "source": [
    "Array2 = np.array([[3,6],[9,12]])     #Step2: Define Array2\n",
    "print(Array2)"
   ]
  },
  {
   "cell_type": "markdown",
   "metadata": {},
   "source": [
    "- Find the sum and difference of these two arrays"
   ]
  },
  {
   "cell_type": "code",
   "execution_count": 94,
   "metadata": {},
   "outputs": [
    {
     "name": "stdout",
     "output_type": "stream",
     "text": [
      "[[ 8 16]\n",
      " [24 32]]\n",
      "[[2 4]\n",
      " [6 8]]\n"
     ]
    }
   ],
   "source": [
    "print(Array1+Array2)     #Step3: Find the summation\n",
    "print(Array1-Array2)     #Step3: Find the subtraction"
   ]
  },
  {
   "cell_type": "markdown",
   "metadata": {},
   "source": [
    "- Find the minimum number in the multiplication of these two arrays"
   ]
  },
  {
   "cell_type": "code",
   "execution_count": 95,
   "metadata": {},
   "outputs": [
    {
     "name": "stdout",
     "output_type": "stream",
     "text": [
      "[[105 150]\n",
      " [225 330]]\n",
      "[[105 150]\n",
      " [225 330]]\n",
      "105\n"
     ]
    }
   ],
   "source": [
    "MultArray = Array1@Array2         #Step4: To perform a typical matrix multiplication (or matrix product)\n",
    "MultArray1 = Array1.dot(Array2)         #Step4: Another way To perform a  matrix multiplication\n",
    "print(MultArray)\n",
    "print(MultArray1)\n",
    "print(np.min(MultArray))     #Step4: Find the minimum value of the multiplication"
   ]
  },
  {
   "cell_type": "code",
   "execution_count": null,
   "metadata": {},
   "outputs": [],
   "source": [
    "- Find the position of the maximum in the multiplication of these two arrays"
   ]
  },
  {
   "cell_type": "code",
   "execution_count": 96,
   "metadata": {},
   "outputs": [
    {
     "name": "stdout",
     "output_type": "stream",
     "text": [
      "3\n"
     ]
    }
   ],
   "source": [
    "print(np.argmax(MultArray))     ##Step5: Find the postition of the maximum value "
   ]
  },
  {
   "cell_type": "markdown",
   "metadata": {},
   "source": [
    "- Find the mean of the multiplication of these two arrays\n",
    "- Find the mean of the first row of the multiplication of these two arrays"
   ]
  },
  {
   "cell_type": "code",
   "execution_count": 98,
   "metadata": {
    "collapsed": false,
    "jupyter": {
     "outputs_hidden": false
    }
   },
   "outputs": [
    {
     "name": "stdout",
     "output_type": "stream",
     "text": [
      "202.5\n",
      "127.5\n"
     ]
    }
   ],
   "source": [
    "print(np.mean(MultArray))     ##Step6: Find the mean of the multiplication of these two arrays \n",
    "print(np.mean(MultArray[0,:]))     ##Step7: Find the mean of the first row of the multiplication of these two arrays "
   ]
  },
  {
   "cell_type": "markdown",
   "metadata": {},
   "source": [
    "Other functions to create NumPy arrays easily\n",
    "\n",
    "- arange( ): Returns evenly spaced array elements \n",
    "- linspace( ): Returns evenly spaced array elements \n",
    "- zeros( ): Returns an array of zeros\n",
    "- ones( ): Returns an array of ones\n",
    "- random.randint(.): Returns random integers\n",
    "\n",
    "Functions to do basic operations on NumPy arrays\n",
    "\n",
    "- min( ): Returns minimum value in an array\n",
    "- max( ): Returns maximum value in an array\n",
    "- argmin( ): Returns minimum value position in an array\n",
    "- argmax( ): Returns maximum value position in an array \n",
    "- reshape( ): Reshaping an array to a specific shape\n",
    "- sort( ): Sorting an array in ascending order\n",
    "- sum( ): Summing the array elements (Demo)\n",
    "\n",
    "Functions to do mathematical operations on NumPy arrays\n",
    "\n",
    "- sqrt( ): Returns square root of array elements\n",
    "- exp( ): Returns exponential of array elements\n",
    "- sin( ): Returns trigonometric sine of array elements\n",
    "- cos( ): Returns trigonometric cosine of array elements \n",
    "- log( ): Returns natural logarithm of array elements\n",
    "- log10( ): Returns base 10 logarithm of array elements\n",
    "\n",
    "Indexing: An important step in manipulating and analyzing arrays\n",
    "- Conditional selection: Selecting array elements based on specific conditions typed using conditional operators\n",
    "- Copying: Use the copy( ) function to copy arrays and to preserve the original array\n"
   ]
  },
  {
   "cell_type": "markdown",
   "metadata": {},
   "source": [
    "## Arrays Comparison\n",
    "\n",
    "Comparing two NumPy arrays determines whether they are equivalent by checking if every element at each corresponding index are the same."
   ]
  },
  {
   "cell_type": "markdown",
   "metadata": {},
   "source": [
    "### Example- 1D Array Comparison\n",
    "- Define a 1D array with [1.0,2.5,3.4,7,7]\n",
    "- Define another 1D array with [5.0/5.0,5.0/2,6.8/2,21/3,14/2]\n",
    "- Compare and see if the two arrays are equal\n",
    "- Define another 1D array with [6,1.4,2.2,7.5,7]\n",
    "- Compare and see if the first array is greater than or equal to the third array"
   ]
  },
  {
   "cell_type": "code",
   "execution_count": 60,
   "metadata": {
    "collapsed": false,
    "jupyter": {
     "outputs_hidden": false
    }
   },
   "outputs": [
    {
     "name": "stdout",
     "output_type": "stream",
     "text": [
      "[1.  2.5 3.4 7.  7. ]\n",
      "[1.  2.5 3.4 7.  7. ]\n",
      "[ True  True  True  True  True]\n",
      "[6.  1.4 2.2 7.5 7. ]\n",
      "[False  True  True False  True]\n"
     ]
    }
   ],
   "source": [
    "import numpy as np         #import numpy\n",
    "Array1 = np.array([1.0,2.5,3.4,7,7])     #Step1: Define Array1\n",
    "print(Array1)\n",
    "Array2 = np.array([5.0/5.0,5.0/2,6.8/2,21/3,14/2])     #Step2: Define Array1\n",
    "print(Array2)\n",
    "print(np.equal(Array1, Array2))             #Step3: Compare and see if the two arrays are equal\n",
    "Array3 = np.array([6,1.4,2.2,7.5,7])     #Step4: Define Array3\n",
    "print(Array3)\n",
    "print(np.greater_equal(Array1, Array3))             #Step3: Compare and see if the two arrays are equal\n"
   ]
  },
  {
   "cell_type": "markdown",
   "metadata": {},
   "source": [
    "### Example n-Dimensional Array Comparison\n",
    "Using the numbers below:\n",
    "#### 4,9,23,39,40,55,68,72\n",
    "\n",
    "A) Create a 2x2 array with all the even numbers and print it out<br>\n",
    "B) Create a 2x2 array with all the odd numbers and print it out<br>\n",
    "C) Compare the two arrays using the \"less_equal\" function from numpy package\n",
    "---"
   ]
  },
  {
   "cell_type": "code",
   "execution_count": 43,
   "metadata": {
    "collapsed": false,
    "jupyter": {
     "outputs_hidden": false
    }
   },
   "outputs": [
    {
     "name": "stdout",
     "output_type": "stream",
     "text": [
      "[[ 4 40]\n",
      " [68 72]]\n",
      "[[ 9 23]\n",
      " [39 55]]\n",
      "[[ True False]\n",
      " [False False]]\n"
     ]
    }
   ],
   "source": [
    "import numpy as np         #import numpy\n",
    "Array1 = np.array([[4,40],[68,72]])     #Step1: Define Array1\n",
    "print(Array1)\n",
    "Array2 = np.array([[9,23],[39,55]])     #Step2: Define Array2\n",
    "print(Array2)\n",
    "print(np.less_equal(Array1,Array2))\n"
   ]
  },
  {
   "cell_type": "markdown",
   "metadata": {},
   "source": [
    "## Arrays Manipulation\n",
    "\n",
    "numpy.copy() allows us to create a copy of an array. This method is particularly useful when we need to manipulate an array while keeping an original copy in memory.\n",
    "\n",
    "The numpy.delete() function returns a new array with sub-arrays along an axis deleted. Let's have a look at the examples.\n",
    "\n",
    "![](numpy-manipulation-delete-function-image-a.png)"
   ]
  },
  {
   "cell_type": "markdown",
   "metadata": {},
   "source": [
    "### Examples:  Copying and Deleting Arrays and Elements\n",
    "\n",
    "Below we will work a few examples.\n",
    "\n",
    "- Define a 1D array, named \"x\" with [1,2,3]"
   ]
  },
  {
   "cell_type": "code",
   "execution_count": 61,
   "metadata": {},
   "outputs": [
    {
     "name": "stdout",
     "output_type": "stream",
     "text": [
      "[1 2 3]\n"
     ]
    }
   ],
   "source": [
    "import numpy as np         #import numpy\n",
    "x = np.array([1,2,3])     #Step1: Define x\n",
    "print(x)"
   ]
  },
  {
   "cell_type": "markdown",
   "metadata": {},
   "source": [
    "- Assign \"y\" so that \"y=x\""
   ]
  },
  {
   "cell_type": "code",
   "execution_count": 62,
   "metadata": {},
   "outputs": [
    {
     "name": "stdout",
     "output_type": "stream",
     "text": [
      "[1 2 3]\n"
     ]
    }
   ],
   "source": [
    "y = x                     #Step2: Assign y as y=x\n",
    "print(y)"
   ]
  },
  {
   "cell_type": "markdown",
   "metadata": {},
   "source": [
    "- Define \"z\" as a copy of \"x\""
   ]
  },
  {
   "cell_type": "code",
   "execution_count": 63,
   "metadata": {},
   "outputs": [
    {
     "name": "stdout",
     "output_type": "stream",
     "text": [
      "[1 2 3]\n"
     ]
    }
   ],
   "source": [
    "z = np.copy(x)    #Step3: Define z as a copy of x\n",
    "print(z)"
   ]
  },
  {
   "cell_type": "markdown",
   "metadata": {},
   "source": [
    "- Discuss the difference between y and z"
   ]
  },
  {
   "cell_type": "code",
   "execution_count": 64,
   "metadata": {},
   "outputs": [
    {
     "name": "stdout",
     "output_type": "stream",
     "text": [
      "x =  [1 2 3]\n",
      "y =  [1 2 3]\n",
      "z =  [1 2 3]\n"
     ]
    }
   ],
   "source": [
    "print('x = ',x)  # They look similar but ...\n",
    "print('y = ',y)\n",
    "print('z = ',z)"
   ]
  },
  {
   "cell_type": "markdown",
   "metadata": {},
   "source": [
    "now lets change a value in x, then print the contents again"
   ]
  },
  {
   "cell_type": "code",
   "execution_count": 65,
   "metadata": {},
   "outputs": [
    {
     "name": "stdout",
     "output_type": "stream",
     "text": [
      "x =  [100   2   3]\n",
      "y =  [100   2   3]\n",
      "z =  [1 2 3]\n"
     ]
    }
   ],
   "source": [
    "x[0] = 100\n",
    "print('x = ',x)  # For Step4: They look similar but ...\n",
    "print('y = ',y)\n",
    "print('z = ',z)"
   ]
  },
  {
   "cell_type": "markdown",
   "metadata": {},
   "source": [
    "Notice how x and y reflect the change, whats going on?  The assignment statement `y = x` creates equivalence in numpy; that is x and y are different names for the same object.  We can verify using the id() function which will return the address in memory of the head of the object."
   ]
  },
  {
   "cell_type": "code",
   "execution_count": 66,
   "metadata": {},
   "outputs": [
    {
     "name": "stdout",
     "output_type": "stream",
     "text": [
      " x object at hex address  0x7fb8bc0f03f0\n",
      " y object at hex address  0x7fb8bc0f03f0\n",
      " z object at hex address  0x7fb8bc0b20d0\n"
     ]
    }
   ],
   "source": [
    "print(' x object at hex address ',hex(id(x)))\n",
    "print(' y object at hex address ',hex(id(y)))\n",
    "print(' z object at hex address ',hex(id(z)))"
   ]
  },
  {
   "cell_type": "markdown",
   "metadata": {},
   "source": [
    "- Delete the second element of x"
   ]
  },
  {
   "cell_type": "code",
   "execution_count": 67,
   "metadata": {
    "collapsed": false,
    "jupyter": {
     "outputs_hidden": false
    }
   },
   "outputs": [
    {
     "name": "stdout",
     "output_type": "stream",
     "text": [
      "x =  [100   3]\n",
      "y =  [100   2   3]\n",
      "z =  [1 2 3]\n"
     ]
    }
   ],
   "source": [
    "x = np.delete(x, 1)      #Step5: Delete the second element of x, remember counting starts at zero\n",
    "print('x = ',x)  # For Step4: They look similar but ...\n",
    "print('y = ',y)\n",
    "print('z = ',z)"
   ]
  },
  {
   "cell_type": "code",
   "execution_count": 68,
   "metadata": {},
   "outputs": [
    {
     "name": "stdout",
     "output_type": "stream",
     "text": [
      " x object at hex address  0x7fb8bc0dfb20\n",
      " y object at hex address  0x7fb8bc0f03f0\n",
      " z object at hex address  0x7fb8bc0b20d0\n"
     ]
    }
   ],
   "source": [
    "print(' x object at hex address ',hex(id(x))) # lets check the objects - now they are all different\n",
    "print(' y object at hex address ',hex(id(y)))\n",
    "print(' z object at hex address ',hex(id(z)))"
   ]
  },
  {
   "cell_type": "markdown",
   "metadata": {},
   "source": [
    "## Sorting Arrays\n",
    "\n",
    "Sorting means putting elements in an ordered sequence. Ordered sequence is any sequence that has an order corresponding to elements, like numeric or alphabetical, ascending or descending. If you use the sort() method on a 2-D array, both arrays will be sorted.\n",
    "\n",
    "Recall the end of lesson on loops, showed some sorthing algorithms; some of which are implemented as part of numpy - as stated in that lesson, use the built-in methods unless you have a need to write the sorts in python primatives.\n"
   ]
  },
  {
   "cell_type": "markdown",
   "metadata": {},
   "source": [
    "### Example:  Sorting 1D Arrays\n",
    "\n",
    "Define a 1D array as ['FIFA 2020','Red Dead Redemption','Fallout','GTA','NBA 2018','Need For Speed'] and print it out. Then, sort the array alphabetically._\n"
   ]
  },
  {
   "cell_type": "code",
   "execution_count": 10,
   "metadata": {
    "collapsed": false,
    "jupyter": {
     "outputs_hidden": false
    }
   },
   "outputs": [
    {
     "name": "stdout",
     "output_type": "stream",
     "text": [
      "['FIFA 2020' 'Red Dead Redemption' 'Fallout' 'GTA' 'NBA 2018'\n",
      " 'Need For Speed']\n",
      "['FIFA 2020' 'Fallout' 'GTA' 'NBA 2018' 'Need For Speed'\n",
      " 'Red Dead Redemption']\n"
     ]
    }
   ],
   "source": [
    "import numpy as np         #import numpy\n",
    "games = np.array(['FIFA 2020','Red Dead Redemption','Fallout','GTA','NBA 2018','Need For Speed'])\n",
    "print(games)\n",
    "print(np.sort(games))"
   ]
  },
  {
   "cell_type": "markdown",
   "metadata": {},
   "source": []
  },
  {
   "cell_type": "markdown",
   "metadata": {},
   "source": []
  },
  {
   "cell_type": "markdown",
   "metadata": {},
   "source": []
  },
  {
   "cell_type": "markdown",
   "metadata": {},
   "source": [
    "### Example- Sorting n-Dimensional Arrays\n",
    "\n",
    "Define a 3x3 array with 17,-6,2,86,-12,0,0,23,12 and print it out. Then, sort the array."
   ]
  },
  {
   "cell_type": "code",
   "execution_count": 69,
   "metadata": {
    "collapsed": false,
    "jupyter": {
     "outputs_hidden": false
    }
   },
   "outputs": [
    {
     "name": "stdout",
     "output_type": "stream",
     "text": [
      "[[ 17  -6   2]\n",
      " [ 86 -12   0]\n",
      " [  0  23  12]]\n",
      "Along columns : \n",
      " [[  0 -12   0]\n",
      " [ 17  -6   2]\n",
      " [ 86  23  12]]\n",
      "Along rows : \n",
      " [[ -6   2  17]\n",
      " [-12   0  86]\n",
      " [  0  12  23]]\n",
      "Sorting by default : \n",
      " [[ -6   2  17]\n",
      " [-12   0  86]\n",
      " [  0  12  23]]\n",
      "Along None Axis : \n",
      " [-12  -6   0   0   2  12  17  23  86]\n"
     ]
    }
   ],
   "source": [
    "import numpy as np         #import numpy\n",
    "a = np.array([[17,-6,2],[86,-12,0],[0,23,12]])\n",
    "print(a)\n",
    "print (\"Along columns : \\n\", np.sort(a,axis = 0) ) #This will be sorting in each column\n",
    "print (\"Along rows : \\n\", np.sort(a,axis = 1) ) #This will be sorting in each row\n",
    "print (\"Sorting by default : \\n\", np.sort(a) )          #Same as above\n",
    "print (\"Along None Axis : \\n\", np.sort(a,axis = None) ) #This will be sorted like a 1D array"
   ]
  },
  {
   "cell_type": "markdown",
   "metadata": {},
   "source": [
    "## Partitioning (Slice) Arrays\n",
    "\n",
    "Slicing in python means taking elements from one given index to another given index.\n",
    "\n",
    "- Slicing indices syntax: [start:end].\n",
    " - We can also define the step, like this: [start:end:step].\n",
    "  - If we don't pass start, default is 0\n",
    "  - If we don't pass end, default is the length of array in that dimension\n",
    "  - If we don't pass step, default is 1"
   ]
  },
  {
   "cell_type": "markdown",
   "metadata": {},
   "source": [
    "### Example- Slicing 1D Arrays\n",
    "Define a 1D array as [1,3,5,7,9], slice out the [3,5,7] and print it out."
   ]
  },
  {
   "cell_type": "code",
   "execution_count": 70,
   "metadata": {
    "collapsed": false,
    "jupyter": {
     "outputs_hidden": false
    }
   },
   "outputs": [
    {
     "name": "stdout",
     "output_type": "stream",
     "text": [
      "[1 3 5 7 9]\n",
      "[3 5 7]\n"
     ]
    }
   ],
   "source": [
    "import numpy as np         #import numpy\n",
    "a = np.array([1,3,5,7,9])     #Define the array\n",
    "print(a)\n",
    "aslice = a[1:4]             #slice the [3,5,7]\n",
    "print(aslice)               #print it out"
   ]
  },
  {
   "cell_type": "markdown",
   "metadata": {},
   "source": [
    "### Example- Slicing n-Dimensional Arrays\n",
    "Define a 5x5 array with \"Superman, Batman, Jim Hammond, Captain America, Green Arrow, Aquaman, Wonder Woman, Martian Manhunter, Barry Allen, Hal Jordan, Hawkman, Ray Palmer, Spider Man, Thor, Hank Pym, Solar, Iron Man, Dr. Strange, Daredevil, Ted Kord, Captian Marvel, Black Panther, Wolverine, Booster Gold, Spawn \" and print it out. Then:\n",
    "- Slice the first column and print it out\n",
    "- Slice the third row and print it out\n",
    "- Slice 'Wolverine' and print it out\n",
    "- Slice a 3x3 array with 'Wonder Woman, Ray Palmer, Iron Man, Martian Manhunter, Spider Man, Dr. Strange, Barry Allen, Thor, Daredevil'"
   ]
  },
  {
   "cell_type": "code",
   "execution_count": 35,
   "metadata": {
    "collapsed": false,
    "jupyter": {
     "outputs_hidden": false
    }
   },
   "outputs": [
    {
     "name": "stdout",
     "output_type": "stream",
     "text": [
      "[['Superman' 'Batman' 'Jim Hammond' 'Captain America' 'Green Arrow']\n",
      " ['Aquaman' 'Wonder Woman' 'Martian Manhunter' 'Barry Allen' 'Hal Jordan']\n",
      " ['Hawkman' 'Ray Palmer' 'Spider Man' 'Thor' 'Hank Pym']\n",
      " ['Solar' 'Iron Man' 'Dr. Strange' 'Daredevil' 'Ted Kord']\n",
      " ['Captian Marvel' 'Black Panther' 'Wolverine' 'Booster Gold' 'Spawn']]\n",
      "['Superman' 'Aquaman' 'Hawkman' 'Solar' 'Captian Marvel']\n",
      "['Hawkman' 'Ray Palmer' 'Spider Man' 'Thor' 'Hank Pym']\n",
      "Wolverine\n",
      "[['Wonder Woman' 'Martian Manhunter' 'Barry Allen']\n",
      " ['Ray Palmer' 'Spider Man' 'Thor']\n",
      " ['Iron Man' 'Dr. Strange' 'Daredevil']]\n"
     ]
    }
   ],
   "source": [
    "import numpy as np         #import numpy\n",
    "Superheroes = np.array([['Superman', 'Batman', 'Jim Hammond', 'Captain America', 'Green Arrow'],\n",
    "               ['Aquaman', 'Wonder Woman', 'Martian Manhunter', 'Barry Allen', 'Hal Jordan'],\n",
    "               ['Hawkman', 'Ray Palmer', 'Spider Man', 'Thor', 'Hank Pym'],\n",
    "               ['Solar', 'Iron Man', 'Dr. Strange', 'Daredevil', 'Ted Kord'],\n",
    "               ['Captian Marvel', 'Black Panther', 'Wolverine', 'Booster Gold', 'Spawn']])\n",
    "print(Superheroes) #Step1\n",
    "print(Superheroes[:,0])\n",
    "print(Superheroes[2,:])\n",
    "print(Superheroes[4,2])\n",
    "print(Superheroes[1:4,1:4])"
   ]
  },
  {
   "cell_type": "markdown",
   "metadata": {},
   "source": [
    "## References\n",
    "Johnson, J. (2020). Python Numpy Tutorial (with Jupyter and Colab). Retrieved September 15, 2020, from https://cs231n.github.io/python-numpy-tutorial/ \n",
    "\n",
    "Willems, K. (2019). (Tutorial) Python NUMPY Array TUTORIAL. Retrieved September 15, 2020, from https://www.datacamp.com/community/tutorials/python-numpy-tutorial?utm_source=adwords_ppc\n",
    "\n",
    "Willems, K. (2017). NumPy Cheat Sheet: Data Analysis in Python. Retrieved September 15, 2020, from https://www.datacamp.com/community/blog/python-numpy-cheat-sheet\n",
    "\n",
    "W3resource. (2020). NumPy: Compare two given arrays. Retrieved September 15, 2020, from https://www.w3resource.com/python-exercises/numpy/python-numpy-exercise-28.php\n",
    "\n",
    "Sorting https://www.programiz.com/python-programming/methods/list/sort"
   ]
  },
  {
   "cell_type": "code",
   "execution_count": 1,
   "metadata": {},
   "outputs": [
    {
     "name": "stdout",
     "output_type": "stream",
     "text": [
      "ip-172-26-4-2\n",
      "compthink\n",
      "/opt/jupyterhub/bin/python3\n",
      "3.8.5 (default, Jul 28 2020, 12:59:40) \n",
      "[GCC 9.3.0]\n",
      "sys.version_info(major=3, minor=8, micro=5, releaselevel='final', serial=0)\n"
     ]
    }
   ],
   "source": [
    "# Preamble script block to identify host, user, and kernel\n",
    "import sys\n",
    "! hostname\n",
    "! whoami\n",
    "print(sys.executable)\n",
    "print(sys.version)\n",
    "print(sys.version_info)"
   ]
  },
  {
   "cell_type": "code",
   "execution_count": null,
   "metadata": {},
   "outputs": [],
   "source": []
  }
 ],
 "metadata": {
  "kernelspec": {
   "display_name": "Python 3",
   "language": "python",
   "name": "python3"
  },
  "language_info": {
   "codemirror_mode": {
    "name": "ipython",
    "version": 3
   },
   "file_extension": ".py",
   "mimetype": "text/x-python",
   "name": "python",
   "nbconvert_exporter": "python",
   "pygments_lexer": "ipython3",
   "version": "3.8.5"
  }
 },
 "nbformat": 4,
 "nbformat_minor": 4
}
