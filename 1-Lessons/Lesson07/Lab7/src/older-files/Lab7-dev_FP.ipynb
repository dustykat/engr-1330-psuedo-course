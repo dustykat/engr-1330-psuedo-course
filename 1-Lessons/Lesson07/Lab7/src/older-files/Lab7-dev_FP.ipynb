{
 "cells": [
  {
   "cell_type": "code",
   "execution_count": null,
   "metadata": {
    "collapsed": false,
    "jupyter": {
     "outputs_hidden": false
    }
   },
   "outputs": [],
   "source": []
  },
  {
   "cell_type": "code",
   "execution_count": null,
   "metadata": {},
   "outputs": [],
   "source": []
  },
  {
   "cell_type": "code",
   "execution_count": null,
   "metadata": {},
   "outputs": [],
   "source": []
  },
  {
   "cell_type": "code",
   "execution_count": null,
   "metadata": {},
   "outputs": [],
   "source": []
  },
  {
   "cell_type": "markdown",
   "metadata": {
    "jupyter": {
     "outputs_hidden": false
    }
   },
   "source": [
    "## Full name: \n",
    "## R#: \n",
    "## HEX: \n",
    "## Title of the notebook\n",
    "## Date: "
   ]
  },
  {
   "cell_type": "markdown",
   "metadata": {},
   "source": [
    "# Introduction to NumPy\n",
    "\n",
    "## What is NumPy\n",
    "\n",
    "(Quoting directly from https://numpy.org/doc/stable/user/whatisnumpy.html)\n",
    "\n",
    "\"NumPy is the fundamental package for scientific computing in Python. It is a Python library that provides a multidimensional array object, various derived objects (such as masked arrays and matrices), and an assortment of routines for fast operations on arrays, including mathematical, logical, shape manipulation, sorting, selecting, I/O, discrete Fourier transforms, basic linear algebra, basic statistical operations, random simulation and much more.\n",
    "\n",
    "At the core of the NumPy package, is the ndarray object. This encapsulates n-dimensional arrays of homogeneous data types, with many operations being performed in compiled code for performance. There are several important differences between NumPy arrays and the standard Python sequences:\n",
    "\n",
    "- NumPy arrays have a fixed size at creation, unlike Python lists (which can grow dynamically). Changing the size of an ndarray will create a new array and delete the original.\n",
    "\n",
    "- The elements in a NumPy array are all required to be of the same data type, and thus will be the same size in memory. The exception: one can have arrays of (Python, including NumPy) objects, thereby allowing for arrays of different sized elements.\n",
    "\n",
    "- NumPy arrays facilitate advanced mathematical and other types of operations on large numbers of data. Typically, such operations are executed more efficiently and with less code than is possible using Python’s built-in sequences.\n",
    "\n",
    "- A growing plethora of scientific and mathematical Python-based packages are using NumPy arrays; though these typically support Python-sequence input, they convert such input to NumPy arrays prior to processing, and they often output NumPy arrays. In other words, in order to efficiently use much (perhaps even most) of today’s scientific/mathematical Python-based software, just knowing how to use Python’s built-in sequence types is insufficient - one also needs to know how to use NumPy arrays.\n",
    "\n",
    "## Why is NumPy Fast?\n",
    "\n",
    "Vectorization describes the absence of any explicit looping, indexing, etc., in the code - these things are taking place, of course, just “behind the scenes” in optimized, pre-compiled C code. Vectorized code has many advantages, among which are:\n",
    "\n",
    "- vectorized code is more concise and easier to read\n",
    "\n",
    "-    fewer lines of code generally means fewer bugs\n",
    "\n",
    "-    the code more closely resembles standard mathematical notation (making it easier, typically, to correctly code mathematical constructs)\n",
    "\n",
    "-    vectorization results in more “Pythonic” code. Without vectorization, our code would be littered with inefficient and difficult to read for loops.\n",
    "\n",
    "Broadcasting is the term used to describe the implicit element-by-element behavior of operations; generally speaking, in NumPy all operations, not just arithmetic operations, but logical, bit-wise, functional, etc., behave in this implicit element-by-element fashion, i.e., they broadcast. Moreover, in the example above, a and b could be multidimensional arrays of the same shape, or a scalar and an array, or even two arrays of with different shapes, provided that the smaller array is “expandable” to the shape of the larger in such a way that the resulting broadcast is unambiguous. For detailed “rules” of broadcasting see numpy.doc.broadcasting.\n",
    "\n",
    "## Who Else Uses NumPy?\n",
    "\n",
    "NumPy fully supports an object-oriented approach, starting, once again, with ndarray. For example, ndarray is a class, possessing numerous methods and attributes. Many of its methods are mirrored by functions in the outer-most NumPy namespace, allowing the programmer to code in whichever paradigm they prefer. This flexibility has allowed the NumPy array dialect and NumPy ndarray class to become the de-facto language of multi-dimensional data interchange used in Python. \"\n",
    "\n",
    "## What does this mean for this course?\n",
    "\n",
    "Numpy provides a more compact way to manage array arithmetic, and some other relevant operations.\n"
   ]
  },
  {
   "cell_type": "markdown",
   "metadata": {},
   "source": [
    "## Arrays\n",
    "A list is a collection of data that are somehow related. It is a convenient way to refer to a\n",
    "collection of similar things by a single name, and using an index (like a subscript in math)\n",
    "to identify a particular item.\n",
    "Consider the variable ``x`` :\n",
    "    [$x_0 = 7$,\n",
    "    $x_1 = 11$,\n",
    "    $x_2 = 5$,\n",
    "    $x_3 = 9$,\n",
    "    $x_4 = 13$,\n",
    "    $\\dots$,\n",
    "    $x_N = 223$]\n",
    "    \n",
    "The variable name is ``x`` and the subscripts correspond to different values. Thus the value of\n",
    "the variable named ``x`` associated with subscript 3 is the number 9.\n",
    "\n",
    "An array in numpy is fundamentally a list, but with special methods conferred by the numpy subsystem."
   ]
  },
  {
   "cell_type": "markdown",
   "metadata": {},
   "source": [
    "### Example- 1D Arrays\n",
    "__Let's create a 1D array from the 2000s (2000-2009):__ "
   ]
  },
  {
   "cell_type": "code",
   "execution_count": 7,
   "metadata": {
    "collapsed": false,
    "jupyter": {
     "outputs_hidden": false
    }
   },
   "outputs": [
    {
     "name": "stdout",
     "output_type": "stream",
     "text": [
      "[2000, 2001, 2002, 2003, 2004, 2005, 2006, 2007, 2008, 2009]\n"
     ]
    },
    {
     "data": {
      "text/plain": [
       "array([2000, 2001, 2002, 2003, 2004, 2005, 2006, 2007, 2008, 2009])"
      ]
     },
     "execution_count": 7,
     "metadata": {},
     "output_type": "execute_result"
    }
   ],
   "source": [
    "import numpy as np             #First, we need to import \"numpy\"\n",
    "mylist = [2000,2001,2002,2003,2004,2005,2006,2007,2008,2009]         #Create a list of the years\n",
    "print(mylist)                 #Check how it looks\n",
    "np.array(mylist)              #Define it as a numpy array\n"
   ]
  },
  {
   "cell_type": "markdown",
   "metadata": {},
   "source": [
    "### Example- n-Dimensional Arrays\n",
    "__Let's create a 5x2 array from the 2000s (2000-2009):__ "
   ]
  },
  {
   "cell_type": "code",
   "execution_count": 8,
   "metadata": {
    "collapsed": false,
    "jupyter": {
     "outputs_hidden": false
    }
   },
   "outputs": [
    {
     "name": "stdout",
     "output_type": "stream",
     "text": [
      "[[2000, 2001], [2002, 2003], [2004, 2005], [2006, 2007], [2008, 2009]]\n"
     ]
    },
    {
     "data": {
      "text/plain": [
       "array([[2000, 2001],\n",
       "       [2002, 2003],\n",
       "       [2004, 2005],\n",
       "       [2006, 2007],\n",
       "       [2008, 2009]])"
      ]
     },
     "execution_count": 8,
     "metadata": {},
     "output_type": "execute_result"
    }
   ],
   "source": [
    "myotherlist = [[2000,2001],[2002,2003],[2004,2005],[2006,2007],[2008,2009]]     #Since I want a 5x2 array, I should group the years two by two\n",
    "print(myotherlist)             #See how it looks as a list\n",
    "np.array(myotherlist)          #See how it looks as a numpy array"
   ]
  },
  {
   "cell_type": "markdown",
   "metadata": {},
   "source": [
    "### Exercise 1\n",
    "__Using the numbers below:__\n",
    "#### 9,18,333,22,25,120,7,43,50,3,7,94,953,57,11,154\n",
    "\n",
    "__A) Create a 1D array__<br>\n",
    "__B) Create a 4x4 array so that:__\n",
    "- all numbers in the first row are single digits\n",
    "- all numbers in the second row are two digit and even numbers\n",
    "- all numbers in the third row are two digit and odd numbers\n",
    "- all numbers in the fourth row are three digit numbers\n"
   ]
  },
  {
   "cell_type": "code",
   "execution_count": 9,
   "metadata": {
    "collapsed": false,
    "jupyter": {
     "outputs_hidden": false
    }
   },
   "outputs": [
    {
     "name": "stdout",
     "output_type": "stream",
     "text": [
      "[  9  18 333  22  25 120   7  43  50   3   7  94 953  57  11 154]\n",
      "[[  9   7   3   7]\n",
      " [ 18  22  50  94]\n",
      " [ 25  43  57  11]\n",
      " [333 120 953 154]]\n"
     ]
    }
   ],
   "source": [
    "import numpy as np\n",
    "list1D = [9,18,333,22,25,120,7,43,50,3,7,94,953,57,11,154] \n",
    "print(np.array(list1D))\n",
    "list4x4 = [[9,7,3,7],[18,22,50,94],[25,43,57,11],[333,120,953,154]]\n",
    "print(np.array(list4x4))\n"
   ]
  },
  {
   "cell_type": "markdown",
   "metadata": {},
   "source": [
    "### Array (grid) arithmetic\n",
    "\n",
    "You can perform arithmetic operations on arrays. \n",
    "For example, if you add the arrays, the arithmetic operator will work element-wise. \n",
    "The output will be an array of the same dimension.  \n",
    "The arrays must have same dimension and length, otherwise it will generate an exception.\n",
    "\n",
    "You can run an arithmetic operation on an array with a scalar value. \n",
    "The operation is applied to each element of the array."
   ]
  },
  {
   "cell_type": "markdown",
   "metadata": {},
   "source": [
    "### Example- 1D Array Arithmetic\n",
    "- Define a 1D array with [0,12,24,36,48,60,72,84,96]\n",
    "- Multiple all elements by 2\n",
    "- Take all elements to the power of 2\n",
    "- Find the maximum value of the array and its position\n",
    "- Find the minimum value of the array and its position\n",
    "- Define another 1D array with [-12,0,12,24,36,48,60,72,84]\n",
    "- Find the summation and subtraction of these two arrays\n",
    "- Find the multiplication of these two arrays"
   ]
  },
  {
   "cell_type": "code",
   "execution_count": 29,
   "metadata": {
    "collapsed": false,
    "jupyter": {
     "outputs_hidden": false
    }
   },
   "outputs": [
    {
     "name": "stdout",
     "output_type": "stream",
     "text": [
      "[ 0 12 24 36 48 60 72 84 96]\n",
      "[  0  24  48  72  96 120 144 168 192]\n",
      "[   0  144  576 1296 2304 3600 5184 7056 9216]\n",
      "[   0  144  576 1296 2304 3600 5184 7056 9216]\n",
      "96\n",
      "8\n",
      "0\n",
      "0\n",
      "[-12   0  12  24  36  48  60  72  84]\n",
      "[-12  12  36  60  84 108 132 156 180]\n",
      "[12 12 12 12 12 12 12 12 12]\n",
      "[   0    0  288  864 1728 2880 4320 6048 8064]\n"
     ]
    }
   ],
   "source": [
    "import numpy as np         #import numpy\n",
    "Array1 = np.array([0,12,24,36,48,60,72,84,96])     #Step1: Define Array1\n",
    "print(Array1)\n",
    "print(Array1*2)     #Step2: Multiple all elements by 2\n",
    "print(Array1**2)     #Step3: Take all elements to the power of 2\n",
    "print(np.power(Array1,2)) #Another way to do the same thing, by using a function in numpy\n",
    "print(np.max(Array1))     #Step4: Find the maximum value of the array\n",
    "print(np.argmax(Array1))     ##Step4: Find the postition of the maximum value \n",
    "print(np.min(Array1))     #Step5: Find the minimum value of the array\n",
    "print(np.argmin(Array1))     ##Step5: Find the postition of the minimum value \n",
    "Array2 = np.array([-12,0,12,24,36,48,60,72,84])     #Step6: Define Array2\n",
    "print(Array2)\n",
    "print(Array1+Array2)         #Step7: Find the summation of these two arrays\n",
    "print(Array1-Array2)         #Step7: Find the subtraction of these two arrays\n",
    "print(Array1*Array2)         #Step8: Find the multiplication of these two arrays\n"
   ]
  },
  {
   "cell_type": "markdown",
   "metadata": {},
   "source": [
    "### Example- n-Dimensional Array Arithmetic\n",
    "- Define a 2x2 array with [5,10,15,20]\n",
    "- Define another 2x2 array with [3,6,9,12]\n",
    "- Find the summation and subtraction of these two arrays\n",
    "- Find the minimum number in the multiplication of these two arrays\n",
    "- Find the position of the maximum in the multiplication of these two arrays\n",
    "- Find the mean of the multiplication of these two arrays\n",
    "- Find the mean of the first row of the multiplication of these two arrays\n"
   ]
  },
  {
   "cell_type": "code",
   "execution_count": 42,
   "metadata": {
    "collapsed": false,
    "jupyter": {
     "outputs_hidden": false
    }
   },
   "outputs": [
    {
     "name": "stdout",
     "output_type": "stream",
     "text": [
      "[[ 5 10]\n",
      " [15 20]]\n",
      "[[ 3  6]\n",
      " [ 9 12]]\n",
      "[[ 8 16]\n",
      " [24 32]]\n",
      "[[2 4]\n",
      " [6 8]]\n",
      "[[105 150]\n",
      " [225 330]]\n",
      "[[105 150]\n",
      " [225 330]]\n",
      "105\n",
      "3\n",
      "202.5\n",
      "127.5\n"
     ]
    }
   ],
   "source": [
    "import numpy as np         #import numpy\n",
    "Array1 = np.array([[5,10],[15,20]])     #Step1: Define Array1\n",
    "print(Array1)\n",
    "Array2 = np.array([[3,6],[9,12]])     #Step2: Define Array2\n",
    "print(Array2)\n",
    "print(Array1+Array2)     #Step3: Find the summation\n",
    "print(Array1-Array2)     #Step3: Find the subtraction\n",
    "MultArray = Array1@Array2         #Step4: To perform a typical matrix multiplication (or matrix product)\n",
    "MultArray1 = Array1.dot(Array2)         #Step4: Another way To perform a  matrix multiplication\n",
    "print(MultArray)\n",
    "print(MultArray1)\n",
    "print(np.min(MultArray))     #Step4: Find the minimum value of the multiplication\n",
    "print(np.argmax(MultArray))     ##Step5: Find the postition of the maximum value \n",
    "print(np.mean(MultArray))     ##Step6: Find the mean of the multiplication of these two arrays \n",
    "print(np.mean(MultArray[0,:]))     ##Step7: Find the mean of the first row of the multiplication of these two arrays \n"
   ]
  },
  {
   "cell_type": "markdown",
   "metadata": {},
   "source": [
    "### Exercise 2\n",
    "__Using the numbers below:__\n",
    "#### 88,-5,9,22,46,2,-1,0\n",
    "\n",
    "__A) Create a 2x4 array and print it out__<br>\n",
    "__B) Add 6 to all elements, store it as a new object, and print it out__<br>\n",
    "__C) Multiply all elements by 5, store it as a new object, and print it out__<br>\n",
    "__D) Divide all elements by 7, store it as a new object, and print it out__<br>\n",
    "\n",
    "\n",
    "\n"
   ]
  },
  {
   "cell_type": "code",
   "execution_count": 41,
   "metadata": {
    "collapsed": false,
    "jupyter": {
     "outputs_hidden": false
    }
   },
   "outputs": [
    {
     "name": "stdout",
     "output_type": "stream",
     "text": [
      "[[88 -5  9 22]\n",
      " [46  2 -1  0]]\n",
      "[[94  1 15 28]\n",
      " [52  8  5  6]]\n",
      "[[470   5  75 140]\n",
      " [260  40  25  30]]\n",
      "[[67.14285714  0.71428571 10.71428571 20.        ]\n",
      " [37.14285714  5.71428571  3.57142857  4.28571429]]\n"
     ]
    }
   ],
   "source": [
    "import numpy as np         #import numpy\n",
    "Array1 = np.array([[88,-5,9,22],[46,2,-1,0]])     #Step1: Define Array1\n",
    "print(Array1)\n",
    "Array2 = Array1+6     #Step2: Define Array2\n",
    "print(Array2)\n",
    "Array3 = Array2*5     #Step3: Define Array2\n",
    "print(Array3)\n",
    "Array4 = Array3/7     #Step3: Define Array2\n",
    "print(Array4)\n"
   ]
  },
  {
   "cell_type": "markdown",
   "metadata": {},
   "source": [
    "## Matrix Operations\n",
    "\n",
    "`save for future version -- demonstrate in class`\n",
    "\n",
    "## Conditional Operations\n",
    "\n",
    "You can use conditionals to find the values that match some criteria. \n",
    "The result of a conditional operation is also an array of booleans.\n",
    "\n",
    "Rather than creating a separate array of booleans, you can specify the conditional operation directly on the argument array.\n",
    "\n",
    "The syntax is a bit weird, so lets do some examples.\n",
    "\n",
    "### Example- 1D Array Comparison\n",
    "- Define a 1D array with [1.0,2.5,3.4,7,7]\n",
    "- Define another 1D array with [5.0/5.0,5.0/2,6.8/2,21/3,14/2]\n",
    "- Compare and see if the two arrays are equal\n",
    "- Define another 1D array with [6,1.4,2.2,7.5,7]\n",
    "- Compare and see if the first array is greater than or equal to the third array"
   ]
  },
  {
   "cell_type": "code",
   "execution_count": 1,
   "metadata": {
    "collapsed": false,
    "jupyter": {
     "outputs_hidden": false
    }
   },
   "outputs": [
    {
     "name": "stdout",
     "output_type": "stream",
     "text": [
      "[1.  2.5 3.4 7.  7. ]\n",
      "[1.  2.5 3.4 7.  7. ]\n",
      "[ True  True  True  True  True]\n",
      "[6.  1.4 2.2 7.5 7. ]\n",
      "[False  True  True False  True]\n"
     ]
    }
   ],
   "source": [
    "import numpy as np         #import numpy\n",
    "Array1 = np.array([1.0,2.5,3.4,7,7])     #Step1: Define Array1\n",
    "print(Array1)\n",
    "Array2 = np.array([5.0/5.0,5.0/2,6.8/2,21/3,14/2])     #Step2: Define Array1\n",
    "print(Array2)\n",
    "print(np.equal(Array1, Array2))             #Step3: Compare and see if the two arrays are equal\n",
    "Array3 = np.array([6,1.4,2.2,7.5,7])     #Step4: Define Array3\n",
    "print(Array3)\n",
    "print(np.greater_equal(Array1, Array3))             #Step3: Compare and see if the two arrays are equal\n"
   ]
  },
  {
   "cell_type": "markdown",
   "metadata": {},
   "source": [
    "### Exercise 3- n-Dimensional Array Comparison\n",
    "__Using the numbers below:__\n",
    "#### 4,9,23,39,40,55,68,72\n",
    "\n",
    "__A) Create a 2x2 array with all the even numbers and print it out__<br>\n",
    "__B) Create a 2x2 array with all the odd numbers and print it out__<br>\n",
    "__C) Compare the two arrays using the \"less_equal\" function from numpy package__"
   ]
  },
  {
   "cell_type": "code",
   "execution_count": 43,
   "metadata": {
    "collapsed": false,
    "jupyter": {
     "outputs_hidden": false
    }
   },
   "outputs": [
    {
     "name": "stdout",
     "output_type": "stream",
     "text": [
      "[[ 4 40]\n",
      " [68 72]]\n",
      "[[ 9 23]\n",
      " [39 55]]\n",
      "[[ True False]\n",
      " [False False]]\n"
     ]
    }
   ],
   "source": [
    "import numpy as np         #import numpy\n",
    "Array1 = np.array([[4,40],[68,72]])     #Step1: Define Array1\n",
    "print(Array1)\n",
    "Array2 = np.array([[9,23],[39,55]])     #Step2: Define Array2\n",
    "print(Array2)\n",
    "print(np.less_equal(Array1,Array2))\n"
   ]
  },
  {
   "cell_type": "markdown",
   "metadata": {},
   "source": [
    "# Copy vs. destroy and array\n",
    "\n",
    "example\n",
    "\n",
    "exercise"
   ]
  },
  {
   "cell_type": "markdown",
   "metadata": {},
   "source": [
    "### Example- Copying and Deleting Arrays and Elements\n",
    "- Define a 1D array, named \"x\" with [1,2,3]\n",
    "- Define \"y\" so that \"y=x\"\n",
    "- Define \"z\" as a copy of \"x\"\n",
    "- Discuss the difference between y and z\n",
    "- Delete the second element of x"
   ]
  },
  {
   "cell_type": "code",
   "execution_count": 7,
   "metadata": {
    "collapsed": false,
    "jupyter": {
     "outputs_hidden": false
    }
   },
   "outputs": [
    {
     "name": "stdout",
     "output_type": "stream",
     "text": [
      "[1 2 3]\n",
      "[1 2 3]\n",
      "[1 2 3]\n",
      "[1 8 3]\n",
      "[1 8 3]\n",
      "[1 2 3]\n",
      "[1 3]\n"
     ]
    }
   ],
   "source": [
    "import numpy as np         #import numpy\n",
    "x = np.array([1,2,3])     #Step1: Define x\n",
    "print(x)\n",
    "y = x                     #Step2: Define y as y=x\n",
    "print(y)\n",
    "z = np.copy(x)            #Step3: Define z as a copy of x\n",
    "print(z)\n",
    "# For Step4: They look similar but check this out:\n",
    "x[1] = 8                  # If we change x ...\n",
    "print(x)\n",
    "print(y)\n",
    "print(z)\n",
    "# By modifying x, y changes but z remains as a copy of the initial version of x.\n",
    "x = np.delete(x, 1)      #Step5: Delete the second element of x\n",
    "print(x)"
   ]
  },
  {
   "cell_type": "markdown",
   "metadata": {},
   "source": [
    "### Exercise 4\n",
    "__Using the numbers below:__\n",
    "#### 1,2,3,4,5,6,7,8,9\n",
    "\n",
    "__A) Create a 1D array and print it out__<br>\n",
    "__B) Delete all the even numbers and print out the new version__<br>\n",
    "__C) Make a copy of the array from step B and print it out__"
   ]
  },
  {
   "cell_type": "code",
   "execution_count": 2,
   "metadata": {},
   "outputs": [
    {
     "name": "stdout",
     "output_type": "stream",
     "text": [
      "[1 2 3 4 5 6 7 8 9]\n",
      "[1 3 5 7 9]\n",
      "[1 3 5 7 9]\n"
     ]
    }
   ],
   "source": [
    "import numpy as np         #import numpy\n",
    "v = np.array([1,2,3,4,5,6,7,8,9])     #StepA: Define v\n",
    "print(v)\n",
    "vdel = np.delete(v, [1,3,5,7]) #StepB: Delete all the even numbers\n",
    "print(vdel)\n",
    "vcopy = np.copy(vdel)             #StepC: Make a copy of vdel\n",
    "print(vcopy)"
   ]
  },
  {
   "cell_type": "markdown",
   "metadata": {},
   "source": [
    "### Sorts\n",
    "\n",
    "Python lists have a built-in `sort()` method that modifies the list in-place and a `sorted()` built-in function that builds a new sorted list from an iterable. So when sorting needs to be done, you should use the built-in tools. \n",
    "\n",
    "example\n",
    "\n",
    "example\n",
    "\n",
    "exercise"
   ]
  },
  {
   "cell_type": "markdown",
   "metadata": {},
   "source": [
    "### Example- Sorting 1D Arrays\n",
    "__Define a 1D array as ['FIFA 2020','Red Dead Redemption','Fallout','GTA','NBA 2018','Need For Speed'] and print it out. Then, sort the array alphabetically.__\n"
   ]
  },
  {
   "cell_type": "code",
   "execution_count": 10,
   "metadata": {
    "collapsed": false,
    "jupyter": {
     "outputs_hidden": false
    }
   },
   "outputs": [
    {
     "name": "stdout",
     "output_type": "stream",
     "text": [
      "['FIFA 2020' 'Red Dead Redemption' 'Fallout' 'GTA' 'NBA 2018'\n",
      " 'Need For Speed']\n",
      "['FIFA 2020' 'Fallout' 'GTA' 'NBA 2018' 'Need For Speed'\n",
      " 'Red Dead Redemption']\n"
     ]
    }
   ],
   "source": [
    "import numpy as np         #import numpy\n",
    "games = np.array(['FIFA 2020','Red Dead Redemption','Fallout','GTA','NBA 2018','Need For Speed'])\n",
    "print(games)\n",
    "print(np.sort(games))"
   ]
  },
  {
   "cell_type": "markdown",
   "metadata": {},
   "source": [
    "### Example- Sorting n-Dimensional Arrays\n",
    "__Define a 3x3 array with 17,-6,2,86,-12,0,0,23,12 and print it out. Then, sort the array.__"
   ]
  },
  {
   "cell_type": "code",
   "execution_count": 18,
   "metadata": {
    "collapsed": false,
    "jupyter": {
     "outputs_hidden": false
    }
   },
   "outputs": [
    {
     "name": "stdout",
     "output_type": "stream",
     "text": [
      "[[ 17  -6   2]\n",
      " [ 86 -12   0]\n",
      " [  0  23  12]]\n",
      "Along columns : \n",
      " [[  0 -12   0]\n",
      " [ 17  -6   2]\n",
      " [ 86  23  12]]\n",
      "Along rows : \n",
      " [[ -6   2  17]\n",
      " [-12   0  86]\n",
      " [  0  12  23]]\n",
      "Sorting by default : \n",
      " [[ -6   2  17]\n",
      " [-12   0  86]\n",
      " [  0  12  23]]\n",
      "Along None Axis : \n",
      " [-12  -6   0   0   2  12  17  23  86]\n"
     ]
    }
   ],
   "source": [
    "import numpy as np         #import numpy\n",
    "a = np.array([[17,-6,2],[86,-12,0],[0,23,12]])\n",
    "print(a)\n",
    "print (\"Along columns : \\n\", np.sort(a,axis = 0) ) #This will be sorting in each column\n",
    "print (\"Along rows : \\n\", np.sort(a,axis = 1) ) #This will be sorting in each row\n",
    "print (\"Sorting by default : \\n\", np.sort(a) )          #Same as above\n",
    "print (\"Along None Axis : \\n\", np.sort(a,axis = None) ) #This will be sorted like a 1D array\n"
   ]
  },
  {
   "cell_type": "markdown",
   "metadata": {},
   "source": [
    "### Exercise 4\n",
    "__A) Google: \"Python how to Sort Numpy\", find a good link with appropriate explanation, and add the link to your notebook__<br>\n",
    "__Then, use the 4x4 array from Exercise 1, part2 and ...<br>\n",
    "B) Print it out<br>\n",
    "C) Sort it along the rows and print it out<br>\n",
    "D) Sort it along the columns and print it out__<br>"
   ]
  },
  {
   "cell_type": "code",
   "execution_count": 44,
   "metadata": {
    "collapsed": false,
    "jupyter": {
     "outputs_hidden": false
    }
   },
   "outputs": [
    {
     "name": "stdout",
     "output_type": "stream",
     "text": [
      "[[  9   7   3   7]\n",
      " [ 18  22  50  94]\n",
      " [ 25  43  57  11]\n",
      " [333 120 953 154]]\n",
      "Along rows : \n",
      " [[  3   7   7   9]\n",
      " [ 18  22  50  94]\n",
      " [ 11  25  43  57]\n",
      " [120 154 333 953]]\n",
      "Along columns : \n",
      " [[  9   7   3   7]\n",
      " [ 18  22  50  11]\n",
      " [ 25  43  57  94]\n",
      " [333 120 953 154]]\n"
     ]
    }
   ],
   "source": [
    "# the link: https://www.programiz.com/python-programming/methods/list/sort\n",
    "\n",
    "list4x4 = [[9,7,3,7],[18,22,50,94],[25,43,57,11],[333,120,953,154]]\n",
    "print(np.array(list4x4)) #Step1\n",
    "print (\"Along rows : \\n\", np.sort(list4x4,axis = 1) ) #Step2\n",
    "print (\"Along columns : \\n\", np.sort(list4x4,axis = 0) ) #Step3"
   ]
  },
  {
   "cell_type": "markdown",
   "metadata": {},
   "source": [
    "# Appending contents (vital)\n",
    "\n",
    "## various array functions (sum,mean)"
   ]
  },
  {
   "cell_type": "markdown",
   "metadata": {},
   "source": [
    "# Partitioning (Slice) Arrays\n",
    "\n",
    "example\n",
    "\n",
    "example\n",
    "\n",
    "exercise"
   ]
  },
  {
   "cell_type": "markdown",
   "metadata": {},
   "source": [
    "### Example- Slicing 1D Arrays\n",
    "__Define a 1D array as [1,3,5,7,9], slice out the [3,5,7] and print it out.__"
   ]
  },
  {
   "cell_type": "code",
   "execution_count": 34,
   "metadata": {
    "collapsed": false,
    "jupyter": {
     "outputs_hidden": false
    }
   },
   "outputs": [
    {
     "name": "stdout",
     "output_type": "stream",
     "text": [
      "[1 3 5 7 9]\n",
      "[3 5 7]\n"
     ]
    }
   ],
   "source": [
    "import numpy as np         #import numpy\n",
    "a = np.array([1,3,5,7,9])     #Define the array\n",
    "print(a)\n",
    "aslice = a[1:4]             #slice the [3,5,7]\n",
    "print(aslice)               #print it out\n"
   ]
  },
  {
   "cell_type": "markdown",
   "metadata": {},
   "source": [
    "### Example- Slicing n-Dimensional Arrays\n",
    "__Define a 5x5 array with \"Superman, Batman, Jim Hammond, Captain America, Green Arrow, Aquaman, Wonder Woman, Martian Manhunter, Barry Allen, Hal Jordan, Hawkman, Ray Palmer, Spider Man, Thor, Hank Pym, Solar, Iron Man, Dr. Strange, Daredevil, Ted Kord, Captian Marvel, Black Panther, Wolverine, Booster Gold, Spawn \" and print it out. Then:__\n",
    "- Slice the first column and print it out\n",
    "- Slice the third row and print it out\n",
    "- Slice 'Wolverine' and print it out\n",
    "- Slice a 3x3 array with 'Wonder Woman, Ray Palmer, Iron Man, Martian Manhunter, Spider Man, Dr. Strange, Barry Allen, Thor, Daredevil'"
   ]
  },
  {
   "cell_type": "code",
   "execution_count": 35,
   "metadata": {
    "collapsed": false,
    "jupyter": {
     "outputs_hidden": false
    }
   },
   "outputs": [
    {
     "name": "stdout",
     "output_type": "stream",
     "text": [
      "[['Superman' 'Batman' 'Jim Hammond' 'Captain America' 'Green Arrow']\n",
      " ['Aquaman' 'Wonder Woman' 'Martian Manhunter' 'Barry Allen' 'Hal Jordan']\n",
      " ['Hawkman' 'Ray Palmer' 'Spider Man' 'Thor' 'Hank Pym']\n",
      " ['Solar' 'Iron Man' 'Dr. Strange' 'Daredevil' 'Ted Kord']\n",
      " ['Captian Marvel' 'Black Panther' 'Wolverine' 'Booster Gold' 'Spawn']]\n",
      "['Superman' 'Aquaman' 'Hawkman' 'Solar' 'Captian Marvel']\n",
      "['Hawkman' 'Ray Palmer' 'Spider Man' 'Thor' 'Hank Pym']\n",
      "Wolverine\n",
      "[['Wonder Woman' 'Martian Manhunter' 'Barry Allen']\n",
      " ['Ray Palmer' 'Spider Man' 'Thor']\n",
      " ['Iron Man' 'Dr. Strange' 'Daredevil']]\n"
     ]
    }
   ],
   "source": [
    "import numpy as np         #import numpy\n",
    "Superheroes = np.array([['Superman', 'Batman', 'Jim Hammond', 'Captain America', 'Green Arrow'],\n",
    "               ['Aquaman', 'Wonder Woman', 'Martian Manhunter', 'Barry Allen', 'Hal Jordan'],\n",
    "               ['Hawkman', 'Ray Palmer', 'Spider Man', 'Thor', 'Hank Pym'],\n",
    "               ['Solar', 'Iron Man', 'Dr. Strange', 'Daredevil', 'Ted Kord'],\n",
    "               ['Captian Marvel', 'Black Panther', 'Wolverine', 'Booster Gold', 'Spawn']])\n",
    "print(Superheroes) #Step1\n",
    "print(Superheroes[:,0])\n",
    "print(Superheroes[2,:])\n",
    "print(Superheroes[4,2])\n",
    "print(Superheroes[1:4,1:4])"
   ]
  },
  {
   "cell_type": "markdown",
   "metadata": {},
   "source": [
    "### Exercise 5\n",
    "__Using the names below:__\n",
    "\n",
    "\"Cartman, Kenny, Kyle, Stan, Butters, Wendy, Chef, Mr. Mackey, Randy, Sharon, Sheila, Towelie\"\n",
    "\n",
    "__A) Create a 3x4 array and print it out <br>\n",
    "B) Sort the array alphabetically by column and print it out <br>\n",
    "C) From the sorted array, slice out a 2x2 array with ('Cartman, Randy, Sharon, Wendy'), and print it out__ <br>"
   ]
  },
  {
   "cell_type": "code",
   "execution_count": 40,
   "metadata": {
    "collapsed": false,
    "jupyter": {
     "outputs_hidden": false
    }
   },
   "outputs": [
    {
     "name": "stdout",
     "output_type": "stream",
     "text": [
      "[['Cartman' 'Kenny' 'Kyle' 'Stan']\n",
      " ['Butters' 'Wendy' 'Chef' 'Mr. Mackey']\n",
      " ['Randy' 'Sharon' 'Sheila' 'Towelie']]\n",
      "[['Butters' 'Kenny' 'Chef' 'Mr. Mackey']\n",
      " ['Cartman' 'Sharon' 'Kyle' 'Stan']\n",
      " ['Randy' 'Wendy' 'Sheila' 'Towelie']]\n",
      "[['Cartman' 'Sharon']\n",
      " ['Randy' 'Wendy']]\n"
     ]
    }
   ],
   "source": [
    "import numpy as np         #import numpy\n",
    "names = np.array([['Cartman','Kenny','Kyle','Stan'],['Butters','Wendy','Chef','Mr. Mackey'],['Randy','Sharon','Sheila','Towelie']])\n",
    "print(names) #Step1\n",
    "names_sorted = np.sort(names,axis = 0) \n",
    "print(names_sorted) #Step2\n",
    "names_sliced = names_sorted[1:,0:2]\n",
    "print(names_sliced) #Step3"
   ]
  }
 ],
 "metadata": {
  "kernelspec": {
   "display_name": "Python 3",
   "language": "python",
   "name": "python3"
  },
  "language_info": {
   "codemirror_mode": {
    "name": "ipython",
    "version": 3
   },
   "file_extension": ".py",
   "mimetype": "text/x-python",
   "name": "python",
   "nbconvert_exporter": "python",
   "pygments_lexer": "ipython3",
   "version": "3.6.9"
  }
 },
 "nbformat": 4,
 "nbformat_minor": 4
}
