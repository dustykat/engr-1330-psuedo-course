{
 "cells": [
  {
   "cell_type": "code",
   "execution_count": 1,
   "metadata": {
    "jupyter": {
     "source_hidden": true
    }
   },
   "outputs": [
    {
     "data": {
      "text/html": [
       "<!--Script block to left align Markdown Tables-->\n",
       "<style>\n",
       "  table {margin-left: 0 !important;}\n",
       "</style>\n"
      ],
      "text/plain": [
       "<IPython.core.display.HTML object>"
      ]
     },
     "metadata": {},
     "output_type": "display_data"
    }
   ],
   "source": [
    "%%html\n",
    "<!--Script block to left align Markdown Tables-->\n",
    "<style>\n",
    "  table {margin-left: 0 !important;}\n",
    "</style>"
   ]
  },
  {
   "cell_type": "code",
   "execution_count": 2,
   "metadata": {},
   "outputs": [
    {
     "name": "stdout",
     "output_type": "stream",
     "text": [
      "atomickitty.aws\n",
      "engr1330content\n",
      "/opt/conda/envs/python/bin/python\n",
      "3.8.3 (default, Jul  2 2020, 16:21:59) \n",
      "[GCC 7.3.0]\n",
      "sys.version_info(major=3, minor=8, micro=3, releaselevel='final', serial=0)\n"
     ]
    }
   ],
   "source": [
    "# Preamble script block to identify host, user, and kernel\n",
    "import sys\n",
    "! hostname\n",
    "! whoami\n",
    "print(sys.executable)\n",
    "print(sys.version)\n",
    "print(sys.version_info)"
   ]
  },
  {
   "cell_type": "markdown",
   "metadata": {},
   "source": [
    "# ENGR 1330 Computational Thinking with Data Science \n",
    "Last GitHub Commit Date: 16 Mar 2021\n",
    "\n",
    "## Lesson 17 : A/B Testing and Confidence Intervals\n",
    "\n",
    "A procedure to systematically decide if two data collections are similar or substantially different, and quantify the probability of the differences\n",
    "\n",
    "<!--![](https://www.thermofisher.com/blog/wp-content/uploads/sites/11/2018/01/istock-829172394_redumbrella.jpg)-->\n",
    "\n",
    "## Objectives\n",
    "- To apply fundamental concepts involved in probability estimation modeling and descriptive statistics;\n",
    "  - Are two sets different from each other?\n",
    "  - What is the best estimate of a statistiv from a set, and its likely range?\n",
    "  - \n",
    "---\n",
    "\n",
    "## Computational Thinking Concepts\n",
    "The CT concepts include:\n",
    "\n",
    "- Abstraction => Represent data behavior with a statistic \n",
    "- Pattern Recognition => Compare patterns in (our) data models to make a decision\n",
    "---\n",
    "\n",
    "# Textbook Resources\n",
    "\n",
    "[https://www.inferentialthinking.com/chapters/11/Testing_Hypotheses.html](https://www.inferentialthinking.com/chapters/11/Testing_Hypotheses.html)\n",
    "\n",
    "You know the URL that no-one reads, perhaps because there is a \"secret\" module you need to install, without instructions of how! \n",
    "\n",
    "# A/B Testing \n",
    "\n",
    "Deciding whether two numerical samples come from the same underlying distribution is called A/B testing. The name refers to the labels of the two samples, A and B.  We have examined this kind of question already in prior labs.\n",
    "\n",
    "We leave you to examine the example in the textbook on your own.  "
   ]
  },
  {
   "cell_type": "markdown",
   "metadata": {},
   "source": [
    "<hr>\n",
    "\n",
    "Much of what follows below is borrowed with some changes for our class from: https://pubs.usgs.gov/tm/04/a03/tm4a3.pdf\n",
    "\n",
    "\n",
    "## Interval Estimates\n",
    "\n",
    "Several summary statistics were presented that described key attributes of a dataset, including sample estimates such as $\\bar x$ and $s^2$, of true and unknown population parameters, such as $\\mu$, the population mean, and $\\sigma^2$, the population variance. \n",
    "\n",
    "What follows are methods to describe the uncertainty or reliability of sample estimates. As an alternative to reporting a single estimate, the utility of reporting a range of values called an interval estimate is demonstrated. Both parametric and nonparametric interval estimates are presented. These intervals can also be used to test whether the population parameter is significantly different from some prespecified value.\n",
    "\n",
    "### Definition of Interval Estimates\n",
    "\n",
    "The sample median and sample mean are two types of estimates of the central tendency of a population. Such estimates are called point estimates. By themselves, point estimates do not portray the reliability, or lack of reliability (variability), of these estimates. For example, suppose that two datasets—X and Y—exist, both have a sample mean of about 50 and contain the same number of observations. "
   ]
  },
  {
   "cell_type": "code",
   "execution_count": 3,
   "metadata": {},
   "outputs": [],
   "source": [
    "import numpy\n",
    "import pandas\n",
    "process1 = []\n",
    "process2 = []\n",
    "for i in range(1,101,1):\n",
    "    process1.append(i)\n",
    "for i in range(41,61,1):\n",
    "    process2.append(i)\n",
    "    "
   ]
  },
  {
   "cell_type": "code",
   "execution_count": 4,
   "metadata": {},
   "outputs": [],
   "source": [
    "#process2"
   ]
  },
  {
   "cell_type": "code",
   "execution_count": 5,
   "metadata": {},
   "outputs": [
    {
     "name": "stdout",
     "output_type": "stream",
     "text": [
      "                X           Y\n",
      "count  500.000000  500.000000\n",
      "mean    48.172000   51.276000\n",
      "std     28.721355    5.799923\n",
      "min      1.000000   41.000000\n",
      "25%     22.000000   47.000000\n",
      "50%     48.000000   51.000000\n",
      "75%     72.000000   56.000000\n",
      "max    100.000000   60.000000\n"
     ]
    },
    {
     "data": {
      "text/plain": [
       "<AxesSubplot:ylabel='Frequency'>"
      ]
     },
     "execution_count": 5,
     "metadata": {},
     "output_type": "execute_result"
    },
    {
     "data": {
      "image/png": "[encoded data removed]",
      "text/plain": [
       "<Figure size 432x288 with 1 Axes>"
      ]
     },
     "metadata": {
      "needs_background": "light"
     },
     "output_type": "display_data"
    }
   ],
   "source": [
    "x = numpy.random.choice(process1,500)\n",
    "y = numpy.random.choice(process2,500)\n",
    "\n",
    "# make lists into dataframe \n",
    "boxdf = pandas.DataFrame()\n",
    "boxdf['X']=x\n",
    "boxdf['Y']=y\n",
    "\n",
    "# describe lists/dataframe \n",
    "print(boxdf.describe())\n",
    "\n",
    "boxdf.plot.hist() # "
   ]
  },
  {
   "cell_type": "code",
   "execution_count": null,
   "metadata": {},
   "outputs": [],
   "source": []
  },
  {
   "cell_type": "markdown",
   "metadata": {},
   "source": [
    "The Y data all cluster tightly around 50; the X data are much more variable. The point estimate of 50 for dataset X is less certain than the point estimate for dataset Y because of the greater variability in the X data. Reporting only the sample (point) estimate of 50 fails to give any hint of this difference, although it is graphically quite evident.\n",
    "\n",
    "We would then recall we have been hypothesis testing the crap out of things, so we can apply those tools:"
   ]
  },
  {
   "cell_type": "code",
   "execution_count": 6,
   "metadata": {},
   "outputs": [
    {
     "name": "stdout",
     "output_type": "stream",
     "text": [
      "stat=0.957, p=0.000\n",
      "Probably not Gaussian\n"
     ]
    }
   ],
   "source": [
    "# are the samples approximatley normal?\n",
    "# the Shapiro-Wilk Normality Test for set1\n",
    "from scipy.stats import shapiro\n",
    "stat, p = shapiro(boxdf['X'])\n",
    "print('stat=%.3f, p=%.3f' % (stat, p))\n",
    "if p > 0.05:\n",
    "\tprint('Probably Gaussian')\n",
    "else:\n",
    "\tprint('Probably not Gaussian')"
   ]
  },
  {
   "cell_type": "code",
   "execution_count": 7,
   "metadata": {},
   "outputs": [
    {
     "name": "stdout",
     "output_type": "stream",
     "text": [
      "stat=0.945, p=0.000\n",
      "Probably not Gaussian\n"
     ]
    }
   ],
   "source": [
    "# are the samples approximatley normal?\n",
    "# the Shapiro-Wilk Normality Test for set1\n",
    "from scipy.stats import shapiro\n",
    "stat, p = shapiro(boxdf['Y'])\n",
    "print('stat=%.3f, p=%.3f' % (stat, p))\n",
    "if p > 0.05:\n",
    "\tprint('Probably Gaussian')\n",
    "else:\n",
    "\tprint('Probably not Gaussian')"
   ]
  },
  {
   "cell_type": "code",
   "execution_count": 8,
   "metadata": {},
   "outputs": [
    {
     "name": "stdout",
     "output_type": "stream",
     "text": [
      "statistic=117017.000, p-value at rejection =0.040\n",
      "Probably different mean\n"
     ]
    }
   ],
   "source": [
    "from scipy.stats import mannwhitneyu # import a useful non-parametric test\n",
    "stat, p = mannwhitneyu(boxdf['X'],boxdf['Y'])\n",
    "print('statistic=%.3f, p-value at rejection =%.3f' % (stat, p))\n",
    "if p > 0.05:\n",
    "    print('Probably the same mean')\n",
    "else:\n",
    "    print('Probably different mean')"
   ]
  },
  {
   "cell_type": "markdown",
   "metadata": {},
   "source": [
    "At this point we know that the mean values are about the same, but the two datasets are not alike (its the variance stupid!)\n",
    "\n",
    "As an alternative to just point estimates, interval estimates are intervals that have a stated probability of containing the true population value. In our example, the mean for Y is 50 and we are pretty sure of that, because the sample variance is small - if our sample had also tested as normal we could state that the estimate of population mean is 50 +/- 18 ( 3 standard deviations) with probability of 99%.  Such a statement is an interval estimate.\n",
    "\n",
    "In general, we will be presenting two-sided intervals (where the probability of the true value being higher than the upper limit is assumed to be equal to the probability of its being lower than the lower limit). There are also one-sided intervals. The intervals are wider for datasets having greater variability and the same number of data points. \n",
    "\n",
    "Thus, in the above example, an interval between 38 and 62 may have a 95-percent probability of containing the (unknown) true population mean of dataset Y. It would take a much wider interval, say between -6 and 106, to have the same probability of containing the true mean of dataset X. \n",
    "\n",
    "The difference in the reliability of the two estimates is therefore clearly stated using interval estimates. Interval estimates can provide two pieces of information which point estimates cannot:\n",
    "1. A statement of the probability or likelihood that the interval contains the true population value (its reliability).\n",
    "2. A statement of the likelihood that a single data point with specified magnitude comes from the population under study.\n",
    "\n",
    "Interval estimates for the first purpose are called confidence intervals; intervals for the second purpose are called prediction intervals. Though related, the two types of interval estimates are not identical, and should not be interchanged.\n",
    "\n",
    "# First a visit with our textbook!"
   ]
  },
  {
   "cell_type": "markdown",
   "metadata": {},
   "source": [
    "<hr>\n",
    "\n",
    "Much of what follows below is borrowed with minor changes for our class from: https://www.inferentialthinking.com/chapters/13/1/Percentiles.html\n",
    "\n",
    "\n",
    "## Percentiles\n",
    "\n",
    "Numerical data can be sorted in increasing or decreasing order. Thus the values of a numerical data set have a rank order. A percentile is the value at a particular rank.  *We have exploited this is our plotting position formulas earlier.*\n",
    "\n",
    "For example, if your score on a test is on the 95th percentile, a common interpretation is that only 5% of the scores were higher than yours. The median is the 50th percentile; it is commonly assumed that 50% the values in a data set are above the median.\n",
    "\n",
    "But some care is required in giving percentiles a precise definition that works for all ranks and all lists. To see why, consider an extreme example where all the students in a class score 75 on a test. Then 75 is a natural candidate for the median, but it's not true that 50% of the scores are above 75. Also, 75 is an equally natural candidate for the 95th percentile or the 25th or any other percentile. Ties – that is, equal data values – have to be taken into account when defining percentiles.\n",
    "\n",
    "You also have to be careful about exactly how far up the list to go when the relevant index isn't clear. For example, what should be the 87th percentile of a collection of 10 values? The 8th value of the sorted collection, or the 9th, or somewhere in between? *Again we have already addressed this issue with our plotting position formulas earlier.*\n",
    "\n",
    "## A Numerical Example \n",
    "\n",
    "Before giving a general definition of all percentiles, we will define the 80th percentile of a collection of values to be the smallest value in the collection that is at least as large as 80% of all of the values.\n",
    "\n",
    "For example, let's consider the sizes of the five largest continents – Africa, Antarctica, Asia, North America, and South America – rounded to the nearest million square miles."
   ]
  },
  {
   "cell_type": "code",
   "execution_count": 9,
   "metadata": {},
   "outputs": [],
   "source": [
    "import datascience\n",
    "sizes = datascience.make_array(12, 17, 6, 9, 7)"
   ]
  },
  {
   "cell_type": "markdown",
   "metadata": {},
   "source": [
    "The 80th percentile is the smallest value that is at least as large as 80% of the elements of sizes, that is, four-fifths of the five elements. That's 12:"
   ]
  },
  {
   "cell_type": "code",
   "execution_count": 10,
   "metadata": {},
   "outputs": [
    {
     "data": {
      "text/plain": [
       "array([ 6,  7,  9, 12, 17])"
      ]
     },
     "execution_count": 10,
     "metadata": {},
     "output_type": "execute_result"
    }
   ],
   "source": [
    "numpy.sort(sizes)"
   ]
  },
  {
   "cell_type": "markdown",
   "metadata": {},
   "source": [
    "The 80th percentile is a value on the list, namely 12. You can see that 80% of the values are less than or equal to it, and that it is the smallest value on the list for which this is true.\n",
    "\n",
    "Analogously, the 70th percentile is the smallest value in the collection that is at least as large as 70% of the elements of sizes. Now 70% of 5 elements is \"3.5 elements\", so the 70th percentile is the 4th element on the list. That's 12, the same as the 80th percentile for these data.  * Not terribly useful yet but wait there's more!*\n",
    "\n",
    "## The percentile function \n",
    "\n",
    "**A Data8 Function**\n",
    "\n",
    "The percentile function takes two arguments: a rank between 0 and 100, and a array. It returns the corresponding percentile of the array."
   ]
  },
  {
   "cell_type": "code",
   "execution_count": 11,
   "metadata": {},
   "outputs": [
    {
     "data": {
      "text/plain": [
       "12"
      ]
     },
     "execution_count": 11,
     "metadata": {},
     "output_type": "execute_result"
    }
   ],
   "source": [
    "datascience.percentile(80, sizes)"
   ]
  },
  {
   "cell_type": "markdown",
   "metadata": {},
   "source": [
    "## The General Definition \n",
    "**Below is from the Data8 Textbook -- compare to our lab on plotting position formulas)**\n",
    "\n",
    "Let 𝑝 be a number between 0 and 100. The 𝑝-th percentile of a collection is the smallest value in the collection that is at least as large as p% of all the values.\n",
    "\n",
    "By this definition, any percentile between 0 and 100 can be computed for any collection of values, and it is always an element of the collection.\n",
    "\n",
    "In practical terms, suppose there are 𝑛 elements in the collection. To find the 𝑝-th percentile:\n",
    "\n",
    "- Sort the collection in increasing order.\n",
    "- Find p% of n: (𝑝/100)×𝑛 Call that 𝑘\n",
    "- If 𝑘 is an integer, take the 𝑘-th element of the sorted collection.\n",
    "- If 𝑘 is not an integer, round it up to the next integer, and take that element of the sorted collection.\n",
    "\n",
    "### Example \n",
    "The table scores_and_sections contains one row for each student in a class of 359 students. The columns are the student's discussion section and midterm score.\n",
    "\n",
    "Path to file is `http://54.243.252.9/engr-1330-psuedo-course/CECE-1330-PsuedoCourse/4-Databases/`\n"
   ]
  },
  {
   "cell_type": "raw",
   "metadata": {},
   "source": [
    "# copy the file\n",
    "! ls /home/compthink/CECE-1330-PsuedoCourse/4-Databases/\n",
    "#\n",
    "! cp /home/compthink/CECE-1330-PsuedoCourse/4-Databases/scores_by_section.csv ./"
   ]
  },
  {
   "cell_type": "markdown",
   "metadata": {},
   "source": [
    "The table scores_and_sections contains one row for each student in a class of 359 students. The columns are the student's discussion section and midterm score."
   ]
  },
  {
   "cell_type": "code",
   "execution_count": 12,
   "metadata": {},
   "outputs": [
    {
     "data": {
      "text/html": [
       "<table border=\"1\" class=\"dataframe\">\n",
       "    <thead>\n",
       "        <tr>\n",
       "            <th>Section</th> <th>Midterm</th>\n",
       "        </tr>\n",
       "    </thead>\n",
       "    <tbody>\n",
       "        <tr>\n",
       "            <td>1      </td> <td>22     </td>\n",
       "        </tr>\n",
       "        <tr>\n",
       "            <td>2      </td> <td>12     </td>\n",
       "        </tr>\n",
       "        <tr>\n",
       "            <td>2      </td> <td>23     </td>\n",
       "        </tr>\n",
       "        <tr>\n",
       "            <td>2      </td> <td>14     </td>\n",
       "        </tr>\n",
       "        <tr>\n",
       "            <td>1      </td> <td>20     </td>\n",
       "        </tr>\n",
       "        <tr>\n",
       "            <td>3      </td> <td>25     </td>\n",
       "        </tr>\n",
       "        <tr>\n",
       "            <td>4      </td> <td>19     </td>\n",
       "        </tr>\n",
       "        <tr>\n",
       "            <td>1      </td> <td>24     </td>\n",
       "        </tr>\n",
       "        <tr>\n",
       "            <td>5      </td> <td>8      </td>\n",
       "        </tr>\n",
       "        <tr>\n",
       "            <td>6      </td> <td>14     </td>\n",
       "        </tr>\n",
       "    </tbody>\n",
       "</table>\n",
       "<p>... (349 rows omitted)</p>"
      ],
      "text/plain": [
       "Section | Midterm\n",
       "1       | 22\n",
       "2       | 12\n",
       "2       | 23\n",
       "2       | 14\n",
       "1       | 20\n",
       "3       | 25\n",
       "4       | 19\n",
       "1       | 24\n",
       "5       | 8\n",
       "6       | 14\n",
       "... (349 rows omitted)"
      ]
     },
     "execution_count": 12,
     "metadata": {},
     "output_type": "execute_result"
    }
   ],
   "source": [
    "scores_and_sections = datascience.Table.read_table('scores_by_section.csv')\n",
    "scores_and_sections"
   ]
  },
  {
   "cell_type": "markdown",
   "metadata": {},
   "source": [
    "If we make a histogram (using the Data8 tools from our textbook) can we approximate the 85%?  (just by looking it seems to be at 22-ish from the plot)"
   ]
  },
  {
   "cell_type": "code",
   "execution_count": 13,
   "metadata": {},
   "outputs": [
    {
     "data": {
      "image/png": "[encoded data removed]",
      "text/plain": [
       "<Figure size 432x288 with 1 Axes>"
      ]
     },
     "metadata": {
      "needs_background": "light"
     },
     "output_type": "display_data"
    }
   ],
   "source": [
    "scores_and_sections.select('Midterm').hist(bins=numpy.arange(-0.5, 25.6, 1))"
   ]
  },
  {
   "cell_type": "code",
   "execution_count": 14,
   "metadata": {},
   "outputs": [
    {
     "data": {
      "text/plain": [
       "22"
      ]
     },
     "execution_count": 14,
     "metadata": {},
     "output_type": "execute_result"
    }
   ],
   "source": [
    "datascience.percentile(85, scores_and_sections.column(1))"
   ]
  },
  {
   "cell_type": "markdown",
   "metadata": {},
   "source": [
    "So the eyeball value was not too bad! According to the percentile function, the 85th percentile was 22. To check that this is consistent with the definition, let's apply the definition directly.\n",
    "\n",
    "First, put the scores in increasing order:"
   ]
  },
  {
   "cell_type": "code",
   "execution_count": 15,
   "metadata": {},
   "outputs": [
    {
     "data": {
      "text/plain": [
       "359"
      ]
     },
     "execution_count": 15,
     "metadata": {},
     "output_type": "execute_result"
    }
   ],
   "source": [
    "sorted_scores = numpy.sort(scores_and_sections.column(1))\n",
    "len(sorted_scores)"
   ]
  },
  {
   "cell_type": "markdown",
   "metadata": {},
   "source": [
    "There are 359 scores in the array. So next, find 85% of 359, which is 305.15."
   ]
  },
  {
   "cell_type": "code",
   "execution_count": 16,
   "metadata": {},
   "outputs": [
    {
     "data": {
      "text/plain": [
       "305.15"
      ]
     },
     "execution_count": 16,
     "metadata": {},
     "output_type": "execute_result"
    }
   ],
   "source": [
    "0.85 * 359"
   ]
  },
  {
   "cell_type": "markdown",
   "metadata": {},
   "source": [
    "That's not an integer. By the definition, the 85th percentile is the 306th element of sorted_scores, which, by Python's indexing convention, is item 305 of the array."
   ]
  },
  {
   "cell_type": "code",
   "execution_count": 17,
   "metadata": {},
   "outputs": [
    {
     "data": {
      "text/plain": [
       "22"
      ]
     },
     "execution_count": 17,
     "metadata": {},
     "output_type": "execute_result"
    }
   ],
   "source": [
    "# The 306th element of the sorted array\n",
    "sorted_scores.item(305)"
   ]
  },
  {
   "cell_type": "markdown",
   "metadata": {},
   "source": [
    "That's the same as the answer we got by using percentile. In future, we will just use percentile.\n",
    "\n",
    "### Quartiles \n",
    "\n",
    "The first quartile of a numercial collection is the 25th percentile. The terminology arises from the first quarter. The second quartile is the median, and the third quartile is the 75th percentile.\n",
    "\n",
    "For our scores data, those values are:"
   ]
  },
  {
   "cell_type": "code",
   "execution_count": 18,
   "metadata": {},
   "outputs": [
    {
     "name": "stdout",
     "output_type": "stream",
     "text": [
      "11\n",
      "16\n",
      "20\n"
     ]
    }
   ],
   "source": [
    "print(datascience.percentile(25, sorted_scores))\n",
    "print(datascience.percentile(50, sorted_scores))\n",
    "print(datascience.percentile(75, sorted_scores))"
   ]
  },
  {
   "cell_type": "code",
   "execution_count": 19,
   "metadata": {},
   "outputs": [
    {
     "data": {
      "text/html": [
       "<div>\n",
       "<style scoped>\n",
       "    .dataframe tbody tr th:only-of-type {\n",
       "        vertical-align: middle;\n",
       "    }\n",
       "\n",
       "    .dataframe tbody tr th {\n",
       "        vertical-align: top;\n",
       "    }\n",
       "\n",
       "    .dataframe thead th {\n",
       "        text-align: right;\n",
       "    }\n",
       "</style>\n",
       "<table border=\"1\" class=\"dataframe\">\n",
       "  <thead>\n",
       "    <tr style=\"text-align: right;\">\n",
       "      <th></th>\n",
       "      <th>0</th>\n",
       "    </tr>\n",
       "  </thead>\n",
       "  <tbody>\n",
       "    <tr>\n",
       "      <th>count</th>\n",
       "      <td>359.000000</td>\n",
       "    </tr>\n",
       "    <tr>\n",
       "      <th>mean</th>\n",
       "      <td>15.493036</td>\n",
       "    </tr>\n",
       "    <tr>\n",
       "      <th>std</th>\n",
       "      <td>6.081323</td>\n",
       "    </tr>\n",
       "    <tr>\n",
       "      <th>min</th>\n",
       "      <td>0.000000</td>\n",
       "    </tr>\n",
       "    <tr>\n",
       "      <th>25%</th>\n",
       "      <td>11.000000</td>\n",
       "    </tr>\n",
       "    <tr>\n",
       "      <th>50%</th>\n",
       "      <td>16.000000</td>\n",
       "    </tr>\n",
       "    <tr>\n",
       "      <th>75%</th>\n",
       "      <td>20.000000</td>\n",
       "    </tr>\n",
       "    <tr>\n",
       "      <th>max</th>\n",
       "      <td>25.000000</td>\n",
       "    </tr>\n",
       "  </tbody>\n",
       "</table>\n",
       "</div>"
      ],
      "text/plain": [
       "                0\n",
       "count  359.000000\n",
       "mean    15.493036\n",
       "std      6.081323\n",
       "min      0.000000\n",
       "25%     11.000000\n",
       "50%     16.000000\n",
       "75%     20.000000\n",
       "max     25.000000"
      ]
     },
     "execution_count": 19,
     "metadata": {},
     "output_type": "execute_result"
    }
   ],
   "source": [
    "pandas.DataFrame(sorted_scores).describe()"
   ]
  },
  {
   "cell_type": "markdown",
   "metadata": {},
   "source": [
    "### Bootstrapping\n",
    "\n",
    "A data scientist is using the data in a random sample to estimate an unknown parameter. She uses the sample to calculate the value of a statistic that she will use as her estimate.\n",
    "\n",
    "Once she has calculated the observed value of her statistic, she could just present it as her estimate and go on her merry way. But she knows that her random sample is just one of numerous possible random samples, and thus her estimate is just one of numerous plausible estimates.\n",
    "\n",
    "By how much could those estimates vary? To answer this, it appears as though she needs to draw another sample from the population, and compute a new estimate based on the new sample. But she doesn't have the cash to go back to the population and draw another sample.\n",
    "\n",
    "It looks as though the data scientist is stuck, but a method called the bootstrap (or just bootstrapping) can help out. Because it is not feasible to generate new samples from the population, the bootstrap generates new random samples by a method called resampling: the new samples are drawn at random from the original sample.  (Essentially, the orginal sample is now treated as a complete population - its a hack, but surprisingly useful)\n"
   ]
  },
  {
   "cell_type": "markdown",
   "metadata": {},
   "source": [
    "### Employee Compensation in the City of San Francisco\n",
    "\n",
    "SF OpenData is a website where the City and County of San Francisco make some of their data publicly available. One of the data sets contains compensation data for employees of the City. These include medical professionals at City-run hospitals, police officers, fire fighters, transportation workers, elected officials, and all other employees of the City.\n",
    "\n",
    "Compensation data for the calendar year 2015 are in the table sf2015."
   ]
  },
  {
   "cell_type": "code",
   "execution_count": 20,
   "metadata": {},
   "outputs": [
    {
     "data": {
      "text/html": [
       "<table border=\"1\" class=\"dataframe\">\n",
       "    <thead>\n",
       "        <tr>\n",
       "            <th>Year Type</th> <th>Year</th> <th>Organization Group Code</th> <th>Organization Group</th> <th>Department Code</th> <th>Department</th> <th>Union Code</th> <th>Union</th> <th>Job Family Code</th> <th>Job Family</th> <th>Job Code</th> <th>Job</th> <th>Employee Identifier</th> <th>Salaries</th> <th>Overtime</th> <th>Other Salaries</th> <th>Total Salary</th> <th>Retirement</th> <th>Health/Dental</th> <th>Other Benefits</th> <th>Total Benefits</th> <th>Total Compensation</th>\n",
       "        </tr>\n",
       "    </thead>\n",
       "    <tbody>\n",
       "        <tr>\n",
       "            <td>Calendar </td> <td>2015</td> <td>2                      </td> <td>Public Works, Transportation & Commerce </td> <td>WTR            </td> <td>PUC Water Department                  </td> <td>21        </td> <td>Prof & Tech Engineers - Miscellaneous, Local 21   </td> <td>2400           </td> <td>Lab, Pharmacy & Med Techs    </td> <td>2481    </td> <td>Water Qualitytech I/II        </td> <td>21538              </td> <td>82146   </td> <td>0       </td> <td>0             </td> <td>82146       </td> <td>16942.2   </td> <td>12340.9      </td> <td>6337.73       </td> <td>35620.8       </td> <td>117767            </td>\n",
       "        </tr>\n",
       "        <tr>\n",
       "            <td>Calendar </td> <td>2015</td> <td>2                      </td> <td>Public Works, Transportation & Commerce </td> <td>DPW            </td> <td>General Services Agency - Public Works</td> <td>12        </td> <td>Carpet, Linoleum and Soft Tile Workers, Local 12  </td> <td>7300           </td> <td>Journeyman Trade             </td> <td>7393    </td> <td>Soft Floor Coverer            </td> <td>5459               </td> <td>32165.8 </td> <td>973.19  </td> <td>848.96        </td> <td>33987.9     </td> <td>0         </td> <td>4587.51      </td> <td>2634.42       </td> <td>7221.93       </td> <td>41209.8           </td>\n",
       "        </tr>\n",
       "        <tr>\n",
       "            <td>Calendar </td> <td>2015</td> <td>4                      </td> <td>Community Health                        </td> <td>DPH            </td> <td>Public Health                         </td> <td>790       </td> <td>SEIU - Miscellaneous, Local 1021                  </td> <td>1600           </td> <td>Payroll, Billing & Accounting</td> <td>1636    </td> <td>Health Care Billing Clerk 2   </td> <td>41541              </td> <td>71311   </td> <td>5757.98 </td> <td>0             </td> <td>77069       </td> <td>14697.6   </td> <td>12424.5      </td> <td>6370.06       </td> <td>33492.2       </td> <td>110561            </td>\n",
       "        </tr>\n",
       "        <tr>\n",
       "            <td>Calendar </td> <td>2015</td> <td>4                      </td> <td>Community Health                        </td> <td>DPH            </td> <td>Public Health                         </td> <td>351       </td> <td>Municipal Executive Association - Miscellaneous   </td> <td>0900           </td> <td>Management                   </td> <td>2620    </td> <td>Food Service Mgr Administrator</td> <td>26718              </td> <td>28430.2 </td> <td>0       </td> <td>763.07        </td> <td>29193.3     </td> <td>0         </td> <td>4223.14      </td> <td>5208.51       </td> <td>9431.65       </td> <td>38625             </td>\n",
       "        </tr>\n",
       "        <tr>\n",
       "            <td>Calendar </td> <td>2015</td> <td>2                      </td> <td>Public Works, Transportation & Commerce </td> <td>MTA            </td> <td>Municipal Transportation Agency       </td> <td>790       </td> <td>SEIU - Miscellaneous, Local 1021                  </td> <td>8200           </td> <td>Protection & Apprehension    </td> <td>8201    </td> <td>School Crossing Guard         </td> <td>45810              </td> <td>7948.75 </td> <td>0       </td> <td>0             </td> <td>7948.75     </td> <td>0         </td> <td>2873.17      </td> <td>616.24        </td> <td>3489.41       </td> <td>11438.2           </td>\n",
       "        </tr>\n",
       "        <tr>\n",
       "            <td>Calendar </td> <td>2015</td> <td>1                      </td> <td>Public Protection                       </td> <td>POL            </td> <td>Police                                </td> <td>911       </td> <td>Police Officers' Association                      </td> <td>Q000           </td> <td>Police Services              </td> <td>Q002    </td> <td>Police Officer                </td> <td>32906              </td> <td>2235    </td> <td>0       </td> <td>0             </td> <td>2235        </td> <td>490.36    </td> <td>286.72       </td> <td>176.57        </td> <td>953.65        </td> <td>3188.65           </td>\n",
       "        </tr>\n",
       "        <tr>\n",
       "            <td>Calendar </td> <td>2015</td> <td>4                      </td> <td>Community Health                        </td> <td>DPH            </td> <td>Public Health                         </td> <td>791       </td> <td>SEIU - Staff and Per Diem Nurses, Local 1021      </td> <td>2300           </td> <td>Nursing                      </td> <td>2328    </td> <td>Nurse Practitioner            </td> <td>7506               </td> <td>187247  </td> <td>0       </td> <td>11704.1       </td> <td>198951      </td> <td>37683.7   </td> <td>12424.5      </td> <td>11221.7       </td> <td>61329.9       </td> <td>260281            </td>\n",
       "        </tr>\n",
       "        <tr>\n",
       "            <td>Calendar </td> <td>2015</td> <td>2                      </td> <td>Public Works, Transportation & Commerce </td> <td>MTA            </td> <td>Municipal Transportation Agency       </td> <td>253       </td> <td>Transport Workers - Transit Operators, Local 250-A</td> <td>9100           </td> <td>Street Transit               </td> <td>9163    </td> <td>Transit Operator              </td> <td>36773              </td> <td>66988.5 </td> <td>3512.88 </td> <td>2770.39       </td> <td>73271.8     </td> <td>19127.2   </td> <td>13203        </td> <td>5455.1        </td> <td>37785.3       </td> <td>111057            </td>\n",
       "        </tr>\n",
       "        <tr>\n",
       "            <td>Calendar </td> <td>2015</td> <td>6                      </td> <td>General Administration & Finance        </td> <td>CAT            </td> <td>City Attorney                         </td> <td>311       </td> <td>Municipal Attorneys' Association                  </td> <td>8100           </td> <td>Legal & Court                </td> <td>8177    </td> <td>Attorney (Civil/Criminal)     </td> <td>12963              </td> <td>135190  </td> <td>0       </td> <td>1562.5        </td> <td>136752      </td> <td>27501.8   </td> <td>12424.5      </td> <td>10103         </td> <td>50029.3       </td> <td>186781            </td>\n",
       "        </tr>\n",
       "        <tr>\n",
       "            <td>Calendar </td> <td>2015</td> <td>3                      </td> <td>Human Welfare & Neighborhood Development</td> <td>DSS            </td> <td>Human Services                        </td> <td>535       </td> <td>SEIU - Human Services, Local 1021                 </td> <td>9700           </td> <td>Community Development        </td> <td>9703    </td> <td>Emp & Training Spec 2         </td> <td>35179              </td> <td>70474.8 </td> <td>147.28  </td> <td>1647.24       </td> <td>72269.3     </td> <td>14650.3   </td> <td>10696.9      </td> <td>5993.11       </td> <td>31340.3       </td> <td>103610            </td>\n",
       "        </tr>\n",
       "    </tbody>\n",
       "</table>\n",
       "<p>... (42979 rows omitted)</p>"
      ],
      "text/plain": [
       "Year Type | Year | Organization Group Code | Organization Group                       | Department Code | Department                             | Union Code | Union                                              | Job Family Code | Job Family                    | Job Code | Job                            | Employee Identifier | Salaries | Overtime | Other Salaries | Total Salary | Retirement | Health/Dental | Other Benefits | Total Benefits | Total Compensation\n",
       "Calendar  | 2015 | 2                       | Public Works, Transportation & Commerce  | WTR             | PUC Water Department                   | 21         | Prof & Tech Engineers - Miscellaneous, Local 21    | 2400            | Lab, Pharmacy & Med Techs     | 2481     | Water Qualitytech I/II         | 21538               | 82146    | 0        | 0              | 82146        | 16942.2    | 12340.9       | 6337.73        | 35620.8        | 117767\n",
       "Calendar  | 2015 | 2                       | Public Works, Transportation & Commerce  | DPW             | General Services Agency - Public Works | 12         | Carpet, Linoleum and Soft Tile Workers, Local 12   | 7300            | Journeyman Trade              | 7393     | Soft Floor Coverer             | 5459                | 32165.8  | 973.19   | 848.96         | 33987.9      | 0          | 4587.51       | 2634.42        | 7221.93        | 41209.8\n",
       "Calendar  | 2015 | 4                       | Community Health                         | DPH             | Public Health                          | 790        | SEIU - Miscellaneous, Local 1021                   | 1600            | Payroll, Billing & Accounting | 1636     | Health Care Billing Clerk 2    | 41541               | 71311    | 5757.98  | 0              | 77069        | 14697.6    | 12424.5       | 6370.06        | 33492.2        | 110561\n",
       "Calendar  | 2015 | 4                       | Community Health                         | DPH             | Public Health                          | 351        | Municipal Executive Association - Miscellaneous    | 0900            | Management                    | 2620     | Food Service Mgr Administrator | 26718               | 28430.2  | 0        | 763.07         | 29193.3      | 0          | 4223.14       | 5208.51        | 9431.65        | 38625\n",
       "Calendar  | 2015 | 2                       | Public Works, Transportation & Commerce  | MTA             | Municipal Transportation Agency        | 790        | SEIU - Miscellaneous, Local 1021                   | 8200            | Protection & Apprehension     | 8201     | School Crossing Guard          | 45810               | 7948.75  | 0        | 0              | 7948.75      | 0          | 2873.17       | 616.24         | 3489.41        | 11438.2\n",
       "Calendar  | 2015 | 1                       | Public Protection                        | POL             | Police                                 | 911        | Police Officers' Association                       | Q000            | Police Services               | Q002     | Police Officer                 | 32906               | 2235     | 0        | 0              | 2235         | 490.36     | 286.72        | 176.57         | 953.65         | 3188.65\n",
       "Calendar  | 2015 | 4                       | Community Health                         | DPH             | Public Health                          | 791        | SEIU - Staff and Per Diem Nurses, Local 1021       | 2300            | Nursing                       | 2328     | Nurse Practitioner             | 7506                | 187247   | 0        | 11704.1        | 198951       | 37683.7    | 12424.5       | 11221.7        | 61329.9        | 260281\n",
       "Calendar  | 2015 | 2                       | Public Works, Transportation & Commerce  | MTA             | Municipal Transportation Agency        | 253        | Transport Workers - Transit Operators, Local 250-A | 9100            | Street Transit                | 9163     | Transit Operator               | 36773               | 66988.5  | 3512.88  | 2770.39        | 73271.8      | 19127.2    | 13203         | 5455.1         | 37785.3        | 111057\n",
       "Calendar  | 2015 | 6                       | General Administration & Finance         | CAT             | City Attorney                          | 311        | Municipal Attorneys' Association                   | 8100            | Legal & Court                 | 8177     | Attorney (Civil/Criminal)      | 12963               | 135190   | 0        | 1562.5         | 136752       | 27501.8    | 12424.5       | 10103          | 50029.3        | 186781\n",
       "Calendar  | 2015 | 3                       | Human Welfare & Neighborhood Development | DSS             | Human Services                         | 535        | SEIU - Human Services, Local 1021                  | 9700            | Community Development         | 9703     | Emp & Training Spec 2          | 35179               | 70474.8  | 147.28   | 1647.24        | 72269.3      | 14650.3    | 10696.9       | 5993.11        | 31340.3        | 103610\n",
       "... (42979 rows omitted)"
      ]
     },
     "execution_count": 20,
     "metadata": {},
     "output_type": "execute_result"
    }
   ],
   "source": [
    "! cp /home/compthink/CECE-1330-PsuedoCourse/4-Databases/san_francisco_2015.csv ./\n",
    "sf2015 = datascience.Table.read_table('san_francisco_2015.csv')\n",
    "sf2015"
   ]
  },
  {
   "cell_type": "markdown",
   "metadata": {},
   "source": [
    "There is one row for each of 42,979 employees. There are numerous columns containing information about City departmental affiliation and details of the different parts of the employee's compensation package. Here is the row correspoding to the late Edward Lee, the Mayor at that time.\n",
    "\n"
   ]
  },
  {
   "cell_type": "code",
   "execution_count": 21,
   "metadata": {},
   "outputs": [
    {
     "data": {
      "text/html": [
       "<table border=\"1\" class=\"dataframe\">\n",
       "    <thead>\n",
       "        <tr>\n",
       "            <th>Year Type</th> <th>Year</th> <th>Organization Group Code</th> <th>Organization Group</th> <th>Department Code</th> <th>Department</th> <th>Union Code</th> <th>Union</th> <th>Job Family Code</th> <th>Job Family</th> <th>Job Code</th> <th>Job</th> <th>Employee Identifier</th> <th>Salaries</th> <th>Overtime</th> <th>Other Salaries</th> <th>Total Salary</th> <th>Retirement</th> <th>Health/Dental</th> <th>Other Benefits</th> <th>Total Benefits</th> <th>Total Compensation</th>\n",
       "        </tr>\n",
       "    </thead>\n",
       "    <tbody>\n",
       "        <tr>\n",
       "            <td>Calendar </td> <td>2015</td> <td>6                      </td> <td>General Administration & Finance</td> <td>MYR            </td> <td>Mayor     </td> <td>556       </td> <td>Elected Officials</td> <td>1100           </td> <td>Administrative & Mgmt (Unrep)</td> <td>1190    </td> <td>Mayor</td> <td>22433              </td> <td>288964  </td> <td>0       </td> <td>0             </td> <td>288964      </td> <td>58117     </td> <td>12424.5      </td> <td>20293         </td> <td>90834.5       </td> <td>379798            </td>\n",
       "        </tr>\n",
       "    </tbody>\n",
       "</table>"
      ],
      "text/plain": [
       "Year Type | Year | Organization Group Code | Organization Group               | Department Code | Department | Union Code | Union             | Job Family Code | Job Family                    | Job Code | Job   | Employee Identifier | Salaries | Overtime | Other Salaries | Total Salary | Retirement | Health/Dental | Other Benefits | Total Benefits | Total Compensation\n",
       "Calendar  | 2015 | 6                       | General Administration & Finance | MYR             | Mayor      | 556        | Elected Officials | 1100            | Administrative & Mgmt (Unrep) | 1190     | Mayor | 22433               | 288964   | 0        | 0              | 288964       | 58117      | 12424.5       | 20293          | 90834.5        | 379798"
      ]
     },
     "execution_count": 21,
     "metadata": {},
     "output_type": "execute_result"
    }
   ],
   "source": [
    "sf2015.where('Job', datascience.are.equal_to('Mayor'))"
   ]
  },
  {
   "cell_type": "markdown",
   "metadata": {},
   "source": [
    "We are going to study the final column, Total Compensation. That's the employee's salary plus the City's contribution towards his/her retirement and benefit plans.\n",
    "\n",
    "Financial packages in a calendar year can sometimes be hard to understand as they depend on the date of hire, whether the employee is changing jobs within the City, and so on. For example, the lowest values in the Total Compensation column look a little strange."
   ]
  },
  {
   "cell_type": "code",
   "execution_count": 22,
   "metadata": {},
   "outputs": [
    {
     "data": {
      "text/html": [
       "<table border=\"1\" class=\"dataframe\">\n",
       "    <thead>\n",
       "        <tr>\n",
       "            <th>Year Type</th> <th>Year</th> <th>Organization Group Code</th> <th>Organization Group</th> <th>Department Code</th> <th>Department</th> <th>Union Code</th> <th>Union</th> <th>Job Family Code</th> <th>Job Family</th> <th>Job Code</th> <th>Job</th> <th>Employee Identifier</th> <th>Salaries</th> <th>Overtime</th> <th>Other Salaries</th> <th>Total Salary</th> <th>Retirement</th> <th>Health/Dental</th> <th>Other Benefits</th> <th>Total Benefits</th> <th>Total Compensation</th>\n",
       "        </tr>\n",
       "    </thead>\n",
       "    <tbody>\n",
       "        <tr>\n",
       "            <td>Calendar </td> <td>2015</td> <td>1                      </td> <td>Public Protection                      </td> <td>FIR            </td> <td>Fire Department                   </td> <td>798       </td> <td>Firefighters - Miscellaneous, Local 798        </td> <td>H000           </td> <td>Fire Services           </td> <td>H002    </td> <td>Firefighter                  </td> <td>43833              </td> <td>0       </td> <td>0       </td> <td>0             </td> <td>0           </td> <td>0         </td> <td>0            </td> <td>-423.76       </td> <td>-423.76       </td> <td>-423.76           </td>\n",
       "        </tr>\n",
       "        <tr>\n",
       "            <td>Calendar </td> <td>2015</td> <td>4                      </td> <td>Community Health                       </td> <td>DPH            </td> <td>Public Health                     </td> <td>790       </td> <td>SEIU - Miscellaneous, Local 1021               </td> <td>9900           </td> <td>Public Service Aide     </td> <td>9924    </td> <td>PS Aide Health Services      </td> <td>27871              </td> <td>-292.4  </td> <td>0       </td> <td>0             </td> <td>-292.4      </td> <td>0         </td> <td>-95.58       </td> <td>-22.63        </td> <td>-118.21       </td> <td>-410.61           </td>\n",
       "        </tr>\n",
       "        <tr>\n",
       "            <td>Calendar </td> <td>2015</td> <td>1                      </td> <td>Public Protection                      </td> <td>JUV            </td> <td>Juvenile Probation                </td> <td>790       </td> <td>SEIU - Miscellaneous, Local 1021               </td> <td>8300           </td> <td>Correction & Detention  </td> <td>8320    </td> <td>Counselor, Juvenile Hall     </td> <td>10517              </td> <td>0       </td> <td>0       </td> <td>0             </td> <td>0           </td> <td>0         </td> <td>0            </td> <td>-159.12       </td> <td>-159.12       </td> <td>-159.12           </td>\n",
       "        </tr>\n",
       "        <tr>\n",
       "            <td>Calendar </td> <td>2015</td> <td>6                      </td> <td>General Administration & Finance       </td> <td>CPC            </td> <td>City Planning                     </td> <td>21        </td> <td>Prof & Tech Engineers - Miscellaneous, Local 21</td> <td>1000           </td> <td>Information Systems     </td> <td>1053    </td> <td>IS Business Analyst-Senior   </td> <td>18961              </td> <td>0       </td> <td>0       </td> <td>0             </td> <td>0           </td> <td>0         </td> <td>0            </td> <td>-26.53        </td> <td>-26.53        </td> <td>-26.53            </td>\n",
       "        </tr>\n",
       "        <tr>\n",
       "            <td>Calendar </td> <td>2015</td> <td>6                      </td> <td>General Administration & Finance       </td> <td>CPC            </td> <td>City Planning                     </td> <td>21        </td> <td>Prof & Tech Engineers - Miscellaneous, Local 21</td> <td>5200           </td> <td>Professional Engineering</td> <td>5277    </td> <td>Planner 1                    </td> <td>19387              </td> <td>0       </td> <td>0       </td> <td>0             </td> <td>0           </td> <td>0         </td> <td>0            </td> <td>-9.51         </td> <td>-9.51         </td> <td>-9.51             </td>\n",
       "        </tr>\n",
       "        <tr>\n",
       "            <td>Calendar </td> <td>2015</td> <td>2                      </td> <td>Public Works, Transportation & Commerce</td> <td>PUC            </td> <td>PUC Public Utilities Commission   </td> <td>21        </td> <td>Prof & Tech Engineers - Miscellaneous, Local 21</td> <td>1000           </td> <td>Information Systems     </td> <td>1044    </td> <td>IS Engineer-Principal        </td> <td>28988              </td> <td>0       </td> <td>0       </td> <td>0             </td> <td>0           </td> <td>0         </td> <td>0            </td> <td>-3.1          </td> <td>-3.1          </td> <td>-3.1              </td>\n",
       "        </tr>\n",
       "        <tr>\n",
       "            <td>Calendar </td> <td>2015</td> <td>1                      </td> <td>Public Protection                      </td> <td>JUV            </td> <td>Juvenile Probation                </td> <td>39        </td> <td>Stationary Engineers, Local 39                 </td> <td>7300           </td> <td>Journeyman Trade        </td> <td>7335    </td> <td>Senior Stationary Engineer   </td> <td>19125              </td> <td>0       </td> <td>0       </td> <td>0             </td> <td>0           </td> <td>0         </td> <td>0            </td> <td>-0.01         </td> <td>-0.01         </td> <td>-0.01             </td>\n",
       "        </tr>\n",
       "        <tr>\n",
       "            <td>Calendar </td> <td>2015</td> <td>1                      </td> <td>Public Protection                      </td> <td>ECD            </td> <td>Department of Emergency Management</td> <td>351       </td> <td>Municipal Executive Association - Miscellaneous</td> <td>0900           </td> <td>Management              </td> <td>0922    </td> <td>Manager I                    </td> <td>30025              </td> <td>0       </td> <td>0       </td> <td>0             </td> <td>0           </td> <td>0         </td> <td>0            </td> <td>0             </td> <td>0             </td> <td>0                 </td>\n",
       "        </tr>\n",
       "        <tr>\n",
       "            <td>Calendar </td> <td>2015</td> <td>7                      </td> <td>General City Responsibilities          </td> <td>UNA            </td> <td>General Fund Unallocated          </td> <td>790       </td> <td>SEIU - Miscellaneous, Local 1021               </td> <td>3200           </td> <td>Recreation              </td> <td>3280    </td> <td>Assistant Recreation Director</td> <td>49784              </td> <td>0       </td> <td>0       </td> <td>0             </td> <td>0           </td> <td>0         </td> <td>0            </td> <td>1.27          </td> <td>1.27          </td> <td>1.27              </td>\n",
       "        </tr>\n",
       "        <tr>\n",
       "            <td>Calendar </td> <td>2015</td> <td>4                      </td> <td>Community Health                       </td> <td>DPH            </td> <td>Public Health                     </td> <td>250       </td> <td>SEIU - Health Workers, Local 1021              </td> <td>2600           </td> <td>Dietary & Food          </td> <td>2654    </td> <td>Cook                         </td> <td>26768              </td> <td>0       </td> <td>0       </td> <td>2.21          </td> <td>2.21        </td> <td>0         </td> <td>0            </td> <td>0.17          </td> <td>0.17          </td> <td>2.38              </td>\n",
       "        </tr>\n",
       "    </tbody>\n",
       "</table>\n",
       "<p>... (42979 rows omitted)</p>"
      ],
      "text/plain": [
       "Year Type | Year | Organization Group Code | Organization Group                      | Department Code | Department                         | Union Code | Union                                           | Job Family Code | Job Family               | Job Code | Job                           | Employee Identifier | Salaries | Overtime | Other Salaries | Total Salary | Retirement | Health/Dental | Other Benefits | Total Benefits | Total Compensation\n",
       "Calendar  | 2015 | 1                       | Public Protection                       | FIR             | Fire Department                    | 798        | Firefighters - Miscellaneous, Local 798         | H000            | Fire Services            | H002     | Firefighter                   | 43833               | 0        | 0        | 0              | 0            | 0          | 0             | -423.76        | -423.76        | -423.76\n",
       "Calendar  | 2015 | 4                       | Community Health                        | DPH             | Public Health                      | 790        | SEIU - Miscellaneous, Local 1021                | 9900            | Public Service Aide      | 9924     | PS Aide Health Services       | 27871               | -292.4   | 0        | 0              | -292.4       | 0          | -95.58        | -22.63         | -118.21        | -410.61\n",
       "Calendar  | 2015 | 1                       | Public Protection                       | JUV             | Juvenile Probation                 | 790        | SEIU - Miscellaneous, Local 1021                | 8300            | Correction & Detention   | 8320     | Counselor, Juvenile Hall      | 10517               | 0        | 0        | 0              | 0            | 0          | 0             | -159.12        | -159.12        | -159.12\n",
       "Calendar  | 2015 | 6                       | General Administration & Finance        | CPC             | City Planning                      | 21         | Prof & Tech Engineers - Miscellaneous, Local 21 | 1000            | Information Systems      | 1053     | IS Business Analyst-Senior    | 18961               | 0        | 0        | 0              | 0            | 0          | 0             | -26.53         | -26.53         | -26.53\n",
       "Calendar  | 2015 | 6                       | General Administration & Finance        | CPC             | City Planning                      | 21         | Prof & Tech Engineers - Miscellaneous, Local 21 | 5200            | Professional Engineering | 5277     | Planner 1                     | 19387               | 0        | 0        | 0              | 0            | 0          | 0             | -9.51          | -9.51          | -9.51\n",
       "Calendar  | 2015 | 2                       | Public Works, Transportation & Commerce | PUC             | PUC Public Utilities Commission    | 21         | Prof & Tech Engineers - Miscellaneous, Local 21 | 1000            | Information Systems      | 1044     | IS Engineer-Principal         | 28988               | 0        | 0        | 0              | 0            | 0          | 0             | -3.1           | -3.1           | -3.1\n",
       "Calendar  | 2015 | 1                       | Public Protection                       | JUV             | Juvenile Probation                 | 39         | Stationary Engineers, Local 39                  | 7300            | Journeyman Trade         | 7335     | Senior Stationary Engineer    | 19125               | 0        | 0        | 0              | 0            | 0          | 0             | -0.01          | -0.01          | -0.01\n",
       "Calendar  | 2015 | 1                       | Public Protection                       | ECD             | Department of Emergency Management | 351        | Municipal Executive Association - Miscellaneous | 0900            | Management               | 0922     | Manager I                     | 30025               | 0        | 0        | 0              | 0            | 0          | 0             | 0              | 0              | 0\n",
       "Calendar  | 2015 | 7                       | General City Responsibilities           | UNA             | General Fund Unallocated           | 790        | SEIU - Miscellaneous, Local 1021                | 3200            | Recreation               | 3280     | Assistant Recreation Director | 49784               | 0        | 0        | 0              | 0            | 0          | 0             | 1.27           | 1.27           | 1.27\n",
       "Calendar  | 2015 | 4                       | Community Health                        | DPH             | Public Health                      | 250        | SEIU - Health Workers, Local 1021               | 2600            | Dietary & Food           | 2654     | Cook                          | 26768               | 0        | 0        | 2.21           | 2.21         | 0          | 0             | 0.17           | 0.17           | 2.38\n",
       "... (42979 rows omitted)"
      ]
     },
     "execution_count": 22,
     "metadata": {},
     "output_type": "execute_result"
    }
   ],
   "source": [
    "sf2015.sort('Total Compensation')"
   ]
  },
  {
   "cell_type": "markdown",
   "metadata": {},
   "source": [
    "For clarity of comparison, we will focus our attention on those who had at least the equivalent of a half-time job for the whole year. At a minimum wage of about \\\\$10 per hour, and 20 hours per week for 52 weeks, that's a salary of about \\\\$10,000."
   ]
  },
  {
   "cell_type": "code",
   "execution_count": 23,
   "metadata": {},
   "outputs": [
    {
     "data": {
      "text/plain": [
       "36569"
      ]
     },
     "execution_count": 23,
     "metadata": {},
     "output_type": "execute_result"
    }
   ],
   "source": [
    "sf2015 = sf2015.where('Salaries', datascience.are.above(10000))\n",
    "\n",
    "sf2015.num_rows"
   ]
  },
  {
   "cell_type": "markdown",
   "metadata": {},
   "source": [
    "#### Population and Parameter\n",
    "\n",
    "Let this table of just over 36,500 rows be our population. Here is a histogram of the total compensations."
   ]
  },
  {
   "cell_type": "code",
   "execution_count": 24,
   "metadata": {},
   "outputs": [
    {
     "name": "stderr",
     "output_type": "stream",
     "text": [
      "/opt/conda/envs/python/lib/python3.8/site-packages/datascience/tables.py:5206: UserWarning: FixedFormatter should only be used together with FixedLocator\n",
      "  axis.set_xticklabels(ticks, rotation='vertical')\n"
     ]
    },
    {
     "data": {
      "image/png": "[encoded data removed]",
      "text/plain": [
       "<Figure size 432x288 with 1 Axes>"
      ]
     },
     "metadata": {
      "needs_background": "light"
     },
     "output_type": "display_data"
    }
   ],
   "source": [
    "sf_bins = numpy.arange(0, 700000, 25000)\n",
    "sf2015.select('Total Compensation').hist(bins=sf_bins)"
   ]
  },
  {
   "cell_type": "markdown",
   "metadata": {},
   "source": [
    "While most of the values are below \\\\$300,000, a few are quite a bit higher. For example, the total compensation of the Chief Investment Officer was almost \\\\$650,000. That is why the horizontal axis stretches to \\\\$700,000."
   ]
  },
  {
   "cell_type": "code",
   "execution_count": 25,
   "metadata": {},
   "outputs": [
    {
     "data": {
      "text/html": [
       "<table border=\"1\" class=\"dataframe\">\n",
       "    <thead>\n",
       "        <tr>\n",
       "            <th>Year Type</th> <th>Year</th> <th>Organization Group Code</th> <th>Organization Group</th> <th>Department Code</th> <th>Department</th> <th>Union Code</th> <th>Union</th> <th>Job Family Code</th> <th>Job Family</th> <th>Job Code</th> <th>Job</th> <th>Employee Identifier</th> <th>Salaries</th> <th>Overtime</th> <th>Other Salaries</th> <th>Total Salary</th> <th>Retirement</th> <th>Health/Dental</th> <th>Other Benefits</th> <th>Total Benefits</th> <th>Total Compensation</th>\n",
       "        </tr>\n",
       "    </thead>\n",
       "    <tbody>\n",
       "        <tr>\n",
       "            <td>Calendar </td> <td>2015</td> <td>6                      </td> <td>General Administration & Finance</td> <td>RET            </td> <td>Retirement System                   </td> <td>351       </td> <td>Municipal Executive Association - Miscellaneous</td> <td>1100           </td> <td>Administrative & Mgmt (Unrep)</td> <td>1119    </td> <td>Chief Investment Officer</td> <td>46881              </td> <td>507832  </td> <td>0       </td> <td>0             </td> <td>507832      </td> <td>105053    </td> <td>12424.5      </td> <td>23566.2       </td> <td>141044        </td> <td>648875            </td>\n",
       "        </tr>\n",
       "        <tr>\n",
       "            <td>Calendar </td> <td>2015</td> <td>6                      </td> <td>General Administration & Finance</td> <td>ADM            </td> <td>General Services Agency - City Admin</td> <td>164       </td> <td>Physicians and Dentists - Miscellaneous        </td> <td>2500           </td> <td>Med Therapy & Auxiliary      </td> <td>2598    </td> <td>Asst Med Examiner       </td> <td>1016               </td> <td>279311  </td> <td>3829.36 </td> <td>114434        </td> <td>397574      </td> <td>56211.6   </td> <td>12424.5      </td> <td>14299.1       </td> <td>82935.2       </td> <td>480509            </td>\n",
       "        </tr>\n",
       "    </tbody>\n",
       "</table>\n",
       "<p>... (36567 rows omitted)</p>"
      ],
      "text/plain": [
       "<IPython.core.display.HTML object>"
      ]
     },
     "metadata": {},
     "output_type": "display_data"
    }
   ],
   "source": [
    "sf2015.sort('Total Compensation', descending=True).show(2)"
   ]
  },
  {
   "cell_type": "markdown",
   "metadata": {},
   "source": [
    "Now let the parameter be the median of the total compensations.\n",
    "\n",
    "Since we have the luxury of having all of the data from the population, we can simply calculate the parameter:"
   ]
  },
  {
   "cell_type": "code",
   "execution_count": 26,
   "metadata": {},
   "outputs": [
    {
     "data": {
      "text/plain": [
       "110305.79"
      ]
     },
     "execution_count": 26,
     "metadata": {},
     "output_type": "execute_result"
    }
   ],
   "source": [
    "pop_median = datascience.percentile(50, sf2015.column('Total Compensation'))\n",
    "pop_median"
   ]
  },
  {
   "cell_type": "markdown",
   "metadata": {},
   "source": [
    "The median total compensation of all employees was just over \\\\$110,300.\n",
    "\n",
    "From a practical perspective, there is no reason for us to draw a sample to estimate this parameter since we simply know its value. But in this section we are going to pretend we don't know the value, and see how well we can estimate it based on a random sample.\n",
    "\n",
    "### A Random Sample and an Estimate\n",
    "\n",
    "Let us draw a sample of 500 employees at random without replacement, and let the median total compensation of the sampled employees serve as our estimate of the parameter."
   ]
  },
  {
   "cell_type": "code",
   "execution_count": 27,
   "metadata": {},
   "outputs": [
    {
     "name": "stdout",
     "output_type": "stream",
     "text": [
      "Estimated Median =  116683.09\n"
     ]
    },
    {
     "data": {
      "image/png": "[encoded data removed]",
      "text/plain": [
       "<Figure size 432x288 with 1 Axes>"
      ]
     },
     "metadata": {
      "needs_background": "light"
     },
     "output_type": "display_data"
    }
   ],
   "source": [
    "our_sample = sf2015.sample(500, with_replacement=False)\n",
    "our_sample.select('Total Compensation').hist(bins=sf_bins)\n",
    "est_median = datascience.percentile(50, our_sample.column('Total Compensation'))\n",
    "print('Estimated Median = ',est_median)"
   ]
  },
  {
   "cell_type": "markdown",
   "metadata": {},
   "source": [
    "The sample size is large, so that the distribution of the sample approximates that of the population, and consequently the sample median is not very far from the population median (though of course it is not exactly the same).\n",
    "\n",
    "So now we have one estimate of the parameter. But had the sample come out differently, the estimate would have had a different value. We would like to be able to quantify the amount by which the estimate could vary across samples. That measure of variability will help us measure how accurately we can estimate the parameter.\n",
    "\n",
    "To see how different the estimate would be if the sample had come out differently, we could just draw another sample from the population, but that would be cheating. We are trying to mimic real life, in which we won't have all the population data at hand.\n",
    "\n",
    "Somehow, we have to get another random sample without sampling from the population.\n",
    "\n",
    "### The Bootstrap: Resampling from the Sample\n",
    "What we do have is a large random sample from the population. As we know, a large random sample is likely to resemble the population from which it is drawn. This observation allows data scientists to lift themselves up by their own bootstraps: the sampling procedure can be replicated by sampling from the sample.\n",
    "\n",
    "Here are the steps of the bootstrap method for generating another random sample that resembles the population:\n",
    "\n",
    "    Treat the original sample as if it were the population.\n",
    "    Draw from the sample, at random with replacement, the same number of times as the original sample size.\n",
    "\n",
    "It is important to resample the same number of times as the original sample size. The reason is that the variability of an estimate depends on the size of the sample. Since our original sample consisted of 500 employees, our sample median was based on 500 values. To see how different the sample could have been, we have to compare it to the median of other samples of size 500.\n",
    "\n",
    "If we drew 500 times at random without replacement from our sample of size 500, we would just get the same sample back. By drawing with replacement, we create the possibility for the new samples to be different from the original, because some employees might be drawn more than once and others not at all.\n",
    "\n",
    "Why is this a good idea? Because the distribution of the original sample is likely to resemble the population (if we took enough instances), and the distributions of all the \"resamples\" are likely to resemble the original sample. Then by an appeal to the transitive axiom, the distributions of all the resamples are likely to resemble the population as well.\n",
    "\n",
    "### A Resampled Median\n",
    "\n",
    "Recall that when the sample method is used without specifying a sample size, by default the sample size equals the number of rows of the table from which the sample is drawn. That's perfect for the bootstrap! Here is one new sample drawn from the original sample, and the corresponding sample median."
   ]
  },
  {
   "cell_type": "code",
   "execution_count": 28,
   "metadata": {},
   "outputs": [
    {
     "data": {
      "text/plain": [
       "117124.37"
      ]
     },
     "execution_count": 28,
     "metadata": {},
     "output_type": "execute_result"
    },
    {
     "data": {
      "image/png": "[encoded data removed]",
      "text/plain": [
       "<Figure size 432x288 with 1 Axes>"
      ]
     },
     "metadata": {
      "needs_background": "light"
     },
     "output_type": "display_data"
    }
   ],
   "source": [
    "resample_1 = our_sample.sample()\n",
    "resample_1.select('Total Compensation').hist(bins=sf_bins)\n",
    "resampled_median_1 = datascience.percentile(50, resample_1.column('Total Compensation'))\n",
    "resampled_median_1"
   ]
  },
  {
   "cell_type": "markdown",
   "metadata": {},
   "source": [
    "By resampling, we have another estimate of the population median. By resampling again and again, we will get many such estimates, and hence an empirical distribution of the estimates."
   ]
  },
  {
   "cell_type": "code",
   "execution_count": 29,
   "metadata": {},
   "outputs": [
    {
     "data": {
      "text/plain": [
       "109602.14"
      ]
     },
     "execution_count": 29,
     "metadata": {},
     "output_type": "execute_result"
    }
   ],
   "source": [
    "resample_2 = our_sample.sample()\n",
    "resampled_median_2 = datascience.percentile(50, resample_2.column('Total Compensation'))\n",
    "resampled_median_2"
   ]
  },
  {
   "cell_type": "markdown",
   "metadata": {},
   "source": [
    "#### Bootstrap Empirical Distribution of the Sample Median\n",
    "\n",
    "Let us define a function `bootstrap_median` that takes our original sample, the label of the column containing the variable, and the number of bootstrap samples we want to take, and returns an array of the corresponding resampled medians.\n",
    "\n",
    "Each time we resample and find the median, we replicate the bootstrap process. So the number of bootstrap samples will be called the number of replications."
   ]
  },
  {
   "cell_type": "code",
   "execution_count": 30,
   "metadata": {},
   "outputs": [],
   "source": [
    "def bootstrap_median(original_sample, label, replications):\n",
    "    \"\"\"Returns an array of bootstrapped sample medians:\n",
    "    original_sample: table containing the original sample\n",
    "    label: label of column containing the variable\n",
    "    replications: number of bootstrap samples\n",
    "    modified by t.g. cleveland for missing dependencies from \n",
    "    original UCB script\n",
    "    \"\"\"\n",
    "    just_one_column = original_sample.select(label)\n",
    "    medians = datascience.make_array()\n",
    "    for i in numpy.arange(replications):\n",
    "        bootstrap_sample = just_one_column.sample()\n",
    "        resampled_median = datascience.percentile(50, bootstrap_sample.column(0))\n",
    "        medians = numpy.append(medians, resampled_median)\n",
    "        \n",
    "    return medians"
   ]
  },
  {
   "cell_type": "markdown",
   "metadata": {},
   "source": [
    "We now replicate the bootstrap process 5,000 times. The array bstrap_medians contains the medians of all 5,000 bootstrap samples. Notice that the code takes longer to run than our previous code. It has a lot of resampling to do!"
   ]
  },
  {
   "cell_type": "code",
   "execution_count": 31,
   "metadata": {},
   "outputs": [],
   "source": [
    "bstrap_medians = bootstrap_median(our_sample, 'Total Compensation', 5000) # change the 5 to 5000 for production run!"
   ]
  },
  {
   "cell_type": "markdown",
   "metadata": {},
   "source": [
    "Here is the histogram of the 5000 medians. The red dot is the population parameter: it is the median of the entire population, which we happen to know but did not use in the bootstrap process."
   ]
  },
  {
   "cell_type": "code",
   "execution_count": 32,
   "metadata": {},
   "outputs": [
    {
     "data": {
      "text/plain": [
       "<matplotlib.collections.PathCollection at 0x7f3e613801c0>"
      ]
     },
     "execution_count": 32,
     "metadata": {},
     "output_type": "execute_result"
    },
    {
     "data": {
      "image/png": "[encoded data removed]",
      "text/plain": [
       "<Figure size 432x288 with 1 Axes>"
      ]
     },
     "metadata": {
      "needs_background": "light"
     },
     "output_type": "display_data"
    }
   ],
   "source": [
    "resampled_medians = datascience.Table().with_column('Bootstrap Sample Median', bstrap_medians)\n",
    "\n",
    "#median_bins=np.arange(100000, 130000, 2500)\n",
    "#resampled_medians.hist(bins = median_bins)\n",
    "resampled_medians.hist()\n",
    "\n",
    "import matplotlib.pyplot \n",
    "matplotlib.pyplot.scatter(pop_median, 0, color='red', s=60)"
   ]
  },
  {
   "cell_type": "markdown",
   "metadata": {},
   "source": [
    "It is important to remember that the red dot is fixed: it is \\\\$110,305.79, the population median. The empirical histogram is the result of random draws, and will be situated randomly relative to the red dot.\n",
    "\n",
    "Remember also that the point of all these computations is to estimate the population median, which is the red dot. Our estimates are all the randomly generated sampled medians whose histogram you see above. We want those estimates to contain the parameter – it they don't, then they are off.\n",
    "\n",
    "### Do the Estimates Capture the Parameter?\n",
    "\n",
    "How often does the empirical histogram of the resampled medians sit firmly over the red dot, and not just brush the dot with its tails? To answer this, we must define \"sit firmly\". \n",
    "Let's take that to mean \"the middle 95% of the resampled medians contains the red dot\".\n",
    "\n",
    "Here are the two ends of the \"middle 95%\" interval of resampled medians:"
   ]
  },
  {
   "cell_type": "code",
   "execution_count": 33,
   "metadata": {},
   "outputs": [
    {
     "name": "stdout",
     "output_type": "stream",
     "text": [
      "lower/upper bounds of 95-percent of sample range \n",
      " 108876.57   123076.11\n"
     ]
    }
   ],
   "source": [
    "left = datascience.percentile(2.5, bstrap_medians)\n",
    "right = datascience.percentile(97.5, bstrap_medians)\n",
    "print(\"lower/upper bounds of 95-percent of sample range \\n\",left,\" \",right)"
   ]
  },
  {
   "cell_type": "markdown",
   "metadata": {},
   "source": [
    "The population median of \\\\$110,305 is indeed between these two numbers. The interval and the population median are shown on the histogram below."
   ]
  },
  {
   "cell_type": "code",
   "execution_count": 34,
   "metadata": {},
   "outputs": [
    {
     "data": {
      "image/png": "[encoded data removed]",
      "text/plain": [
       "<Figure size 432x288 with 1 Axes>"
      ]
     },
     "metadata": {
      "needs_background": "light"
     },
     "output_type": "display_data"
    }
   ],
   "source": [
    "#median_bins=np.arange(100000, 130000, 2500)\n",
    "#resampled_medians.hist(bins = median_bins)\n",
    "resampled_medians.hist()\n",
    "\n",
    "matplotlib.pyplot.plot(datascience.make_array(left, right), datascience.make_array(0, 0), color='yellow', lw=9, zorder=1)\n",
    "matplotlib.pyplot.scatter(pop_median, 0, color='red', s=30, zorder=2);"
   ]
  },
  {
   "cell_type": "markdown",
   "metadata": {},
   "source": [
    "The \"middle 95%\" interval of estimates captured the parameter in our example. But was that a fluke?\n",
    "\n",
    "To see how frequently the interval contains the parameter, we have to run the entire process over and over again. Specifically, we will repeat the following process 100 times:\n",
    "\n",
    "    Draw an original sample of size 500 from the population.\n",
    "    Carry out 5,000 replications of the bootstrap process and generate the \"middle 95%\" interval of resampled medians.\n",
    "\n",
    "We will end up with 100 intervals, and count how many of them contain the population median.\n",
    "\n",
    "Spoiler alert: The statistical theory of the bootstrap says that the number should be around 95. It may be in the low 90s or high 90s, but not much farther off 95 than that."
   ]
  },
  {
   "cell_type": "code",
   "execution_count": 35,
   "metadata": {},
   "outputs": [],
   "source": [
    "# THE BIG SIMULATION: This one takes several minutes.\n",
    "# Generate 100 intervals, in the table intervals\n",
    "# modified by tgc for UCB dependencies not loaded as part of textbook\n",
    "# test 26oct2020 on AWS server runtime == about 4 minutes\n",
    "left_ends = datascience.make_array()\n",
    "right_ends = datascience.make_array()\n",
    "\n",
    "total_comps = sf2015.select('Total Compensation')\n",
    "\n",
    "for i in numpy.arange(100):\n",
    "    first_sample = total_comps.sample(500, with_replacement=False)\n",
    "    medians = bootstrap_median(first_sample, 'Total Compensation', 5000)\n",
    "    left_ends = numpy.append(left_ends, datascience.percentile(2.5, medians))\n",
    "    right_ends = numpy.append(right_ends, datascience.percentile(97.5, medians))\n",
    "\n",
    "intervals = datascience.Table().with_columns(\n",
    "    'Left', left_ends,\n",
    "    'Right', right_ends\n",
    ")"
   ]
  },
  {
   "cell_type": "markdown",
   "metadata": {},
   "source": [
    "For each of the 100 replications, we get one interval of estimates of the median."
   ]
  },
  {
   "cell_type": "code",
   "execution_count": 36,
   "metadata": {},
   "outputs": [
    {
     "data": {
      "text/html": [
       "<table border=\"1\" class=\"dataframe\">\n",
       "    <thead>\n",
       "        <tr>\n",
       "            <th>Left</th> <th>Right</th>\n",
       "        </tr>\n",
       "    </thead>\n",
       "    <tbody>\n",
       "        <tr>\n",
       "            <td>103083 </td> <td>114184</td>\n",
       "        </tr>\n",
       "        <tr>\n",
       "            <td>105438 </td> <td>114596</td>\n",
       "        </tr>\n",
       "        <tr>\n",
       "            <td>110376 </td> <td>122139</td>\n",
       "        </tr>\n",
       "        <tr>\n",
       "            <td>97979.5</td> <td>110533</td>\n",
       "        </tr>\n",
       "        <tr>\n",
       "            <td>106331 </td> <td>115592</td>\n",
       "        </tr>\n",
       "        <tr>\n",
       "            <td>101350 </td> <td>113414</td>\n",
       "        </tr>\n",
       "        <tr>\n",
       "            <td>108267 </td> <td>118965</td>\n",
       "        </tr>\n",
       "        <tr>\n",
       "            <td>102832 </td> <td>113948</td>\n",
       "        </tr>\n",
       "        <tr>\n",
       "            <td>101759 </td> <td>114192</td>\n",
       "        </tr>\n",
       "        <tr>\n",
       "            <td>104551 </td> <td>114630</td>\n",
       "        </tr>\n",
       "    </tbody>\n",
       "</table>\n",
       "<p>... (90 rows omitted)</p>"
      ],
      "text/plain": [
       "Left    | Right\n",
       "103083  | 114184\n",
       "105438  | 114596\n",
       "110376  | 122139\n",
       "97979.5 | 110533\n",
       "106331  | 115592\n",
       "101350  | 113414\n",
       "108267  | 118965\n",
       "102832  | 113948\n",
       "101759  | 114192\n",
       "104551  | 114630\n",
       "... (90 rows omitted)"
      ]
     },
     "execution_count": 36,
     "metadata": {},
     "output_type": "execute_result"
    }
   ],
   "source": [
    "intervals"
   ]
  },
  {
   "cell_type": "markdown",
   "metadata": {},
   "source": [
    "The good intervals are those that contain the parameter we are trying to estimate. Typically the parameter is unknown, but in this section we happen to know what the parameter is."
   ]
  },
  {
   "cell_type": "code",
   "execution_count": 37,
   "metadata": {},
   "outputs": [
    {
     "data": {
      "text/plain": [
       "110305.79"
      ]
     },
     "execution_count": 37,
     "metadata": {},
     "output_type": "execute_result"
    }
   ],
   "source": [
    "pop_median"
   ]
  },
  {
   "cell_type": "markdown",
   "metadata": {},
   "source": [
    "How many of the 100 intervals contain the population median? That's the number of intervals where the left end is below the population median and the right end is above."
   ]
  },
  {
   "cell_type": "code",
   "execution_count": 38,
   "metadata": {},
   "outputs": [
    {
     "data": {
      "text/plain": [
       "96"
      ]
     },
     "execution_count": 38,
     "metadata": {},
     "output_type": "execute_result"
    }
   ],
   "source": [
    "intervals.where('Left', datascience.are.below(pop_median)).where('Right', datascience.are.above(pop_median)).num_rows"
   ]
  },
  {
   "cell_type": "markdown",
   "metadata": {},
   "source": [
    "It takes a few minutes to construct all the intervals, but try it again if you have the patience. Most likely, about 95 of the 100 intervals will be good ones: they will contain the parameter.\n",
    "\n",
    "It's hard to show you all the intervals on the horizontal axis as they have large overlaps – after all, they are all trying to estimate the same parameter. The graphic below shows each interval on the same axes by stacking them vertically. The vertical axis is simply the number of the replication from which the interval was generated.\n",
    "\n",
    "The red line is where the parameter is. Good intervals cover the parameter; there are about 95 of these, typically.\n",
    "\n",
    "If an interval doesn't cover the parameter, it's a dud. The duds are the ones where you can see \"daylight\" around the red line. There are very few of them – about 5, typically – but they do happen.\n",
    "\n",
    "Any method based on sampling has the possibility of being off. The beauty of methods based on random sampling is that we can quantify how often they are likely to be off."
   ]
  },
  {
   "cell_type": "code",
   "execution_count": 39,
   "metadata": {},
   "outputs": [
    {
     "data": {
      "image/png": "[encoded data removed]",
      "text/plain": [
       "<Figure size 576x576 with 1 Axes>"
      ]
     },
     "metadata": {
      "needs_background": "light"
     },
     "output_type": "display_data"
    }
   ],
   "source": [
    "replication_number = numpy.ndarray.astype(numpy.arange(1, 101), str)\n",
    "intervals2 = datascience.Table(replication_number).with_rows(datascience.make_array(left_ends, right_ends))\n",
    "\n",
    "matplotlib.pyplot.figure(figsize=(8,8))\n",
    "for i in numpy.arange(100):\n",
    "    ends = intervals2.column(i)\n",
    "    matplotlib.pyplot.plot(ends, datascience.make_array(i+1, i+1), color='gold')\n",
    "matplotlib.pyplot.plot(datascience.make_array(pop_median, pop_median), datascience.make_array(0, 100), color='red', lw=2)\n",
    "matplotlib.pyplot.xlabel('Median (dollars)')\n",
    "matplotlib.pyplot.ylabel('Replication')\n",
    "matplotlib.pyplot.title('Population Median and Intervals of Estimates');\n"
   ]
  },
  {
   "cell_type": "markdown",
   "metadata": {},
   "source": [
    "To summarize what the simulation shows, suppose you are estimating the population median by the following process:\n",
    "\n",
    "    Draw a large random sample from the population.\n",
    "    Bootstrap your random sample and get an estimate from the new random sample.\n",
    "    Repeat the above step thousands of times, and get thousands of estimates.\n",
    "    Pick off the \"middle 95%\" interval of all the estimates.\n",
    "\n",
    "That gives you one interval of estimates. Now if you repeat the entire process 100 times, ending up with 100 intervals, then about 95 of those 100 intervals will contain the population parameter.\n",
    "\n",
    "In other words, this process of estimation captures the parameter about 95% of the time.\n",
    "\n",
    "You can replace 95% by a different value, as long as it's not 100. Suppose you replace 95% by 80% and keep the sample size fixed at 500. Then your intervals of estimates will be shorter than those we simulated here, because the \"middle 80%\" is a smaller range than the \"middle 95%\". Only about 80% of your intervals will contain the parameter."
   ]
  },
  {
   "cell_type": "code",
   "execution_count": 40,
   "metadata": {},
   "outputs": [
    {
     "data": {
      "image/png": "[encoded data removed]",
      "text/plain": [
       "<Figure size 576x576 with 1 Axes>"
      ]
     },
     "metadata": {
      "needs_background": "light"
     },
     "output_type": "display_data"
    }
   ],
   "source": [
    "# THE BIG SIMULATION: This one takes several minutes.\n",
    "# Generate 100 intervals, in the table intervals\n",
    "# modified by tgc for UCB dependencies not loaded as part of textbook\n",
    "# test 26oct2020 on AWS server runtime == about 4 minutes\n",
    "left_ends = datascience.make_array()\n",
    "right_ends = datascience.make_array()\n",
    "\n",
    "total_comps = sf2015.select('Total Compensation')\n",
    "\n",
    "for i in numpy.arange(100):\n",
    "    first_sample = total_comps.sample(500, with_replacement=False)\n",
    "    medians = bootstrap_median(first_sample, 'Total Compensation', 5000)\n",
    "    left_ends = numpy.append(left_ends, datascience.percentile(10, medians))\n",
    "    right_ends = numpy.append(right_ends, datascience.percentile(90, medians))\n",
    "\n",
    "intervals = datascience.Table().with_columns(\n",
    "    'Left', left_ends,\n",
    "    'Right', right_ends\n",
    ")\n",
    "\n",
    "replication_number = numpy.ndarray.astype(numpy.arange(1, 101), str)\n",
    "intervals3 = datascience.Table(replication_number).with_rows(datascience.make_array(left_ends, right_ends))\n",
    "\n",
    "matplotlib.pyplot.figure(figsize=(8,8))\n",
    "for i in numpy.arange(100):\n",
    "    ends = intervals3.column(i)\n",
    "    matplotlib.pyplot.plot(ends, datascience.make_array(i+1, i+1), color='gold')\n",
    "matplotlib.pyplot.plot(datascience.make_array(pop_median, pop_median), datascience.make_array(0, 100), color='red', lw=2)\n",
    "matplotlib.pyplot.xlabel('Median (dollars)')\n",
    "matplotlib.pyplot.ylabel('Replication')\n",
    "matplotlib.pyplot.title('Population Median and Intervals of Estimates');"
   ]
  },
  {
   "cell_type": "markdown",
   "metadata": {},
   "source": [
    "## Next Time\n",
    "Lesson 18 will continue along these lines, and present without much theory methods for different estimates -- they all share the same underlying principles illustrated here."
   ]
  },
  {
   "cell_type": "code",
   "execution_count": null,
   "metadata": {},
   "outputs": [],
   "source": []
  }
 ],
 "metadata": {
  "kernelspec": {
   "display_name": "Python 38",
   "language": "python",
   "name": "python38"
  },
  "language_info": {
   "codemirror_mode": {
    "name": "ipython",
    "version": 3
   },
   "file_extension": ".py",
   "mimetype": "text/x-python",
   "name": "python",
   "nbconvert_exporter": "python",
   "pygments_lexer": "ipython3",
   "version": "3.8.3"
  }
 },
 "nbformat": 4,
 "nbformat_minor": 4
}
