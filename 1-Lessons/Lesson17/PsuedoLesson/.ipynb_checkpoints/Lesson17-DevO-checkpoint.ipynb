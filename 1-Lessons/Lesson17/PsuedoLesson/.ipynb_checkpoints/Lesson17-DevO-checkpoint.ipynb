{
 "cells": [
  {
   "cell_type": "code",
<<<<<<< HEAD
   "execution_count": 2,
=======
   "execution_count": 1,
>>>>>>> 76755219a976e9ff6a2d2025d27e5e57d5870a46
   "metadata": {},
   "outputs": [
    {
     "data": {
      "text/html": [
       "<!--Script block to left align Markdown Tables-->\n",
       "<style>\n",
       "  table {margin-left: 0 !important;}\n",
       "</style>\n"
      ],
      "text/plain": [
       "<IPython.core.display.HTML object>"
      ]
     },
     "metadata": {},
     "output_type": "display_data"
    }
   ],
   "source": [
    "%%html\n",
    "<!--Script block to left align Markdown Tables-->\n",
    "<style>\n",
    "  table {margin-left: 0 !important;}\n",
    "</style>"
   ]
  },
  {
   "cell_type": "code",
<<<<<<< HEAD
   "execution_count": 3,
=======
   "execution_count": 2,
>>>>>>> 76755219a976e9ff6a2d2025d27e5e57d5870a46
   "metadata": {},
   "outputs": [
    {
     "name": "stdout",
     "output_type": "stream",
     "text": [
<<<<<<< HEAD
      "atomickitty.aws\n",
      "engr1330content\n",
      "/opt/conda/envs/python/bin/python\n",
      "3.8.3 (default, Jul  2 2020, 16:21:59) \n",
      "[GCC 7.3.0]\n",
      "sys.version_info(major=3, minor=8, micro=3, releaselevel='final', serial=0)\n"
=======
      "atomickitty\n",
      "compthink\n",
      "/opt/jupyterhub/bin/python3\n",
      "3.8.5 (default, Jan 27 2021, 15:41:15) \n",
      "[GCC 9.3.0]\n",
      "sys.version_info(major=3, minor=8, micro=5, releaselevel='final', serial=0)\n"
>>>>>>> 76755219a976e9ff6a2d2025d27e5e57d5870a46
     ]
    }
   ],
   "source": [
    "# Preamble script block to identify host, user, and kernel\n",
    "import sys\n",
    "! hostname\n",
    "! whoami\n",
    "print(sys.executable)\n",
    "print(sys.version)\n",
    "print(sys.version_info)"
   ]
  },
  {
   "cell_type": "markdown",
   "metadata": {},
   "source": [
    "# ENGR 1330 Computational Thinking with Data Science \n",
    "Last GitHub Commit Date: 16 Mar 2021\n",
    "\n",
    "## Lesson 17 : A/B Testing and Confidence Intervals\n",
    "\n",
    "A procedure to systematically decide if two data collections are similar or substantially different, and quantify the probability of the differences\n",
    "\n",
    "<!--![](https://www.thermofisher.com/blog/wp-content/uploads/sites/11/2018/01/istock-829172394_redumbrella.jpg)-->\n",
    "\n",
    "## Objectives\n",
    "- To apply fundamental concepts involved in probability estimation modeling and descriptive statistics;\n",
    "  - Are two sets different from each other?\n",
    "  - What is the best estimate of a statistiv from a set, and its likely range?\n",
    "  - \n",
    "---\n",
    "\n",
    "## Computational Thinking Concepts\n",
    "The CT concepts include:\n",
    "\n",
    "- Abstraction => Represent data behavior with a statistic \n",
    "- Pattern Recognition => Compare patterns in (our) data models to make a decision\n",
    "---\n",
    "\n",
    "# Textbook Resources\n",
    "\n",
    "[https://www.inferentialthinking.com/chapters/11/Testing_Hypotheses.html](https://www.inferentialthinking.com/chapters/11/Testing_Hypotheses.html)\n",
    "\n",
    "You know the URL that no-one reads, perhaps because there is a \"secret\" module you need to install, without instructions of how! \n",
    "\n",
    "# A/B Testing \n",
    "\n",
    "Deciding whether two numerical samples come from the same underlying distribution is called A/B testing. The name refers to the labels of the two samples, A and B.  We have examined this kind of question already in prior labs.\n",
    "\n",
    "We leave you to examine the example in the textbook on your own.  "
   ]
  },
  {
   "cell_type": "markdown",
   "metadata": {},
   "source": [
    "<hr>\n",
    "\n",
    "Much of what follows below is borrowed with some changes for our class from: https://pubs.usgs.gov/tm/04/a03/tm4a3.pdf\n",
    "\n",
    "\n",
    "## Interval Estimates\n",
    "\n",
    "Several summary statistics were presented that described key attributes of a dataset, including sample estimates such as $\\bar x$ and $s^2$, of true and unknown population parameters, such as $\\mu$, the population mean, and $\\sigma^2$, the population variance. \n",
    "\n",
    "What follows are methods to describe the uncertainty or reliability of sample estimates. As an alternative to reporting a single estimate, the utility of reporting a range of values called an interval estimate is demonstrated. Both parametric and nonparametric interval estimates are presented. These intervals can also be used to test whether the population parameter is significantly different from some prespecified value.\n",
    "\n",
    "### Definition of Interval Estimates\n",
    "\n",
    "The sample median and sample mean are two types of estimates of the central tendency of a population. Such estimates are called point estimates. By themselves, point estimates do not portray the reliability, or lack of reliability (variability), of these estimates. For example, suppose that two datasets—X and Y—exist, both have a sample mean of about 50 and contain the same number of observations. "
   ]
  },
  {
   "cell_type": "code",
<<<<<<< HEAD
   "execution_count": 78,
   "metadata": {},
   "outputs": [],
   "source": [
    "import numpy\n",
    "import pandas\n",
    "process1 = []\n",
    "process2 = []\n",
    "for i in range(1,101,1):\n",
    "    process1.append(i)\n",
    "for i in range(41,61,1):\n",
    "    process2.append(i)\n",
    "    "
   ]
  },
  {
   "cell_type": "code",
   "execution_count": 79,
   "metadata": {},
   "outputs": [],
   "source": [
    "#process2"
   ]
  },
  {
   "cell_type": "code",
   "execution_count": 80,
=======
   "execution_count": 34,
>>>>>>> 76755219a976e9ff6a2d2025d27e5e57d5870a46
   "metadata": {},
   "outputs": [
    {
     "name": "stdout",
     "output_type": "stream",
     "text": [
      "                X           Y\n",
      "count  500.000000  500.000000\n",
<<<<<<< HEAD
      "mean    50.516000   51.126000\n",
      "std     28.228628    5.836287\n",
      "min      1.000000   41.000000\n",
      "25%     26.750000   46.000000\n",
      "50%     51.000000   52.000000\n",
      "75%     75.000000   56.000000\n",
=======
      "mean    51.754000   50.304000\n",
      "std     28.903985    5.705496\n",
      "min      1.000000   41.000000\n",
      "25%     28.000000   45.000000\n",
      "50%     51.000000   50.000000\n",
      "75%     77.000000   55.000000\n",
>>>>>>> 76755219a976e9ff6a2d2025d27e5e57d5870a46
      "max    100.000000   60.000000\n"
     ]
    },
    {
     "data": {
      "text/plain": [
       "<AxesSubplot:ylabel='Frequency'>"
      ]
     },
<<<<<<< HEAD
     "execution_count": 80,
=======
     "execution_count": 34,
>>>>>>> 76755219a976e9ff6a2d2025d27e5e57d5870a46
     "metadata": {},
     "output_type": "execute_result"
    },
    {
     "data": {
<<<<<<< HEAD
      "image/png": "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\n",
=======
      "image/png": "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\n",
>>>>>>> 76755219a976e9ff6a2d2025d27e5e57d5870a46
      "text/plain": [
       "<Figure size 432x288 with 1 Axes>"
      ]
     },
     "metadata": {
      "needs_background": "light"
     },
     "output_type": "display_data"
    }
   ],
   "source": [
<<<<<<< HEAD
=======
    "import numpy\n",
    "import pandas\n",
    "process1 = []\n",
    "process2 = []\n",
    "for i in range(1,101,1):\n",
    "    process1.append(i)\n",
    "for i in range(41,61,1):\n",
    "    process2.append(i)\n",
    "    \n",
>>>>>>> 76755219a976e9ff6a2d2025d27e5e57d5870a46
    "x = numpy.random.choice(process1,500)\n",
    "y = numpy.random.choice(process2,500)\n",
    "\n",
    "# make lists into dataframe \n",
    "boxdf = pandas.DataFrame()\n",
    "boxdf['X']=x\n",
    "boxdf['Y']=y\n",
    "\n",
    "# describe lists/dataframe \n",
    "print(boxdf.describe())\n",
    "\n",
    "boxdf.plot.hist() # "
   ]
  },
  {
   "cell_type": "code",
   "execution_count": null,
   "metadata": {},
   "outputs": [],
   "source": []
  },
  {
   "cell_type": "markdown",
   "metadata": {},
   "source": [
    "The Y data all cluster tightly around 50; the X data are much more variable. The point estimate of 50 for dataset X is less certain than the point estimate for dataset Y because of the greater variability in the X data. Reporting only the sample (point) estimate of 50 fails to give any hint of this difference, although it is graphically quite evident.\n",
    "\n",
    "We would then recall we have been hypothesis testing the crap out of things, so we can apply those tools:"
   ]
  },
  {
   "cell_type": "code",
<<<<<<< HEAD
   "execution_count": 81,
=======
   "execution_count": 35,
>>>>>>> 76755219a976e9ff6a2d2025d27e5e57d5870a46
   "metadata": {},
   "outputs": [
    {
     "name": "stdout",
     "output_type": "stream",
     "text": [
<<<<<<< HEAD
      "stat=0.957, p=0.000\n",
=======
      "stat=0.953, p=0.000\n",
>>>>>>> 76755219a976e9ff6a2d2025d27e5e57d5870a46
      "Probably not Gaussian\n"
     ]
    }
   ],
   "source": [
    "# are the samples approximatley normal?\n",
    "# the Shapiro-Wilk Normality Test for set1\n",
    "from scipy.stats import shapiro\n",
    "stat, p = shapiro(boxdf['X'])\n",
    "print('stat=%.3f, p=%.3f' % (stat, p))\n",
    "if p > 0.05:\n",
    "\tprint('Probably Gaussian')\n",
    "else:\n",
    "\tprint('Probably not Gaussian')"
   ]
  },
  {
   "cell_type": "code",
<<<<<<< HEAD
   "execution_count": 82,
=======
   "execution_count": 36,
>>>>>>> 76755219a976e9ff6a2d2025d27e5e57d5870a46
   "metadata": {},
   "outputs": [
    {
     "name": "stdout",
     "output_type": "stream",
     "text": [
<<<<<<< HEAD
      "stat=0.943, p=0.000\n",
=======
      "stat=0.951, p=0.000\n",
>>>>>>> 76755219a976e9ff6a2d2025d27e5e57d5870a46
      "Probably not Gaussian\n"
     ]
    }
   ],
   "source": [
    "# are the samples approximatley normal?\n",
    "# the Shapiro-Wilk Normality Test for set1\n",
    "from scipy.stats import shapiro\n",
    "stat, p = shapiro(boxdf['Y'])\n",
    "print('stat=%.3f, p=%.3f' % (stat, p))\n",
    "if p > 0.05:\n",
    "\tprint('Probably Gaussian')\n",
    "else:\n",
    "\tprint('Probably not Gaussian')"
   ]
  },
  {
   "cell_type": "code",
<<<<<<< HEAD
   "execution_count": 83,
=======
   "execution_count": 37,
>>>>>>> 76755219a976e9ff6a2d2025d27e5e57d5870a46
   "metadata": {},
   "outputs": [
    {
     "name": "stdout",
     "output_type": "stream",
     "text": [
<<<<<<< HEAD
      "statistic=123847.000, p-value at rejection =0.400\n",
      "Probably the same mean\n"
=======
      "statistic=121764.500, p-value at rejection =0.239\n",
      "Probably the same distribution\n"
>>>>>>> 76755219a976e9ff6a2d2025d27e5e57d5870a46
     ]
    }
   ],
   "source": [
    "from scipy.stats import mannwhitneyu # import a useful non-parametric test\n",
    "stat, p = mannwhitneyu(boxdf['X'],boxdf['Y'])\n",
    "print('statistic=%.3f, p-value at rejection =%.3f' % (stat, p))\n",
    "if p > 0.05:\n",
    "    print('Probably the same mean')\n",
    "else:\n",
    "    print('Probably different mean')"
   ]
  },
  {
   "cell_type": "markdown",
   "metadata": {},
   "source": [
    "At this point we know that the mean values are about the same, but the two datasets are not alike (its the variance stupid!)\n",
    "\n",
    "As an alternative to just point estimates, interval estimates are intervals that have a stated probability of containing the true population value. In our example, the mean for Y is 50 and we are pretty sure of that, because the sample variance is small - if our sample had also tested as normal we could state that the estimate of population mean is 50 +/- 18 ( 3 standard deviations) with probability of 99%.  Such a statement is an interval estimate.\n",
    "\n",
    "In general, we will be presenting two-sided intervals (where the probability of the true value being higher than the upper limit is assumed to be equal to the probability of its being lower than the lower limit). There are also one-sided intervals. The intervals are wider for datasets having greater variability and the same number of data points. \n",
    "\n",
    "Thus, in the above example, an interval between 38 and 62 may have a 95-percent probability of containing the (unknown) true population mean of dataset Y. It would take a much wider interval, say between -6 and 106, to have the same probability of containing the true mean of dataset X. \n",
    "\n",
    "The difference in the reliability of the two estimates is therefore clearly stated using interval estimates. Interval estimates can provide two pieces of information which point estimates cannot:\n",
    "1. A statement of the probability or likelihood that the interval contains the true population value (its reliability).\n",
    "2. A statement of the likelihood that a single data point with specified magnitude comes from the population under study.\n",
    "\n",
    "Interval estimates for the first purpose are called confidence intervals; intervals for the second purpose are called prediction intervals. Though related, the two types of interval estimates are not identical, and should not be interchanged.\n",
    "\n",
    "# First a visit with our textbook!"
   ]
  },
  {
   "cell_type": "markdown",
   "metadata": {},
   "source": [
    "<hr>\n",
    "\n",
    "Much of what follows below is borrowed with minor changes for our class from: https://www.inferentialthinking.com/chapters/13/1/Percentiles.html\n",
    "\n",
    "\n",
    "## Percentiles\n",
    "\n",
    "Numerical data can be sorted in increasing or decreasing order. Thus the values of a numerical data set have a rank order. A percentile is the value at a particular rank.  *We have exploited this is our plotting position formulas earlier.*\n",
    "\n",
    "For example, if your score on a test is on the 95th percentile, a common interpretation is that only 5% of the scores were higher than yours. The median is the 50th percentile; it is commonly assumed that 50% the values in a data set are above the median.\n",
    "\n",
    "But some care is required in giving percentiles a precise definition that works for all ranks and all lists. To see why, consider an extreme example where all the students in a class score 75 on a test. Then 75 is a natural candidate for the median, but it's not true that 50% of the scores are above 75. Also, 75 is an equally natural candidate for the 95th percentile or the 25th or any other percentile. Ties – that is, equal data values – have to be taken into account when defining percentiles.\n",
    "\n",
    "You also have to be careful about exactly how far up the list to go when the relevant index isn't clear. For example, what should be the 87th percentile of a collection of 10 values? The 8th value of the sorted collection, or the 9th, or somewhere in between? *Again we have already addressed this issue with our plotting position formulas earlier.*\n",
    "\n",
    "## A Numerical Example \n",
    "\n",
    "Before giving a general definition of all percentiles, we will define the 80th percentile of a collection of values to be the smallest value in the collection that is at least as large as 80% of all of the values.\n",
    "\n",
    "For example, let's consider the sizes of the five largest continents – Africa, Antarctica, Asia, North America, and South America – rounded to the nearest million square miles."
   ]
  },
  {
   "cell_type": "code",
<<<<<<< HEAD
   "execution_count": 84,
=======
   "execution_count": 38,
>>>>>>> 76755219a976e9ff6a2d2025d27e5e57d5870a46
   "metadata": {},
   "outputs": [],
   "source": [
    "import datascience\n",
    "sizes = datascience.make_array(12, 17, 6, 9, 7)"
   ]
  },
  {
   "cell_type": "markdown",
   "metadata": {},
   "source": [
    "The 80th percentile is the smallest value that is at least as large as 80% of the elements of sizes, that is, four-fifths of the five elements. That's 12:"
   ]
  },
  {
   "cell_type": "code",
<<<<<<< HEAD
   "execution_count": 85,
=======
   "execution_count": 39,
>>>>>>> 76755219a976e9ff6a2d2025d27e5e57d5870a46
   "metadata": {},
   "outputs": [
    {
     "data": {
      "text/plain": [
       "array([ 6,  7,  9, 12, 17])"
      ]
     },
<<<<<<< HEAD
     "execution_count": 85,
=======
     "execution_count": 39,
>>>>>>> 76755219a976e9ff6a2d2025d27e5e57d5870a46
     "metadata": {},
     "output_type": "execute_result"
    }
   ],
   "source": [
    "numpy.sort(sizes)"
   ]
  },
  {
   "cell_type": "markdown",
   "metadata": {},
   "source": [
    "The 80th percentile is a value on the list, namely 12. You can see that 80% of the values are less than or equal to it, and that it is the smallest value on the list for which this is true.\n",
    "\n",
    "Analogously, the 70th percentile is the smallest value in the collection that is at least as large as 70% of the elements of sizes. Now 70% of 5 elements is \"3.5 elements\", so the 70th percentile is the 4th element on the list. That's 12, the same as the 80th percentile for these data.  * Not terribly useful yet but wait there's more!*\n",
    "\n",
    "## The percentile function \n",
    "\n",
    "**A Data8 Function**\n",
    "\n",
    "The percentile function takes two arguments: a rank between 0 and 100, and a array. It returns the corresponding percentile of the array."
   ]
  },
  {
   "cell_type": "code",
<<<<<<< HEAD
   "execution_count": 87,
=======
   "execution_count": 40,
>>>>>>> 76755219a976e9ff6a2d2025d27e5e57d5870a46
   "metadata": {},
   "outputs": [
    {
     "data": {
      "text/plain": [
       "12"
      ]
     },
<<<<<<< HEAD
     "execution_count": 87,
=======
     "execution_count": 40,
>>>>>>> 76755219a976e9ff6a2d2025d27e5e57d5870a46
     "metadata": {},
     "output_type": "execute_result"
    }
   ],
   "source": [
    "datascience.percentile(80, sizes)"
   ]
  },
  {
   "cell_type": "markdown",
   "metadata": {},
   "source": [
    "## The General Definition \n",
    "**Below is from the Data8 Textbook -- compare to our lab on plotting position formulas)**\n",
    "\n",
    "Let 𝑝 be a number between 0 and 100. The 𝑝-th percentile of a collection is the smallest value in the collection that is at least as large as p% of all the values.\n",
    "\n",
    "By this definition, any percentile between 0 and 100 can be computed for any collection of values, and it is always an element of the collection.\n",
    "\n",
    "In practical terms, suppose there are 𝑛 elements in the collection. To find the 𝑝-th percentile:\n",
    "\n",
    "- Sort the collection in increasing order.\n",
    "- Find p% of n: (𝑝/100)×𝑛 Call that 𝑘\n",
    "- If 𝑘 is an integer, take the 𝑘-th element of the sorted collection.\n",
    "- If 𝑘 is not an integer, round it up to the next integer, and take that element of the sorted collection.\n",
    "\n",
    "### Example \n",
    "The table scores_and_sections contains one row for each student in a class of 359 students. The columns are the student's discussion section and midterm score.\n",
    "\n",
    "Path to file is `http://54.243.252.9/engr-1330-psuedo-course/CECE-1330-PsuedoCourse/4-Databases/`\n"
   ]
  },
  {
   "cell_type": "raw",
   "metadata": {},
   "source": [
    "# copy the file\n",
    "! ls /home/compthink/CECE-1330-PsuedoCourse/4-Databases/\n",
    "#\n",
    "! cp /home/compthink/CECE-1330-PsuedoCourse/4-Databases/scores_by_section.csv ./"
   ]
  },
  {
   "cell_type": "markdown",
   "metadata": {},
   "source": [
    "The table scores_and_sections contains one row for each student in a class of 359 students. The columns are the student's discussion section and midterm score."
   ]
  },
  {
   "cell_type": "code",
<<<<<<< HEAD
   "execution_count": 89,
=======
   "execution_count": 41,
>>>>>>> 76755219a976e9ff6a2d2025d27e5e57d5870a46
   "metadata": {},
   "outputs": [
    {
     "data": {
      "text/html": [
       "<table border=\"1\" class=\"dataframe\">\n",
       "    <thead>\n",
       "        <tr>\n",
       "            <th>Section</th> <th>Midterm</th>\n",
       "        </tr>\n",
       "    </thead>\n",
       "    <tbody>\n",
       "        <tr>\n",
       "            <td>1      </td> <td>22     </td>\n",
       "        </tr>\n",
       "        <tr>\n",
       "            <td>2      </td> <td>12     </td>\n",
       "        </tr>\n",
       "        <tr>\n",
       "            <td>2      </td> <td>23     </td>\n",
       "        </tr>\n",
       "        <tr>\n",
       "            <td>2      </td> <td>14     </td>\n",
       "        </tr>\n",
       "        <tr>\n",
       "            <td>1      </td> <td>20     </td>\n",
       "        </tr>\n",
       "        <tr>\n",
       "            <td>3      </td> <td>25     </td>\n",
       "        </tr>\n",
       "        <tr>\n",
       "            <td>4      </td> <td>19     </td>\n",
       "        </tr>\n",
       "        <tr>\n",
       "            <td>1      </td> <td>24     </td>\n",
       "        </tr>\n",
       "        <tr>\n",
       "            <td>5      </td> <td>8      </td>\n",
       "        </tr>\n",
       "        <tr>\n",
       "            <td>6      </td> <td>14     </td>\n",
       "        </tr>\n",
       "    </tbody>\n",
       "</table>\n",
       "<p>... (349 rows omitted)</p>"
      ],
      "text/plain": [
       "Section | Midterm\n",
       "1       | 22\n",
       "2       | 12\n",
       "2       | 23\n",
       "2       | 14\n",
       "1       | 20\n",
       "3       | 25\n",
       "4       | 19\n",
       "1       | 24\n",
       "5       | 8\n",
       "6       | 14\n",
       "... (349 rows omitted)"
      ]
     },
<<<<<<< HEAD
     "execution_count": 89,
=======
     "execution_count": 41,
>>>>>>> 76755219a976e9ff6a2d2025d27e5e57d5870a46
     "metadata": {},
     "output_type": "execute_result"
    }
   ],
   "source": [
    "scores_and_sections = datascience.Table.read_table('scores_by_section.csv')\n",
    "scores_and_sections"
   ]
  },
  {
   "cell_type": "markdown",
   "metadata": {},
   "source": [
    "If we make a histogram (using the Data8 tools from our textbook) can we approximate the 85%?  (just by looking it seems to be at 22-ish from the plot)"
   ]
  },
  {
   "cell_type": "code",
<<<<<<< HEAD
   "execution_count": 90,
=======
   "execution_count": 42,
>>>>>>> 76755219a976e9ff6a2d2025d27e5e57d5870a46
   "metadata": {},
   "outputs": [
    {
     "data": {
      "image/png": "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\n",
      "text/plain": [
       "<Figure size 432x288 with 1 Axes>"
      ]
     },
     "metadata": {
      "needs_background": "light"
     },
     "output_type": "display_data"
    }
   ],
   "source": [
    "scores_and_sections.select('Midterm').hist(bins=numpy.arange(-0.5, 25.6, 1))"
   ]
  },
  {
   "cell_type": "code",
<<<<<<< HEAD
   "execution_count": 91,
=======
   "execution_count": 43,
>>>>>>> 76755219a976e9ff6a2d2025d27e5e57d5870a46
   "metadata": {},
   "outputs": [
    {
     "data": {
      "text/plain": [
       "22"
      ]
     },
<<<<<<< HEAD
     "execution_count": 91,
=======
     "execution_count": 43,
>>>>>>> 76755219a976e9ff6a2d2025d27e5e57d5870a46
     "metadata": {},
     "output_type": "execute_result"
    }
   ],
   "source": [
    "datascience.percentile(85, scores_and_sections.column(1))"
   ]
  },
  {
   "cell_type": "markdown",
   "metadata": {},
   "source": [
    "So the eyeball value was not too bad! According to the percentile function, the 85th percentile was 22. To check that this is consistent with the definition, let's apply the definition directly.\n",
    "\n",
    "First, put the scores in increasing order:"
   ]
  },
  {
   "cell_type": "code",
<<<<<<< HEAD
   "execution_count": 93,
=======
   "execution_count": 44,
>>>>>>> 76755219a976e9ff6a2d2025d27e5e57d5870a46
   "metadata": {},
   "outputs": [
    {
     "data": {
      "text/plain": [
       "359"
      ]
     },
<<<<<<< HEAD
     "execution_count": 93,
=======
     "execution_count": 44,
>>>>>>> 76755219a976e9ff6a2d2025d27e5e57d5870a46
     "metadata": {},
     "output_type": "execute_result"
    }
   ],
   "source": [
    "sorted_scores = numpy.sort(scores_and_sections.column(1))\n",
    "len(sorted_scores)"
   ]
  },
  {
   "cell_type": "markdown",
   "metadata": {},
   "source": [
    "There are 359 scores in the array. So next, find 85% of 359, which is 305.15."
   ]
  },
  {
   "cell_type": "code",
<<<<<<< HEAD
   "execution_count": 94,
=======
   "execution_count": 45,
>>>>>>> 76755219a976e9ff6a2d2025d27e5e57d5870a46
   "metadata": {},
   "outputs": [
    {
     "data": {
      "text/plain": [
       "305.15"
      ]
     },
<<<<<<< HEAD
     "execution_count": 94,
=======
     "execution_count": 45,
>>>>>>> 76755219a976e9ff6a2d2025d27e5e57d5870a46
     "metadata": {},
     "output_type": "execute_result"
    }
   ],
   "source": [
    "0.85 * 359"
   ]
  },
  {
   "cell_type": "markdown",
   "metadata": {},
   "source": [
    "That's not an integer. By the definition, the 85th percentile is the 306th element of sorted_scores, which, by Python's indexing convention, is item 305 of the array."
   ]
  },
  {
   "cell_type": "code",
<<<<<<< HEAD
   "execution_count": 95,
=======
   "execution_count": 46,
>>>>>>> 76755219a976e9ff6a2d2025d27e5e57d5870a46
   "metadata": {},
   "outputs": [
    {
     "data": {
      "text/plain": [
       "22"
      ]
     },
<<<<<<< HEAD
     "execution_count": 95,
=======
     "execution_count": 46,
>>>>>>> 76755219a976e9ff6a2d2025d27e5e57d5870a46
     "metadata": {},
     "output_type": "execute_result"
    }
   ],
   "source": [
    "# The 306th element of the sorted array\n",
    "sorted_scores.item(305)"
   ]
  },
  {
   "cell_type": "markdown",
   "metadata": {},
   "source": [
    "That's the same as the answer we got by using percentile. In future, we will just use percentile.\n",
    "\n",
    "### Quartiles \n",
    "\n",
    "The first quartile of a numercial collection is the 25th percentile. The terminology arises from the first quarter. The second quartile is the median, and the third quartile is the 75th percentile.\n",
    "\n",
    "For our scores data, those values are:"
   ]
  },
  {
   "cell_type": "code",
<<<<<<< HEAD
   "execution_count": 99,
=======
   "execution_count": 47,
>>>>>>> 76755219a976e9ff6a2d2025d27e5e57d5870a46
   "metadata": {},
   "outputs": [
    {
     "name": "stdout",
     "output_type": "stream",
     "text": [
      "11\n",
      "16\n",
      "20\n"
     ]
    }
   ],
   "source": [
    "print(datascience.percentile(25, sorted_scores))\n",
    "print(datascience.percentile(50, sorted_scores))\n",
    "print(datascience.percentile(75, sorted_scores))"
   ]
  },
  {
   "cell_type": "code",
<<<<<<< HEAD
   "execution_count": 97,
=======
   "execution_count": 48,
>>>>>>> 76755219a976e9ff6a2d2025d27e5e57d5870a46
   "metadata": {},
   "outputs": [
    {
     "data": {
      "text/html": [
       "<div>\n",
       "<style scoped>\n",
       "    .dataframe tbody tr th:only-of-type {\n",
       "        vertical-align: middle;\n",
       "    }\n",
       "\n",
       "    .dataframe tbody tr th {\n",
       "        vertical-align: top;\n",
       "    }\n",
       "\n",
       "    .dataframe thead th {\n",
       "        text-align: right;\n",
       "    }\n",
       "</style>\n",
       "<table border=\"1\" class=\"dataframe\">\n",
       "  <thead>\n",
       "    <tr style=\"text-align: right;\">\n",
       "      <th></th>\n",
       "      <th>0</th>\n",
       "    </tr>\n",
       "  </thead>\n",
       "  <tbody>\n",
       "    <tr>\n",
       "      <th>count</th>\n",
       "      <td>359.000000</td>\n",
       "    </tr>\n",
       "    <tr>\n",
       "      <th>mean</th>\n",
       "      <td>15.493036</td>\n",
       "    </tr>\n",
       "    <tr>\n",
       "      <th>std</th>\n",
       "      <td>6.081323</td>\n",
       "    </tr>\n",
       "    <tr>\n",
       "      <th>min</th>\n",
       "      <td>0.000000</td>\n",
       "    </tr>\n",
       "    <tr>\n",
       "      <th>25%</th>\n",
       "      <td>11.000000</td>\n",
       "    </tr>\n",
       "    <tr>\n",
       "      <th>50%</th>\n",
       "      <td>16.000000</td>\n",
       "    </tr>\n",
       "    <tr>\n",
       "      <th>75%</th>\n",
       "      <td>20.000000</td>\n",
       "    </tr>\n",
       "    <tr>\n",
       "      <th>max</th>\n",
       "      <td>25.000000</td>\n",
       "    </tr>\n",
       "  </tbody>\n",
       "</table>\n",
       "</div>"
      ],
      "text/plain": [
       "                0\n",
       "count  359.000000\n",
       "mean    15.493036\n",
       "std      6.081323\n",
       "min      0.000000\n",
       "25%     11.000000\n",
       "50%     16.000000\n",
       "75%     20.000000\n",
       "max     25.000000"
      ]
     },
<<<<<<< HEAD
     "execution_count": 97,
=======
     "execution_count": 48,
>>>>>>> 76755219a976e9ff6a2d2025d27e5e57d5870a46
     "metadata": {},
     "output_type": "execute_result"
    }
   ],
   "source": [
    "pandas.DataFrame(sorted_scores).describe()"
   ]
  },
  {
   "cell_type": "markdown",
   "metadata": {},
   "source": [
    "### Bootstrapping\n",
    "\n",
    "A data scientist is using the data in a random sample to estimate an unknown parameter. She uses the sample to calculate the value of a statistic that she will use as her estimate.\n",
    "\n",
    "Once she has calculated the observed value of her statistic, she could just present it as her estimate and go on her merry way. But she knows that her random sample is just one of numerous possible random samples, and thus her estimate is just one of numerous plausible estimates.\n",
    "\n",
    "By how much could those estimates vary? To answer this, it appears as though she needs to draw another sample from the population, and compute a new estimate based on the new sample. But she doesn't have the cash to go back to the population and draw another sample.\n",
    "\n",
    "It looks as though the data scientist is stuck, but a method called the bootstrap (or just bootstrapping) can help out. Because it is not feasible to generate new samples from the population, the bootstrap generates new random samples by a method called resampling: the new samples are drawn at random from the original sample.  (Essentially, the orginal sample is now treated as a complete population - its a hack, but surprisingly useful)\n"
   ]
  },
  {
   "cell_type": "markdown",
   "metadata": {},
   "source": [
    "### Employee Compensation in the City of San Francisco\n",
    "\n",
    "SF OpenData is a website where the City and County of San Francisco make some of their data publicly available. One of the data sets contains compensation data for employees of the City. These include medical professionals at City-run hospitals, police officers, fire fighters, transportation workers, elected officials, and all other employees of the City.\n",
    "\n",
    "Compensation data for the calendar year 2015 are in the table sf2015."
   ]
  },
  {
   "cell_type": "code",
<<<<<<< HEAD
   "execution_count": 100,
=======
   "execution_count": 49,
>>>>>>> 76755219a976e9ff6a2d2025d27e5e57d5870a46
   "metadata": {},
   "outputs": [
    {
     "name": "stdout",
     "output_type": "stream",
     "text": [
      "cp: cannot stat '/home/compthink/CECE-1330-PsuedoCourse/4-Databases/san_francisco_2015.csv': No such file or directory\n"
     ]
    },
    {
     "data": {
      "text/html": [
       "<table border=\"1\" class=\"dataframe\">\n",
       "    <thead>\n",
       "        <tr>\n",
       "            <th>Year Type</th> <th>Year</th> <th>Organization Group Code</th> <th>Organization Group</th> <th>Department Code</th> <th>Department</th> <th>Union Code</th> <th>Union</th> <th>Job Family Code</th> <th>Job Family</th> <th>Job Code</th> <th>Job</th> <th>Employee Identifier</th> <th>Salaries</th> <th>Overtime</th> <th>Other Salaries</th> <th>Total Salary</th> <th>Retirement</th> <th>Health/Dental</th> <th>Other Benefits</th> <th>Total Benefits</th> <th>Total Compensation</th>\n",
       "        </tr>\n",
       "    </thead>\n",
       "    <tbody>\n",
       "        <tr>\n",
       "            <td>Calendar </td> <td>2015</td> <td>2                      </td> <td>Public Works, Transportation & Commerce </td> <td>WTR            </td> <td>PUC Water Department                  </td> <td>21        </td> <td>Prof & Tech Engineers - Miscellaneous, Local 21   </td> <td>2400           </td> <td>Lab, Pharmacy & Med Techs    </td> <td>2481    </td> <td>Water Qualitytech I/II        </td> <td>21538              </td> <td>82146   </td> <td>0       </td> <td>0             </td> <td>82146       </td> <td>16942.2   </td> <td>12340.9      </td> <td>6337.73       </td> <td>35620.8       </td> <td>117767            </td>\n",
       "        </tr>\n",
       "        <tr>\n",
       "            <td>Calendar </td> <td>2015</td> <td>2                      </td> <td>Public Works, Transportation & Commerce </td> <td>DPW            </td> <td>General Services Agency - Public Works</td> <td>12        </td> <td>Carpet, Linoleum and Soft Tile Workers, Local 12  </td> <td>7300           </td> <td>Journeyman Trade             </td> <td>7393    </td> <td>Soft Floor Coverer            </td> <td>5459               </td> <td>32165.8 </td> <td>973.19  </td> <td>848.96        </td> <td>33987.9     </td> <td>0         </td> <td>4587.51      </td> <td>2634.42       </td> <td>7221.93       </td> <td>41209.8           </td>\n",
       "        </tr>\n",
       "        <tr>\n",
       "            <td>Calendar </td> <td>2015</td> <td>4                      </td> <td>Community Health                        </td> <td>DPH            </td> <td>Public Health                         </td> <td>790       </td> <td>SEIU - Miscellaneous, Local 1021                  </td> <td>1600           </td> <td>Payroll, Billing & Accounting</td> <td>1636    </td> <td>Health Care Billing Clerk 2   </td> <td>41541              </td> <td>71311   </td> <td>5757.98 </td> <td>0             </td> <td>77069       </td> <td>14697.6   </td> <td>12424.5      </td> <td>6370.06       </td> <td>33492.2       </td> <td>110561            </td>\n",
       "        </tr>\n",
       "        <tr>\n",
       "            <td>Calendar </td> <td>2015</td> <td>4                      </td> <td>Community Health                        </td> <td>DPH            </td> <td>Public Health                         </td> <td>351       </td> <td>Municipal Executive Association - Miscellaneous   </td> <td>0900           </td> <td>Management                   </td> <td>2620    </td> <td>Food Service Mgr Administrator</td> <td>26718              </td> <td>28430.2 </td> <td>0       </td> <td>763.07        </td> <td>29193.3     </td> <td>0         </td> <td>4223.14      </td> <td>5208.51       </td> <td>9431.65       </td> <td>38625             </td>\n",
       "        </tr>\n",
       "        <tr>\n",
       "            <td>Calendar </td> <td>2015</td> <td>2                      </td> <td>Public Works, Transportation & Commerce </td> <td>MTA            </td> <td>Municipal Transportation Agency       </td> <td>790       </td> <td>SEIU - Miscellaneous, Local 1021                  </td> <td>8200           </td> <td>Protection & Apprehension    </td> <td>8201    </td> <td>School Crossing Guard         </td> <td>45810              </td> <td>7948.75 </td> <td>0       </td> <td>0             </td> <td>7948.75     </td> <td>0         </td> <td>2873.17      </td> <td>616.24        </td> <td>3489.41       </td> <td>11438.2           </td>\n",
       "        </tr>\n",
       "        <tr>\n",
       "            <td>Calendar </td> <td>2015</td> <td>1                      </td> <td>Public Protection                       </td> <td>POL            </td> <td>Police                                </td> <td>911       </td> <td>Police Officers' Association                      </td> <td>Q000           </td> <td>Police Services              </td> <td>Q002    </td> <td>Police Officer                </td> <td>32906              </td> <td>2235    </td> <td>0       </td> <td>0             </td> <td>2235        </td> <td>490.36    </td> <td>286.72       </td> <td>176.57        </td> <td>953.65        </td> <td>3188.65           </td>\n",
       "        </tr>\n",
       "        <tr>\n",
       "            <td>Calendar </td> <td>2015</td> <td>4                      </td> <td>Community Health                        </td> <td>DPH            </td> <td>Public Health                         </td> <td>791       </td> <td>SEIU - Staff and Per Diem Nurses, Local 1021      </td> <td>2300           </td> <td>Nursing                      </td> <td>2328    </td> <td>Nurse Practitioner            </td> <td>7506               </td> <td>187247  </td> <td>0       </td> <td>11704.1       </td> <td>198951      </td> <td>37683.7   </td> <td>12424.5      </td> <td>11221.7       </td> <td>61329.9       </td> <td>260281            </td>\n",
       "        </tr>\n",
       "        <tr>\n",
       "            <td>Calendar </td> <td>2015</td> <td>2                      </td> <td>Public Works, Transportation & Commerce </td> <td>MTA            </td> <td>Municipal Transportation Agency       </td> <td>253       </td> <td>Transport Workers - Transit Operators, Local 250-A</td> <td>9100           </td> <td>Street Transit               </td> <td>9163    </td> <td>Transit Operator              </td> <td>36773              </td> <td>66988.5 </td> <td>3512.88 </td> <td>2770.39       </td> <td>73271.8     </td> <td>19127.2   </td> <td>13203        </td> <td>5455.1        </td> <td>37785.3       </td> <td>111057            </td>\n",
       "        </tr>\n",
       "        <tr>\n",
       "            <td>Calendar </td> <td>2015</td> <td>6                      </td> <td>General Administration & Finance        </td> <td>CAT            </td> <td>City Attorney                         </td> <td>311       </td> <td>Municipal Attorneys' Association                  </td> <td>8100           </td> <td>Legal & Court                </td> <td>8177    </td> <td>Attorney (Civil/Criminal)     </td> <td>12963              </td> <td>135190  </td> <td>0       </td> <td>1562.5        </td> <td>136752      </td> <td>27501.8   </td> <td>12424.5      </td> <td>10103         </td> <td>50029.3       </td> <td>186781            </td>\n",
       "        </tr>\n",
       "        <tr>\n",
       "            <td>Calendar </td> <td>2015</td> <td>3                      </td> <td>Human Welfare & Neighborhood Development</td> <td>DSS            </td> <td>Human Services                        </td> <td>535       </td> <td>SEIU - Human Services, Local 1021                 </td> <td>9700           </td> <td>Community Development        </td> <td>9703    </td> <td>Emp & Training Spec 2         </td> <td>35179              </td> <td>70474.8 </td> <td>147.28  </td> <td>1647.24       </td> <td>72269.3     </td> <td>14650.3   </td> <td>10696.9      </td> <td>5993.11       </td> <td>31340.3       </td> <td>103610            </td>\n",
       "        </tr>\n",
       "    </tbody>\n",
       "</table>\n",
       "<p>... (42979 rows omitted)</p>"
      ],
      "text/plain": [
       "Year Type | Year | Organization Group Code | Organization Group                       | Department Code | Department                             | Union Code | Union                                              | Job Family Code | Job Family                    | Job Code | Job                            | Employee Identifier | Salaries | Overtime | Other Salaries | Total Salary | Retirement | Health/Dental | Other Benefits | Total Benefits | Total Compensation\n",
       "Calendar  | 2015 | 2                       | Public Works, Transportation & Commerce  | WTR             | PUC Water Department                   | 21         | Prof & Tech Engineers - Miscellaneous, Local 21    | 2400            | Lab, Pharmacy & Med Techs     | 2481     | Water Qualitytech I/II         | 21538               | 82146    | 0        | 0              | 82146        | 16942.2    | 12340.9       | 6337.73        | 35620.8        | 117767\n",
       "Calendar  | 2015 | 2                       | Public Works, Transportation & Commerce  | DPW             | General Services Agency - Public Works | 12         | Carpet, Linoleum and Soft Tile Workers, Local 12   | 7300            | Journeyman Trade              | 7393     | Soft Floor Coverer             | 5459                | 32165.8  | 973.19   | 848.96         | 33987.9      | 0          | 4587.51       | 2634.42        | 7221.93        | 41209.8\n",
       "Calendar  | 2015 | 4                       | Community Health                         | DPH             | Public Health                          | 790        | SEIU - Miscellaneous, Local 1021                   | 1600            | Payroll, Billing & Accounting | 1636     | Health Care Billing Clerk 2    | 41541               | 71311    | 5757.98  | 0              | 77069        | 14697.6    | 12424.5       | 6370.06        | 33492.2        | 110561\n",
       "Calendar  | 2015 | 4                       | Community Health                         | DPH             | Public Health                          | 351        | Municipal Executive Association - Miscellaneous    | 0900            | Management                    | 2620     | Food Service Mgr Administrator | 26718               | 28430.2  | 0        | 763.07         | 29193.3      | 0          | 4223.14       | 5208.51        | 9431.65        | 38625\n",
       "Calendar  | 2015 | 2                       | Public Works, Transportation & Commerce  | MTA             | Municipal Transportation Agency        | 790        | SEIU - Miscellaneous, Local 1021                   | 8200            | Protection & Apprehension     | 8201     | School Crossing Guard          | 45810               | 7948.75  | 0        | 0              | 7948.75      | 0          | 2873.17       | 616.24         | 3489.41        | 11438.2\n",
       "Calendar  | 2015 | 1                       | Public Protection                        | POL             | Police                                 | 911        | Police Officers' Association                       | Q000            | Police Services               | Q002     | Police Officer                 | 32906               | 2235     | 0        | 0              | 2235         | 490.36     | 286.72        | 176.57         | 953.65         | 3188.65\n",
       "Calendar  | 2015 | 4                       | Community Health                         | DPH             | Public Health                          | 791        | SEIU - Staff and Per Diem Nurses, Local 1021       | 2300            | Nursing                       | 2328     | Nurse Practitioner             | 7506                | 187247   | 0        | 11704.1        | 198951       | 37683.7    | 12424.5       | 11221.7        | 61329.9        | 260281\n",
       "Calendar  | 2015 | 2                       | Public Works, Transportation & Commerce  | MTA             | Municipal Transportation Agency        | 253        | Transport Workers - Transit Operators, Local 250-A | 9100            | Street Transit                | 9163     | Transit Operator               | 36773               | 66988.5  | 3512.88  | 2770.39        | 73271.8      | 19127.2    | 13203         | 5455.1         | 37785.3        | 111057\n",
       "Calendar  | 2015 | 6                       | General Administration & Finance         | CAT             | City Attorney                          | 311        | Municipal Attorneys' Association                   | 8100            | Legal & Court                 | 8177     | Attorney (Civil/Criminal)      | 12963               | 135190   | 0        | 1562.5         | 136752       | 27501.8    | 12424.5       | 10103          | 50029.3        | 186781\n",
       "Calendar  | 2015 | 3                       | Human Welfare & Neighborhood Development | DSS             | Human Services                         | 535        | SEIU - Human Services, Local 1021                  | 9700            | Community Development         | 9703     | Emp & Training Spec 2          | 35179               | 70474.8  | 147.28   | 1647.24        | 72269.3      | 14650.3    | 10696.9       | 5993.11        | 31340.3        | 103610\n",
       "... (42979 rows omitted)"
      ]
     },
<<<<<<< HEAD
     "execution_count": 100,
=======
     "execution_count": 49,
>>>>>>> 76755219a976e9ff6a2d2025d27e5e57d5870a46
     "metadata": {},
     "output_type": "execute_result"
    }
   ],
   "source": [
    "! cp /home/compthink/CECE-1330-PsuedoCourse/4-Databases/san_francisco_2015.csv ./\n",
    "sf2015 = datascience.Table.read_table('san_francisco_2015.csv')\n",
    "sf2015"
   ]
  },
  {
   "cell_type": "markdown",
   "metadata": {},
   "source": [
    "There is one row for each of 42,979 employees. There are numerous columns containing information about City departmental affiliation and details of the different parts of the employee's compensation package. Here is the row correspoding to the late Edward Lee, the Mayor at that time.\n",
    "\n"
   ]
  },
  {
   "cell_type": "code",
<<<<<<< HEAD
   "execution_count": 101,
=======
   "execution_count": 50,
>>>>>>> 76755219a976e9ff6a2d2025d27e5e57d5870a46
   "metadata": {},
   "outputs": [
    {
     "data": {
      "text/html": [
       "<table border=\"1\" class=\"dataframe\">\n",
       "    <thead>\n",
       "        <tr>\n",
       "            <th>Year Type</th> <th>Year</th> <th>Organization Group Code</th> <th>Organization Group</th> <th>Department Code</th> <th>Department</th> <th>Union Code</th> <th>Union</th> <th>Job Family Code</th> <th>Job Family</th> <th>Job Code</th> <th>Job</th> <th>Employee Identifier</th> <th>Salaries</th> <th>Overtime</th> <th>Other Salaries</th> <th>Total Salary</th> <th>Retirement</th> <th>Health/Dental</th> <th>Other Benefits</th> <th>Total Benefits</th> <th>Total Compensation</th>\n",
       "        </tr>\n",
       "    </thead>\n",
       "    <tbody>\n",
       "        <tr>\n",
       "            <td>Calendar </td> <td>2015</td> <td>6                      </td> <td>General Administration & Finance</td> <td>MYR            </td> <td>Mayor     </td> <td>556       </td> <td>Elected Officials</td> <td>1100           </td> <td>Administrative & Mgmt (Unrep)</td> <td>1190    </td> <td>Mayor</td> <td>22433              </td> <td>288964  </td> <td>0       </td> <td>0             </td> <td>288964      </td> <td>58117     </td> <td>12424.5      </td> <td>20293         </td> <td>90834.5       </td> <td>379798            </td>\n",
       "        </tr>\n",
       "    </tbody>\n",
       "</table>"
      ],
      "text/plain": [
       "Year Type | Year | Organization Group Code | Organization Group               | Department Code | Department | Union Code | Union             | Job Family Code | Job Family                    | Job Code | Job   | Employee Identifier | Salaries | Overtime | Other Salaries | Total Salary | Retirement | Health/Dental | Other Benefits | Total Benefits | Total Compensation\n",
       "Calendar  | 2015 | 6                       | General Administration & Finance | MYR             | Mayor      | 556        | Elected Officials | 1100            | Administrative & Mgmt (Unrep) | 1190     | Mayor | 22433               | 288964   | 0        | 0              | 288964       | 58117      | 12424.5       | 20293          | 90834.5        | 379798"
      ]
     },
<<<<<<< HEAD
     "execution_count": 101,
=======
     "execution_count": 50,
>>>>>>> 76755219a976e9ff6a2d2025d27e5e57d5870a46
     "metadata": {},
     "output_type": "execute_result"
    }
   ],
   "source": [
    "sf2015.where('Job', datascience.are.equal_to('Mayor'))"
   ]
  },
  {
   "cell_type": "markdown",
   "metadata": {},
   "source": [
    "We are going to study the final column, Total Compensation. That's the employee's salary plus the City's contribution towards his/her retirement and benefit plans.\n",
    "\n",
    "Financial packages in a calendar year can sometimes be hard to understand as they depend on the date of hire, whether the employee is changing jobs within the City, and so on. For example, the lowest values in the Total Compensation column look a little strange."
   ]
  },
  {
   "cell_type": "code",
<<<<<<< HEAD
   "execution_count": 102,
=======
   "execution_count": 52,
>>>>>>> 76755219a976e9ff6a2d2025d27e5e57d5870a46
   "metadata": {},
   "outputs": [
    {
     "data": {
      "text/html": [
       "<table border=\"1\" class=\"dataframe\">\n",
       "    <thead>\n",
       "        <tr>\n",
       "            <th>Year Type</th> <th>Year</th> <th>Organization Group Code</th> <th>Organization Group</th> <th>Department Code</th> <th>Department</th> <th>Union Code</th> <th>Union</th> <th>Job Family Code</th> <th>Job Family</th> <th>Job Code</th> <th>Job</th> <th>Employee Identifier</th> <th>Salaries</th> <th>Overtime</th> <th>Other Salaries</th> <th>Total Salary</th> <th>Retirement</th> <th>Health/Dental</th> <th>Other Benefits</th> <th>Total Benefits</th> <th>Total Compensation</th>\n",
       "        </tr>\n",
       "    </thead>\n",
       "    <tbody>\n",
       "        <tr>\n",
       "            <td>Calendar </td> <td>2015</td> <td>1                      </td> <td>Public Protection                      </td> <td>FIR            </td> <td>Fire Department                   </td> <td>798       </td> <td>Firefighters - Miscellaneous, Local 798        </td> <td>H000           </td> <td>Fire Services           </td> <td>H002    </td> <td>Firefighter                  </td> <td>43833              </td> <td>0       </td> <td>0       </td> <td>0             </td> <td>0           </td> <td>0         </td> <td>0            </td> <td>-423.76       </td> <td>-423.76       </td> <td>-423.76           </td>\n",
       "        </tr>\n",
       "        <tr>\n",
       "            <td>Calendar </td> <td>2015</td> <td>4                      </td> <td>Community Health                       </td> <td>DPH            </td> <td>Public Health                     </td> <td>790       </td> <td>SEIU - Miscellaneous, Local 1021               </td> <td>9900           </td> <td>Public Service Aide     </td> <td>9924    </td> <td>PS Aide Health Services      </td> <td>27871              </td> <td>-292.4  </td> <td>0       </td> <td>0             </td> <td>-292.4      </td> <td>0         </td> <td>-95.58       </td> <td>-22.63        </td> <td>-118.21       </td> <td>-410.61           </td>\n",
       "        </tr>\n",
       "        <tr>\n",
       "            <td>Calendar </td> <td>2015</td> <td>1                      </td> <td>Public Protection                      </td> <td>JUV            </td> <td>Juvenile Probation                </td> <td>790       </td> <td>SEIU - Miscellaneous, Local 1021               </td> <td>8300           </td> <td>Correction & Detention  </td> <td>8320    </td> <td>Counselor, Juvenile Hall     </td> <td>10517              </td> <td>0       </td> <td>0       </td> <td>0             </td> <td>0           </td> <td>0         </td> <td>0            </td> <td>-159.12       </td> <td>-159.12       </td> <td>-159.12           </td>\n",
       "        </tr>\n",
       "        <tr>\n",
       "            <td>Calendar </td> <td>2015</td> <td>6                      </td> <td>General Administration & Finance       </td> <td>CPC            </td> <td>City Planning                     </td> <td>21        </td> <td>Prof & Tech Engineers - Miscellaneous, Local 21</td> <td>1000           </td> <td>Information Systems     </td> <td>1053    </td> <td>IS Business Analyst-Senior   </td> <td>18961              </td> <td>0       </td> <td>0       </td> <td>0             </td> <td>0           </td> <td>0         </td> <td>0            </td> <td>-26.53        </td> <td>-26.53        </td> <td>-26.53            </td>\n",
       "        </tr>\n",
       "        <tr>\n",
       "            <td>Calendar </td> <td>2015</td> <td>6                      </td> <td>General Administration & Finance       </td> <td>CPC            </td> <td>City Planning                     </td> <td>21        </td> <td>Prof & Tech Engineers - Miscellaneous, Local 21</td> <td>5200           </td> <td>Professional Engineering</td> <td>5277    </td> <td>Planner 1                    </td> <td>19387              </td> <td>0       </td> <td>0       </td> <td>0             </td> <td>0           </td> <td>0         </td> <td>0            </td> <td>-9.51         </td> <td>-9.51         </td> <td>-9.51             </td>\n",
       "        </tr>\n",
       "        <tr>\n",
       "            <td>Calendar </td> <td>2015</td> <td>2                      </td> <td>Public Works, Transportation & Commerce</td> <td>PUC            </td> <td>PUC Public Utilities Commission   </td> <td>21        </td> <td>Prof & Tech Engineers - Miscellaneous, Local 21</td> <td>1000           </td> <td>Information Systems     </td> <td>1044    </td> <td>IS Engineer-Principal        </td> <td>28988              </td> <td>0       </td> <td>0       </td> <td>0             </td> <td>0           </td> <td>0         </td> <td>0            </td> <td>-3.1          </td> <td>-3.1          </td> <td>-3.1              </td>\n",
       "        </tr>\n",
       "        <tr>\n",
       "            <td>Calendar </td> <td>2015</td> <td>1                      </td> <td>Public Protection                      </td> <td>JUV            </td> <td>Juvenile Probation                </td> <td>39        </td> <td>Stationary Engineers, Local 39                 </td> <td>7300           </td> <td>Journeyman Trade        </td> <td>7335    </td> <td>Senior Stationary Engineer   </td> <td>19125              </td> <td>0       </td> <td>0       </td> <td>0             </td> <td>0           </td> <td>0         </td> <td>0            </td> <td>-0.01         </td> <td>-0.01         </td> <td>-0.01             </td>\n",
       "        </tr>\n",
       "        <tr>\n",
       "            <td>Calendar </td> <td>2015</td> <td>1                      </td> <td>Public Protection                      </td> <td>ECD            </td> <td>Department of Emergency Management</td> <td>351       </td> <td>Municipal Executive Association - Miscellaneous</td> <td>0900           </td> <td>Management              </td> <td>0922    </td> <td>Manager I                    </td> <td>30025              </td> <td>0       </td> <td>0       </td> <td>0             </td> <td>0           </td> <td>0         </td> <td>0            </td> <td>0             </td> <td>0             </td> <td>0                 </td>\n",
       "        </tr>\n",
       "        <tr>\n",
       "            <td>Calendar </td> <td>2015</td> <td>7                      </td> <td>General City Responsibilities          </td> <td>UNA            </td> <td>General Fund Unallocated          </td> <td>790       </td> <td>SEIU - Miscellaneous, Local 1021               </td> <td>3200           </td> <td>Recreation              </td> <td>3280    </td> <td>Assistant Recreation Director</td> <td>49784              </td> <td>0       </td> <td>0       </td> <td>0             </td> <td>0           </td> <td>0         </td> <td>0            </td> <td>1.27          </td> <td>1.27          </td> <td>1.27              </td>\n",
       "        </tr>\n",
       "        <tr>\n",
       "            <td>Calendar </td> <td>2015</td> <td>4                      </td> <td>Community Health                       </td> <td>DPH            </td> <td>Public Health                     </td> <td>250       </td> <td>SEIU - Health Workers, Local 1021              </td> <td>2600           </td> <td>Dietary & Food          </td> <td>2654    </td> <td>Cook                         </td> <td>26768              </td> <td>0       </td> <td>0       </td> <td>2.21          </td> <td>2.21        </td> <td>0         </td> <td>0            </td> <td>0.17          </td> <td>0.17          </td> <td>2.38              </td>\n",
       "        </tr>\n",
       "    </tbody>\n",
       "</table>\n",
       "<p>... (42979 rows omitted)</p>"
      ],
      "text/plain": [
       "Year Type | Year | Organization Group Code | Organization Group                      | Department Code | Department                         | Union Code | Union                                           | Job Family Code | Job Family               | Job Code | Job                           | Employee Identifier | Salaries | Overtime | Other Salaries | Total Salary | Retirement | Health/Dental | Other Benefits | Total Benefits | Total Compensation\n",
       "Calendar  | 2015 | 1                       | Public Protection                       | FIR             | Fire Department                    | 798        | Firefighters - Miscellaneous, Local 798         | H000            | Fire Services            | H002     | Firefighter                   | 43833               | 0        | 0        | 0              | 0            | 0          | 0             | -423.76        | -423.76        | -423.76\n",
       "Calendar  | 2015 | 4                       | Community Health                        | DPH             | Public Health                      | 790        | SEIU - Miscellaneous, Local 1021                | 9900            | Public Service Aide      | 9924     | PS Aide Health Services       | 27871               | -292.4   | 0        | 0              | -292.4       | 0          | -95.58        | -22.63         | -118.21        | -410.61\n",
       "Calendar  | 2015 | 1                       | Public Protection                       | JUV             | Juvenile Probation                 | 790        | SEIU - Miscellaneous, Local 1021                | 8300            | Correction & Detention   | 8320     | Counselor, Juvenile Hall      | 10517               | 0        | 0        | 0              | 0            | 0          | 0             | -159.12        | -159.12        | -159.12\n",
       "Calendar  | 2015 | 6                       | General Administration & Finance        | CPC             | City Planning                      | 21         | Prof & Tech Engineers - Miscellaneous, Local 21 | 1000            | Information Systems      | 1053     | IS Business Analyst-Senior    | 18961               | 0        | 0        | 0              | 0            | 0          | 0             | -26.53         | -26.53         | -26.53\n",
       "Calendar  | 2015 | 6                       | General Administration & Finance        | CPC             | City Planning                      | 21         | Prof & Tech Engineers - Miscellaneous, Local 21 | 5200            | Professional Engineering | 5277     | Planner 1                     | 19387               | 0        | 0        | 0              | 0            | 0          | 0             | -9.51          | -9.51          | -9.51\n",
       "Calendar  | 2015 | 2                       | Public Works, Transportation & Commerce | PUC             | PUC Public Utilities Commission    | 21         | Prof & Tech Engineers - Miscellaneous, Local 21 | 1000            | Information Systems      | 1044     | IS Engineer-Principal         | 28988               | 0        | 0        | 0              | 0            | 0          | 0             | -3.1           | -3.1           | -3.1\n",
       "Calendar  | 2015 | 1                       | Public Protection                       | JUV             | Juvenile Probation                 | 39         | Stationary Engineers, Local 39                  | 7300            | Journeyman Trade         | 7335     | Senior Stationary Engineer    | 19125               | 0        | 0        | 0              | 0            | 0          | 0             | -0.01          | -0.01          | -0.01\n",
       "Calendar  | 2015 | 1                       | Public Protection                       | ECD             | Department of Emergency Management | 351        | Municipal Executive Association - Miscellaneous | 0900            | Management               | 0922     | Manager I                     | 30025               | 0        | 0        | 0              | 0            | 0          | 0             | 0              | 0              | 0\n",
       "Calendar  | 2015 | 7                       | General City Responsibilities           | UNA             | General Fund Unallocated           | 790        | SEIU - Miscellaneous, Local 1021                | 3200            | Recreation               | 3280     | Assistant Recreation Director | 49784               | 0        | 0        | 0              | 0            | 0          | 0             | 1.27           | 1.27           | 1.27\n",
       "Calendar  | 2015 | 4                       | Community Health                        | DPH             | Public Health                      | 250        | SEIU - Health Workers, Local 1021               | 2600            | Dietary & Food           | 2654     | Cook                          | 26768               | 0        | 0        | 2.21           | 2.21         | 0          | 0             | 0.17           | 0.17           | 2.38\n",
       "... (42979 rows omitted)"
      ]
     },
<<<<<<< HEAD
     "execution_count": 102,
=======
     "execution_count": 52,
>>>>>>> 76755219a976e9ff6a2d2025d27e5e57d5870a46
     "metadata": {},
     "output_type": "execute_result"
    }
   ],
   "source": [
    "sf2015.sort('Total Compensation')"
   ]
  },
  {
   "cell_type": "markdown",
   "metadata": {},
   "source": [
    "For clarity of comparison, we will focus our attention on those who had at least the equivalent of a half-time job for the whole year. At a minimum wage of about \\\\$10 per hour, and 20 hours per week for 52 weeks, that's a salary of about \\\\$10,000."
   ]
  },
  {
   "cell_type": "code",
<<<<<<< HEAD
   "execution_count": 22,
=======
   "execution_count": 53,
>>>>>>> 76755219a976e9ff6a2d2025d27e5e57d5870a46
   "metadata": {},
   "outputs": [
    {
     "data": {
      "text/plain": [
       "36569"
      ]
     },
<<<<<<< HEAD
     "execution_count": 22,
=======
     "execution_count": 53,
>>>>>>> 76755219a976e9ff6a2d2025d27e5e57d5870a46
     "metadata": {},
     "output_type": "execute_result"
    }
   ],
   "source": [
    "sf2015 = sf2015.where('Salaries', datascience.are.above(10000))\n",
    "\n",
    "sf2015.num_rows"
   ]
  },
  {
   "cell_type": "markdown",
   "metadata": {},
   "source": [
    "#### Population and Parameter\n",
    "\n",
    "Let this table of just over 36,500 rows be our population. Here is a histogram of the total compensations."
   ]
  },
  {
   "cell_type": "code",
<<<<<<< HEAD
   "execution_count": 23,
=======
   "execution_count": 54,
>>>>>>> 76755219a976e9ff6a2d2025d27e5e57d5870a46
   "metadata": {},
   "outputs": [
    {
     "name": "stderr",
     "output_type": "stream",
     "text": [
      "/opt/jupyterhub/lib/python3.8/site-packages/datascience/tables.py:5206: UserWarning: FixedFormatter should only be used together with FixedLocator\n",
      "  axis.set_xticklabels(ticks, rotation='vertical')\n"
     ]
    },
    {
     "data": {
      "image/png": "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\n",
      "text/plain": [
       "<Figure size 432x288 with 1 Axes>"
      ]
     },
     "metadata": {
      "needs_background": "light"
     },
     "output_type": "display_data"
    }
   ],
   "source": [
    "sf_bins = numpy.arange(0, 700000, 25000)\n",
    "sf2015.select('Total Compensation').hist(bins=sf_bins)"
   ]
  },
  {
   "cell_type": "markdown",
   "metadata": {},
   "source": [
    "While most of the values are below \\\\$300,000, a few are quite a bit higher. For example, the total compensation of the Chief Investment Officer was almost \\\\$650,000. That is why the horizontal axis stretches to \\\\$700,000."
   ]
  },
  {
   "cell_type": "code",
<<<<<<< HEAD
   "execution_count": 24,
=======
   "execution_count": 56,
>>>>>>> 76755219a976e9ff6a2d2025d27e5e57d5870a46
   "metadata": {},
   "outputs": [
    {
     "data": {
      "text/html": [
       "<table border=\"1\" class=\"dataframe\">\n",
       "    <thead>\n",
       "        <tr>\n",
       "            <th>Year Type</th> <th>Year</th> <th>Organization Group Code</th> <th>Organization Group</th> <th>Department Code</th> <th>Department</th> <th>Union Code</th> <th>Union</th> <th>Job Family Code</th> <th>Job Family</th> <th>Job Code</th> <th>Job</th> <th>Employee Identifier</th> <th>Salaries</th> <th>Overtime</th> <th>Other Salaries</th> <th>Total Salary</th> <th>Retirement</th> <th>Health/Dental</th> <th>Other Benefits</th> <th>Total Benefits</th> <th>Total Compensation</th>\n",
       "        </tr>\n",
       "    </thead>\n",
       "    <tbody>\n",
       "        <tr>\n",
       "            <td>Calendar </td> <td>2015</td> <td>6                      </td> <td>General Administration & Finance</td> <td>RET            </td> <td>Retirement System                   </td> <td>351       </td> <td>Municipal Executive Association - Miscellaneous</td> <td>1100           </td> <td>Administrative & Mgmt (Unrep)</td> <td>1119    </td> <td>Chief Investment Officer</td> <td>46881              </td> <td>507832  </td> <td>0       </td> <td>0             </td> <td>507832      </td> <td>105053    </td> <td>12424.5      </td> <td>23566.2       </td> <td>141044        </td> <td>648875            </td>\n",
       "        </tr>\n",
       "        <tr>\n",
       "            <td>Calendar </td> <td>2015</td> <td>6                      </td> <td>General Administration & Finance</td> <td>ADM            </td> <td>General Services Agency - City Admin</td> <td>164       </td> <td>Physicians and Dentists - Miscellaneous        </td> <td>2500           </td> <td>Med Therapy & Auxiliary      </td> <td>2598    </td> <td>Asst Med Examiner       </td> <td>1016               </td> <td>279311  </td> <td>3829.36 </td> <td>114434        </td> <td>397574      </td> <td>56211.6   </td> <td>12424.5      </td> <td>14299.1       </td> <td>82935.2       </td> <td>480509            </td>\n",
       "        </tr>\n",
       "    </tbody>\n",
       "</table>\n",
       "<p>... (36567 rows omitted)</p>"
      ],
      "text/plain": [
       "<IPython.core.display.HTML object>"
      ]
     },
     "metadata": {},
     "output_type": "display_data"
    }
   ],
   "source": [
    "sf2015.sort('Total Compensation', descending=True).show(2)"
   ]
  },
  {
   "cell_type": "markdown",
   "metadata": {},
   "source": [
    "Now let the parameter be the median of the total compensations.\n",
    "\n",
    "Since we have the luxury of having all of the data from the population, we can simply calculate the parameter:"
   ]
  },
  {
   "cell_type": "code",
<<<<<<< HEAD
   "execution_count": 25,
=======
   "execution_count": 67,
>>>>>>> 76755219a976e9ff6a2d2025d27e5e57d5870a46
   "metadata": {},
   "outputs": [
    {
     "data": {
      "text/plain": [
       "110305.79"
      ]
     },
<<<<<<< HEAD
     "execution_count": 25,
=======
     "execution_count": 67,
>>>>>>> 76755219a976e9ff6a2d2025d27e5e57d5870a46
     "metadata": {},
     "output_type": "execute_result"
    }
   ],
   "source": [
    "pop_median = datascience.percentile(50, sf2015.column('Total Compensation'))\n",
    "pop_median"
   ]
  },
  {
   "cell_type": "markdown",
   "metadata": {
    "jupyter": {
     "source_hidden": true
    }
   },
   "source": [
    "The median total compensation of all employees was just over \\\\$110,300.\n",
    "\n",
    "From a practical perspective, there is no reason for us to draw a sample to estimate this parameter since we simply know its value. But in this section we are going to pretend we don't know the value, and see how well we can estimate it based on a random sample.\n",
    "\n",
    "### A Random Sample and an Estimate\n",
    "\n",
    "Let us draw a sample of 500 employees at random without replacement, and let the median total compensation of the sampled employees serve as our estimate of the parameter."
   ]
  },
  {
   "cell_type": "code",
<<<<<<< HEAD
   "execution_count": 26,
   "metadata": {},
=======
   "execution_count": 61,
   "metadata": {
    "jupyter": {
     "source_hidden": true
    }
   },
>>>>>>> 76755219a976e9ff6a2d2025d27e5e57d5870a46
   "outputs": [
    {
     "name": "stdout",
     "output_type": "stream",
     "text": [
<<<<<<< HEAD
      "Estimated Median =  112561.02\n"
=======
      "Estimated Median =  108807.73\n"
>>>>>>> 76755219a976e9ff6a2d2025d27e5e57d5870a46
     ]
    },
    {
     "data": {
<<<<<<< HEAD
      "image/png": "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\n",
=======
      "image/png": "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\n",
>>>>>>> 76755219a976e9ff6a2d2025d27e5e57d5870a46
      "text/plain": [
       "<Figure size 432x288 with 1 Axes>"
      ]
     },
     "metadata": {
      "needs_background": "light"
     },
     "output_type": "display_data"
    }
   ],
   "source": [
    "our_sample = sf2015.sample(500, with_replacement=False)\n",
    "our_sample.select('Total Compensation').hist(bins=sf_bins)\n",
    "est_median = datascience.percentile(50, our_sample.column('Total Compensation'))\n",
    "print('Estimated Median = ',est_median)"
   ]
  },
  {
   "cell_type": "markdown",
   "metadata": {
    "jupyter": {
     "source_hidden": true
    }
   },
   "source": [
    "The sample size is large, so that the distribution of the sample approximates that of the population, and consequently the sample median is not very far from the population median (though of course it is not exactly the same).\n",
    "\n",
    "So now we have one estimate of the parameter. But had the sample come out differently, the estimate would have had a different value. We would like to be able to quantify the amount by which the estimate could vary across samples. That measure of variability will help us measure how accurately we can estimate the parameter.\n",
    "\n",
    "To see how different the estimate would be if the sample had come out differently, we could just draw another sample from the population, but that would be cheating. We are trying to mimic real life, in which we won't have all the population data at hand.\n",
    "\n",
    "Somehow, we have to get another random sample without sampling from the population.\n",
    "\n",
    "### The Bootstrap: Resampling from the Sample\n",
    "What we do have is a large random sample from the population. As we know, a large random sample is likely to resemble the population from which it is drawn. This observation allows data scientists to lift themselves up by their own bootstraps: the sampling procedure can be replicated by sampling from the sample.\n",
    "\n",
    "Here are the steps of the bootstrap method for generating another random sample that resembles the population:\n",
    "\n",
    "    Treat the original sample as if it were the population.\n",
    "    Draw from the sample, at random with replacement, the same number of times as the original sample size.\n",
    "\n",
    "It is important to resample the same number of times as the original sample size. The reason is that the variability of an estimate depends on the size of the sample. Since our original sample consisted of 500 employees, our sample median was based on 500 values. To see how different the sample could have been, we have to compare it to the median of other samples of size 500.\n",
    "\n",
    "If we drew 500 times at random without replacement from our sample of size 500, we would just get the same sample back. By drawing with replacement, we create the possibility for the new samples to be different from the original, because some employees might be drawn more than once and others not at all.\n",
    "\n",
    "Why is this a good idea? Because the distribution of the original sample is likely to resemble the population (if we took enough instances), and the distributions of all the \"resamples\" are likely to resemble the original sample. Then by an appeal to the transitive axiom, the distributions of all the resamples are likely to resemble the population as well.\n",
    "\n",
    "### A Resampled Median\n",
    "\n",
    "Recall that when the sample method is used without specifying a sample size, by default the sample size equals the number of rows of the table from which the sample is drawn. That's perfect for the bootstrap! Here is one new sample drawn from the original sample, and the corresponding sample median."
   ]
  },
  {
   "cell_type": "code",
<<<<<<< HEAD
   "execution_count": 27,
   "metadata": {},
=======
   "execution_count": 62,
   "metadata": {
    "jupyter": {
     "source_hidden": true
    }
   },
>>>>>>> 76755219a976e9ff6a2d2025d27e5e57d5870a46
   "outputs": [
    {
     "data": {
      "text/plain": [
<<<<<<< HEAD
       "112114.0"
      ]
     },
     "execution_count": 27,
=======
       "114516.26"
      ]
     },
     "execution_count": 62,
>>>>>>> 76755219a976e9ff6a2d2025d27e5e57d5870a46
     "metadata": {},
     "output_type": "execute_result"
    },
    {
     "data": {
<<<<<<< HEAD
      "image/png": "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\n",
=======
      "image/png": "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\n",
>>>>>>> 76755219a976e9ff6a2d2025d27e5e57d5870a46
      "text/plain": [
       "<Figure size 432x288 with 1 Axes>"
      ]
     },
     "metadata": {
      "needs_background": "light"
     },
     "output_type": "display_data"
    }
   ],
   "source": [
    "resample_1 = our_sample.sample()\n",
    "resample_1.select('Total Compensation').hist(bins=sf_bins)\n",
    "resampled_median_1 = datascience.percentile(50, resample_1.column('Total Compensation'))\n",
    "resampled_median_1"
   ]
  },
  {
   "cell_type": "markdown",
   "metadata": {},
   "source": [
    "By resampling, we have another estimate of the population median. By resampling again and again, we will get many such estimates, and hence an empirical distribution of the estimates."
   ]
  },
  {
   "cell_type": "code",
<<<<<<< HEAD
   "execution_count": 28,
=======
   "execution_count": 63,
>>>>>>> 76755219a976e9ff6a2d2025d27e5e57d5870a46
   "metadata": {},
   "outputs": [
    {
     "data": {
      "text/plain": [
<<<<<<< HEAD
       "112804.86"
      ]
     },
     "execution_count": 28,
=======
       "111297.26"
      ]
     },
     "execution_count": 63,
>>>>>>> 76755219a976e9ff6a2d2025d27e5e57d5870a46
     "metadata": {},
     "output_type": "execute_result"
    }
   ],
   "source": [
    "resample_2 = our_sample.sample()\n",
    "resampled_median_2 = datascience.percentile(50, resample_2.column('Total Compensation'))\n",
    "resampled_median_2"
   ]
  },
  {
   "cell_type": "markdown",
   "metadata": {},
   "source": [
    "#### Bootstrap Empirical Distribution of the Sample Median\n",
    "\n",
    "Let us define a function `bootstrap_median` that takes our original sample, the label of the column containing the variable, and the number of bootstrap samples we want to take, and returns an array of the corresponding resampled medians.\n",
    "\n",
    "Each time we resample and find the median, we replicate the bootstrap process. So the number of bootstrap samples will be called the number of replications."
   ]
  },
  {
   "cell_type": "code",
<<<<<<< HEAD
   "execution_count": 29,
=======
   "execution_count": 64,
>>>>>>> 76755219a976e9ff6a2d2025d27e5e57d5870a46
   "metadata": {},
   "outputs": [],
   "source": [
    "def bootstrap_median(original_sample, label, replications):\n",
    "    \"\"\"Returns an array of bootstrapped sample medians:\n",
    "    original_sample: table containing the original sample\n",
    "    label: label of column containing the variable\n",
    "    replications: number of bootstrap samples\n",
    "    modified by t.g. cleveland for missing dependencies from \n",
    "    original UCB script\n",
    "    \"\"\"\n",
    "    just_one_column = original_sample.select(label)\n",
    "    medians = datascience.make_array()\n",
    "    for i in numpy.arange(replications):\n",
    "        bootstrap_sample = just_one_column.sample()\n",
    "        resampled_median = datascience.percentile(50, bootstrap_sample.column(0))\n",
    "        medians = numpy.append(medians, resampled_median)\n",
    "        \n",
    "    return medians"
   ]
  },
  {
   "cell_type": "markdown",
   "metadata": {},
   "source": [
    "We now replicate the bootstrap process 5,000 times. The array bstrap_medians contains the medians of all 5,000 bootstrap samples. Notice that the code takes longer to run than our previous code. It has a lot of resampling to do!"
   ]
  },
  {
   "cell_type": "code",
<<<<<<< HEAD
   "execution_count": 30,
=======
   "execution_count": 68,
>>>>>>> 76755219a976e9ff6a2d2025d27e5e57d5870a46
   "metadata": {},
   "outputs": [
    {
     "data": {
      "text/plain": [
       "array([106936.54, 108807.73, 104748.89, ..., 106652.86, 105122.29,\n",
       "       104909.84])"
      ]
     },
     "execution_count": 68,
     "metadata": {},
     "output_type": "execute_result"
    }
   ],
   "source": [
    "bstrap_medians = bootstrap_median(our_sample, 'Total Compensation', 5000) # change the 5 to 5000 for production run!\n",
    "bstrap_medians"
   ]
  },
  {
   "cell_type": "markdown",
   "metadata": {},
   "source": [
    "Here is the histogram of the 5000 medians. The red dot is the population parameter: it is the median of the entire population, which we happen to know but did not use in the bootstrap process."
   ]
  },
  {
   "cell_type": "code",
<<<<<<< HEAD
   "execution_count": 31,
=======
   "execution_count": 69,
>>>>>>> 76755219a976e9ff6a2d2025d27e5e57d5870a46
   "metadata": {},
   "outputs": [
    {
     "data": {
      "text/plain": [
<<<<<<< HEAD
       "<matplotlib.collections.PathCollection at 0x7f2cc7642580>"
      ]
     },
     "execution_count": 31,
=======
       "<matplotlib.collections.PathCollection at 0xffff853de580>"
      ]
     },
     "execution_count": 69,
>>>>>>> 76755219a976e9ff6a2d2025d27e5e57d5870a46
     "metadata": {},
     "output_type": "execute_result"
    },
    {
     "data": {
<<<<<<< HEAD
      "image/png": "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\n",
=======
      "image/png": "iVBORw0KGgoAAAANSUhEUgAAAY4AAAEnCAYAAAC+F6RaAAAAOXRFWHRTb2Z0d2FyZQBNYXRwbG90bGliIHZlcnNpb24zLjMuMywgaHR0cHM6Ly9tYXRwbG90bGliLm9yZy/Il7ecAAAACXBIWXMAAAsTAAALEwEAmpwYAAAmX0lEQVR4nO3de7xcVX338c+XxCCgBBNSlZNggomXaFugIYLyWASF0FIDNJRgVeChpRdQ6EUFWgERLPgoqOViU64iGiheSCECVogtKpBDpGKASEyAXLwEEu4kEPg9f6x1yGQyc87sJHv2OTPf9+s1rzOz9tp7/9bZ58xv9lpr9lZEYGZm1qptqg7AzMyGFicOMzMrxInDzMwKceIwM7NCnDjMzKyQ4VUH0A4777xzjB8/vuowzMyGlHvuueexiBhTX94ViWP8+PH09vZWHYaZ2ZAi6ZFG5e6qMjOzQpw4zMysECcOMzMrxInDzMwKceIwM7NCnDjMzKwQJw4zMyvEicPMzApx4jAzs0KcOMwq1NMzFkmVPHp6xlbdfBuiuuKSI2aD1cqVKzjk2NMq2feNV3yukv3a0OczDjMzK8SJw8zMCnHiMDOzQpw4zMysECcOMzMrxInDzMwKceIwM7NCnDjMzKwQJw4zMyvEicPMzAopNXFImiZpkaTFkk5psHxbSdfm5XdJGp/LR0u6XdIzki5ssu05kn5eZvxmZrap0hKHpGHARcDBwGTgKEmT66odB6yJiInABcB5uXwt8GngH5ts+3DgmTLiNjOz/pV5xjEVWBwRSyLiBWA2ML2uznTgqvz8euAASYqIZyPiDlIC2Yik1wB/D5xdXuhmZtZMmYmjB1hW83p5LmtYJyLWA08CowfY7meBLwLPbZ0wzcysiCE1OC5pd+DNEfGdFuoeL6lXUu+qVavKD87MrEuUmThWAONqXo/NZQ3rSBoOjAQe72eb+wBTJD0M3AG8RdK8RhUjYlZETImIKWPGjNmsBpiZ2abKTBzzgUmSJkgaAcwE5tTVmQMcnZ/PAG6LiGi2wYi4JCJ2iYjxwL7ALyJiv60euZmZNVXaHQAjYr2kE4FbgGHA5RGxUNJZQG9EzAEuA66WtBhYTUouAOSzih2BEZIOBQ6MiPvLitfMzFpT6q1jI2IuMLeu7PSa52uBI5qsO36AbT8MvHOLgzQzs0KG1OC4mZlVz4nDzMwKceIwM7NCnDjMzKwQJw4zMyvEicPMzApx4jAzs0KcOMzMrBAnDjMzK8SJw8zMCnHiMDOzQpw4zMysECcOMzMrxInDzMwKceIwM7NCnDjMzKwQJw4zMyvEicPMzApx4jAzs0JKTRySpklaJGmxpFMaLN9W0rV5+V2Sxufy0ZJul/SMpAtr6m8v6SZJD0paKOncMuM3M7NNlZY4JA0DLgIOBiYDR0maXFftOGBNREwELgDOy+VrgU8D/9hg01+IiLcBewDvkXRwGfGbmVljZZ5xTAUWR8SSiHgBmA1Mr6szHbgqP78eOECSIuLZiLiDlEBeERHPRcTt+fkLwAJgbIltMDOzOmUmjh5gWc3r5bmsYZ2IWA88CYxuZeOSdgL+BPhBk+XHS+qV1Ltq1apikZuZWVNDcnBc0nDgm8BXImJJozoRMSsipkTElDFjxrQ3QDOzDlZm4lgBjKt5PTaXNayTk8FI4PEWtj0LeCgivrTlYZqZWRFlJo75wCRJEySNAGYCc+rqzAGOzs9nALdFRPS3UUlnkxLMyVs3XDMza8XwsjYcEeslnQjcAgwDLo+IhZLOAnojYg5wGXC1pMXAalJyAUDSw8COwAhJhwIHAk8B/wQ8CCyQBHBhRFxaVjvMzGxjpSUOgIiYC8ytKzu95vla4Igm645vslltrfjMzKy4ITk4bmZm1XHiMDOzQpw4zMysECcOMzMrxInDzMwKceIwM7NCnDjMzKwQJw4zMyvEicPMzApx4jAzs0KcOMzMrJABE4ekk1opMzOz7tDKGcfRDcqO2cpxmJnZENH06riSjgI+BEyQVHsfjdeSLoFuZmZdqL/Lqv8Y+BWwM/DFmvKngZ+VGZSZmQ1eTRNHRDwCPALs075wzMxssOuvq+qOiNhX0tNA7e1cBURE7Fh6dGZmNuj0d8axb/752vaFY1aNnp6xrFy5ouowzIaElm4dK2kY8Pra+hHx6ObuVNI04Muke5FfGhHn1i3fFvga8AfA48CREfGwpNHA9cBewJURceLmxmBWa+XKFRxy7Glt3++NV3yu7fs021IDJg5JHwPOAH4DvJyLA/i9zdlhTkIXAR8AlgPzJc2JiPtrqh0HrImIiZJmAucBRwJrgU8D78wPMzNrs1bOOE4C3hoRj2+lfU4FFkfEEgBJs4HpQG3imA6cmZ9fD1woSRHxLHCHpIlbKRYzMyuolS8ALgOe3Ir77Mnb7LM8lzWsExHr8/5HF9mJpOMl9UrqXbVq1RaEa2ZmtVo541gCzJN0E7CurzAizi8tqq0gImYBswCmTJkSA1Q3M7MWtZI4Hs2PEfmxpVYA42pej81ljeoslzQcGEkaJDczs4oNmDgi4jNbeZ/zgUmSJpASxEzSpU1qzSFdI+snwAzgtojwWYOZ2SDQyqyq29n4C4AARMT+m7PDiFgv6UTgFtJ03MsjYqGks4DeiJgDXAZcLWkx6bpYM2vieRjYERgh6VDgwLoZWWZmVqJWuqr+seb5q4E/BdZvyU4jYi4wt67s9Jrna4Ejmqw7fkv2bWZmW6aVrqp76op+JOnukuIxM7NBrpWuqlE1L7chfZt7ZGkRmZnZoNZKV9U9pDEOkbqolpK+2W1mZl2ola6qCe0IxMzMhoZWvjluZmb2CicOMzMrpN/EoWRcf3XMzKy79Js48re15/ZXx8zMuksrXVULJO1VeiRmZjYktDId913An0t6BHiWDfcc36wbOZmZ2dDWSuI4qPQozMxsyBiwqyoiHiFd4nz//Py5VtYzM7PONGACkHQG8Cng1Fz0KuDrZQZlZmaDVytnDocBHySNbxARK4HXlhmUmZkNXq0kjhfytNwAkLRDuSGZmdlg1kriuE7SvwE7SfpL4L+Afy83LDMzG6xaucjhFyR9AHgKeAtwekR8v/TIzMxsUGplOi7AfcB2pO6q+8oLx8zMBrtWZlX9BXA3cDgwA7hT0v9tZeOSpklaJGmxpFMaLN9W0rV5+V2SxtcsOzWXL5J0UE3530laKOnnkr4p6dWtxGJmZltHK2McnwD2iIhjIuJo0h0APzXQSpKGARcBBwOTgaMkTa6rdhywJiImAhcA5+V1JwMzgXcA04CLJQ2T1AN8HJgSEe8EhuV6ZmbWJq0kjseBp2teP53LBjIVWBwRSyLiBWA2ML2uznTgqvz8euAAScrlsyNiXUQsBRbn7UHqXttO0nBge2BlC7GYmdlW0soYx2LgLkk3kMY4pgM/k/T3ABFxfpP1eoBlNa+Xk6571bBORKyX9CQwOpffWbduT0T8RNIXgEeB54FbI+LWFtpgZmZbSStnHL8Evkv+HgdwA+m+46+lzV8ElPQ6UuKaAOwC7CDpw03qHi+pV1LvqlWr2hmmmVlHa2U67mc2c9srSNe46jM2lzWqszx3PY0kdYM1W/f9wNKIWAUg6dvAu2lwCZSImAXMApgyZUrULzczs81T5sUK5wOTJE2QNII0iD2nrs4c4Oj8fAZwW/6W+hxgZp51NQGYRJrZ9Siwt6Tt81jIAcADJbbBzMzqtPo9jsLymMWJwC2k2U+XR8RCSWcBvRExB7gMuFrSYmA1eYZUrncdcD+wHjghIl4ijbVcDyzI5T8ln1WYmVl7DJg4JL0nIn40UFkjETGXulvPRsTpNc/XAkc0Wfcc4JwG5WcAZwy0bzMzK0crXVX/2mKZmZl1gaZnHJL2IQ08j+mbepvtSOp6MjOzLtRfV9UI4DW5Tu2026dIA9lmNqSJNMekvXbZpYcVK5a3fb+29TRNHBHxQ+CHkq7Mt4w1s44SHHLsaW3f641XfK7t+7Stq5VZVdtKmgWMr60fEfuXFZSZmQ1erSSO/wC+ClwKvFRuOGZmNti1kjjWR8QlpUdiZmZDQivTcf9T0t9KeqOkUX2P0iMzM7NBqZUzjr5LgnyipiyA3bZ+OGZmNti1cpHDCe0IxMzMhoZWbh27vaR/zjOrkDRJ0iHlh2ZmZoNRK2McVwAvkL5FDuny5meXFpGZmQ1qrSSON0fE54EXASLiOaD9Xzc1M7NBoZXE8YKk7ch3AJT0ZmBdqVGZmdmg1cqsqjOAm4Fxkq4B3gMcU2ZQZmY2eLUyq+r7khYAe5O6qE6KiMdKj8zMzAalVmZVHUb69vhNEXEjsF7SoaVHZmZmg1IrYxxnRMSTfS8i4gl8Bz4zs67VSuJoVKe0e5Wbmdng1kri6JV0vqQ358f5wD2tbFzSNEmLJC2WdEqD5dtKujYvv0vS+Jplp+byRZIOqinfSdL1kh6U9EC+U6GZmbVJK4njY6QvAF4LzAbWAicMtJKkYcBFwMHAZOAoSZPrqh0HrImIicAFwHl53cnATOAdwDTg4rw9gC8DN0fE24DfBx5ooQ1mZraV9NvllN+sb4yI923GtqcCiyNiSd7WbGA6cH9NnenAmfn59cCFSveynA7Mjoh1wFJJi4Gpku4H3kueDhwRL5CSmpmZtUm/ZxwR8RLwsqSRm7HtHmBZzevluaxhnYhYDzwJjO5n3QnAKuAKST+VdKmkHRrtXNLxknol9a5atWozwjczs0Za6ap6BrhP0mWSvtL3KDuwJoYDewKXRMQewLPAJmMnABExKyKmRMSUMWPGtDNGM7OO1srsqG/nR1ErgHE1r8fmskZ1lksaDowEHu9n3eXA8oi4K5dfT5PEYWZm5Wjlm+NX5WtV7RoRiwpsez4wSdIE0pv+TOBDdXXmkG4U9RNgBnBbRISkOcA38gyuXYBJwN0R8ZKkZZLemmM5gI3HTMzMrGQDJg5JfwJ8ARgBTJC0O3BWRHywv/UiYr2kE4FbgGHA5RGxUNJZQG9EzAEuA67Og9+rScmFXO86UlJYD5yQx1sgzfK6RtIIYAlwbNFGm5nZ5mulq+pM0gypeQARca+klm4bGxFzgbl1ZafXPF8LHNFk3XOAcxqU3wtMaWX/Zma29bUyOP5i7SVHspfLCMbMzAa/Vs44Fkr6EDBM0iTg48CPyw3LzMwGq1a/Of4O0s2bvkH6rsXJJcZkZmaDWNMzDkmvBv4amAjcB+yTv6RnVoqenrGsXFk/Y9vMBpv+uqquIt1n/H9I15t6Oz7TsBKtXLmCQ449rZJ933jF5yrZr9lQ1F/imBwRvwsg6TLg7vaEZGZmg1l/Yxwv9j1xF5WZmfXp74zj9yU9lZ8L2C6/FhARsWPp0ZmZ2aDTNHFExLBmy8zMrHu1Mh3XzMzsFU4cZmZWiBOHmZkV4sRhZmaFOHGYmVkhThxmZlaIE4eZmRXixGFmZoU4cZiZWSGlJg5J0yQtkrRY0ikNlm8r6dq8/C5J42uWnZrLF0k6qG69YZJ+KunGMuM3M7NNlZY4JA0DLiJdkn0ycJSkyXXVjgPWRMRE4ALgvLzuZGAm6QZS04CL8/b6nAQ8UFbsZmbWXJlnHFOBxRGxJCJeAGYD0+vqTCfd9wPgeuAAScrlsyNiXUQsBRbn7SFpLPDHwKUlxm5mZk2UmTh6gGU1r5fnsoZ18qXbnwRGD7Dul4BPAi/3t3NJx0vqldS7atWqzWyCmZnVG1KD45IOAX4bEfcMVDciZkXElIiYMmbMmDZEZ2bWHcpMHCuAcTWvx+ayhnUkDQdGAo/3s+57gA9KepjU9bW/pK+XEbyZmTVWZuKYD0ySNEHSCNJg95y6OnOAo/PzGcBtERG5fGaedTUBmATcHRGnRsTYiBift3dbRHy4xDaYmVmd/u4AuEUiYr2kE4FbgGHA5RGxUNJZQG9EzAEuA66WtBhYTUoG5HrXAfcD64ETIuKlsmI1M7PWlZY4ACJiLjC3ruz0mudrgSOarHsOcE4/254HzNsacZqZWeuG1OC4mZlVz4nDzMwKceIwM7NCnDjMzKwQJw4zMyvEicPMzApx4jAzs0KcOMzMrBAnDjMzK8SJw8zMCnHiMDOzQpw4zMysECcOMzMrxInDzMwKceIwM7NCnDjMzKwQJw4zMyvEicPMzAopNXFImiZpkaTFkk5psHxbSdfm5XdJGl+z7NRcvkjSQblsnKTbJd0vaaGkk8qM38zMNlVa4pA0DLgIOBiYDBwlaXJdteOANRExEbgAOC+vOxmYCbwDmAZcnLe3HviHiJgM7A2c0GCbZmZWojLPOKYCiyNiSUS8AMwGptfVmQ5clZ9fDxwgSbl8dkSsi4ilwGJgakT8KiIWAETE08ADQE+JbTAzszplJo4eYFnN6+Vs+ib/Sp2IWA88CYxuZd3crbUHcNfWDNrMzPo3JAfHJb0G+BZwckQ81aTO8ZJ6JfWuWrWqvQGamXWwMhPHCmBczeuxuaxhHUnDgZHA4/2tK+lVpKRxTUR8u9nOI2JWREyJiCljxozZwqaYmVmfMhPHfGCSpAmSRpAGu+fU1ZkDHJ2fzwBui4jI5TPzrKsJwCTg7jz+cRnwQEScX2LsZmbWxPCyNhwR6yWdCNwCDAMuj4iFks4CeiNiDikJXC1pMbCalFzI9a4D7ifNpDohIl6StC/wEeA+SffmXZ0WEXPLaoeZmW2stMQBkN/Q59aVnV7zfC1wRJN1zwHOqSu7A9DWj9Rq9fSMZeXK+l5FM7Ok1MRhQ9PKlSs45NjT2r7fG6/4XNv3aWbFDclZVWZmVh0nDjMzK8SJw8zMCnHiMDOzQpw4zMysECcOMzMrxInDzMwKceIwM7NC/AXAQcrf3jazwcqJY5Cq6tvb4G9wm1n/3FVlZmaFOHGYmVkhThxmZlaIxzjMrM1Euidbe+2ySw8rVixv+347kROHmbVZ+LL9Q5y7qszMrBCfcZh1ouefhyVLYfkyWL8ehg+HseNgtwmw3XZVR2dDnBOHWad57DGYPx9eDoiXU9mLL8LDD8Ojj8Bee8HOO1caYjWqGVuBzhtfGZKJQ9I04MvAMODSiDi34pDMBofnn09J46WXNl0WL8NLpOX77dfuyAaBasZWoPPGV4bcGIekYcBFwMHAZOAoSZPL2l9Pz1gktf1htlmWLE1nGv15OWDp0vbEYx1pKJ5xTAUWR8QSAEmzgenA/WXsrKpLf3TaJxRrk+XLNnRPNRMvw7Jl7YnHss6agqyIAT6dDDKSZgDTIuIv8uuPAO+KiBPr6h0PHJ9fvhVY1NZAq7cz8FjVQVSka9u+J+z5GGjMAPUCYgEsaEtQ7de1xz/bmu1/U0Rs8uc0FM84WhIRs4BZVcdRFUm9ETGl6jiq0M1th9T+R7q8/d1+/Mtu/5Ab4wBWAONqXo/NZWZm1gZDMXHMByZJmiBpBDATmFNxTGZmXWPIdVVFxHpJJwK3kKbjXh4RCysOazDq2m46urvt4Pa7/SUbcoPjZmZWraHYVWVmZhVy4jAzs0KcOMzMrBAnDjMzK8SJwzqKpFGSRlUdR1W6vf3drJ3H3omjA0gaKelcSQ9KWi3pcUkP5LKdqo6vbJJ2lTRb0irgLuBuSb/NZeMrDq903d5+AEmvl7Rnfry+6njapapj78TRGa4D1gD7RcSoiBgNvC+XXVdpZO1xLfAd4A0RMSkiJgJvBL4LzK4ysDbp2vZL2l3SncA84PP58UNJd0ras9Lg2qOSY+/vcXQASYsi4q1Fl3UKSQ9FxKSiyzpFN7df0r3AX0XEXXXlewP/FhG/X0lgbVLVsR9y3xy3hh6R9Engqoj4DaRTd+AYoBuun32PpIuBq9jQ3nHA0cBPK4uqfbq5/TvUJw2AiLhT0g5VBNRmlRx7n3F0AEmvA04h3Zekr3/316RreJ0XEauriq0d8jXLjiO1vycXryC1/7KIWFdVbO3Qze2X9BXgzcDX2PiN86PA0vrbLXSaqo69E4eZDWmSDqbBG2dEzK0uqs7mxNEhJB0EHMrG/zw3RMTNlQXVJpKGkz51HUpd+0mful6sKLS26Pb2d7Oqjr0TRweQ9CXgLaTT9b77RI4lna4/FBEnVRRaW0j6JvAEqZ+3tv1HA6Mi4siKQmuLbm6/pJHAqWzopg3gt6Q3znMj4onqoitfVcfeiaMDSPpFRLylQbmAX3TyrBpo3v6BlnWKbm6/pFuA20gTQ36dy95Amhiyf0QcWGF4pavq2Pt7HJ1hraS9GpTvBaxtdzAVWC3pCEmv/D1L2kbSkaTvsnS6bm7/+Ig4ry9pAETEryPiXOBNFcbVLpUce0/H7QzHAJdIei0bTlfHAU/mZZ1uJnAecLGkNYCAnUifRGdWGFe7dHP7u30qeiXH3l1VHSSfor8yQFb7KaxbSBoNEBGPVx1LFbqt/d0+Fb1WO4+9E0eHyIOE09h4ZsUtnT442EfS29h0SuYNEfFgdVG1T7e3v5tVcew9xtEBJH0UWADsB2yfH+8jfav0oxWG1haSPkW6Lo+Au/NDwGxJp1QZWzu4/TpI0iWS5uTHJZKmVR1XO1R17H3G0QEkLQLeVX92kU/j7+rkWTWQZo8A76ifs56/VbuwG2aV0aXt91T0ao69B8c7g0jz1+u9nJd1upeBXYBH6srfmJd1um5u/x81mYp+LfALoKMTBxUdeyeOznAOsEDSrWyYSbIr8AHgs5VF1T4nAz+Q9BAbt38i0NHXKspOpnvbv1bSXhExv668W6ain0wFx95dVR0id0sdxKaD450+jx9Ic9eBqWzc/vkR8VJ1UbVPt7Y/33PjEqDRVPQTIuKeqmJrlyqOvc84OkRErJF0OxtPx+2KpAEQES8Dd/a9ljSq098060TNo+91p3dTERELgHd1+VT0th97n3F0AEm7A18FRpI+dYk0QPgE8Lf5n6tjSfrniDg7P59MuvvZq0i/hyMb3a+hk0g6ELgYeIj0aRPS8Z9IOv63VhVbu0l6DWmwfEk3TEWv6tg7cXQA3wVNCyJiz/z8JuDCiPiepKnAlyLi3dVGWC5JDwAHR8TDdeUTgLkR8fZKAmsDSRdHxN/m5/sC3wB+SXrj/KtOv7R6VcfeXVWdodvvglZrl4j4HkBE3C1pu6oDaoPhbOjfr7WCdObVyfauef5Z4NCIWCBpN+A6oKMTBxUdeyeOzvC9/Em70V3QOv5+HMBukuaQu+gkbR8Rz+Vlnf7GCXA5MF/SbDY+/jOByyqLqv127OuWjYgltRf+62CVHHt3VXWIbr4LmqQ/rCtaEBFP54vdzYiIi6qIq50kvZ3Gx//+6qIqn6TngMWkDw3jgV3zRJFtgJ9FxDurjK8d8rjeB2njsXfiMLMhS1L9pdNXRsSLknYG3hsR364irk7XDadyHU/SSEnnSnpA0mpJj+fn50raqer4ylbT/ge7sf39kfS9qmMoU0Q8Uvd4MZc/1g1JQ9KOkv5F0tWSjqpbdnFZ+3Xi6AzXkW7a8r6IGBURo0kXOXwiL+t0fe3fr679a+iC9kvas8njD4Ddq46vKp2eNLMrSN103wKOkvQtSdvmZXs3X23LuKuqA0haFBFvLbqsU7j9egn4IY2vS7Z3RHTszLL8zfGGi4AbI+KN7Yyn3STdGxG717z+J+CPSGMe3++bpr61eVZVZ+j2u6B1e/sfIH1n4aH6BZI6vf3zaZ40d2pvKJXYVtI2+coJRMQ5klYA/w28pqyduquqMxwJjAZ+mPv4VwPzgFHAEVUG1ibd3v4zaf6//LE2xlGFvqT5vvoH8FjVwbXBfwL71xZExJXAPwAvlLVTd1V1OEnHRsQVVcdRFbe/s9svaQZwX0QsarDs0Ij4bvujGhzKPPZOHB1O0qMRsWvVcVTF7e/e9nd60hxImcfeiaMDSPpZs0XAWyJi2ybLO4Lb393tb6YbkmZVx96D453h9aR7cdRfRl3Aj9sfTtu5/V3a/gHeOF/fzlgqUsmxd+LoDDcCr4mIe+sXSJrX9mjaz+3v3vZ3bdLMKjn27qoysyFL0mXAFRFxR4Nl34iID1UQVsdz4jAzs0L8PQ4zMyvEicPMzApx4ugCko6RFDWPlyStkHSdpNKu4yRpJ0ln9nM9of7WPVTS35cR15aStHu+mNyjktZJ+pWk2yV9vOrYmqn5Gxi/lbY3L2+v4QC0pCvy8kZ3p9vcfW7SBkkPS7pya+3DWuPE0V2OAPYB3gucCuwB/EDSyJL2txNwBrA5F1o7FBh0iUPSXsCdwM7AJ0kzej4BLAIOqzC0KjwN7CNpYm2hpO2BGXl52Q4j3TLW2sjTcbvLvRGxOD//kaSVwPeBdwND9hLUkraNiHVt2t3HSJerP7Bun19Xd9yqtNbPSNNhP0y6Xlafw/PPW0gfVEoTET8tc/vWWLf9odvGnso/N7ovt6Rpkn4i6XlJT0r6bn2XlpK/k7RI0gu5u+ZCSTvm5eOBpbn6v9d0kx2Tlx8k6cd5+8/k7Zyel10JHA301Kz3cF62X359uKR/l7QK6Lsi7kSlG9oszbEvkXSJpNfVxX6lpOWS3i1pvqS1ucujlQsCjgLWNEpUfVcordnPZyQtkPSUpMck3SZp77o6fe05VNK/KV2k8QlJX5I0TNJeku6Q9KykhZIO2optQdLxkv43r/eYpMskjWpl3exqUuKo9VHg28CzDfY3XNKpSjfdWidppaQvSnp1Xb3dJN0k6TlJqyR9GdjkW9D1XVWSxuTf4y/yusskfUNST916Z+bf+6S8n2ckPSLp9C78AFCYf0HdZVj+x91W6R7VnwN+S7qSLJCSBnAT8AzpqrN/A7wTuKPun+8c4HzSGcufAJ8nXcb8pvyP9ys2fPL8F9Inz33y8t2AOaTEciTp3gHnAzvk+p8F5gKratar7wb6V9KXvD6S9wuwC+ky6ieTupDOAg7I26q3I3AtcBWpW2we8JW+xNaPu4G3SfqqpKmS+jtr7wEuIN0L/BjS7/q/Jf1ug7pfIr3RHpnbdlIu+xpwOel3uRr4ttJtUbe4LZLOBS4C/ot0DD4BTAO+J2lYf+vWuBrYTdK78zZ3If3Ov9ak/teBfwa+Afwx6W/jOOCamrhGkP6u9gBOIP3uJuT1BjIKWEvqip2W2zSJdIb96gb1vwPcRvq9fRf4DOlDi/UnIvzo8AfpHy8aPFYAe9XV7QUeAobXlE0AXgTOz69HAeuAK+vW/XDe7gfz6/H59V/U1ZuRy3fsJ+YrgeUNyvfL636nhXYPB/bN9feo23YAM+vqfx94hPz9pibb3I70ZtP3O3wOuBX4S2CbftYbluNZBHy5QXsur6u/IJfvW1P2e7ns6KJtqfkbGF9zbF4CTq9b7z253qED/G7nAXfk5/8NfDU//yTwKOlD6UbHEPg/edsfrdvWn+fy3fPrv8yv966psw2wsLYNufzh+r/DBr/3cXm9w2rKz8xlx9bVvw+4tcr/16Hw8BlHdzkM2AuYSvqEdT8wN599IGkH0kD2tRGxvm+liFgK/Aj4w1y0NzCC9Omx1mxgfU29Zu4lJaLZkmZI+p3NaMt36gskjZB0Wu4GeT7v43/y4vrZYy+RbrdZazawK+lMoaGIeD4iDgPeQfo0+z1gCjCL9En9lRsKSXq/0myrx0m/lxeBtzSIBTYdY3oQeDY2/kb0g/nnuK3Qlg+Q3oyvyWehw/PZ012kQe33Nlmvka8Bf6Z0y9KPAtdEXbddNo10j4jr6/Z5a17et899gGURcWffinl7Ld0GWNLf5O63Z0i/90fzoka/95vqXv+c9HuzfjhxdJefR0RvRMyPiBtI3RNiw8Dm6/LrXzVY99ekMw1qfm5ULyebx2uWNxRpgP4g0t/f1cCvJd0paaCEU6tRjP9CasvXSd0gU9nQXVbfTbEmIl6sK/tN/tk0cfSJiPsj4gsR8aekLrKvAwfm/fbd0nQuqcvvOFKy3Qv43waxwKbXWnqBNAhfu8++G/Nsjbb0JevFpIRW+3gt6cZYrfoP0pnY6aSE2qyb6ndIHzierdvfb/Pyvn2+sSb+Wo3KNpLHdi4mdb8dTvob6BtXavR7X133el2TelbDs6q6WEQ8L2kJqQsE0ptXAG9oUP0NbPgnW11TtrCvQv70OJpN/xkb7ft24Pb8KfU9pPGImySNj4hW7tzW6Fo5M4GvRcTZNTE1u33m6yS9qu4Nt+9qqita2P+GQCLWSvp/pK66yaQLz/0p6dPu4bX7yAP1TxTZfgs2py2P558HsmnSql0+oIh4UtINwClAb0Q80M8+15K6rBpZmX/+ipSA6rVytduZwA8i4h/6CiRNaGE9K8BnHF1Mab79m0mD0ETEs8A9wBG1g6OS3kSasjsvF91J+kQ8s26TR5I+jPTV65t5tF2zGCJiXUTcRhpc34E0ntK3btP1mtie9Am21rFN6g4jvbnXmknq1miaOCS9scmit+WffWdC25O6kF5JcJL2p5xukM1py/eBl4Fd81lo/WNpk/WauZB0G9PP91PnZtKn+ZFN9tmXOH4CjKudgZYnXPxZC3EU+RuwzeQzju6ye56RI1J3wImkbqV/ranzaVK/742SLibd8P4zwJPAFwEiYrWkLwKnSnqW1CXzduBs4A429Bv/hvQpc6bSfROeJc2kOoLUnz2XNAtqZ9IsmJWkPmZI4y+jJP0NacB+bUTcN0D7bgaOlnQfqQvmcFLCa+Rp4PP59/EQcBTwfuCYyKOkTcxSmnL8rRzrMFIX1CeBX7Jh7OVm0uyuKyVdQRrb+DQFz2ZaVLgtEfFLSecBFypNtf4h6WxgHGn849J8VtiSPBazyRVq6+rMk/RN0hjH+aQZai+TBur/CPhURPyCNDvsFNIMstNIXVl/TZo9NpCbgU/l9e4m3Y97RqvtsBZVPTrvR/kPGs+q+i1pGuJBDepPI33qe56UMG4A3lpXR8DfkWYJvUD6pH0RdTOl2DAI/2Le7zGkwc8bSEljXV73P2r3QTr7+CYbus8ezuX75dfvbxD3zqRB4TX5cQ3pTT1Ib6J99a4ElpOSynzSG+YjwMdb+F0eRHpjW0R6w15HShgXAq+vq/sxUqJ8Pu/n/aSzsXk1dRq2h+azygI4u2hbqJtVVVP+EdIZ5LOk8ZgHclvGDvB7mEeeVdVPnU3aQOrlOIk01rM2/339L+lMZWRNvd1IHyyeI50Rfxn4q/o2UDerinSWekle52lSt+GEvN6ZNfXOzGXDG8T8cNX/s4P94cuqW9fJXxh7f0SMrTqWLdVJbbGhw2McZmZWiBOHmZkV4q4qMzMrxGccZmZWiBOHmZkV4sRhZmaFOHGYmVkhThxmZlbI/wcuU9jcbAsUMgAAAABJRU5ErkJggg==\n",
>>>>>>> 76755219a976e9ff6a2d2025d27e5e57d5870a46
      "text/plain": [
       "<Figure size 432x288 with 1 Axes>"
      ]
     },
     "metadata": {
      "needs_background": "light"
     },
     "output_type": "display_data"
    }
   ],
   "source": [
    "resampled_medians = datascience.Table().with_column('Bootstrap Sample Median', bstrap_medians)\n",
    "\n",
    "#median_bins=np.arange(100000, 130000, 2500)\n",
    "#resampled_medians.hist(bins = median_bins)\n",
    "resampled_medians.hist()\n",
    "\n",
    "import matplotlib.pyplot \n",
    "matplotlib.pyplot.scatter(pop_median, 0, color='red', s=99)"
   ]
  },
  {
   "cell_type": "markdown",
   "metadata": {},
   "source": [
    "It is important to remember that the red dot is fixed: it is \\\\$110,305.79, the population median. The empirical histogram is the result of random draws, and will be situated randomly relative to the red dot.\n",
    "\n",
    "Remember also that the point of all these computations is to estimate the population median, which is the red dot. Our estimates are all the randomly generated sampled medians whose histogram you see above. We want those estimates to contain the parameter – it they don't, then they are off.\n",
    "\n",
    "### Do the Estimates Capture the Parameter?\n",
    "\n",
    "How often does the empirical histogram of the resampled medians sit firmly over the red dot, and not just brush the dot with its tails? To answer this, we must define \"sit firmly\". \n",
    "Let's take that to mean \"the middle 95% of the resampled medians contains the red dot\".\n",
    "\n",
    "Here are the two ends of the \"middle 95%\" interval of resampled medians:"
   ]
  },
  {
   "cell_type": "code",
<<<<<<< HEAD
   "execution_count": 32,
=======
   "execution_count": 70,
>>>>>>> 76755219a976e9ff6a2d2025d27e5e57d5870a46
   "metadata": {},
   "outputs": [
    {
     "name": "stdout",
     "output_type": "stream",
     "text": [
      "lower/upper bounds of 95-percent of sample range \n",
<<<<<<< HEAD
      " 108020.51   117417.79\n"
=======
      " 101066.92   113053.1\n"
>>>>>>> 76755219a976e9ff6a2d2025d27e5e57d5870a46
     ]
    }
   ],
   "source": [
    "left = datascience.percentile(2.5, bstrap_medians)\n",
    "right = datascience.percentile(97.5, bstrap_medians)\n",
    "print(\"lower/upper bounds of 95-percent of sample range \\n\",left,\" \",right)"
   ]
  },
  {
   "cell_type": "markdown",
   "metadata": {},
   "source": [
    "The population median of \\\\$110,305 is indeed between these two numbers. The interval and the population median are shown on the histogram below."
   ]
  },
  {
   "cell_type": "code",
   "execution_count": 71,
   "metadata": {},
   "outputs": [
    {
     "name": "stderr",
     "output_type": "stream",
     "text": [
      "/opt/conda/envs/python/lib/python3.8/site-packages/datascience/tables.py:5206: UserWarning: FixedFormatter should only be used together with FixedLocator\n",
      "  axis.set_xticklabels(ticks, rotation='vertical')\n"
     ]
    },
    {
     "data": {
<<<<<<< HEAD
      "image/png": "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\n",
=======
      "image/png": "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\n",
>>>>>>> 76755219a976e9ff6a2d2025d27e5e57d5870a46
      "text/plain": [
       "<Figure size 432x288 with 1 Axes>"
      ]
     },
     "metadata": {
      "needs_background": "light"
     },
     "output_type": "display_data"
    }
   ],
   "source": [
    "#median_bins=np.arange(100000, 130000, 2500)\n",
    "#resampled_medians.hist(bins = median_bins)\n",
    "resampled_medians.hist()\n",
    "\n",
    "matplotlib.pyplot.plot(datascience.make_array(left, right), datascience.make_array(0, 0), color='yellow', lw=9, zorder=1)\n",
<<<<<<< HEAD
    "matplotlib.pyplot.scatter(pop_median, 0, color='red', s=30, zorder=2);"
=======
    "matplotlib.pyplot.scatter(pop_median, 0, color='red', s=199, zorder=2);"
>>>>>>> 76755219a976e9ff6a2d2025d27e5e57d5870a46
   ]
  },
  {
   "cell_type": "markdown",
   "metadata": {},
   "source": [
    "The \"middle 95%\" interval of estimates captured the parameter in our example. But was that a fluke?\n",
    "\n",
    "To see how frequently the interval contains the parameter, we have to run the entire process over and over again. Specifically, we will repeat the following process 100 times:\n",
    "\n",
    "    Draw an original sample of size 500 from the population.\n",
    "    Carry out 5,000 replications of the bootstrap process and generate the \"middle 95%\" interval of resampled medians.\n",
    "\n",
    "We will end up with 100 intervals, and count how many of them contain the population median.\n",
    "\n",
    "Spoiler alert: The statistical theory of the bootstrap says that the number should be around 95. It may be in the low 90s or high 90s, but not much farther off 95 than that."
   ]
  },
  {
   "cell_type": "code",
   "execution_count": 72,
   "metadata": {},
   "outputs": [],
   "source": [
    "# THE BIG SIMULATION: This one takes several minutes.\n",
    "# Generate 100 intervals, in the table intervals\n",
    "# modified by tgc for UCB dependencies not loaded as part of textbook\n",
    "# test 26oct2020 on AWS server runtime == about 4 minutes\n",
    "# test 25mar2021 on RaspberryPi4-ubuntu-8GB == 11 minutes\n",
    "left_ends = datascience.make_array()\n",
    "right_ends = datascience.make_array()\n",
    "\n",
    "total_comps = sf2015.select('Total Compensation')\n",
    "\n",
    "for i in numpy.arange(100):\n",
    "    first_sample = total_comps.sample(500, with_replacement=False)\n",
    "    medians = bootstrap_median(first_sample, 'Total Compensation', 5000)\n",
    "    left_ends = numpy.append(left_ends, datascience.percentile(2.5, medians))\n",
    "    right_ends = numpy.append(right_ends, datascience.percentile(97.5, medians))\n",
    "\n",
    "intervals = datascience.Table().with_columns(\n",
    "    'Left', left_ends,\n",
    "    'Right', right_ends\n",
    ")"
   ]
  },
  {
   "cell_type": "markdown",
   "metadata": {},
   "source": [
    "For each of the 100 replications, we get one interval of estimates of the median."
   ]
  },
  {
   "cell_type": "code",
   "execution_count": 73,
   "metadata": {},
   "outputs": [
    {
     "data": {
      "text/html": [
       "<table border=\"1\" class=\"dataframe\">\n",
       "    <thead>\n",
       "        <tr>\n",
       "            <th>Left</th> <th>Right</th>\n",
       "        </tr>\n",
       "    </thead>\n",
       "    <tbody>\n",
       "        <tr>\n",
<<<<<<< HEAD
       "            <td>103334 </td> <td>114261</td>\n",
       "        </tr>\n",
       "        <tr>\n",
       "            <td>101406 </td> <td>112432</td>\n",
       "        </tr>\n",
       "        <tr>\n",
       "            <td>107168 </td> <td>117731</td>\n",
       "        </tr>\n",
       "        <tr>\n",
       "            <td>97918.2</td> <td>110081</td>\n",
       "        </tr>\n",
       "        <tr>\n",
       "            <td>106939 </td> <td>119256</td>\n",
       "        </tr>\n",
       "        <tr>\n",
       "            <td>104321 </td> <td>116570</td>\n",
       "        </tr>\n",
       "        <tr>\n",
       "            <td>107048 </td> <td>118844</td>\n",
       "        </tr>\n",
       "        <tr>\n",
       "            <td>104697 </td> <td>115775</td>\n",
       "        </tr>\n",
       "        <tr>\n",
       "            <td>102265 </td> <td>114623</td>\n",
       "        </tr>\n",
       "        <tr>\n",
       "            <td>105375 </td> <td>117269</td>\n",
=======
       "            <td>101777</td> <td>114078</td>\n",
       "        </tr>\n",
       "        <tr>\n",
       "            <td>103873</td> <td>113829</td>\n",
       "        </tr>\n",
       "        <tr>\n",
       "            <td>106616</td> <td>115697</td>\n",
       "        </tr>\n",
       "        <tr>\n",
       "            <td>103609</td> <td>116756</td>\n",
       "        </tr>\n",
       "        <tr>\n",
       "            <td>107736</td> <td>119803</td>\n",
       "        </tr>\n",
       "        <tr>\n",
       "            <td>105030</td> <td>116761</td>\n",
       "        </tr>\n",
       "        <tr>\n",
       "            <td>108784</td> <td>119783</td>\n",
       "        </tr>\n",
       "        <tr>\n",
       "            <td>108085</td> <td>118268</td>\n",
       "        </tr>\n",
       "        <tr>\n",
       "            <td>101024</td> <td>111647</td>\n",
       "        </tr>\n",
       "        <tr>\n",
       "            <td>100759</td> <td>112783</td>\n",
>>>>>>> 76755219a976e9ff6a2d2025d27e5e57d5870a46
       "        </tr>\n",
       "    </tbody>\n",
       "</table>\n",
       "<p>... (90 rows omitted)</p>"
      ],
      "text/plain": [
<<<<<<< HEAD
       "Left    | Right\n",
       "103334  | 114261\n",
       "101406  | 112432\n",
       "107168  | 117731\n",
       "97918.2 | 110081\n",
       "106939  | 119256\n",
       "104321  | 116570\n",
       "107048  | 118844\n",
       "104697  | 115775\n",
       "102265  | 114623\n",
       "105375  | 117269\n",
=======
       "Left   | Right\n",
       "101777 | 114078\n",
       "103873 | 113829\n",
       "106616 | 115697\n",
       "103609 | 116756\n",
       "107736 | 119803\n",
       "105030 | 116761\n",
       "108784 | 119783\n",
       "108085 | 118268\n",
       "101024 | 111647\n",
       "100759 | 112783\n",
>>>>>>> 76755219a976e9ff6a2d2025d27e5e57d5870a46
       "... (90 rows omitted)"
      ]
     },
     "execution_count": 73,
     "metadata": {},
     "output_type": "execute_result"
    }
   ],
   "source": [
    "intervals"
   ]
  },
  {
   "cell_type": "markdown",
   "metadata": {},
   "source": [
    "The good intervals are those that contain the parameter we are trying to estimate. Typically the parameter is unknown, but in this section we happen to know what the parameter is."
   ]
  },
  {
   "cell_type": "code",
   "execution_count": 74,
   "metadata": {},
   "outputs": [
    {
     "data": {
      "text/plain": [
       "110305.79"
      ]
     },
     "execution_count": 74,
     "metadata": {},
     "output_type": "execute_result"
    }
   ],
   "source": [
    "pop_median"
   ]
  },
  {
   "cell_type": "markdown",
   "metadata": {},
   "source": [
    "How many of the 100 intervals contain the population median? That's the number of intervals where the left end is below the population median and the right end is above."
   ]
  },
  {
   "cell_type": "code",
   "execution_count": 76,
   "metadata": {},
   "outputs": [
    {
     "data": {
      "text/plain": [
       "91"
      ]
     },
     "execution_count": 76,
     "metadata": {},
     "output_type": "execute_result"
    }
   ],
   "source": [
    "intervals.where('Left', datascience.are.below(pop_median)).where('Right', datascience.are.above(pop_median)).num_rows"
   ]
  },
  {
   "cell_type": "markdown",
   "metadata": {},
   "source": [
    "It takes a few minutes to construct all the intervals, but try it again if you have the patience. Most likely, about 95 of the 100 intervals will be good ones: they will contain the parameter.\n",
    "\n",
    "It's hard to show you all the intervals on the horizontal axis as they have large overlaps – after all, they are all trying to estimate the same parameter. The graphic below shows each interval on the same axes by stacking them vertically. The vertical axis is simply the number of the replication from which the interval was generated.\n",
    "\n",
    "The red line is where the parameter is. Good intervals cover the parameter; there are about 95 of these, typically.\n",
    "\n",
    "If an interval doesn't cover the parameter, it's a dud. The duds are the ones where you can see \"daylight\" around the red line. There are very few of them – about 5, typically – but they do happen.\n",
    "\n",
    "Any method based on sampling has the possibility of being off. The beauty of methods based on random sampling is that we can quantify how often they are likely to be off."
   ]
  },
  {
   "cell_type": "code",
   "execution_count": 81,
   "metadata": {},
   "outputs": [
    {
     "data": {
<<<<<<< HEAD
      "image/png": "iVBORw0KGgoAAAANSUhEUgAAAfQAAAHwCAYAAABQR52cAAAAOXRFWHRTb2Z0d2FyZQBNYXRwbG90bGliIHZlcnNpb24zLjMuMCwgaHR0cHM6Ly9tYXRwbG90bGliLm9yZy86wFpkAAAACXBIWXMAAAsTAAALEwEAmpwYAAAr4ElEQVR4nO3de7y093zv/9ebIOIYkkYkSBxLtU530aKmlKqW0Cpp/SpUm9/em2Lvtkp1l13aqsPPcW9+UTS0DqkWoXEmCW2DOxIkUkQYSZrEjcQxDuGz/7iulUxW1mHWutc118w1r+fjsR5r5pprZj7XtWbmO+/r810zqSokSdJiu1rfBUiSpL3ngC5J0gA4oEuSNAAO6JIkDYADuiRJA+CALknSADiga64k+bskz9mL6387yS13sqYuJakkt25PvzLJ/+y7ps0k+VKSX+q7jr2V5MQkv7fDt3m7JKcn+VaSJ+3kba+6n5u3j/Wrd3UfWjwO6FpX+8J9afvCcVE72F6377pWrPWCXFXXrapzOrivLyX5QZIDVi0/rR2UD9vb+6iq/1JVz97b2+nTVt6QJXlWkr/vuqYZeyrwoaq6XlW9dPWF7WP2e+1zauXnHZvd6Oo3UVX15fax/qMdrn+of5el4ICuzTykqq4L3BXYBfxZz/X06YvAb62cSfLTwH79lbPckuzTdw1ruAVw5ibrPLEdjFd+HjKLwjR8DuiaSlWdD7wLuCNAkocmOTPJJW3quP3Kum2aeHqSzyS5OMlrk+zbXvbYJB+ZvO3Jw86rlu+f5J1J9rS3884kh7aX/SVwH+Dlbcp5+erbSnKDJK9rrz9O8mdJrjZZR5IXtLf9xSS/sslueD3wmInzRwGvW1Xztdrb/HJ7VOOVSa49cfkfJ7kgyX8m+d1V17083W607e3lJyZ5dpJ/bQ/vvnf10YNp9uM0t5Xkd9r997Ukz9hkH03e72Ht3+Oodn98deX6SR4E/CnwqPbv98l2+Q2SvLrdR+cnec7KYeX2b/avSV6U5GvAs9vH3x0n7vPANEeVfmKz7V5V662TnJTkG22db95gu9Z87Cf5IPCLXPGYvO20+6q9/gFtjZck+XqSDye5WpLXAzcH3tHe7lMn9u0+7XVPbPfVv7XrvCPJjZP8Q5JvJvl4Jo4iJXlJknPby05Ncp+9+LtMve/ULQd0TSXJzYAHA6e1L1RvBJ4CHAicQPNic82Jqzwa+GXgVsBt2V6yvxrwWprUc3PgUuDlAFX1DODDXJF2nrjG9V8G3AC4JXBfmsH4cROX3wP4LHAA8Dzg1UmyQT2nANdPcvv2xexIYPWhyefSbO+dgVsDhwB/Dpe/WP4R8ADgNsBGfeh1t33Cb7fb8xPANdvb3tHbSnIH4BXA7wA3BW4MrDkobuDewO2A+wN/nuT2VfVu4K+AN7d/vzu16/4dcBnNvrsL8EBgsq1yD+Ac4CDgL4B/ZuKoCfBI4KSq+sqU273i2cB7gf3b7XvZWitt9Nivqvtx5cfk5zbdM1f2h8B57e0eRDOwVlX9DvBl2qNlVfW8da5/JM3f6RCa592/02z/jYCzgGdOrPtxmsfojYA3AP+YZN9t/l2m2nfqngO6NvO2JJcAHwFOonmyPwr4l6p6X1X9EHgBcG3g5yeu9/KqOreqvg78JVd+0Z1KVX2tqv6pqr5bVd9qb+e+01x3YsB9elV9q6q+BLyQ5gVvxbiqXtX2IY8FDqZ5Id3ISkp/AM2L5PkT9xngaOC/V9XX25r/qq0DmsHmtVV1RlV9B3jWXm77a6vqc1V1KXAczQv0Tt/WI4B3VtXJVfV94H8CP16v7nX8r6q6tKo+CXwSuNNaKyU5iOZN41Oq6jvtoPwirth/AP9ZVS+rqsvaWt+w6vLfbpdt9fHzQ5qB/6ZV9b2q+sg6603z2N/MS9sUvvKzMm/ihzSPwVtU1Q+r6sO1tS/beG1VfaGqvkFzNO0LVfX+qroM+EeagRiAqvr7dv9cVlUvBK5F86brKqb4u0y779SxeexBab48rKreP7kgyU2B8cr5qvpxknNpksGKcydOj2nS3ZYk2Y/mheNBNO/+Aa6X5OpTTAY6ALjGZJ3t6ckaL1w5UVXfbcP5ZpP+Xg+cDBzOqsPtNMlqP+DUiaAfYGUm8k2BU1fVs6Ypt/3Ciat8d73a9/K2bsrE37KqvtMe7t6KqeqkGRSuAVwwsf+uxpUfS+euus6HgP2S3AO4iOaNyFthy4+fp9IkzY8luRh4YVW9Zo0ap3nsb+ZJVfW3ayx/Ps2bvPe2239MVT13C7d70cTpS9c4f/l+T/JHwONptqeA69M8Z9ay2d9l2n2njjmgazv+E/jplTNtMr0ZE2m1Pb/i5u11AL7DxESyJDfZ4H7+kCY13KOqLkxyZ+A0mkESmhei9XyVK5LDZybqOH/da0yhqsZJvkiTWB6/xn1eCvxUO+dgtQu46n5Zz2bbvhV7c1sXAJPzI/ajOey+E1b//c4Fvg8c0KbKTa9TVT9KchzNEaCLaI4mfKu9eOrtrqoLgd8HSHJv4P1JTq6qs1etOs1jf1vauv8Q+MM08wI+mOTjVfUBNn6sb0nbL38qTQvkzPZNycWs/7za8O+yhX2njnnIXdtxHPCrSe6f5Bo0L0LfB/5tYp0nJDk0yY2AZwArE2U+CfxUkjunmSj3rA3u53o0A+Ql7e08c9XlF9H0x6+iTWDHAX+Z5HpJbgH8D67a896OxwP3aw+bT97nj4FXAS9K8hMASQ5J8svtKscBj01yh3ZgXL09kzbb9q3Ym9t6C/BrSe7dzpH4C3budeMi4LC0ExWr6gKaXuwLk1y/nRB2qySbtVneQHMo/NHt6RVTb3eS38wVE+YuphnU1motTPPY35Ykv9ZOMAvwDeBHEzWs+1jfhuvR9MP3APsk+XOahL5iS3+XLew7dcwBXVtWVZ8F/h+ayS9fBR5CM2HnBxOrvYHmReAc4AvAc9rrfo5mUHg/8Hma3vx6XkzTn/wqzYS0d6+6/CXAI9LMYL7K//wCf0BzROCc9n7eAOz1ocC2T7l7nYv/BDgbOCXJN2m283bt9d5Fs00fbNf54AZ382I23vat2PZtVdWZwBNo9t0FNC/Y5+1FLZP+sf39tSSfaE8/hmZS3mfa+3oLTV95oxo/SvN3vilN73jFi5l+u38W+GiSbwPHA0+uNT7PYMrH/mZWZsGv/Ky0YW5D83j5Ns2Etv9TVR9qL/tr4M/anvt6kx+n9R6affE5mvbB97hyK2Orf5ep9p26l63NuZA2l+RLwO+t7r1LkrpjQpckaQAc0CVJGgAPuUuSNAAmdEmSBsABXZKkAVjoD5Y54IAD6rDDDuu7DEmSZuLUU0/9alUduNZlCz2gH3bYYezevd6/A0uSNCxJ1v3IaA+5S5I0AA7okiQNgAO6JEkD4IAuSdIAOKBLkjQADuiSJA2AA7okSQPggC5J0gA4oEuSNAAO6JIkDYADuiRJA+CALknSADigS5I0AA7okiQNQGcDepLXJPlKkjMmlt0oyfuSfL79vX+7PElemuTsJJ9Kcteu6pIkaYi6TOh/Bzxo1bKnAR+oqtsAH2jPA/wKcJv252jgFR3WJUnS4HQ2oFfVycDXVy0+Aji2PX0s8LCJ5a+rxinADZMc3FVtkiQNzT4zvr+DquqC9vSFwEHt6UOAcyfWO69ddgHSsrvoKfC90/uuYuccdlLz+0v37bcOzbd97wwHvbjvKhZKb5PiqqqA2ur1khydZHeS3Xv27OmgMkmSFs+sE/pFSQ6uqgvaQ+pfaZefD9xsYr1D22VXUVXHAMcA7Nq1a8tvCKSFM7iUkubXLU7stQppaGad0I8HjmpPHwW8fWL5Y9rZ7vcEvjFxaF6SJG2is4Se5I3ACDggyXnAM4HnAscleTwwBh7Zrn4C8GDgbOC7wOO6qkvalqH1sefBeNR3Bf2yR6wd1tmAXlW/tc5F919j3QKe0FUtkiQN3ax76NJiMkntIHvoUhf86FdJkgbAhK5hsuc9/8ajviuYPfvm6pAJXZKkATCha5hMQXPMHrrUBRO6JEkDYEKX+mCPfzl76DvNnrwmmNAlSRoAE7rUh6VOVfbQpS6Y0CVJGgATunaOfWFtxXjUdwVbZ89ac8yELknSAJjQtXNMLpqKPXSpCw7o0k6z9TCd8ajvCrQZWwwLxUPukiQNgAld2mkmmk14yF3qggldkqQBMKFr6+wRayeMR7O7L3vBWgImdEmSBsCErq0z6Wiv2EOXumBClyRpAEzoWk7OA+jfeNR3BVqPcw4WkgldkqQBMKFrOZk+emQPXeqCCV2SpAEwoUt9WfY+/njUdwXzzT62tsiELknSAJjQpb4sbfqyhy51wYQuSdIAmNClebJMffXxqO8Klos9+cEzoUuSNAAmdGmeLEWCsocudcGELknSAJjQpSGb5578eNR3BdLaFnS+gQldkqQBMKFLQzaXKcMeutQFE7okSQNgQtf65rn/Kkm6EhO6JEkDYELX+uay/6rFl74LkAbJhC5J0gCY0CUNh/M+NG9m+D/tJnRJkgbAhC5pOJz3oSVmQpckaQBM6Fpe9lv7NR71XcFiWdDPF9fsmNAlSRoAE7qWl2mnJ36Wu9QFE7okSQNgQtdysF8+f8ajvivYefa51SMTuiRJA2BC13IwNc0Re+hSF0zokiQNgAldw2TPfP6NR31XsH32yjWHTOiSJA2ACV3DZHqaY/bQpS6Y0CVJGgATujTJ3vvsjEd9VzAb9ts1IyZ0SZIGwIQuTTJJzYA9dKkLJnRJkgbAhC5pc13MLRiPdvb2pPUsyTwGE7okSQNgQpe0uR1NN/bQpS6Y0CVJGgATurSa/4s+G+NR3xUMy5L0ibU+E7okSQNgQpdWM+V0zB661AUTuiRJA2BC1/rsJatL41HfFXTLnrZmrJeEnuS/JzkzyRlJ3phk3ySHJ/lokrOTvDnJNfuoTZKkRTTzhJ7kEOBJwB2q6tIkxwFHAg8GXlRVb0rySuDxwCtmXZ8mmC7UCXvoUhf66qHvA1w7yT7AfsAFwP2At7SXHws8rJ/SJElaPDNP6FV1fpIXAF8GLgXeC5wKXFJVl7WrnQccMuvaBsceuObZeNR3BTvDXrnmxMwTepL9gSOAw4GbAtcBHrSF6x+dZHeS3Xv27OmoSkmSFksfs9x/CfhiVe0BSPLPwL2AGybZp03phwLnr3XlqjoGOAZg165dNZuSF5SpQXPJHrrUhT566F8G7plkvyQB7g98BvgQ8Ih2naOAt/dQmyRJC6mPHvpHk7wF+ARwGXAaTeL+F+BNSZ7TLnv1rGuTdpzzGNY3HvVdgdbinICF1csHy1TVM4Fnrlp8DnD3HsqRJGnh+UlxUpdMOmuwhy51wc9ylyRpAEzoy84er/oyHl35vL1baa+Y0CVJGgAT+rIzEWnm7KFLXTChS5I0ACZ0aRrONdh541HfFews5wCoZyZ0SZIGwIQuTcPktYPsoUtdMKFLkjQAJnRtzv6xujAe9V3B+uyHawGZ0CVJGgATujZnUtGOsocudcGELknSAJjQtRycBzB/xqO+K1guzgsYPBO6JEkDYELXcjCZzBF76FIXHNA1XB5mn2/jUd8VzA8Ph2sHeMhdkqQBMKFruEw8c8pD7lIXTOiSJA2ACV1adIs6V2A86rsC7Q37/nPHhC5J0gCY0KVFt3ApyR661AUTuiRJA2BCV78Wtf+rvTce9V3B5uwTa4GY0CVJGgATuvpl+llC9tClLpjQJUkaABN6V+wNq2v2dyVNMKFLkjQAJvSumJwkSTNkQpckaQBM6NLecr7E9oxHfVegReTckXWZ0CVJGgATurS3TAtb5P+hS10woUuSNAAmdMkeeD/Go74rWD72nwfNhC5J0gCY0CUTy4zZQ5e6YEKXJGkATOjSCnvpszUe9V2BNmK/feGY0CVJGgATurTCNDIj9tClLpjQJUkaABO6tIiG0O8fj/quQJPsmS88E7okSQNgQpcW0UInKXvoUhdM6JIkDYAJXbM3hP6v9t541HcF88HetXaICV2SpAEwoWv2TCNLzh661AUTuiRJA2BC186yP65pjUd9VzB79svVIRO6JEkDYELXzjJ9aFP20KUumNAlSRoAE7oWl/36xTYe9V2BNmK/f+GY0CVJGgATuhaX6WFB2UOXumBClyRpAEzo0mbs1XdjPOq7gm7Ye1ZPTOiSJA2ACV3ajGlrh9lDl7pgQpckaQBM6NJa7Jt3bzzquwLNgnMKZsaELknSAJjQpbWYKDpkD13qggldkqQBMKFrtuxNa8V41HcF9nc1KL0k9CQ3TPKWJP+R5KwkP5fkRknel+Tz7e/9+6hNkqRF1FdCfwnw7qp6RJJrAvsBfwp8oKqem+RpwNOAP+mpPnXFNCR76FInZp7Qk9wA+AXg1QBV9YOqugQ4Aji2Xe1Y4GGzrk2SpEXVR0I/HNgDvDbJnYBTgScDB1XVBe06FwIH9VCbtDgWfT7CeNR3BcvHOQOD1kcPfR/grsArquouwHdoDq9frqoKqLWunOToJLuT7N6zZ0/nxUqStAjSjJ0zvMPkJsApVXVYe/4+NAP6rYFRVV2Q5GDgxKq63Ua3tWvXrtq9e3fXJUvaSWl76DN+7ZGGIMmpVbVrrctmntCr6kLg3CQrg/X9gc8AxwNHtcuOAt4+69okSVpUfc1y/wPgH9oZ7ucAj6N5c3FckscDY+CRPdUmNRa9Rz3vxqO+K5g/9ri1F3oZ0KvqdGCtQwb3n3EpkiQNgp8UJ63HpNQR/w9d6oKf5S5J0gCY0CWtr8t5BONRN7er+eGcgJkyoUuSNAAmdEnr6yRd2UOXumBClyRpAEzo0jxZpv99H4/6rkB7yx75XDGhS5I0ACZ0aZ4sRdqxhy51YeoBPcnPA4dNXqeqXtdBTZIkaYumGtCTvB64FXA68KN2cQEO6Fpey9Tv7sJ41HcFw2NPe6lNm9B3AXeoWX/XqiRJmsq0A/oZwE2ACzqsRVosJqFtsocudWHaAf0A4DNJPgZ8f2VhVT20k6okSdKWTDugP6vLIqSltcx9+PGo7wq00+zh92qqAb2qTkpyEPCz7aKPVdVXuitLkiRtxbSz3B8JPB84kaYB9rIkf1xVb+mwNmn4ljLN2EOXujDtIfdnAD+7ksqTHAi8H3BAlyRpDkw7oF9t1SH2r+HHxmrRLXP/eh6MR31XsJzscw/WtAP6u5O8B3hje/5RwAndlCRJkrZq2klxf5zkN4B7tYuOqaq3dleWNAOmlJ7YQ5e6MPVnuVfVPwH/1GEt0hU8HD5841HfFXTLQ9uasQ0H9CQfqap7J/kWzWe3X34RUFV1/U6rkyRJU9lwQK+qe7e/rzebcqSWyWbAPOQudWGqmertt61tukySJPVj2h76T02eSbIPcLedL0cLz963pjUebb6OfWhpahsm9CRPb/vnP5Pkm+3Pt4CLgLfPpEJJkrSpTPMV50n+uqqePoN6tmTXrl21e/fuvsuQtBVpe+hTvPZIurIkp1bVrrUum/b/0J+eZH/gNsC+E8tP3pkSJUnS3pj2y1l+D3gycChwOnBP4N+B+3VWmXae/W31xV641LlpP4/9yTRfnTquql8E7gJc0lVRkiRpa6ad5f69qvpeEpJcq6r+I8ntOq1MO8+EJEmDNe2Afl6SGwJvA96X5GJg3FVRkiRpa6adFPfw9uSzknwIuAHw7s6qkvrmfIPujUd9VzC/nHOgbZj2k+LumeR6AFV1EnAiTR9dkiTNgWkPub8CuOvE+W+vsUwaDtNRh/wsd6kL085yT018Ak1V/ZgtfPWqJEnq1rSD8jlJnkSTygH+G3BONyVJ67CvPSzjUd8VaDP28hfKtAn9vwA/D5wPnAfcAzi6q6IkSdLWTDvL/SvAkR3XIm3MpDAQ9tClLmw4oCd5alU9L8nLgKt8k0JVPamzyiRJ0tQ2S+hntb/9SjMtHnvu82086ruC+WK/WntpwwG9qt7R/j52NuVIkqTt2OyQ+ztY41D7iqp66I5XJO0U086csocudWGzQ+4vmEkVkiRpr2x2yP2kldNJrgn8JE1i/2xV/aDj2jR09riX23g0m/uxN60lMdW/rSX5VeCVwBdojpcdnuT/rap3dVmcJEmazrSfFPdC4Ber6myAJLcC/gVwQNf2mZqWlD10qQvTflLct1YG89Y5wLc6qEeSJG3DtAl9d5ITgONoeui/CXw8ya8DVNU/d1SfdpI9a82T8ajvCpabcwsGZ9oBfV/gIuC+7fk9wLWBh9AM8A7okiT1aNrPcn9c14VoBnw3rrlgD13qwlQ99CS3TfKBJGe0538myZ91W5okSZrWtIfcXwX8MfD/A1TVp5K8AXhOV4VJW+YcgcUyHvVdQX/sX6sD085y36+qPrZq2WU7XYwkSdqeaRP6V9v/PS+AJI8ALuisKmk7TDwLwh661IVpB/QnAMcAP5nkfOCLwKM7q0qSJG3JtLPczwF+Kcl1aA7Tfxc4Ehh3WJs0e/bhZ2c86ruC5WPvftA27KEnuX6Spyd5eZIH0AzkRwFnA4+cRYGSJGlzmyX01wMXA/8O/D7wDJoG2MOr6vRuS5N6YHqZAXvoUhc2G9BvWVU/DZDkb2kmwt28qr7XeWWSJGlqmw3oP1w5UVU/SnKeg7mkzjmXQfNqjuchbDag3ynJN9vTAa7dng9QVXX9TquTJElT2XBAr6qrz6oQSbrcnCYgaZ5N+0lxkiRpjk37wTLS2ux1arvGo74raMxxT1TaChO6JEkDYELX3jHZaMv8P3SpCyZ0SZIGwISu5WLPf36MR31XsHPsw2sO9JbQk1w9yWlJ3tmePzzJR5OcneTNSa7ZV22SJC2aPhP6k4GzgJUPp/kb4EVV9aYkrwQeD7yir+I0UKaoOWAPXepCLwk9yaHArwJ/254PcD/gLe0qxwIP66M2SZIWUV8J/cXAU4HrtedvDFxSVZe1588DDumhLkk7aaM5C+PR7OqQVhvgvIeZJ/QkvwZ8papO3eb1j06yO8nuPXv27HB1kiQtpj4S+r2AhyZ5MLAvTQ/9JcANk+zTpvRDgfPXunJVHQMcA7Br166aTcmStmXNBGQPXerCzBN6VT29qg6tqsOAI4EPVtWjgQ8Bj2hXOwp4+6xrkyRpUc3T/6H/CfCmJM8BTgNePdN79/+TpUH2FaVl0euAXlUnAie2p88B7t5nPZIkLap5Suj9MpVIkhaYn+UuSdIAmNClPjhnw/9D75JzIZaSCV2SpAEwoUt9WOr05P+hS10woUuSNAAmdM0v+8zDNh71XcH8sgeubTChS5I0ACZ0zS8TykDZQ5e6YEKXJGkATOiaDfvhWm086ruCK7NvrQVnQpckaQBM6JoNk48uZw9d6oIJXZKkATChS1pczs1QlxZsXoUJXZKkATChS1pcC5SepK6Z0CVJGgAT+jKx36g+LFgfUlpUJnRJkgbAhL5MTEmSNFgmdEmSBsCELi27vuZWjEezv0/NP+dcbJsJXZKkATChS8tu5mnIz3KXumBClyRpAEzoml/+3/ywjUd9V9CwZ6uBMKFLkjQAJnTNL1PTQNlDl7rggC4tiqG1IMajvivQdtmmmEsecpckaQBM6NKiGEwi8pC71AUTuiRJA2BCXyRD66FquY1HfVewc+wpaw6Y0CVJGgAT+iIxAWgQ7KFLXTChS5I0ACZ0LT7nFiym8ajvCuaLfXjtJRO6JEkDYELX4jPVLBh76FIXTOiSJA2ACV2aB8s4D2A86rsCrcVe/sIyoUuSNAAmdGkeLFUisocudcGELknSAJjQNVvL2CvW2sajvivoj31qdcCELknSAJjQNVumEtlDlzphQpckaQBM6FLXnDewtvGo7wqWj737QTOhS5I0ACZ0qWsmolXsoUtdMKFLkjQAJnQNi/3qxTEe9V3B8NgjX2omdEmSBsCErmExnSwAe+hSF0zokiQNgAldWgbzOLdgPOq7Ai0y5wtchQldkqQBMKFLy2Cukow9dKkLJnRJkgbAhC5t1Tz2oxfReNR3BYvFnrE2YUKXJGkATOjSVpmS9pI9dKkLJnRJkgbAhL5o7N9qKMYj+8LSDjKhS5I0ACb0RWOa0cKzhy51wYQuSdIAmNA1TM41mH/jUd8VzJ5zBtShmSf0JDdL8qEkn0lyZpInt8tvlOR9ST7f/t5/1rVJkrSoUlWzvcPkYODgqvpEkusBpwIPAx4LfL2qnpvkacD+VfUnG93Wrl27avfu3V2XLGknpe2hz/i1RxqCJKdW1a61Lpt5Qq+qC6rqE+3pbwFnAYcARwDHtqsdSzPIS5KkKfTaQ09yGHAX4KPAQVV1QXvRhcBBfdUlLY0+5xqMR/3crzZnr38h9TbLPcl1gX8CnlJV35y8rJo+wJrH45IcnWR3kt179uyZQaWSJM2/mffQAZJcA3gn8J6q+v/aZZ8FRlV1QdtnP7GqbrfR7dhDlxaQPXRp2+aqh54kwKuBs1YG89bxwFHt6aOAt8+6NkmSFlUfPfR7Ab8DfDrJ6e2yPwWeCxyX5PHAGHhkD7Wpa/5/uFaMR31XoFmyL9+5mQ/oVfURLv/sx6u4/yxrkSRpKPykOM2W79DlZ7lLnfCz3CVJGgAT+jywr6xlNB51fx/2bbVETOiSJA2ACX0emCC0VOyhS10woUuSNAAmdM0P5xIsl/Go7wqGy7kDS8mELknSAJjQNT9MFEvCHrrUBRO6JEkDYEJfRvaqNQ/Go/7u2x6zBsiELknSAJjQl5HJRL2yhy51wYQuSdIAmNClneYchemMR31XoL3hPIS5Y0KXJGkATOjSTjO1bMIeutQFE7okSQNgQtfystfdr/Go7wqGy/72UjKhS5I0ACZ0LS8TTE/soUtdMKFLkjQAJnRpluzbX2E86ruC+WcvXFtgQpckaQBM6NIsmbawhy51w4QuSdIAmNC1GOw9D8941HcF3bDvrZ6Y0CVJGgATuhaDiWdA7KFLXTChS5I0ACZ0TccetnbaeLT5OvajpamZ0CVJGgATuqZjStKOsYcudcEBXdpJtiamNx71XYHWY6tjIXnIXZKkATChSzvJVDMFD7lLXTChS5I0ACZ0zSd70cM3HvVdQb/sU2uHmdAlSRoAE7rmk8llwOyhS10woUuSNAAmdGka9vR33njUdwWLzz68JpjQJUkaABO6NA1T0A6yhy51wYQuSdIAmNClRTOUfv541HcF6oN9/86Y0CVJGgATurRoFj7d2EOXumBClyRpAEzo0mpD6VHPu/Go7wqWi73rwTOhS5I0ACZ0aTVTTMfsoUtdMKFLkjQAJnRpkQypvz8e9V2B5ok9/r1mQpckaQBM6NIiGUSCsYcudcGELknSAJjQ59WQeqUS2COVOmZClyRpAEzo88okI0naAhO6JEkDYEKXFtWiz7MYj/quQNvhXIi5ZUKXJGkATOjSolrYlOT/oUtdMKFLkjQAJnR1b9F7verGeNTffdsH1gCZ0CVJGgATurpnEtKV2EOXumBClyRpAEzoGib79vNvPOq7gtmwX68ZmauEnuRBST6b5OwkT+u7HkmSFsXcJPQkVwf+N/AA4Dzg40mOr6rP9FuZFpKJaI7ZQ5e6ME8J/e7A2VV1TlX9AHgTcETPNUmStBDmaUA/BDh34vx57TJJkrSJeRrQp5Lk6CS7k+zes2dP3+VIkjQX5mlAPx+42cT5Q9tlV1JVx1TVrqradeCBB86sOEk7pKr5kbSj5mlA/zhwmySHJ7kmcCRwfM81SZK0EOZmlntVXZbkicB7gKsDr6mqM3suS5KkhTA3AzpAVZ0AnNB3HZIkLZp5OuQuSZK2yQFdkqQBcECXJGkAHNAlSRoAB3RJkgbAAV2SpAFwQJckaQAc0CVJGgAHdEmSBsABXZKkAXBAlyRpABzQJUkaAAd0SZIGwAFdkqQBcECXJGkAUlV917BtSfYA4y1c5QDgqx2VMzTuq+m4n6bjfpqO+2k6y7yfblFVB651wUIP6FuVZHdV7eq7jkXgvpqO+2k67qfpuJ+m435am4fcJUkaAAd0SZIGYNkG9GP6LmCBuK+m436ajvtpOu6n6bif1rBUPXRJkoZq2RK6JEmDtJADepInJzkjyZlJntIue1aS85Oc3v48eGL9pyc5O8lnk/zyxPIHtcvOTvK0ieWHJ/lou/zNSa450w3cC0lek+QrSc6YWHajJO9L8vn29/7t8iR5abudn0py14nrHNWu//kkR00sv1uST7fXeWmSbHQf82qL+2mU5BsTj60/n7jOlh5DSa7Vnj+7vfywGW72lq2zn36zfe79OMmuVevvyHNtyPspyWFJLp14PL1y4rItPb82eg7Pq3X21fOT/Ee7DW9NcsOJy5byMbUtVbVQP8AdgTOA/YB9gPcDtwaeBfzRGuvfAfgkcC3gcOALwNXbny8AtwSu2a5zh/Y6xwFHtqdfCfzXvrd7C/vnF4C7AmdMLHse8LT29NOAv2lPPxh4FxDgnsBH2+U3As5pf+/fnt6/vexj7bppr/srG93HvP5scT+NgHeucRtbfgwB/w14ZXv6SODNfe+Lbeyn2wO3A04Edk0s37Hn2sD302GT6626nS09v9Z7Ds/zzzr76oHAPu3pv5nYvqV9TG3nZxET+u1pHrTfrarLgJOAX99g/SOAN1XV96vqi8DZwN3bn7Or6pyq+gHwJuCI9h3x/YC3tNc/FnhYN5uy86rqZODrqxYfQbMdcOXtOQJ4XTVOAW6Y5GDgl4H3VdXXq+pi4H3Ag9rLrl9Vp1TzrHjdqtta6z7m0hb303q28xiavI+3APdfSWHzaK39VFVnVdVn11h9J59rQ95Pa9rm82u95/DcWmdfvbd9PQc4BTi0Pb20j6ntWMQB/QzgPklunGQ/mneoN2sve2J7yOY1ueKQ7yHAuRPXP69dtt7yGwOXTDy4VpYvsoOq6oL29IXAQe3pre6bQ9rTq5dvdB+LZKNt+Lkkn0zyriQ/1S7bzmPo8uu0l3+jXX8IdvK5NuT9BHB4ktOSnJTkPu2y7Ty/1tu3i+x3aY46gI+pLVm4Ab2qzqI5JPNe4N3A6cCPgFcAtwLuDFwAvLCfCudb+86/039tmMV9dG3VNnyC5uMW7wS8DHhbX3VpEC4Abl5VdwH+B/CGJNef9spDeH6tJ8kzgMuAf+i7lkW0cAM6QFW9uqruVlW/AFwMfK6qLqqqH1XVj4FX0RySATifKxI8NIdyzt9g+ddoDlvts2r5Irto5TBc+/sr7fKt7pvzueJQ2OTyje5jkay5DVX1zar6dnv6BOAaSQ5ge4+hy6/TXn6Ddv0h2Mnn2mD3U3v4+Gvt6VNpesG3ZXvPr/X27cJJ8ljg14BHt29awMfUlizkgJ7kJ9rfN6fpn79hVd/o4TSH5gGOB45sZzgeDtyGZuLJx4HbtDMir0kzSeL49oH0IeAR7fWPAt7e9TZ17Hia7YArb8/xwGPambL3BL7RHtZ7D/DAJPu3rYsHAu9pL/tmknu2vafHrLqtte5jkay5DUluMjHb+O40z5uvsb3H0OR9PAL44MSL16LbyefaYPdTkgOTXL09fUua/XTONp9f6z2HF0qSBwFPBR5aVd+duMjH1FbMcgbeTv0AHwY+QzOz8f7tstcDnwY+RfOHO3hi/WfQvAv+LO2s0Xb5g4HPtZc9Y2L5LWkeNGcD/whcq+9t3sK+eSPNIb0f0vSPHk/TJ/oA8Hma/wq4UbtugP/dbv+nufJM3N9tt/9s4HETy3fRvFn6AvByrvhwojXvY15/trifngic2T7eTgF+fruPIWDf9vzZ7eW37HtfbGM/Pbw9/X3gIpo3ezv6XBvyfgJ+o308nU7TznnIxO1s6fm10XN4Xn/W2Vdn0/S3T29/Xrnsj6nt/PhJcZIkDcBCHnKXJElX5oAuSdIAOKBLkjQADuiSJA2AA7okSQPggC5J0gA4oEtzKkkl+fuJ8/sk2ZPknVu8nRPTfn1nkhMmv5pyL+t7WCa+SnbVZd/e5LqHpf36zDRfT7ulbdrgdt+fOf/qXqkrDujS/PoOcMck127PP4C9/FjPqnpwVV2yt4W1ngr8nx26ralNfKznWl5P8zWZ0tJxQJfm2wnAr7anf4vmU7YASHKd9psFP9Z+c9cR7fJrJ3lTkrOSvBW49sR1vtR+Dj1J3pbk1CRnJjl6Yp1vJ/nL9tvlTklylW/OS3Jb4PtV9dX2/OFJ/j3Jp5M8Z2K9JHl+kjPayx610cYmuXt7O6cl+bckt2uXPzbJ8Uk+CHwgycFJTk5yenvbK99Ydny7n6Sl44Auzbc30XyW9b7AzwAfnbjsGTSfR3134BeB5ye5DvBfge9W1e2BZwJ3W+e2f7eq7kbzcaNPSrLyVZLXAU6p5tvlTgZ+f43r3ovmY0tXvAR4RVX9NM3Heq74dZpvQLwT8EttjRt9X/d/APep5pvI/hz4q4nL7go8oqruC/w2zUeprtz26QBVdTFwrYltkZbGRoeuJPWsqj6V5DCa1HnCqosfCDw0yR+15/cFbg78AvDSiet/ap2bf1KSh7enb0bzxRdfA34ArPS0T6U51L/awcCeifP3ovmMcmgOe/9Ne/rewBur6kc03xh2EvCzNN+5sJYbAMcmuQ3NV4ReY+Ky91XV19vTHwdek+QawNuq6vSJ9b4C3JSBfZOWtBkTujT/jgdewMTh9laA36iqO7c/N6+qs6a5wSQjmsT8c20SP43mDQHAD+uKL3n4EWu/8b90Yv0VO/HFEM8GPlRVdwQesuo+vnP5HVWdTPPG5Xzg75I8ZmK9fdv6pKXigC7Nv9cA/6uqPr1q+XuAP5j4ate7tMtPpjkkTZI70hyqX+0GwMVV9d0kPwncc4s1nQXceuL8v9J8hSXAoyeWfxh4VJKrJzmQZhD+2Aa3ewOumPj32PVWSnIL4KKqehXwtzSH42n3xU2AL027IdJQOKBLc66qzquql65x0bNpDkl/KsmZ7XmAVwDXTXIW8Bc0h81XezewT7vOc2m+FnYrTgbusvJmAngy8IQknwYOmVjvrTSH1z8JfBB4alVduMHtPg/46ySnsXFLcAR8sl3vUTQ9fGjmC5xSVZdtcXukhefXp0raliQvAd5RVe/vu5YVbU3HV9UH+q5FmjUTuqTt+itgv76LWOUMB3MtKxO6JEkDYEKXJGkAHNAlSRoAB3RJkgbAAV2SpAFwQJckaQD+L2ur4GMhP202AAAAAElFTkSuQmCC\n",
=======
      "image/png": "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\n",
>>>>>>> 76755219a976e9ff6a2d2025d27e5e57d5870a46
      "text/plain": [
       "<Figure size 1296x1296 with 1 Axes>"
      ]
     },
     "metadata": {
      "needs_background": "light"
     },
     "output_type": "display_data"
    }
   ],
   "source": [
    "replication_number = numpy.ndarray.astype(numpy.arange(1, 101), str)\n",
    "intervals2 = datascience.Table(replication_number).with_rows(datascience.make_array(left_ends, right_ends))\n",
    "\n",
    "matplotlib.pyplot.figure(figsize=(18,18))\n",
    "for i in numpy.arange(100):\n",
    "    ends = intervals2.column(i)\n",
    "    matplotlib.pyplot.plot(ends, datascience.make_array(i+1, i+1), color='blue')\n",
    "matplotlib.pyplot.plot(datascience.make_array(pop_median, pop_median), datascience.make_array(0, 100), color='red', lw=2)\n",
    "matplotlib.pyplot.xlabel('Median (dollars)')\n",
    "matplotlib.pyplot.ylabel('Replication')\n",
    "matplotlib.pyplot.title('Population Median and Intervals of Estimates');\n"
   ]
  },
  {
   "cell_type": "markdown",
   "metadata": {},
   "source": [
    "To summarize what the simulation shows, suppose you are estimating the population median by the following process:\n",
    "\n",
    "    Draw a large random sample from the population.\n",
    "    Bootstrap your random sample and get an estimate from the new random sample.\n",
    "    Repeat the above step thousands of times, and get thousands of estimates.\n",
    "    Pick off the \"middle 95%\" interval of all the estimates.\n",
    "\n",
    "That gives you one interval of estimates. Now if you repeat the entire process 100 times, ending up with 100 intervals, then about 95 of those 100 intervals will contain the population parameter.\n",
    "\n",
    "In other words, this process of estimation captures the parameter about 95% of the time.\n",
    "\n",
    "You can replace 95% by a different value, as long as it's not 100. Suppose you replace 95% by 80% and keep the sample size fixed at 500. Then your intervals of estimates will be shorter than those we simulated here, because the \"middle 80%\" is a smaller range than the \"middle 95%\". Only about 80% of your intervals will contain the parameter."
   ]
  },
  {
   "cell_type": "code",
   "execution_count": 44,
   "metadata": {},
   "outputs": [
    {
     "data": {
      "image/png": "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\n",
      "text/plain": [
       "<Figure size 576x576 with 1 Axes>"
      ]
     },
     "metadata": {
      "needs_background": "light"
     },
     "output_type": "display_data"
    }
   ],
   "source": [
<<<<<<< HEAD
    "# THE BIG SIMULATION: This one takes several minutes.\n",
    "# Generate 100 intervals, in the table intervals\n",
    "# modified by tgc for UCB dependencies not loaded as part of textbook\n",
    "# test 26oct2020 on AWS server runtime == about 4 minutes\n",
    "left_ends = datascience.make_array()\n",
    "right_ends = datascience.make_array()\n",
    "\n",
    "total_comps = sf2015.select('Total Compensation')\n",
    "\n",
    "for i in numpy.arange(100):\n",
    "    first_sample = total_comps.sample(500, with_replacement=False)\n",
    "    medians = bootstrap_median(first_sample, 'Total Compensation', 5000)\n",
    "    left_ends = numpy.append(left_ends, datascience.percentile(10, medians))\n",
    "    right_ends = numpy.append(right_ends, datascience.percentile(90, medians))\n",
    "\n",
    "intervals = datascience.Table().with_columns(\n",
    "    'Left', left_ends,\n",
    "    'Right', right_ends\n",
    ")\n",
    "\n",
    "replication_number = numpy.ndarray.astype(numpy.arange(1, 101), str)\n",
    "intervals3 = datascience.Table(replication_number).with_rows(datascience.make_array(left_ends, right_ends))\n",
    "\n",
    "matplotlib.pyplot.figure(figsize=(8,8))\n",
    "for i in numpy.arange(100):\n",
    "    ends = intervals3.column(i)\n",
    "    matplotlib.pyplot.plot(ends, datascience.make_array(i+1, i+1), color='gold')\n",
    "matplotlib.pyplot.plot(datascience.make_array(pop_median, pop_median), datascience.make_array(0, 100), color='red', lw=2)\n",
    "matplotlib.pyplot.xlabel('Median (dollars)')\n",
    "matplotlib.pyplot.ylabel('Replication')\n",
    "matplotlib.pyplot.title('Population Median and Intervals of Estimates');"
   ]
  },
  {
   "cell_type": "markdown",
   "metadata": {},
   "source": [
    "## Next Time\n",
    "Lesson 18 will continue along these lines, and present without much theory methods for different estimates -- they all share the same underlying principles illustrated here."
   ]
  },
  {
=======
    "## Next Time\n",
    "Lesson 18 will continue along these lines, and present without much theory methods for different estimates -- they all share the same underlying principles illustrated here."
   ]
  },
  {
>>>>>>> 76755219a976e9ff6a2d2025d27e5e57d5870a46
   "cell_type": "code",
   "execution_count": null,
   "metadata": {},
   "outputs": [],
   "source": []
  }
 ],
 "metadata": {
  "kernelspec": {
   "display_name": "Python 3",
   "language": "python",
   "name": "python3"
  },
  "language_info": {
   "codemirror_mode": {
    "name": "ipython",
    "version": 3
   },
   "file_extension": ".py",
   "mimetype": "text/x-python",
   "name": "python",
   "nbconvert_exporter": "python",
   "pygments_lexer": "ipython3",
   "version": "3.8.5"
  }
 },
 "nbformat": 4,
 "nbformat_minor": 4
}
