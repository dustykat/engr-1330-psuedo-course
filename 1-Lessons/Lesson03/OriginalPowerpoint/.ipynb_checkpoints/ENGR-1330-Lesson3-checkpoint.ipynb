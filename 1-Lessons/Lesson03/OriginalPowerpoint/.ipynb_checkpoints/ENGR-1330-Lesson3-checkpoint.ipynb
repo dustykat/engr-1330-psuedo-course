{
 "cells": [
  {
   "cell_type": "markdown",
   "metadata": {},
   "source": [
    "# ENGR 1330 Computational Thinking with Data Science \n",
    "Last GitHub Commit Date: 19 January 2021\n",
    "## Lesson 3 Data Structures and Conditional Statements: \n",
    "- lkhl;khj\n",
    "- Data types (int, float, string, bool)\n",
    "- Variables, operators, expressions, basic I/O\n",
    "- String functions and operations\n",
    "\n",
    "### Special Script Blocks"
   ]
  },
  {
   "cell_type": "code",
   "execution_count": null,
   "metadata": {},
   "outputs": [],
   "source": [
    "%%html\n",
    "<!-- Script Block to set tables to left alignment -->\n",
    "<style>\n",
    "  table {margin-left: 0 !important;}\n",
    "</style>"
   ]
  },
  {
   "cell_type": "markdown",
   "metadata": {},
   "source": [
    "## Objectives\n",
    "\n",
    "1) Develop awareness of data structures available in Python to store and manipulate data \n",
    "      1. Implement arrays (lists), dictionaries, and tuples\n",
    "      2. Address contents of lists , dictionaries, and tuples\n",
    "2) Develop awareness of decision making in Python\n",
    "      1. Implement decision making in Python using using if-then ... conditional statements"
   ]
  },
  {
   "cell_type": "code",
   "execution_count": null,
   "metadata": {},
   "outputs": [],
   "source": []
  },
  {
   "cell_type": "markdown",
   "metadata": {},
   "source": []
  },
  {
   "cell_type": "markdown",
   "metadata": {},
   "source": [
    "---\n",
    "## Data Structures and Conditional Statements\n",
    "\n",
    "**Computational thinking (CT)** concepts involved are:\n",
    "\n",
    "1. `Decomposition` : Data interpretation, manipulation, and analysis of NumPy arrays\n",
    "2. Pattern Recognition :\n",
    "3. `Abstraction` : Data structures; Arrays, lists, tuples, sets, and dictionaries\n",
    "4. `Algorithms` : Conditional statements\n",
    "5. System Integration \n",
    "\n",
    "## What is a data structure?\n",
    "\n",
    "Data Structures are a specialized means of organizing and storing data in computers in such a way that we can perform operations on the stored data more efficiently.\n",
    "\n",
    "In our iPython world the structures are illustrated in the figure below\n",
    "\n",
    "![](data-structures.png)"
   ]
  },
  {
   "cell_type": "markdown",
   "metadata": {},
   "source": [
    "### Lists\n",
    "\n",
    "A list is a collection of data that are somehow related. It is a convenient way to refer to a\n",
    "collection of similar things by a single name, and using an index (like a subscript in math)\n",
    "to identify a particular item.\n",
    "\n",
    "Consider the \"math-like\" variable $x$ below:\n",
    "\n",
    "\\begin{gather}\n",
    "x_0= 7 \\\\\n",
    "x_1= 11 \\\\\n",
    "x_2= 5 \\\\\n",
    "x_3= 9 \\\\\n",
    "x_4= 13 \\\\\n",
    "\\dots \\\\\n",
    "x_N= 223 \\\\\n",
    "\\end{gather}\n",
    "    \n",
    "The variable name is $x$ and the subscripts correspond to different values. \n",
    "Thus the `value` of the variable named $x$ associated with subscript $3$ is the number $9$.\n",
    "\n",
    "The figure below is a visual representation of a the concept that treats a variable as a collection of cells. \n",
    "\n",
    "![](array-image.jpg)\n",
    "\n",
    "In the figure, the variable name is `MyList`, the subscripts are replaced by an index\n",
    "which identifies which cell is being referenced. \n",
    "The value is the cell content at the particular index. \n",
    "\n",
    "So in the figure the value of `MyList` at Index = 3 is the number 9.'\n",
    "\n",
    "In engineering and data science we use lists a lot - we often call then vectors, arrays, matrices and such, but they are ultimately just lists.\n",
    "\n",
    "To declare a list you can write the list name and assign it values. \n",
    "The square brackets are used to identify that the variable is a list. \n",
    "Like:\n",
    "\n",
    "    MyList = [7,11,5,9,13,66,99,223]\n",
    "\n",
    "One can also declare a null list and use the `append()` method to fill it as needed.\n",
    "\n",
    "    MyOtherList = [ ]\n",
    "    \n",
    "Python indices start at **ZERO**. \n",
    "A lot of other languages start at ONE. \n",
    "It's just the convention. \n",
    "\n",
    "The first element in a list has an index of 0, the second an index of 1, and so on.\n",
    "We access the contents of a list by referring to its name and index. \n",
    "For example \n",
    "\n",
    "    MyList[3] has a value of the number 9."
   ]
  },
  {
   "cell_type": "markdown",
   "metadata": {},
   "source": [
    "### Arrays\n",
    "\n",
    "Arrays are lists that are used to store only elements of a specific data type\n",
    "-  Ordered: Elements in an array can be indexed\n",
    "-  Mutable: Elements in an array can be altered\n",
    "\n",
    "![](https://pi.lbbcdn.com/wp-content/uploads/2020/01/Python-Arrays-Index-example-diagram.png)\n",
    "\n",
    "Data type that an array must hold is specified using the type code when it is created\n",
    "- ‘f’ for float\n",
    "- ‘d’ for double\n",
    "- ‘i’ for signed int\n",
    "- ‘I’ for unsigned int\n",
    "\n",
    "More types are listed below\n",
    "\n",
    "\n",
    "|Type Code|C Data Type|Python Data Type|Minimum Size in Bytes|\n",
    "|:---|---|---|---:|\n",
    "|'b'|\tsigned char|int\t|1|\n",
    "|'B'|\tunsigned char\t|int\t|1|\n",
    "|'h'|\tsigned short\t|int\t|2|\n",
    "|'H'|\tunsigned short\t|int\t|2|\n",
    "|'i'|\tsigned int\t|int\t|2|\n",
    "|'I'|\tunsigned int\t|int\t|2|\n",
    "|'l'|\tsigned long\t|int\t|4|\n",
    "|'L'|\tunsigned long\t|int\t|4|\n",
    "|'q'|\tsigned long long\t|int\t|8|\n",
    "|'Q'|\tunsigned long long\t|int\t|8|\n",
    "|'f'|\tfloat\t|float\t|4|\n",
    "|'d'|\tdouble\t|float\t|8|\n",
    "\n",
    "To use arrays, a library named ‘array’ must be imported"
   ]
  },
  {
   "cell_type": "code",
   "execution_count": 2,
   "metadata": {},
   "outputs": [],
   "source": [
    "import array "
   ]
  },
  {
   "cell_type": "markdown",
   "metadata": {},
   "source": [
    "Creating an array that contains signed integer numbers"
   ]
  },
  {
   "cell_type": "code",
   "execution_count": 4,
   "metadata": {},
   "outputs": [],
   "source": [
    "myarray = array.array('i', [1, 2, 4, 8, 16, 32])"
   ]
  },
  {
   "cell_type": "code",
   "execution_count": 9,
   "metadata": {},
   "outputs": [
    {
     "data": {
      "text/plain": [
       "1"
      ]
     },
     "execution_count": 9,
     "metadata": {},
     "output_type": "execute_result"
    }
   ],
   "source": [
    "myarray[0] #1-st element, 0-th position"
   ]
  },
  {
   "cell_type": "code",
   "execution_count": 10,
   "metadata": {},
   "outputs": [],
   "source": [
    "import array as arr #import using an alias so the calls dont look so funny"
   ]
  },
  {
   "cell_type": "code",
   "execution_count": 11,
   "metadata": {},
   "outputs": [
    {
     "data": {
      "text/plain": [
       "1"
      ]
     },
     "execution_count": 11,
     "metadata": {},
     "output_type": "execute_result"
    }
   ],
   "source": [
    "myarray = arr.array('i', [1, 2, 4, 8, 16, 32])\n",
    "myarray[0] #1-st element, 0-th position"
   ]
  },
  {
   "cell_type": "markdown",
   "metadata": {},
   "source": [
    "Lists: Can store elements of different data types; like arrays they are (arrays are lists, but lists are not quite arrays!)\n",
    "- Ordered: Elements in a list can be indexed\n",
    "- Mutable: Elements in a list can be altered\n",
    "- Mathematical\toperations\tmust\tbe\tapplied\tto\teach element\tof\tthe\tlist\t"
   ]
  },
  {
   "cell_type": "markdown",
   "metadata": {},
   "source": [
    "### Tuple - A special list\n",
    "\n",
    "A tuple is a special kind of list where the **values cannot be changed** after the list is created.\n",
    "Such a property is called `immutable`\n",
    "It is useful for list-like things that are static - like days in a week, or months of a year.\n",
    "You declare a tuple like a list, except use round brackets instead of square brackets.\n",
    "\n",
    "    MyTupleName = (\"Jan\",\"Feb\",\"Mar\",\"Apr\",\"May\",\"Jun\",\"Jul\",\"Aug\",\"Sep\",\"Oct\",\"Nov\",\"Dec\")\n",
    "    \n",
    "Tuples are often created as output from packages and functions.\n",
    "    "
   ]
  },
  {
   "cell_type": "markdown",
   "metadata": {},
   "source": [
    "\n",
    "### Dictionary - A special list\n",
    "\n",
    "A dictionary is a special kind of list where the items are related data `PAIRS`. \n",
    "It is a lot like a relational database (it probably is one in fact) where the first item in the pair is called the key, and must be unique in a dictionary, and the second item in the pair is the data.\n",
    "The second item could itself be a list, so a dictionary would be a meaningful way to build a\n",
    "database in Python.\n",
    "\n",
    "To declare a dictionary using `curly` brackets\n",
    "\n",
    "    MyPetsNamesAndMass = { \"Dusty\":7.8 , \"Aspen\":6.3, \"Merrimee\":0.03}\n",
    "\n",
    "To declare a dictionary using the `dict()` method\n",
    "\n",
    "    MyPetsNamesAndMassToo = dict(Dusty = 7.8 , Aspen = 6.3, Merrimee = 0.03)\n",
    "    \n",
    "Dictionary properties\n",
    "- Unordered: Elements in a dictionary cannot be\n",
    "- Mutable elements: Elements in a dictionary can be altered\n",
    "- Immutable keys: Keys in a dictionary cannot be altered"
   ]
  },
  {
   "cell_type": "markdown",
   "metadata": {},
   "source": [
    "### Sets - A special list\n",
    "\n",
    "Sets: Are used to store elements of different data types\n",
    "- Unordered: Elements in a set cannot be indexed\n",
    "- Mutable: Elements in a set can be altered\n",
    "- Non-repetition: Elements in a set are unique\n",
    "\n",
    "Elements of a set are enclosed in curly brackets { }\n",
    "- Creating sets that contains different data types\n",
    "- Sets cannot be nested\n",
    "\n",
    "#### What's the difference between a set and dictionary? \n",
    "\n",
    "From https://stackoverflow.com/questions/34370599/difference-between-dict-and-set-python\n",
    "\n",
    "\"Well, a set is like a dict with keys but no values, and they're both implemented using a hash table. But yes, it's a little annoying that the `{}` notation denotes an empty `dict` rather than an empty `set`, but that's a historical artifact.\""
   ]
  },
  {
   "cell_type": "markdown",
   "metadata": {},
   "source": [
    "---\n",
    "## Conditional Statements\n",
    "\n",
    "Decision making via conditional statements is an important step in algorithm design; they control the flow of execution of a program.\n",
    "\n",
    "Conditional statements in Python include:\n",
    "\n",
    "- `if` statement\n",
    "- `if....else` statements\n",
    "- `if....elif....else` statements\n",
    "\n",
    "Conditional statements are logical expressions that evaluate as TRUE or FALSE and using\n",
    "these results to perform further operations based on these conditions.\n",
    "All flow control in a program depends on evaluating conditions. The program will proceed\n",
    "diferently based on the outcome of one or more conditions - really sophisticated AI programs are a collection of conditions and correlations. \n",
    "\n",
    "\n",
    "\n",
    "Amazon knowing what you kind of want is based on correlations of your past behavior compared to other peoples similar, butmore recent behavior, and then it uses conditional statements to decide what item to offer you in your recommendation items. \n",
    "It's spooky, but ultimately just a program running in the background trying to make your money theirs.\n",
    "\n",
    "### Comparison\n",
    "\n",
    "The most common conditional operation is comparison. If we wish to compare whether two\n",
    "variables are the same we use the == (double equal sign).\n",
    "\n",
    "For example x == y means the program will ask whether x and y have the same value. \n",
    "If they do, the result is TRUE if not then the result is FALSE.\n",
    "\n",
    "Other comparison signs are `!=` does NOT equal, `<` smaller than, `> `larger than, `<= `less than or equal, and `>=` greater than or equal.\n",
    "\n",
    "There are also three logical operators when we want to build multiple compares\n",
    "(multiple conditioning); these are `and`, `or`, and `not`.\n",
    "\n",
    "The `and` operator returns TRUE if (and only if) **all** conditions are TRUE.\n",
    "For instance `5 == 5 and 5 < 6` will return a TRUE because both conditions are true.\n",
    "\n",
    "The `or` operator returns `TRUE` if at least one condition is true. \n",
    "If **all** conditions are FALSE, then it will return a FALSE. For instance `4 > 3 or 17 > 20 or 3 == 2` will return `TRUE`because the first condition is true.\n",
    "The `not` operator returns `TRUE` if the condition after the `not` keyword is false. Think of it\n",
    "as a way to do a logic reversal."
   ]
  },
  {
   "cell_type": "markdown",
   "metadata": {},
   "source": []
  },
  {
   "cell_type": "code",
   "execution_count": null,
   "metadata": {},
   "outputs": [],
   "source": []
  },
  {
   "cell_type": "code",
   "execution_count": 1,
   "metadata": {},
   "outputs": [
    {
     "name": "stdout",
     "output_type": "stream",
     "text": [
      "ip-172-26-4-2\n",
      "compthink\n",
      "/home/compthink/engr-1330-webroot/1-Lessons/Lesson03/OriginalPowerpoint\n",
      "/opt/jupyterhub/bin/python3\n",
      "3.8.5 (default, Jul 28 2020, 12:59:40) \n",
      "[GCC 9.3.0]\n",
      "sys.version_info(major=3, minor=8, micro=5, releaselevel='final', serial=0)\n"
     ]
    }
   ],
   "source": [
    "# Script block to identify host, user, and kernel\n",
    "import sys\n",
    "! hostname\n",
    "! whoami\n",
    "! pwd\n",
    "print(sys.executable)\n",
    "print(sys.version)\n",
    "print(sys.version_info)"
   ]
  },
  {
   "cell_type": "code",
   "execution_count": null,
   "metadata": {},
   "outputs": [],
   "source": []
  }
 ],
 "metadata": {
  "kernelspec": {
   "display_name": "Python 3",
   "language": "python",
   "name": "python3"
  },
  "language_info": {
   "codemirror_mode": {
    "name": "ipython",
    "version": 3
   },
   "file_extension": ".py",
   "mimetype": "text/x-python",
   "name": "python",
   "nbconvert_exporter": "python",
   "pygments_lexer": "ipython3",
   "version": "3.8.5"
  }
 },
 "nbformat": 4,
 "nbformat_minor": 4
}
