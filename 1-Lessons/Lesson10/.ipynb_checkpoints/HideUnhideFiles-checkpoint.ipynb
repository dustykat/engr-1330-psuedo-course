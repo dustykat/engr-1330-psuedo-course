{
 "cells": [
  {
   "cell_type": "code",
   "execution_count": null,
   "metadata": {},
   "outputs": [],
   "source": [
    "# build your deploy, then move solutions into /src/Solution"
   ]
  },
  {
   "cell_type": "code",
   "execution_count": 3,
   "metadata": {},
   "outputs": [
    {
     "name": "stdout",
     "output_type": "stream",
     "text": [
      "/home/compthink/CECE-1330-PsuedoCourse/1-Lessons/Lesson10/Lab10\n"
     ]
    }
   ],
   "source": [
    "# check current dir\n",
    "! pwd"
   ]
  },
  {
   "cell_type": "code",
   "execution_count": 6,
   "metadata": {},
   "outputs": [],
   "source": [
    "#! mv ./src ./.src # activate to hide\n",
    "    \n",
    "! mv ./.src ./src # activate to unhide"
   ]
  },
  {
   "cell_type": "code",
   "execution_count": 7,
   "metadata": {},
   "outputs": [
    {
     "name": "stdout",
     "output_type": "stream",
     "text": [
      "total 108\n",
      "drwxrwxr-x 4 compthink compthink  4096 Sep 28 18:03  .\n",
      "drwxrwxr-x 6 compthink compthink  4096 Sep 27 15:07  ..\n",
      "drwxrwxr-x 2 compthink compthink  4096 Sep 28 18:00  .ipynb_checkpoints\n",
      "-rw-rw-r-- 1 compthink compthink 90093 Sep 27 15:09 'Lab10_Fp version.ipynb'\n",
      "-rw-rw-r-- 1 compthink compthink  1896 Sep 28 18:01  ReadMe.ipynb\n",
      "drwxrwxr-x 2 compthink compthink  4096 Sep 28 18:00  src\n"
     ]
    }
   ],
   "source": [
    "! ls -la"
   ]
  },
  {
   "cell_type": "code",
   "execution_count": null,
   "metadata": {},
   "outputs": [],
   "source": []
  }
 ],
 "metadata": {
  "kernelspec": {
   "display_name": "Python 38",
   "language": "python",
   "name": "python38"
  },
  "language_info": {
   "codemirror_mode": {
    "name": "ipython",
    "version": 3
   },
   "file_extension": ".py",
   "mimetype": "text/x-python",
   "name": "python",
   "nbconvert_exporter": "python",
   "pygments_lexer": "ipython3",
   "version": "3.8.3"
  }
 },
 "nbformat": 4,
 "nbformat_minor": 4
}
