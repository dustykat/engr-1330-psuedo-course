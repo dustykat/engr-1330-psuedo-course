{
 "cells": [
  {
   "cell_type": "code",
   "execution_count": 1,
   "metadata": {
    "collapsed": true,
    "jupyter": {
     "outputs_hidden": true,
     "source_hidden": true
    }
   },
   "outputs": [
    {
     "name": "stdout",
     "output_type": "stream",
     "text": [
      "ip-172-26-4-2\n",
      "compthink\n",
      "/opt/jupyterhub/bin/python3\n",
      "3.8.5 (default, Jul 28 2020, 12:59:40) \n",
      "[GCC 9.3.0]\n",
      "sys.version_info(major=3, minor=8, micro=5, releaselevel='final', serial=0)\n"
     ]
    }
   ],
   "source": [
    "# Script block to identify host, user, and kernel\n",
    "import sys\n",
    "! hostname\n",
    "! whoami\n",
    "print(sys.executable)\n",
    "print(sys.version)\n",
    "print(sys.version_info)\n",
    "# Script block to left align Markdown Tables"
   ]
  },
  {
   "cell_type": "code",
   "execution_count": 2,
   "metadata": {
    "jupyter": {
     "source_hidden": true
    }
   },
   "outputs": [
    {
     "data": {
      "text/html": [
       "<style>\n",
       "  table {margin-left: 0 !important;}\n",
       "</style>\n"
      ],
      "text/plain": [
       "<IPython.core.display.HTML object>"
      ]
     },
     "metadata": {},
     "output_type": "display_data"
    }
   ],
   "source": [
    "%%html\n",
    "<style>\n",
    "  table {margin-left: 0 !important;}\n",
    "</style>"
   ]
  },
  {
   "cell_type": "markdown",
   "metadata": {},
   "source": [
    "# ENGR 1330 Computational Thinking with Data Science"
   ]
  },
  {
   "cell_type": "markdown",
   "metadata": {},
   "source": [
    "## Course Description: \n",
    "Introducion to Python programming, its relevant modules and libraries, and computational thinking for solving problems in Data Science. Data science approaches for importing, manipulating, and analyzing data.  Modeling and visualizing real-world data sets in various science and engineering disciplines.\n",
    "\n",
    "3 credit hours comprising of lectures and hands-on lab sessions.\n",
    "\n",
    "This course provides a hands-on learning experience in programming and data science using iPython and JupyterLab. iPython is the interactive python kernel implemented in JupyterLab. \n",
    "\n",
    "## Prerequisites: \n",
    "\n",
    "Prior programming background is NOT required.  The course is intended for first-year WCOE students (aka engineering foundational) \n"
   ]
  },
  {
   "cell_type": "markdown",
   "metadata": {},
   "source": [
    "## COVID-19 Important Guidelines:\n",
    "* If Texas Tech University campus operations are required to change because of health concerns related to the COVID-19 pandemic, it is possible that this course will move to a fully online delivery format.  Should that be necessary, students will be advised of technical and/or equipment requirements, including remote proctoring software.  \n",
    "\n",
    "* Policy on absences resulting from illness: We anticipate that some students may have extended absences.  To avoid students feeling compelled to attend in-person class periods when having symptoms or feeling unwell, a standard policy is provided that holds students harmless for illness-related absences (see Section A below).\n",
    "\n",
    "\n",
    "### A. Illness-Based Absence Policy (Face-to-Face CLasses)\n",
    "If at any time during the semester you are ill, in the interest of your own health and safety as well as the health and safety of your instructors and classmates, you are encouraged not to attend face-to-face class meetings or events.  Please review the steps outlined below that you should follow to ensure your absence for illness will be excused.  These steps also apply to not participating in synchronous online class meetings if you feel too ill to do so and missing specified assignment due dates in asynchronous online classes because of illness.\n",
    "\n",
    "1. If you are ill and think the symptoms might be COVID-19-related:\n",
    "\n",
    "    1. Call Student Health Services at 806.743.2848 or your health care provider.  During after-hours and on weekends, contact TTU COVID-19 Helpline at TBD.\n",
    "    2. Self-report as soon as possible using the Dean of Students COVID-19 webpage. This website has specific directions about how to upload documentation from a medical provider and what will happen if your illness renders you unable to participate in classes for more than one week.\n",
    "    3. If your illness is determined to be COVID-19-related, all remaining documentation and communication will be handled through the Office of the Dean of Students, including notification of your instructors of the time you may be absent from and may return to classes.\n",
    "    4. If your illness is determined not to be COVID-19-related, please follow steps 2.a-d below.\n",
    "\n",
    "\n",
    "2. If you are ill and can attribute your symptoms to something other than COVID-19:\n",
    "\n",
    "    1. If your illness renders you unable to attend face-to-face classes, participate in synchronous online classes, or miss specified assignment due dates in asynchronous online classes, you are encouraged to contact either Student Health Services at 806.743.2848 or your health care provider.  Note that Student Health Services and your own and other health care providers may arrange virtual visits.\n",
    "    2. During the health provider visit, request a “return to school” note.\n",
    "    3. E-mail the instructor a picture of that note.\n",
    "    4. Return to class by the next class period after the date indicated on your note.\n",
    "\n",
    "Following the steps outlined above helps to keep your instructors informed about your absences and ensures your absence or missing an assignment due date because of illness will be marked excused.  You will still be responsible to complete within a week of returning to class any assignments, quizzes, or exams you miss because of illness.\n",
    "\n",
    "### B. Illness-Based Absence Policy (Telepresence CLasses)\n",
    "Same as above with respect potential to infect others; go to a health care provider if you are ill.  Telepresence courses are recorded and will be available on TTU MediaSite and/or YouTube (unlisted).  Exercises, Quizzes, and Examinations are all administered by a Learning Management System (Blackboard) and users need to allow enough time to complete and upload their work>"
   ]
  },
  {
   "cell_type": "markdown",
   "metadata": {},
   "source": [
    "## Course Sections\n",
    "Lesson time, days, and location: \n",
    "\n",
    "1. Section XXX; CRN 123456; 0000-0000 T, TH ; Telepresence\n",
    "   1. Lab Section DXX; CRN 12345; 0000-0000 T, TH\n",
    "\n",
    "\n",
    "2. Section XXX; CRN 123456; 0000-0000 T, TH ; Telepresence\n",
    "    2. Lab Section DXX; CRN 12345; 0000-0000 T, TH\n",
    "\n",
    "## Course Instructor:\n",
    "\n",
    "Instructor: Theodore G. Cleveland, Ph.D., P.E., M. ASCE, F. EWRI\n",
    "\n",
    "Email: theodore.cleveland@ttu.edu  (put ENGR 1330 in subject line for email related to this class)\n",
    "\n",
    "Office location: Telepresence (Zoom; GoToMeeting; etc.)\n",
    "\n",
    "Office hours: TBD\n",
    "\n",
    "## Teaching assistants:\n",
    "Email : TBD \n",
    "\n",
    "Office location: Telepresence\n",
    "\n",
    "Office hours: TBD"
   ]
  },
  {
   "cell_type": "markdown",
   "metadata": {},
   "source": [
    "## Textbook: \n",
    "Ani Adhikari and John DeNero, Computational and Inferential Thinking, The Foundations of Data Science, Creative Commons Attribution-NonCommercial-NoDerivatives 4.0 International (CC BY-NC-ND 4.0).  Link: https://www.inferentialthinking.com/chapters/intro.\n"
   ]
  },
  {
   "cell_type": "markdown",
   "metadata": {},
   "source": [
    "## Course Contents: \n",
    "* Computational thinking for problem-solving: Logical problem solving, decomposition, pattern recognition, abstraction, representation, algorithm design, and generalization.\n",
    "* Python Programming: \n",
    "    1. Variables, constants, data types, data structures, strings, math operators\n",
    "    2. boolean operators, expressions, program constructs, functions, \n",
    "    3. looping, I/O files, modules, and database.\n",
    "* Data science fundamentals:\n",
    "\t1. Experimental setup: \n",
    "        1. Importing and formatting data sets, \n",
    "        2. Displaying data, \n",
    "        3. Data pre-processing.\n",
    "\t2. Introductory statistical analysis with Python: \n",
    "        1. Elementary statistics, randomness, sampling, probability distributions,\n",
    "        2. Confidence intervals, hypothesis testing, and A/B testing.\n",
    "\t3. Basic data analysis, visualization, and machine learning: \n",
    "        1. Data pre-processing, \n",
    "        2. Supervised/unsupervised learning, \n",
    "        3. Performance evaluation metrics.\n",
    "\n"
   ]
  },
  {
   "cell_type": "markdown",
   "metadata": {},
   "source": [
    "## Learning Outcomes: \n",
    "On completion of the course, students will have\n",
    "* Created Python programs employing computational thinking concepts to\n",
    "* Employed Python libraries relevant to data science.\n",
    "* Downloaded data files from selected public sources and analyzed content.\n",
    "* Created scripts to perform fundamental data analytics and basic visualization.\n"
   ]
  },
  {
   "cell_type": "markdown",
   "metadata": {},
   "source": [
    "## ABET Student Outcomes\n",
    "* Engineering:\n",
    "    1. An ability to identify, formulate, and solve complex engineering problems by applying principles of engineering, science, and mathematics.\n",
    "    2. An ability to acquire and apply new knowledge as needed, using appropriate learning strategies. \n",
    "    \n",
    "\n",
    "* Computer Science:\n",
    "\n",
    "    1. Analyze a complex computing problem and to apply principles of computing and other relevant disciplines to identify solutions.  \n",
    "    2. Design, implement, and evaluate a computing-based solution to meet a given set of computing requirements in the context of the program’s discipline.  \n"
   ]
  },
  {
   "cell_type": "markdown",
   "metadata": {},
   "source": [
    "## Resources/Tools\n",
    "### Platforms for Python Programming (for your own computers)\n",
    "\n",
    "1. Anaconda platform (https://www.anaconda.com/): Anaconda distribution is an open-source Data Science Distribution Development Platform.  It includes Python 3 with over 1,500 data science packages making it easy to manage libraries and dependencies.  Available in Linux, Windows, and Mac OS X.  \n",
    "\n",
    "2. Jupyter (https://jupyter.org/): JupyterLab is a web-based interactive development environment for Jupyter notebooks, code, and data. JupyterLab is flexible: Configure and arrange the user interface to support a wide range of workflows in data science, scientific computing, and machine learning. `note` Anaconda for MacOS includes a JupyterLab instance, so a separate install is not required.\n",
    "\n",
    "### Additional Modules for Python Programming\n",
    "3. Math module (https://docs.python.org/3/library/math.html): Gives access to the mathematical functions defined by the C standard e.g. factorial, gcd, exponential, logarithm. \n",
    "4. Operator module (https://docs.python.org/3/library/operator.html): Helps in exporting a set of efficient functions corresponding to the intrinsic operators of Python.  For example, the operator add(x,y) is equivalent to the expression x+y.\n",
    "\n",
    "### Python Modules for Data Science\n",
    "5. Scipy module (https://www.scipy.org/): A Python-based ecosystem of open-source software for mathematics, science, and engineering. Some of the core packages are:\n",
    "    * Numpy: Provides n-dimensional array package\n",
    "    * Scipy: Fundamental for scientific computing (e.g. linear algorithm, optimization)\n",
    "    * Matplotlib: Visualizations/2D plotting\n",
    "    * IPython: Enhanced interactive console <<= this is the kernel used in JupyterLab\n",
    "    * Pandas: Data structures and data analysis\n",
    "6. Scikit-learn module (https://scikit-learn.org/stable/): A library for machine learning in Python. It is a simple and efficient tool for predictive data analysis.  It is built on NumPy, SciPy, and matplotlib modules.\n",
    " \n",
    "### On-Line Options\n",
    "- AWS Lightsail Instance (use Windows Server 2000 template; lowest resource provision tier; AWS RDP client, or download and install own RDP client) \n",
    "    1. Then install Anaconda onto the AWS Instance\n",
    "\n",
    "### Hardware Requirements\n",
    "- Minimal, this this syllabus was created using a JupyterLab notebook (as a markdown processor) on a Raspberry Pi 4B, which technically cannot support a JupyterHub, but does.  \n",
    "- Your current laptop should be fine, or if you only have a chromebook, build an AWS instance."
   ]
  },
  {
   "cell_type": "markdown",
   "metadata": {},
   "source": [
    "## Course Schedule \n",
    "\n",
    "| Item | Lesson | Lab |\n",
    "|:-----|:---|:---|\n",
    "||<strong>JupyterLab(Python Kernel) and Programming</strong>||\n",
    "|21 Jan 2021|Lesson 1 Introduction to Computational Thinking with Data Science: <br> - Computational thinking concepts <br> - Python as a programming environment <br> - Data science and practices <br> - CCMR Approach| Computing Environment set up: <br> - Installing Anaconda (Win/MacOS/AWS) <br> – Jupyter notebooks <br> - Simple Examples |\n",
    "|26Jan2021|Lesson 2 Programming Fundamentals:<br> - Data types (int, float, string, bool)<br> - Variables, operators, expressions, basic I/O<br> - String functions and operations|Introduction to Python<br> - Data types (e.g. int, float, string, bool)<br> - Expressions|\n",
    "|28 Jan 2021|Lesson 3 Programming Fundamentals:<br> - Data structures: Array, list, tuple, set, dictionary<br> - Conditional statements |Introduction to Python<br> - Data structures<br> - Conditional statements|\n",
    "|2 Feb 2021|Lesson 4 Programming Fundamentals:<br> - Loops |Introduction to Python<br> - Loops|\n",
    "|4 Feb 2021|Lesson 5 Programming Fundamentals:<br> - Functions<br> - Variable scope|Introduction to Python<br> - Functions<br> - Variable scope|\n",
    "|9 Feb 2021|Lesson 6 Programming Fundamentals:<br> - Class and objects <br> - File handling|Introduction to Python<br> - Class and objects<br> - File handling|\n",
    "||<strong> Data Science External Modules</strong>||\n",
    "|11 Feb 2021|Lesson 7 Data Representation and Operations:<br> Python library: <strong>NumPy</strong><br> - Data representation: Arrays, vectors, matrices <br> - Data operations: Indexing, math functions |Exercises on NumPy|\n",
    "|16 Feb 2021|Lesson 8 Data Query and Manipulation: <br> Python Library: <strong>Pandas</strong> <br> - Data frames: <br> - Create, index, summarize statistics <br> - fill and drop values <br> - read/write to file|Exercises on Pandas|\n",
    "|18 Feb 2021|Lesson 9 Data Display:<br> Python Libraries: <strong>Matplotlib</strong><br> - Data Display for line charts, bar charts,<br> box plot, scatter plot, and histograms|Exercises on data display|\n",
    "|23 Feb 2021|Lesson 10 Data Modeling: <br> -   Establishing causality <br> -  Randomness <br> - Models as Preciction Machines | Exercises on causality and simulation |\n",
    "|25 Feb 2021|<strong>Review for Exam-1 </strong>(Lessons 1-9)|<strong>Exam-1</strong><br> - LMS administered|\n",
    "||<strong> Data Modeling: Statistical Approaches</strong>||\n",
    "|2 Mar 2021|Lesson 11 Randomness and Probabilities: <br> - Sampling <br> - Empirical distributions|Exercises on probabilities|\n",
    "|4 Mar 2021|Lesson 12 Descriptive Statistics <br> - Location/Center (mean, median,mode) <br> - Dispersion/Spread (variance, standard deviation) <br> - Asymmetry/Skew (Coefficient of Skewness)|Descriptive Statistics|\n",
    "|9 Mar 2021|Lesson 13 Distributions: <br> - Normal, LogNormal <br> - Gamma, Weibull <br> - Extreme Value (Gumbell)|Exercises on sampling|\n",
    "|11 Mar 2021|Lesson 14 Probability Estimation Modeling <br> - Ranking, order, plotting position <br> - Distribution Fitting ; Method Of Moments; Maximum Likelihood Estimation |Exercises |\n",
    "|16 Mar 2021|Lesson 15 Hypothesis testing: <br> - General concept <br> - Assessing data models. |Exercises on hypothesis testing|\n",
    "|18 Mar 2021|Lesson 16 Hypothesis testing: <br> -Comparing proportions <br> - Type1 & Type2 errors <br> - Attained significance (p-value)|Exercises on hypothesis testing|\n",
    "|23 Mar 2021|Lesson 17 Comparing two samples: A/B Testing|Exercises on A/B testing|\n",
    "|25 Mar 2021|<strong>Review for Exam-2 </strong>(Lessons 10-16) |<strong>Exam-2</strong> <br> - LMS administered |\n",
    "|30 Mar 2021|18. Confidence intervals |Exercises |\n",
    "||<strong> Data Modeling: Regression (Model Fitting) Approaches</strong>||\n",
    "|1 Apr 2021|19. Data Modeling: Regression Approach <br>- Linear algebra of equation fitting|Exercises|\n",
    "|6 Apr 2021|20. Estimation Modeling by Regression: <br> - Ordinary least squares (OLS) regression <br>- Weighted least squares <br>- Explanitory variables (features) <br>- Response variable(s)|exre|\n",
    "|8 Apr 2021|21. Estimation Modeling by Regression: <br>- Residuals <br>- Performance metrics: Accuracy, error <br>- Inference|exercises|\n",
    "|13 Apr 2021|22. Estimation Modeling by Regression: <br> - Logistic Regression (a type of classification)|Exercises on sample means|\n",
    "||<strong> Data Modeling: Machine Learning Approaches</strong>||\n",
    "|15 Apr 2021|23. Data Modeling : The Machine Learning Approach:<br> - Correlation <br> - Training (a model fitting analog) <br> - Confusion matrix, precision, recall, accuracy, F-score.<br> - Making decisions |Final projects selection <br> - Project choices <br> - Delivery schedule |\n",
    "|20 Apr 2021|Lesson 24 Evaluation and Making Decisions: <br> - Confusion matrix, precision, recall, accuracy, F-score.<br> - Making decisions|KNN with evaluation|\n",
    "|22 Apr 2021|Lesson 25 Classification: <br> - K Nearest Neighbor (KNN) |More KNN Demonstration/Examples|\n",
    "|27 Apr 2021|<strong>Review for Exam-3 </strong>(Lessons 10-25) |<strong>Exam 3</strong><br> - LMS administered |\n",
    "|29 Apr 2021|Lesson 26 Classification: <br> - Support Vector Machines (SVM)|SVM Demonstration/Examples|\n",
    "|4 May 2021|Lesson 27 Classification: <br> - Artifical Neural Networks (ANN) |ANN Demonstration|\n",
    "|11 May 2021|<strong>Final Project Report and Link to Video</strong>||"
   ]
  },
  {
   "cell_type": "markdown",
   "metadata": {},
   "source": [
    "## Course Assessment and Grading Criteria:\n",
    "There will be three exams and one comprehensive final project for the course.  \n",
    "\n",
    "An AI-supervised online community using the Packback Questions (https://www.packback.co) platform will be used for online discussion about class topics.  The platform is the place to pose questions and answers and share codes and problems.  \n",
    "\n",
    "In addition, lab notebooks, quizzes, and homework assignments also contribute to the final grade.  \n",
    "<strong>Late</strong> assignments will not be scored.  \n",
    "\n",
    "Grades will be based on the following components; weighting is approximate:\n",
    "\n",
    "|Assessment Instrument|Weight(%)|\n",
    "|---|---:|\n",
    "|Exam-1|10|\n",
    "|Exam-2|10|\n",
    "|Exam-3|15|\n",
    "|Lab Notebooks|15|\n",
    "|Quizzes|10|\n",
    "|Homework|15|\n",
    "|Packback|15|\n",
    "|Final project|10|\n",
    "|Overall total|100|\n",
    "\n",
    "Letter grades will be assigned using the following proportions:\n",
    "\n",
    "|Normalized Score Range|Letter Grade|\n",
    "|:-|---:|\n",
    "|≥ 90|A|\n",
    "|80-89|B|\n",
    "|70-79|C|\n",
    "|55-69|D|\n",
    "|< 55|F|\n",
    "\n",
    "\n"
   ]
  },
  {
   "cell_type": "markdown",
   "metadata": {},
   "source": [
    "## Packback Questions Environment\n",
    "\n",
    "Participation is a requirement for this course, and the Packback Questions platform will be used for online discussion about class topics. Packback Questions is an online community where you can be fearlessly curious and ask open-ended questions to build on top of what we are covering in class and relate topics to real-world applications. \n",
    "\n",
    "### Packback Requirements:\n",
    "Your participation on Packback will count toward 15% of your overall course grade.\n",
    "\n",
    "There will be a Weekly Sunday at 10:00PM CST deadline for submissions. In order to receive your points per week, you should submit the following per each deadline period:\n",
    "\n",
    "- 1 open-ended Question per week with a minimum Curiosity Score of 30, each worth 33.33% of each assignment grade\n",
    "- 2 Responses per week with a minimum Curiosity Score of 30, each worth 66.67% of each assignment grade\n",
    "- Half credit will be provided for questions and responses that do not meet the minimum curiosity score.\n",
    "\n",
    "### How to Register on Packback:\n",
    "\n",
    "An email invitation will be sent to you from help@packback.co prompting you to finish registration. If you don’t receive an email (be sure to check your spam), you may register by following the instructions below:\n",
    "\n",
    "1.\tCreate an account by navigating to https://questions.packback.co and clicking “Sign up for an Account”\n",
    "\n",
    "Note: If you already have an account on Packback you can log in with your credentials.\n",
    "\n",
    "2.\tThen enter our class community’s lookup key into the “Looking to join a community you don't see here?” section in Packback at the bottom of the homepage.\n",
    "\n",
    "    Community Lookup Key: \n",
    "        \n",
    "        1e3bb85a-ddb2-456a-a8fc-178ead55206d\n",
    "        \n",
    "\n",
    "3.\tFollow the instructions on your screen to finish your registration.\n",
    "\n",
    "Packback will require a paid subscription (~$25).  Refer to www.packback.co/product/pricing for more information.\n",
    "\n",
    "How to Get Help from the Packback Team: \n",
    "If you have any questions or concerns about Packback throughout the semester, please read their FAQ at help.packback.co. If you need more help, contact their customer support team directly at help@packback.co. \n",
    "\n",
    "For a brief introduction to Packback Questions and why we are using it in class, watch this video:  vimeo.com/packback/Welcome-to-Packback-Questions"
   ]
  },
  {
   "cell_type": "markdown",
   "metadata": {},
   "source": [
    "## Classroom Policy:\n",
    "The following activities are not allowed in the classroom: Texting or talking on the cellphone or other electronic devices, and reading non-course related materials.\n",
    "### Telepresence (On-line) Courses\n",
    "Obviously electronic devices are vital; disrupting the conference is prohibited, please mute your microphone unless you have a question - consider typing your question into the chat window as well. Be aware of bandwidth issues and remember most lessons and laboratory sessions are recorded and posted on youtube.  Recording and rendering takes awhile, so expect 24-36 hour delay before video is available. \n"
   ]
  },
  {
   "cell_type": "markdown",
   "metadata": {},
   "source": [
    "## ADA Statement: \n",
    "Any student who, because of a disability, may require special arrangements in order to meet the course requirements should contact the instructor as soon as possible to make necessary arrangements.  Students must present appropriate verification from Student Disability Services during the instructor's office hours.  Please note that instructors are not allowed to provide classroom accommodation to a student until appropriate verification from Student Disability Services has been provided.  For additional information, please contact Student Disability Services \n",
    "office in 335 West Hall or call 806.742.2405.\n",
    "\n",
    "## Academic Integrity Statement:\n",
    "Academic integrity is taking responsibility for one’s own class and/or course work, being individually accountable, and demonstrating intellectual honesty and ethical behavior.  Academic integrity is a personal choice to abide by the standards of intellectual honesty and responsibility.  Because education is a shared effort to achieve learning through the exchange of ideas, students, faculty, and staff have the collective responsibility to build mutual trust and respect.  Ethical behavior and independent thought are essential for the highest level of academic achievement, which then must be measured.  Academic achievement includes scholarship, teaching, and learning, all of which are shared endeavors.  Grades are a device used to quantify the successful accumulation of knowledge through learning.  Adhering to the standards of academic integrity ensures grades are earned honestly.  Academic integrity is the foundation upon which students, faculty, and staff build their educational and professional careers.  [Texas Tech University (“University”) Quality Enhancement Plan, Academic Integrity Task Force, 2010].\n",
    "\n",
    "## Religious Holy Day Statement: \n",
    "“Religious holy day” means a holy day observed by a religion whose places of worship are exempt from property taxation under Texas Tax Code §11.20.  A student who intends to observe a religious holy day should make that intention known to the instructor prior to the absence.  A student who is absent from classes for the observance of a religious holy day shall be allowed to take an examination or complete an assignment scheduled for that day within a reasonable time after the absence.  A student who is excused may not be penalized for the absence; however, the instructor may respond appropriately if the student fails to complete the assignment satisfactorily.\n",
    "\n",
    "## Ethical Conduct Policy:\n",
    "Cheating is prohibited, and the representation of the work of another person as your own will be grounds for receiving a failing grade in the course.\n"
   ]
  },
  {
   "cell_type": "code",
   "execution_count": null,
   "metadata": {},
   "outputs": [],
   "source": []
  }
 ],
 "metadata": {
  "kernelspec": {
   "display_name": "Python 3",
   "language": "python",
   "name": "python3"
  },
  "language_info": {
   "codemirror_mode": {
    "name": "ipython",
    "version": 3
   },
   "file_extension": ".py",
   "mimetype": "text/x-python",
   "name": "python",
   "nbconvert_exporter": "python",
   "pygments_lexer": "ipython3",
   "version": "3.8.5"
  }
 },
 "nbformat": 4,
 "nbformat_minor": 4
}
