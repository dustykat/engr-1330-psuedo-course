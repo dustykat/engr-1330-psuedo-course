{
 "cells": [
  {
   "cell_type": "markdown",
   "metadata": {},
   "source": [
    "# <font color=darkblue>Week 8 Assignment </font>"
   ]
  },
  {
   "cell_type": "markdown",
   "metadata": {},
   "source": [
    "## Full name: \n",
    "## R#: \n",
    "## Title of the notebook:\n",
    "## Date: "
   ]
  },
  {
   "cell_type": "markdown",
   "metadata": {},
   "source": [
    "![](https://remakelearning.org/wp-content/uploads/2020/01/122.gif) <br>\n"
   ]
  },
  {
   "cell_type": "markdown",
   "metadata": {},
   "source": [
    "### Exercise:\n",
    "   - **Read the \"Week8_data.csv\" file as a dataset.**<br>\n",
    "   - __Describe the dataset.__<br>\n",
    "   - __Use the right parameters and a create two sample sets (one for each set) with 1000 values from a normal distribution.__<br>\n",
    "   - __Define a dataset with the original sets and the sampled sets (four columns).__<br>\n",
    "   - __Use a normality test and based on the result decide whether each set belongs to a normal distribution data model or not.__<br>\n",
    "   - __Use a parametric statistical hypothesis test and confirm whether the sets are significantly different or not (three comparisons in total).__<br>\n",
    "   - __Use a nonparametric statistical hypothesis test and confirm whether the sets are significantly different or not (three comparisons in total).__<br> "
   ]
  },
  {
   "cell_type": "code",
   "execution_count": 1,
   "metadata": {},
   "outputs": [],
   "source": [
    "#**Read the \"Week8_data.csv\" file as a dataset.**\n",
    "import pandas\n",
    "mydata = pandas.read_csv('Week8_data.csv')"
   ]
  },
  {
   "cell_type": "code",
   "execution_count": 3,
   "metadata": {
    "collapsed": false,
    "jupyter": {
     "outputs_hidden": false
    }
   },
   "outputs": [
    {
     "data": {
      "text/html": [
       "<div>\n",
       "<style scoped>\n",
       "    .dataframe tbody tr th:only-of-type {\n",
       "        vertical-align: middle;\n",
       "    }\n",
       "\n",
       "    .dataframe tbody tr th {\n",
       "        vertical-align: top;\n",
       "    }\n",
       "\n",
       "    .dataframe thead th {\n",
       "        text-align: right;\n",
       "    }\n",
       "</style>\n",
       "<table border=\"1\" class=\"dataframe\">\n",
       "  <thead>\n",
       "    <tr style=\"text-align: right;\">\n",
       "      <th></th>\n",
       "      <th>Set A</th>\n",
       "      <th>Set B</th>\n",
       "    </tr>\n",
       "  </thead>\n",
       "  <tbody>\n",
       "    <tr>\n",
       "      <th>count</th>\n",
       "      <td>1000.000000</td>\n",
       "      <td>1000.000000</td>\n",
       "    </tr>\n",
       "    <tr>\n",
       "      <th>mean</th>\n",
       "      <td>99.693460</td>\n",
       "      <td>1014.559330</td>\n",
       "    </tr>\n",
       "    <tr>\n",
       "      <th>std</th>\n",
       "      <td>24.353055</td>\n",
       "      <td>245.100128</td>\n",
       "    </tr>\n",
       "    <tr>\n",
       "      <th>min</th>\n",
       "      <td>22.024905</td>\n",
       "      <td>176.193608</td>\n",
       "    </tr>\n",
       "    <tr>\n",
       "      <th>25%</th>\n",
       "      <td>82.545272</td>\n",
       "      <td>862.899001</td>\n",
       "    </tr>\n",
       "    <tr>\n",
       "      <th>50%</th>\n",
       "      <td>100.100405</td>\n",
       "      <td>1009.909525</td>\n",
       "    </tr>\n",
       "    <tr>\n",
       "      <th>75%</th>\n",
       "      <td>116.534988</td>\n",
       "      <td>1181.943645</td>\n",
       "    </tr>\n",
       "    <tr>\n",
       "      <th>max</th>\n",
       "      <td>174.576681</td>\n",
       "      <td>1820.409944</td>\n",
       "    </tr>\n",
       "  </tbody>\n",
       "</table>\n",
       "</div>"
      ],
      "text/plain": [
       "             Set A        Set B\n",
       "count  1000.000000  1000.000000\n",
       "mean     99.693460  1014.559330\n",
       "std      24.353055   245.100128\n",
       "min      22.024905   176.193608\n",
       "25%      82.545272   862.899001\n",
       "50%     100.100405  1009.909525\n",
       "75%     116.534988  1181.943645\n",
       "max     174.576681  1820.409944"
      ]
     },
     "execution_count": 3,
     "metadata": {},
     "output_type": "execute_result"
    }
   ],
   "source": [
    "#__Describe the dataset.__\n",
    "mydata.head()\n",
    "mydata.describe()"
   ]
  },
  {
   "cell_type": "markdown",
   "metadata": {},
   "source": [
    "The datasets have Set B is \"bigger\" than Set A by a factor of 100 in both mean and sd."
   ]
  },
  {
   "cell_type": "code",
   "execution_count": 6,
   "metadata": {
    "collapsed": false,
    "jupyter": {
     "outputs_hidden": false
    }
   },
   "outputs": [],
   "source": [
    "#__Use the right parameters and a create two sample sets (one for each set) with 1000 values from a normal distribution.__\n",
    "import numpy\n",
    "setA_s = numpy.random.normal(99.693460, 24.353055, 1000)\n",
    "setB_s = numpy.random.normal(1014.559330, 245.559330, 1000)"
   ]
  },
  {
   "cell_type": "code",
   "execution_count": 8,
   "metadata": {
    "collapsed": false,
    "jupyter": {
     "outputs_hidden": false
    }
   },
   "outputs": [
    {
     "data": {
      "text/html": [
       "<div>\n",
       "<style scoped>\n",
       "    .dataframe tbody tr th:only-of-type {\n",
       "        vertical-align: middle;\n",
       "    }\n",
       "\n",
       "    .dataframe tbody tr th {\n",
       "        vertical-align: top;\n",
       "    }\n",
       "\n",
       "    .dataframe thead th {\n",
       "        text-align: right;\n",
       "    }\n",
       "</style>\n",
       "<table border=\"1\" class=\"dataframe\">\n",
       "  <thead>\n",
       "    <tr style=\"text-align: right;\">\n",
       "      <th></th>\n",
       "      <th>Set A</th>\n",
       "      <th>Set B</th>\n",
       "      <th>Set A_s</th>\n",
       "      <th>Set B_s</th>\n",
       "    </tr>\n",
       "  </thead>\n",
       "  <tbody>\n",
       "    <tr>\n",
       "      <th>0</th>\n",
       "      <td>100.512420</td>\n",
       "      <td>1524.953702</td>\n",
       "      <td>93.913089</td>\n",
       "      <td>1067.084276</td>\n",
       "    </tr>\n",
       "    <tr>\n",
       "      <th>1</th>\n",
       "      <td>76.074982</td>\n",
       "      <td>854.300836</td>\n",
       "      <td>101.455866</td>\n",
       "      <td>974.875470</td>\n",
       "    </tr>\n",
       "    <tr>\n",
       "      <th>2</th>\n",
       "      <td>133.489273</td>\n",
       "      <td>872.743741</td>\n",
       "      <td>81.312408</td>\n",
       "      <td>1063.218886</td>\n",
       "    </tr>\n",
       "    <tr>\n",
       "      <th>3</th>\n",
       "      <td>166.805272</td>\n",
       "      <td>1158.848418</td>\n",
       "      <td>103.688463</td>\n",
       "      <td>845.343517</td>\n",
       "    </tr>\n",
       "    <tr>\n",
       "      <th>4</th>\n",
       "      <td>88.457689</td>\n",
       "      <td>954.394634</td>\n",
       "      <td>129.077723</td>\n",
       "      <td>1206.255459</td>\n",
       "    </tr>\n",
       "  </tbody>\n",
       "</table>\n",
       "</div>"
      ],
      "text/plain": [
       "        Set A        Set B     Set A_s      Set B_s\n",
       "0  100.512420  1524.953702   93.913089  1067.084276\n",
       "1   76.074982   854.300836  101.455866   974.875470\n",
       "2  133.489273   872.743741   81.312408  1063.218886\n",
       "3  166.805272  1158.848418  103.688463   845.343517\n",
       "4   88.457689   954.394634  129.077723  1206.255459"
      ]
     },
     "execution_count": 8,
     "metadata": {},
     "output_type": "execute_result"
    }
   ],
   "source": [
    "#__Define a dataset with the original sets and the sampled sets (four columns).__\n",
    "bigdata = pandas.DataFrame({'Set A':mydata['Set A'],'Set B':mydata['Set B'],'Set A_s':setA_s,'Set B_s':setB_s})\n",
    "bigdata.head()"
   ]
  },
  {
   "cell_type": "code",
   "execution_count": 9,
   "metadata": {},
   "outputs": [
    {
     "name": "stdout",
     "output_type": "stream",
     "text": [
      "stat=0.998, p=0.429\n",
      "Set A Probably Gaussian\n",
      "stat=0.998, p=0.165\n",
      "Set B Probably Gaussian\n",
      "stat=0.999, p=0.602\n",
      "Set A_s Probably Gaussian\n",
      "stat=0.998, p=0.143\n",
      "Set B_s Probably Gaussian\n"
     ]
    }
   ],
   "source": [
    "#- __Use a normality test and based on the result decide whether each set belongs to a normal distribution data model or not.__\n",
    "# the Shapiro-Wilk Normality Test for set1\n",
    "from scipy.stats import shapiro\n",
    "\n",
    "stat, p = shapiro(bigdata['Set A'])\n",
    "print('stat=%.3f, p=%.3f' % (stat, p))\n",
    "if p > 0.05:\n",
    "\tprint('Set A Probably Gaussian')\n",
    "else:\n",
    "\tprint('Set A Probably not Gaussian')\n",
    "\n",
    "stat, p = shapiro(bigdata['Set B'])\n",
    "print('stat=%.3f, p=%.3f' % (stat, p))\n",
    "if p > 0.05:\n",
    "\tprint('Set B Probably Gaussian')\n",
    "else:\n",
    "\tprint('Set B Probably not Gaussian')\n",
    "\n",
    "stat, p = shapiro(bigdata['Set A_s'])\n",
    "print('stat=%.3f, p=%.3f' % (stat, p))\n",
    "if p > 0.05:\n",
    "\tprint('Set A_s Probably Gaussian')\n",
    "else:\n",
    "\tprint('Set A_s Probably not Gaussian')\n",
    "\n",
    "stat, p = shapiro(bigdata['Set B_s'])\n",
    "print('stat=%.3f, p=%.3f' % (stat, p))\n",
    "if p > 0.05:\n",
    "\tprint('Set B_s Probably Gaussian')\n",
    "else:\n",
    "\tprint('Set B_s Probably not Gaussian')"
   ]
  },
  {
   "cell_type": "code",
   "execution_count": 10,
   "metadata": {},
   "outputs": [
    {
     "name": "stdout",
     "output_type": "stream",
     "text": [
      "stat=-117.457, p=0.000\n",
      "Set A and Set B Probably different distributions\n",
      "stat=0.726, p=0.468\n",
      "Set A and Set A_s Probably the same distribution\n",
      "stat=-119.212, p=0.000\n",
      "Set A and Set B_s Probably different distributions\n",
      "stat=0.304, p=0.761\n",
      "Set B and Set B_s Probably the same distribution\n",
      "stat=117.608, p=0.000\n",
      "Set B and Set A_s Probably different distributions\n"
     ]
    }
   ],
   "source": [
    "# - __Use a parametric statistical hypothesis test and confirm whether the sets are significantly different or not (three comparisons in total).__\n",
    "# The Student's t-test for Set1 and Set2\n",
    "from scipy.stats import ttest_ind\n",
    "\n",
    "stat, p = ttest_ind(bigdata['Set A'], bigdata['Set B'])\n",
    "print('stat=%.3f, p=%.3f' % (stat, p))\n",
    "if p > 0.05:\n",
    "\tprint('Set A and Set B Probably the same distribution')\n",
    "else:\n",
    "\tprint('Set A and Set B Probably different distributions')\n",
    "\n",
    "stat, p = ttest_ind(bigdata['Set A'], bigdata['Set A_s'])\n",
    "print('stat=%.3f, p=%.3f' % (stat, p))\n",
    "if p > 0.05:\n",
    "\tprint('Set A and Set A_s Probably the same distribution')\n",
    "else:\n",
    "\tprint('Set A and Set A_s Probably different distributions')\n",
    "\n",
    "stat, p = ttest_ind(bigdata['Set A'], bigdata['Set B_s'])\n",
    "print('stat=%.3f, p=%.3f' % (stat, p))\n",
    "if p > 0.05:\n",
    "\tprint('Set A and Set B_s Probably the same distribution')\n",
    "else:\n",
    "\tprint('Set A and Set B_s Probably different distributions')\n",
    "\n",
    "stat, p = ttest_ind(bigdata['Set B'], bigdata['Set B_s'])\n",
    "print('stat=%.3f, p=%.3f' % (stat, p))\n",
    "if p > 0.05:\n",
    "\tprint('Set B and Set B_s Probably the same distribution')\n",
    "else:\n",
    "\tprint('Set B and Set B_s Probably different distributions')\n",
    "\n",
    "stat, p = ttest_ind(bigdata['Set B'], bigdata['Set A_s'])\n",
    "print('stat=%.3f, p=%.3f' % (stat, p))\n",
    "if p > 0.05:\n",
    "\tprint('Set B and Set A_s Probably the same distribution')\n",
    "else:\n",
    "\tprint('Set B and Set A_s Probably different distributions')"
   ]
  },
  {
   "cell_type": "code",
   "execution_count": 11,
   "metadata": {},
   "outputs": [
    {
     "name": "stdout",
     "output_type": "stream",
     "text": [
      "Statistics=2999.404, p=0.000\n",
      "Probably different distributions\n"
     ]
    }
   ],
   "source": [
    "# - __Use a nonparametric statistical hypothesis test and confirm whether the sets are significantly different or not (three comparisons in total).__\n",
    "from scipy.stats import kruskal\n",
    "stat, p = kruskal(bigdata['Set A'], bigdata['Set A_s'], bigdata['Set B'], bigdata['Set B_s'])\n",
    "print('Statistics=%.3f, p=%.3f' % (stat, p))\n",
    "# interpret\n",
    "alpha = 0.05\n",
    "if p > 0.05:\n",
    "    print('Probably the same distribution')\n",
    "else:\n",
    "    print('Probably different distributions')"
   ]
  },
  {
   "cell_type": "code",
   "execution_count": null,
   "metadata": {
    "collapsed": false,
    "jupyter": {
     "outputs_hidden": false
    }
   },
   "outputs": [],
   "source": []
  },
  {
   "cell_type": "code",
   "execution_count": null,
   "metadata": {},
   "outputs": [],
   "source": []
  },
  {
   "cell_type": "code",
   "execution_count": null,
   "metadata": {},
   "outputs": [],
   "source": []
  },
  {
   "cell_type": "code",
   "execution_count": null,
   "metadata": {
    "collapsed": false,
    "jupyter": {
     "outputs_hidden": false
    }
   },
   "outputs": [],
   "source": []
  },
  {
   "cell_type": "code",
   "execution_count": null,
   "metadata": {},
   "outputs": [],
   "source": []
  },
  {
   "cell_type": "code",
   "execution_count": null,
   "metadata": {},
   "outputs": [],
   "source": []
  },
  {
   "cell_type": "markdown",
   "metadata": {},
   "source": [
    "![](https://freight.cargo.site/w/1200/i/c96b2ce17b2aee95c6e837552e3e38d058ac4ad2a6759448ed78128963790744/Happy_Coding_BC_6-03-05.png)"
   ]
  }
 ],
 "metadata": {
  "kernelspec": {
   "display_name": "Python 3",
   "language": "python",
   "name": "python3"
  },
  "language_info": {
   "codemirror_mode": {
    "name": "ipython",
    "version": 3
   },
   "file_extension": ".py",
   "mimetype": "text/x-python",
   "name": "python",
   "nbconvert_exporter": "python",
   "pygments_lexer": "ipython3",
   "version": "3.8.5"
  }
 },
 "nbformat": 4,
 "nbformat_minor": 4
}
