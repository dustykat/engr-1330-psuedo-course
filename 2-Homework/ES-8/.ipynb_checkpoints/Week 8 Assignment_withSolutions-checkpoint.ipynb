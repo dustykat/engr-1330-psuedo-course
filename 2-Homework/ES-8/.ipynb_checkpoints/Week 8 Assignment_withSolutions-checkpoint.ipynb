{
 "cells": [
  {
   "cell_type": "markdown",
   "metadata": {},
   "source": [
    "# <font color=darkblue>Week 8 Assignment </font>"
   ]
  },
  {
   "cell_type": "markdown",
   "metadata": {},
   "source": [
    "## Full name: \n",
    "## R#: \n",
    "## Title of the notebook:\n",
    "## Date: "
   ]
  },
  {
   "cell_type": "markdown",
   "metadata": {},
   "source": [
    "![](https://remakelearning.org/wp-content/uploads/2020/01/122.gif) <br>\n"
   ]
  },
  {
   "cell_type": "markdown",
   "metadata": {},
   "source": [
    "### Exercise 1:\n",
    "   - __Read the \"Week8_data.csv\" file as a dataset.__<br>\n",
    "   - __Describe the dataset.__<br>\n",
    "   - __Use the right parameters and a create two sample sets (one for each set) with 1000 values from a normal distribution.__<br>\n",
    "   - __Define a dataset with the original sets and the sampled sets (four columns).__<br>\n",
    "   - __Use a normality test and based on the result decide whether each set belongs to a normal distribution data model or not.__<br>\n",
    "   - __Use a parametric statistical hypothesis test and confirm whether the sets are significantly different or not (three comparisons in total).__<br>\n",
    "   - __Use a nonparametric statistical hypothesis test and confirm whether the sets are significantly different or not (three comparisons in total).__<br> "
   ]
  },
  {
   "cell_type": "code",
   "execution_count": 5,
   "metadata": {},
   "outputs": [],
   "source": [
    "import numpy as np\n",
    "import pandas as pd\n",
    "import matplotlib.pyplot as plt\n",
    "import statistics\n",
    "import scipy.stats\n",
    "import seaborn as sns"
   ]
  },
  {
   "cell_type": "code",
   "execution_count": 32,
   "metadata": {
    "collapsed": false,
    "jupyter": {
     "outputs_hidden": false
    }
   },
   "outputs": [
    {
     "data": {
      "text/html": [
       "<div>\n",
       "<style scoped>\n",
       "    .dataframe tbody tr th:only-of-type {\n",
       "        vertical-align: middle;\n",
       "    }\n",
       "\n",
       "    .dataframe tbody tr th {\n",
       "        vertical-align: top;\n",
       "    }\n",
       "\n",
       "    .dataframe thead th {\n",
       "        text-align: right;\n",
       "    }\n",
       "</style>\n",
       "<table border=\"1\" class=\"dataframe\">\n",
       "  <thead>\n",
       "    <tr style=\"text-align: right;\">\n",
       "      <th></th>\n",
       "      <th>Set A</th>\n",
       "      <th>Set B</th>\n",
       "    </tr>\n",
       "  </thead>\n",
       "  <tbody>\n",
       "    <tr>\n",
       "      <td>count</td>\n",
       "      <td>1000.000000</td>\n",
       "      <td>1000.000000</td>\n",
       "    </tr>\n",
       "    <tr>\n",
       "      <td>mean</td>\n",
       "      <td>99.693460</td>\n",
       "      <td>1014.559330</td>\n",
       "    </tr>\n",
       "    <tr>\n",
       "      <td>std</td>\n",
       "      <td>24.353055</td>\n",
       "      <td>245.100128</td>\n",
       "    </tr>\n",
       "    <tr>\n",
       "      <td>min</td>\n",
       "      <td>22.024905</td>\n",
       "      <td>176.193608</td>\n",
       "    </tr>\n",
       "    <tr>\n",
       "      <td>25%</td>\n",
       "      <td>82.545272</td>\n",
       "      <td>862.899001</td>\n",
       "    </tr>\n",
       "    <tr>\n",
       "      <td>50%</td>\n",
       "      <td>100.100405</td>\n",
       "      <td>1009.909525</td>\n",
       "    </tr>\n",
       "    <tr>\n",
       "      <td>75%</td>\n",
       "      <td>116.534988</td>\n",
       "      <td>1181.943645</td>\n",
       "    </tr>\n",
       "    <tr>\n",
       "      <td>max</td>\n",
       "      <td>174.576681</td>\n",
       "      <td>1820.409944</td>\n",
       "    </tr>\n",
       "  </tbody>\n",
       "</table>\n",
       "</div>"
      ],
      "text/plain": [
       "             Set A        Set B\n",
       "count  1000.000000  1000.000000\n",
       "mean     99.693460  1014.559330\n",
       "std      24.353055   245.100128\n",
       "min      22.024905   176.193608\n",
       "25%      82.545272   862.899001\n",
       "50%     100.100405  1009.909525\n",
       "75%     116.534988  1181.943645\n",
       "max     174.576681  1820.409944"
      ]
     },
     "execution_count": 32,
     "metadata": {},
     "output_type": "execute_result"
    }
   ],
   "source": [
    "data2 = pd.read_csv(\"Week8_data.csv\") \n",
    "data2.describe()"
   ]
  },
  {
   "cell_type": "code",
   "execution_count": 33,
   "metadata": {},
   "outputs": [],
   "source": [
    "setA = data2['Set A']\n",
    "setB = data2['Set B']\n",
    "setA = np.array(setA)\n",
    "setB = np.array(setB)\n",
    "mu1 = setA.mean()\n",
    "sd1 = setA.std()\n",
    "mu2 = setB.mean()\n",
    "sd2 = setB.std()\n",
    "setA_s = np.random.normal(mu1, sd1, 1000)\n",
    "setB_s = np.random.normal(mu2, sd2, 1000)"
   ]
  },
  {
   "cell_type": "code",
   "execution_count": 34,
   "metadata": {
    "collapsed": false,
    "jupyter": {
     "outputs_hidden": false
    }
   },
   "outputs": [
    {
     "data": {
      "text/html": [
       "<div>\n",
       "<style scoped>\n",
       "    .dataframe tbody tr th:only-of-type {\n",
       "        vertical-align: middle;\n",
       "    }\n",
       "\n",
       "    .dataframe tbody tr th {\n",
       "        vertical-align: top;\n",
       "    }\n",
       "\n",
       "    .dataframe thead th {\n",
       "        text-align: right;\n",
       "    }\n",
       "</style>\n",
       "<table border=\"1\" class=\"dataframe\">\n",
       "  <thead>\n",
       "    <tr style=\"text-align: right;\">\n",
       "      <th></th>\n",
       "      <th>SetA</th>\n",
       "      <th>SetAs</th>\n",
       "      <th>SetB</th>\n",
       "      <th>SetBs</th>\n",
       "    </tr>\n",
       "  </thead>\n",
       "  <tbody>\n",
       "    <tr>\n",
       "      <td>0</td>\n",
       "      <td>100.512420</td>\n",
       "      <td>74.444658</td>\n",
       "      <td>1524.953702</td>\n",
       "      <td>762.972311</td>\n",
       "    </tr>\n",
       "    <tr>\n",
       "      <td>1</td>\n",
       "      <td>76.074982</td>\n",
       "      <td>90.798710</td>\n",
       "      <td>854.300836</td>\n",
       "      <td>806.955995</td>\n",
       "    </tr>\n",
       "    <tr>\n",
       "      <td>2</td>\n",
       "      <td>133.489273</td>\n",
       "      <td>106.640187</td>\n",
       "      <td>872.743741</td>\n",
       "      <td>991.008283</td>\n",
       "    </tr>\n",
       "    <tr>\n",
       "      <td>3</td>\n",
       "      <td>166.805272</td>\n",
       "      <td>116.940638</td>\n",
       "      <td>1158.848418</td>\n",
       "      <td>1294.804726</td>\n",
       "    </tr>\n",
       "    <tr>\n",
       "      <td>4</td>\n",
       "      <td>88.457689</td>\n",
       "      <td>103.392630</td>\n",
       "      <td>954.394634</td>\n",
       "      <td>686.269372</td>\n",
       "    </tr>\n",
       "    <tr>\n",
       "      <td>...</td>\n",
       "      <td>...</td>\n",
       "      <td>...</td>\n",
       "      <td>...</td>\n",
       "      <td>...</td>\n",
       "    </tr>\n",
       "    <tr>\n",
       "      <td>995</td>\n",
       "      <td>112.290638</td>\n",
       "      <td>99.803531</td>\n",
       "      <td>762.269055</td>\n",
       "      <td>656.888432</td>\n",
       "    </tr>\n",
       "    <tr>\n",
       "      <td>996</td>\n",
       "      <td>105.462474</td>\n",
       "      <td>80.823552</td>\n",
       "      <td>1196.784740</td>\n",
       "      <td>821.682251</td>\n",
       "    </tr>\n",
       "    <tr>\n",
       "      <td>997</td>\n",
       "      <td>114.075449</td>\n",
       "      <td>105.534265</td>\n",
       "      <td>734.047220</td>\n",
       "      <td>758.705819</td>\n",
       "    </tr>\n",
       "    <tr>\n",
       "      <td>998</td>\n",
       "      <td>116.526470</td>\n",
       "      <td>87.546377</td>\n",
       "      <td>858.490748</td>\n",
       "      <td>862.701495</td>\n",
       "    </tr>\n",
       "    <tr>\n",
       "      <td>999</td>\n",
       "      <td>110.916179</td>\n",
       "      <td>112.201600</td>\n",
       "      <td>935.086228</td>\n",
       "      <td>895.973129</td>\n",
       "    </tr>\n",
       "  </tbody>\n",
       "</table>\n",
       "<p>1000 rows × 4 columns</p>\n",
       "</div>"
      ],
      "text/plain": [
       "           SetA       SetAs         SetB        SetBs\n",
       "0    100.512420   74.444658  1524.953702   762.972311\n",
       "1     76.074982   90.798710   854.300836   806.955995\n",
       "2    133.489273  106.640187   872.743741   991.008283\n",
       "3    166.805272  116.940638  1158.848418  1294.804726\n",
       "4     88.457689  103.392630   954.394634   686.269372\n",
       "..          ...         ...          ...          ...\n",
       "995  112.290638   99.803531   762.269055   656.888432\n",
       "996  105.462474   80.823552  1196.784740   821.682251\n",
       "997  114.075449  105.534265   734.047220   758.705819\n",
       "998  116.526470   87.546377   858.490748   862.701495\n",
       "999  110.916179  112.201600   935.086228   895.973129\n",
       "\n",
       "[1000 rows x 4 columns]"
      ]
     },
     "execution_count": 34,
     "metadata": {},
     "output_type": "execute_result"
    }
   ],
   "source": [
    "df = pd.DataFrame({'SetA':setA,'SetAs':setA_s,'SetB':setB,'SetBs':setB_s})\n",
    "df"
   ]
  },
  {
   "cell_type": "code",
   "execution_count": 35,
   "metadata": {
    "collapsed": false,
    "jupyter": {
     "outputs_hidden": false
    }
   },
   "outputs": [
    {
     "name": "stdout",
     "output_type": "stream",
     "text": [
      "stat=0.998, p=0.429\n",
      "Probably Gaussian\n"
     ]
    }
   ],
   "source": [
    "# the Shapiro-Wilk Normality Test for set1\n",
    "from scipy.stats import shapiro\n",
    "\n",
    "stat, p = shapiro(df['SetA'])\n",
    "print('stat=%.3f, p=%.3f' % (stat, p))\n",
    "if p > 0.05:\n",
    "\tprint('Probably Gaussian')\n",
    "else:\n",
    "\tprint('Probably not Gaussian')\n",
    "\n",
    "#The same for the other 3 sets"
   ]
  },
  {
   "cell_type": "code",
   "execution_count": 36,
   "metadata": {},
   "outputs": [
    {
     "name": "stdout",
     "output_type": "stream",
     "text": [
      "stat=0.999, p=0.956\n",
      "Probably Gaussian\n"
     ]
    }
   ],
   "source": [
    "# the Shapiro-Wilk Normality Test for set1\n",
    "from scipy.stats import shapiro\n",
    "\n",
    "stat, p = shapiro(df['SetAs'])\n",
    "print('stat=%.3f, p=%.3f' % (stat, p))\n",
    "if p > 0.05:\n",
    "\tprint('Probably Gaussian')\n",
    "else:\n",
    "\tprint('Probably not Gaussian')\n",
    "\n",
    "#The same for the other 3 sets"
   ]
  },
  {
   "cell_type": "code",
   "execution_count": 37,
   "metadata": {},
   "outputs": [
    {
     "name": "stdout",
     "output_type": "stream",
     "text": [
      "stat=0.998, p=0.165\n",
      "Probably Gaussian\n"
     ]
    }
   ],
   "source": [
    "# the Shapiro-Wilk Normality Test for set1\n",
    "from scipy.stats import shapiro\n",
    "\n",
    "stat, p = shapiro(df['SetB'])\n",
    "print('stat=%.3f, p=%.3f' % (stat, p))\n",
    "if p > 0.05:\n",
    "\tprint('Probably Gaussian')\n",
    "else:\n",
    "\tprint('Probably not Gaussian')\n",
    "\n",
    "#The same for the other 3 sets"
   ]
  },
  {
   "cell_type": "code",
   "execution_count": 38,
   "metadata": {},
   "outputs": [
    {
     "name": "stdout",
     "output_type": "stream",
     "text": [
      "stat=0.997, p=0.099\n",
      "Probably Gaussian\n"
     ]
    }
   ],
   "source": [
    "# the Shapiro-Wilk Normality Test for set1\n",
    "from scipy.stats import shapiro\n",
    "\n",
    "stat, p = shapiro(df['SetBs'])\n",
    "print('stat=%.3f, p=%.3f' % (stat, p))\n",
    "if p > 0.05:\n",
    "\tprint('Probably Gaussian')\n",
    "else:\n",
    "\tprint('Probably not Gaussian')\n",
    "\n",
    "#The same for the other 3 sets"
   ]
  },
  {
   "cell_type": "code",
   "execution_count": 39,
   "metadata": {
    "collapsed": false,
    "jupyter": {
     "outputs_hidden": false
    }
   },
   "outputs": [
    {
     "name": "stdout",
     "output_type": "stream",
     "text": [
      "stat=-117.457, p=0.000\n",
      "Probably different distributions\n"
     ]
    }
   ],
   "source": [
    "#the Student's t-test\n",
    "from scipy.stats import ttest_ind\n",
    "\n",
    "stat, p = ttest_ind(df['SetA'], df['SetB'])\n",
    "print('stat=%.3f, p=%.3f' % (stat, p))\n",
    "if p > 0.05:\n",
    "\tprint('Probably the same distribution')\n",
    "else:\n",
    "\tprint('Probably different distributions')\n",
    "#The same for the other 2 comparisons"
   ]
  },
  {
   "cell_type": "code",
   "execution_count": 40,
   "metadata": {},
   "outputs": [
    {
     "name": "stdout",
     "output_type": "stream",
     "text": [
      "stat=-0.231, p=0.817\n",
      "Probably the same distribution\n"
     ]
    }
   ],
   "source": [
    "#the Student's t-test\n",
    "from scipy.stats import ttest_ind\n",
    "\n",
    "stat, p = ttest_ind(df['SetA'], df['SetAs'])\n",
    "print('stat=%.3f, p=%.3f' % (stat, p))\n",
    "if p > 0.05:\n",
    "\tprint('Probably the same distribution')\n",
    "else:\n",
    "\tprint('Probably different distributions')\n",
    "#The same for the other 2 comparisons"
   ]
  },
  {
   "cell_type": "code",
   "execution_count": 41,
   "metadata": {},
   "outputs": [
    {
     "name": "stdout",
     "output_type": "stream",
     "text": [
      "stat=0.806, p=0.420\n",
      "Probably the same distribution\n"
     ]
    }
   ],
   "source": [
    "#the Student's t-test\n",
    "from scipy.stats import ttest_ind\n",
    "\n",
    "stat, p = ttest_ind(df['SetB'], df['SetBs'])\n",
    "print('stat=%.3f, p=%.3f' % (stat, p))\n",
    "if p > 0.05:\n",
    "\tprint('Probably the same distribution')\n",
    "else:\n",
    "\tprint('Probably different distributions')\n",
    "#The same for the other 2 comparisons"
   ]
  },
  {
   "cell_type": "code",
   "execution_count": 42,
   "metadata": {
    "collapsed": false,
    "jupyter": {
     "outputs_hidden": false
    }
   },
   "outputs": [
    {
     "name": "stdout",
     "output_type": "stream",
     "text": [
      "stat=0.000, p=0.000\n",
      "Probably different distributions\n"
     ]
    }
   ],
   "source": [
    "#the Mann-Whitney U Test\n",
    "from scipy.stats import mannwhitneyu\n",
    "\n",
    "stat, p = mannwhitneyu(df['SetA'], df['SetB'])\n",
    "print('stat=%.3f, p=%.3f' % (stat, p))\n",
    "if p > 0.05:\n",
    "\tprint('Probably the same distribution')\n",
    "else:\n",
    "\tprint('Probably different distributions')\n",
    "#The same for the other 2 comparisons"
   ]
  },
  {
   "cell_type": "code",
   "execution_count": 43,
   "metadata": {},
   "outputs": [
    {
     "name": "stdout",
     "output_type": "stream",
     "text": [
      "stat=496807.000, p=0.402\n",
      "Probably the same distribution\n"
     ]
    }
   ],
   "source": [
    "#the Mann-Whitney U Test\n",
    "from scipy.stats import mannwhitneyu\n",
    "\n",
    "stat, p = mannwhitneyu(df['SetA'], df['SetAs'])\n",
    "print('stat=%.3f, p=%.3f' % (stat, p))\n",
    "if p > 0.05:\n",
    "\tprint('Probably the same distribution')\n",
    "else:\n",
    "\tprint('Probably different distributions')\n",
    "#The same for the other 2 comparisons"
   ]
  },
  {
   "cell_type": "code",
   "execution_count": 44,
   "metadata": {},
   "outputs": [
    {
     "name": "stdout",
     "output_type": "stream",
     "text": [
      "stat=491458.000, p=0.254\n",
      "Probably the same distribution\n"
     ]
    }
   ],
   "source": [
    "#the Mann-Whitney U Test\n",
    "from scipy.stats import mannwhitneyu\n",
    "\n",
    "stat, p = mannwhitneyu(df['SetB'], df['SetBs'])\n",
    "print('stat=%.3f, p=%.3f' % (stat, p))\n",
    "if p > 0.05:\n",
    "\tprint('Probably the same distribution')\n",
    "else:\n",
    "\tprint('Probably different distributions')\n",
    "#The same for the other 2 comparisons"
   ]
  },
  {
   "cell_type": "markdown",
   "metadata": {},
   "source": [
    "![](https://freight.cargo.site/w/1200/i/c96b2ce17b2aee95c6e837552e3e38d058ac4ad2a6759448ed78128963790744/Happy_Coding_BC_6-03-05.png)"
   ]
  }
 ],
 "metadata": {
  "kernelspec": {
   "display_name": "Python 3",
   "language": "python",
   "name": "python3"
  },
  "language_info": {
   "codemirror_mode": {
    "name": "ipython",
    "version": 3
   },
   "file_extension": ".py",
   "mimetype": "text/x-python",
   "name": "python",
   "nbconvert_exporter": "python",
   "pygments_lexer": "ipython3",
   "version": "3.7.4"
  }
 },
 "nbformat": 4,
 "nbformat_minor": 4
}
